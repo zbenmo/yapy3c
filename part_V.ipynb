{
 "cells": [
  {
   "cell_type": "code",
   "execution_count": 4,
   "id": "ff87e83d-bd68-42f8-bb55-bca1f8f61b3a",
   "metadata": {
    "tags": []
   },
   "outputs": [],
   "source": [
    "class Car:\n",
    "    \"\"\"\n",
    "    This class represents a car.\n",
    "    A car is needed in our system, for example with respect to the license plate registration.\n",
    "    \"\"\"\n",
    "    \n",
    "    def __init__(self, license_plate):\n",
    "        self.license_plate = license_plate\n",
    "        self.level = None # till we learn otherwise\n",
    "        \n",
    "    def indicate_in_the_parking(self, level):\n",
    "        self.level = level\n",
    "        \n",
    "    def indicate_out_of_the_parking(self):\n",
    "        self.level = None"
   ]
  },
  {
   "cell_type": "code",
   "execution_count": 5,
   "id": "5a2dde2c-2ecb-42f4-b6a9-6f8473c10c04",
   "metadata": {
    "tags": []
   },
   "outputs": [],
   "source": [
    "my_car = Car(\"1234567\")"
   ]
  },
  {
   "cell_type": "code",
   "execution_count": 6,
   "id": "451cc430-e2dd-453c-99d7-b1245f714e8d",
   "metadata": {
    "tags": []
   },
   "outputs": [
    {
     "data": {
      "text/plain": [
       "'1234567'"
      ]
     },
     "execution_count": 6,
     "metadata": {},
     "output_type": "execute_result"
    }
   ],
   "source": [
    "my_car.license_plate"
   ]
  },
  {
   "cell_type": "code",
   "execution_count": 7,
   "id": "fce92a38-ba96-46ab-bbc5-2d0ca43d0f58",
   "metadata": {
    "tags": []
   },
   "outputs": [],
   "source": [
    "my_car.indicate_in_the_parking(3)"
   ]
  },
  {
   "cell_type": "code",
   "execution_count": 9,
   "id": "842e064a-110a-4d59-9349-a07885a3468d",
   "metadata": {
    "tags": []
   },
   "outputs": [],
   "source": [
    "Car.indicate_in_the_parking(my_car, 4)"
   ]
  },
  {
   "cell_type": "code",
   "execution_count": 10,
   "id": "63ee4afe-bdce-4979-b4db-470f90c0722d",
   "metadata": {
    "tags": []
   },
   "outputs": [
    {
     "data": {
      "text/plain": [
       "4"
      ]
     },
     "execution_count": 10,
     "metadata": {},
     "output_type": "execute_result"
    }
   ],
   "source": [
    "my_car.level"
   ]
  },
  {
   "cell_type": "code",
   "execution_count": 12,
   "id": "00d25873-dec0-4039-bcba-8466f535ef40",
   "metadata": {
    "tags": []
   },
   "outputs": [
    {
     "name": "stdout",
     "output_type": "stream",
     "text": [
      "it is clean now\n"
     ]
    }
   ],
   "source": [
    "def wash(self, outside_only=True):\n",
    "    print(\"it is clean now\")\n",
    "\n",
    "Car.wash = wash\n",
    "\n",
    "my_car.wash()"
   ]
  },
  {
   "cell_type": "code",
   "execution_count": 15,
   "id": "9a0b75ea-6cc9-427e-9483-94be8b0c0e0f",
   "metadata": {
    "tags": []
   },
   "outputs": [
    {
     "name": "stdout",
     "output_type": "stream",
     "text": [
      "it is clean now\n",
      "it is clean now\n",
      "it is clean now\n"
     ]
    },
    {
     "ename": "AttributeError",
     "evalue": "'Car' object has no attribute 'special_treatment'",
     "output_type": "error",
     "traceback": [
      "\u001b[0;31m---------------------------------------------------------------------------\u001b[0m",
      "\u001b[0;31mAttributeError\u001b[0m                            Traceback (most recent call last)",
      "Cell \u001b[0;32mIn[15], line 11\u001b[0m\n\u001b[1;32m      7\u001b[0m my_car\u001b[38;5;241m.\u001b[39mspecial_treatment(my_car)\n\u001b[1;32m      9\u001b[0m your_car \u001b[38;5;241m=\u001b[39m Car(\u001b[38;5;124m\"\u001b[39m\u001b[38;5;124m1234539\u001b[39m\u001b[38;5;124m\"\u001b[39m)\n\u001b[0;32m---> 11\u001b[0m \u001b[43myour_car\u001b[49m\u001b[38;5;241;43m.\u001b[39;49m\u001b[43mspecial_treatment\u001b[49m(your_car)\n",
      "\u001b[0;31mAttributeError\u001b[0m: 'Car' object has no attribute 'special_treatment'"
     ]
    }
   ],
   "source": [
    "def wash_excessively(self):\n",
    "    for _ in range(3):\n",
    "        self.wash()\n",
    "\n",
    "my_car.special_treatment = wash_excessively\n",
    "\n",
    "my_car.special_treatment(my_car)\n",
    "\n",
    "your_car = Car(\"1234539\")\n",
    "\n",
    "your_car.special_treatment(your_car)"
   ]
  },
  {
   "cell_type": "code",
   "execution_count": 38,
   "id": "a99f0ff0-cf05-4b3e-bce7-482103a144e9",
   "metadata": {
    "tags": []
   },
   "outputs": [],
   "source": [
    "class CompanyCar(Car):\n",
    "    \"\"\"\n",
    "    A car that is owned by the company and is currently allocated to one of our employees.\n",
    "    \"\"\"\n",
    "    \n",
    "    def __init__(self, license_plate, employee):\n",
    "        super().__init__(license_plate) # note, don't pass 'self'\n",
    "        self.employee = employee\n",
    "        \n",
    "    def remind_APK(self):\n",
    "        pass"
   ]
  },
  {
   "cell_type": "code",
   "execution_count": 39,
   "id": "c99ac844-88d2-45b3-afc7-cae04a3a7686",
   "metadata": {
    "tags": []
   },
   "outputs": [],
   "source": [
    "company_cars = {\n",
    "    employee: CompanyCar(license_plate, employee)\n",
    "    for employee, license_plate in zip(\n",
    "        [\"Jan S.\", \"Marrie W.\", \"Sara L.\"],\n",
    "        [\"2222222\", \"2222223\", \"2222224\"]\n",
    "    )\n",
    "}"
   ]
  },
  {
   "cell_type": "code",
   "execution_count": 40,
   "id": "348af5cd-5907-495b-a3b2-99ecbf80d521",
   "metadata": {
    "tags": []
   },
   "outputs": [
    {
     "data": {
      "text/plain": [
       "{'Jan S.': <__main__.CompanyCar at 0x7fcd7bf6c580>,\n",
       " 'Marrie W.': <__main__.CompanyCar at 0x7fcd7bf6c640>,\n",
       " 'Sara L.': <__main__.CompanyCar at 0x7fcd7bf6c5e0>}"
      ]
     },
     "execution_count": 40,
     "metadata": {},
     "output_type": "execute_result"
    }
   ],
   "source": [
    "company_cars"
   ]
  },
  {
   "cell_type": "code",
   "execution_count": 41,
   "id": "e63baba3-62ec-47ba-9066-1c0a3ea4b2c1",
   "metadata": {
    "tags": []
   },
   "outputs": [],
   "source": [
    "def company_car_str(self):\n",
    "    return f'car {self.license_plate} used by {self.employee}'\n",
    "\n",
    "CompanyCar.__str__ = company_car_str"
   ]
  },
  {
   "cell_type": "code",
   "execution_count": 42,
   "id": "92126fb2-4ba2-4d11-8bdc-0c45ca7d7ced",
   "metadata": {
    "tags": []
   },
   "outputs": [
    {
     "data": {
      "text/plain": [
       "{'Jan S.': <__main__.CompanyCar at 0x7fcd7bf6c580>,\n",
       " 'Marrie W.': <__main__.CompanyCar at 0x7fcd7bf6c640>,\n",
       " 'Sara L.': <__main__.CompanyCar at 0x7fcd7bf6c5e0>}"
      ]
     },
     "execution_count": 42,
     "metadata": {},
     "output_type": "execute_result"
    }
   ],
   "source": [
    "company_cars"
   ]
  },
  {
   "cell_type": "code",
   "execution_count": 44,
   "id": "07e56bc7-13f5-4832-a261-5220dd13ff6e",
   "metadata": {
    "tags": []
   },
   "outputs": [
    {
     "name": "stdout",
     "output_type": "stream",
     "text": [
      "{'Jan S.': <__main__.CompanyCar object at 0x7fcd7bf6c580>, 'Marrie W.': <__main__.CompanyCar object at 0x7fcd7bf6c640>, 'Sara L.': <__main__.CompanyCar object at 0x7fcd7bf6c5e0>}\n"
     ]
    }
   ],
   "source": [
    "print(company_cars)"
   ]
  },
  {
   "cell_type": "code",
   "execution_count": 45,
   "id": "319676ed-d634-49a2-98b6-7d35299dd091",
   "metadata": {
    "tags": []
   },
   "outputs": [
    {
     "name": "stdout",
     "output_type": "stream",
     "text": [
      "it is clean now\n"
     ]
    }
   ],
   "source": [
    "company_cars['Jan S.'].wash()"
   ]
  },
  {
   "cell_type": "code",
   "execution_count": 46,
   "id": "4765089b-e1b2-4c4d-9444-0ce6d52f75e9",
   "metadata": {
    "tags": []
   },
   "outputs": [
    {
     "data": {
      "text/plain": [
       "'-->car 2222222 used by Jan S.'"
      ]
     },
     "execution_count": 46,
     "metadata": {},
     "output_type": "execute_result"
    }
   ],
   "source": [
    "f'-->{company_cars[\"Jan S.\"]}'"
   ]
  },
  {
   "cell_type": "code",
   "execution_count": 47,
   "id": "1d570ba5-111f-4dd9-8614-1cb6d8bc1448",
   "metadata": {
    "tags": []
   },
   "outputs": [],
   "source": [
    "def company_car_repr(self):\n",
    "    return f'REPR car {self.license_plate} used by {self.employee}'\n",
    "\n",
    "CompanyCar.__repr__ = company_car_repr"
   ]
  },
  {
   "cell_type": "code",
   "execution_count": 48,
   "id": "80eb6206-0a05-4015-819f-8e372eb09023",
   "metadata": {
    "tags": []
   },
   "outputs": [
    {
     "data": {
      "text/plain": [
       "'-->car 2222222 used by Jan S.'"
      ]
     },
     "execution_count": 48,
     "metadata": {},
     "output_type": "execute_result"
    }
   ],
   "source": [
    "f'-->{company_cars[\"Jan S.\"]}'"
   ]
  },
  {
   "cell_type": "code",
   "execution_count": 49,
   "id": "23f67559-e5bb-41d5-a4c2-4c26b6d4ae58",
   "metadata": {
    "tags": []
   },
   "outputs": [],
   "source": [
    "del CompanyCar.__str__"
   ]
  },
  {
   "cell_type": "code",
   "execution_count": 50,
   "id": "304cf78f-ef73-43c5-a3c4-76c12d4a92c7",
   "metadata": {
    "tags": []
   },
   "outputs": [
    {
     "data": {
      "text/plain": [
       "'-->REPR car 2222222 used by Jan S.'"
      ]
     },
     "execution_count": 50,
     "metadata": {},
     "output_type": "execute_result"
    }
   ],
   "source": [
    "f'-->{company_cars[\"Jan S.\"]}'"
   ]
  },
  {
   "cell_type": "code",
   "execution_count": 51,
   "id": "b4eac44a-9bcf-458c-9158-f70884eaad66",
   "metadata": {
    "tags": []
   },
   "outputs": [
    {
     "data": {
      "text/plain": [
       "{'license_plate': '1234567',\n",
       " 'level': 4,\n",
       " 'special_treatment': <function __main__.wash_excessively(self)>}"
      ]
     },
     "execution_count": 51,
     "metadata": {},
     "output_type": "execute_result"
    }
   ],
   "source": [
    "my_car.__dict__"
   ]
  },
  {
   "cell_type": "code",
   "execution_count": 71,
   "id": "ac845915-0bf5-47b2-ade9-090070b74e3d",
   "metadata": {
    "tags": []
   },
   "outputs": [
    {
     "name": "stdout",
     "output_type": "stream",
     "text": [
      "obj1=(2, 3), obj2=(1, 2), cmp=1\n",
      "obj1=(2, 3), obj2=(3, 1), cmp=0\n",
      "obj1=(1, 2), obj2=(2, 3), cmp=-1\n",
      "obj1=(1, 2), obj2=(3, 1), cmp=0\n",
      "obj1=(3, 1), obj2=(2, 3), cmp=0\n",
      "obj1=(3, 1), obj2=(1, 2), cmp=0\n"
     ]
    }
   ],
   "source": [
    "from itertools import permutations\n",
    "\n",
    "\n",
    "class MyClass:\n",
    "    def __init__(self, a, b):\n",
    "        self.a = a\n",
    "        self.b = b\n",
    "        \n",
    "    def __repr__(self):\n",
    "        return f'({self.a}, {self.b})'\n",
    "    \n",
    "    def cmp(self, other):\n",
    "        \"\"\"\n",
    "        This function returns 1 when this object strictly dominates the other.\n",
    "        It returns -1 when the other object strictly dominates this one.\n",
    "        Otherwise it returns 0.\n",
    "        \"\"\"\n",
    "        \n",
    "        if (\n",
    "            (self.a > other.a and self.b >= other.b) or\n",
    "            (self.a >= other.a and self.b > other.b)\n",
    "        ):\n",
    "            return 1\n",
    "        elif (\n",
    "            (self.a < other.a and self.b <= other.b) or\n",
    "            (self.a <= other.a and self.b < other.b)\n",
    "        ):\n",
    "            return -1\n",
    "        else:\n",
    "            return 0\n",
    "        \n",
    "objs = [\n",
    "    MyClass(2, 3),\n",
    "    MyClass(1, 2),\n",
    "    MyClass(3, 1),\n",
    "]\n",
    "\n",
    "for obj1, obj2 in permutations(objs, 2):\n",
    "    print(f'{obj1=}, {obj2=}, cmp={obj1.cmp(obj2)}')"
   ]
  },
  {
   "cell_type": "code",
   "execution_count": 72,
   "id": "3bb1c6da-6ffb-46a7-87d1-7ae872902464",
   "metadata": {
    "tags": []
   },
   "outputs": [
    {
     "ename": "TypeError",
     "evalue": "'<' not supported between instances of 'MyClass' and 'MyClass'",
     "output_type": "error",
     "traceback": [
      "\u001b[0;31m---------------------------------------------------------------------------\u001b[0m",
      "\u001b[0;31mTypeError\u001b[0m                                 Traceback (most recent call last)",
      "Cell \u001b[0;32mIn[72], line 1\u001b[0m\n\u001b[0;32m----> 1\u001b[0m \u001b[38;5;28;43msorted\u001b[39;49m\u001b[43m(\u001b[49m\u001b[43mobjs\u001b[49m\u001b[43m)\u001b[49m\n",
      "\u001b[0;31mTypeError\u001b[0m: '<' not supported between instances of 'MyClass' and 'MyClass'"
     ]
    }
   ],
   "source": [
    "sorted(objs)"
   ]
  },
  {
   "cell_type": "code",
   "execution_count": 73,
   "id": "6ee9a8db-2c96-4d61-b8b6-6cc922020bb4",
   "metadata": {
    "tags": []
   },
   "outputs": [],
   "source": [
    "def use_cmp(a, b):\n",
    "    return a.cmp(b) < 0"
   ]
  },
  {
   "cell_type": "code",
   "execution_count": 74,
   "id": "c2277a77-7eb6-4e5f-b848-198b42e07397",
   "metadata": {
    "tags": []
   },
   "outputs": [
    {
     "ename": "TypeError",
     "evalue": "use_cmp() missing 1 required positional argument: 'b'",
     "output_type": "error",
     "traceback": [
      "\u001b[0;31m---------------------------------------------------------------------------\u001b[0m",
      "\u001b[0;31mTypeError\u001b[0m                                 Traceback (most recent call last)",
      "Cell \u001b[0;32mIn[74], line 1\u001b[0m\n\u001b[0;32m----> 1\u001b[0m \u001b[38;5;28;43msorted\u001b[39;49m\u001b[43m(\u001b[49m\u001b[43mobjs\u001b[49m\u001b[43m,\u001b[49m\u001b[43m \u001b[49m\u001b[43mkey\u001b[49m\u001b[38;5;241;43m=\u001b[39;49m\u001b[43muse_cmp\u001b[49m\u001b[43m)\u001b[49m\n",
      "\u001b[0;31mTypeError\u001b[0m: use_cmp() missing 1 required positional argument: 'b'"
     ]
    }
   ],
   "source": [
    "sorted(objs, key=use_cmp)"
   ]
  },
  {
   "cell_type": "code",
   "execution_count": 75,
   "id": "11fdb4cc-7173-46fb-bae5-a60e7cb57d40",
   "metadata": {
    "tags": []
   },
   "outputs": [
    {
     "data": {
      "text/plain": [
       "[(1, 2), (2, 3), (3, 1)]"
      ]
     },
     "execution_count": 75,
     "metadata": {},
     "output_type": "execute_result"
    }
   ],
   "source": [
    "class Helper:\n",
    "    \"\"\"\n",
    "    Enables '<' from 'cmp'.\n",
    "    \"\"\"\n",
    "    \n",
    "    def __init__(self, obj):\n",
    "        self.obj = obj\n",
    "        \n",
    "    def __lt__(self, other):\n",
    "        return self.obj.cmp(other.obj) < 0\n",
    "\n",
    "sorted(objs, key=Helper)"
   ]
  },
  {
   "cell_type": "code",
   "execution_count": 76,
   "id": "07a24983-d32f-4b08-8362-e656c5b9c8f6",
   "metadata": {
    "tags": []
   },
   "outputs": [],
   "source": [
    "class A:\n",
    "    def __init__(self, name):\n",
    "        self.name = name"
   ]
  },
  {
   "cell_type": "code",
   "execution_count": 77,
   "id": "002fe955-55e8-4a4a-830a-56d22dd1a0fb",
   "metadata": {
    "tags": []
   },
   "outputs": [],
   "source": [
    "class A:\n",
    "    def swim(self):\n",
    "        print(f\"{self.name} is swimming\")"
   ]
  },
  {
   "cell_type": "code",
   "execution_count": 78,
   "id": "63e004eb-67fb-4ef3-8b33-84354fe1da36",
   "metadata": {
    "tags": []
   },
   "outputs": [
    {
     "ename": "TypeError",
     "evalue": "A() takes no arguments",
     "output_type": "error",
     "traceback": [
      "\u001b[0;31m---------------------------------------------------------------------------\u001b[0m",
      "\u001b[0;31mTypeError\u001b[0m                                 Traceback (most recent call last)",
      "Cell \u001b[0;32mIn[78], line 1\u001b[0m\n\u001b[0;32m----> 1\u001b[0m objA \u001b[38;5;241m=\u001b[39m \u001b[43mA\u001b[49m\u001b[43m(\u001b[49m\u001b[38;5;124;43m\"\u001b[39;49m\u001b[38;5;124;43mRob\u001b[39;49m\u001b[38;5;124;43m\"\u001b[39;49m\u001b[43m)\u001b[49m\n\u001b[1;32m      3\u001b[0m objA\u001b[38;5;241m.\u001b[39mswim()\n",
      "\u001b[0;31mTypeError\u001b[0m: A() takes no arguments"
     ]
    }
   ],
   "source": [
    "objA = A(\"Rob\")\n",
    "\n",
    "objA.swim()"
   ]
  },
  {
   "cell_type": "code",
   "execution_count": 79,
   "id": "660cf63e-e6ec-4933-920a-fe7f33356afb",
   "metadata": {
    "tags": []
   },
   "outputs": [
    {
     "name": "stdin",
     "output_type": "stream",
     "text": [
      "enter you name Oren\n"
     ]
    }
   ],
   "source": [
    "a = input(\"enter you name\")"
   ]
  },
  {
   "cell_type": "code",
   "execution_count": 80,
   "id": "50e93cc5-d418-4d62-b0d0-2161dd1c382c",
   "metadata": {
    "tags": []
   },
   "outputs": [
    {
     "data": {
      "text/plain": [
       "'Oren'"
      ]
     },
     "execution_count": 80,
     "metadata": {},
     "output_type": "execute_result"
    }
   ],
   "source": [
    "a"
   ]
  },
  {
   "cell_type": "code",
   "execution_count": null,
   "id": "762b3b72-163d-4b90-8ba5-8e1b17cc2d90",
   "metadata": {},
   "outputs": [],
   "source": []
  }
 ],
 "metadata": {
  "kernelspec": {
   "display_name": "Python 3 (ipykernel)",
   "language": "python",
   "name": "python3"
  },
  "language_info": {
   "codemirror_mode": {
    "name": "ipython",
    "version": 3
   },
   "file_extension": ".py",
   "mimetype": "text/x-python",
   "name": "python",
   "nbconvert_exporter": "python",
   "pygments_lexer": "ipython3",
   "version": "3.8.10"
  }
 },
 "nbformat": 4,
 "nbformat_minor": 5
}

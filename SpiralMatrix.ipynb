{
 "cells": [
  {
   "cell_type": "code",
   "execution_count": 25,
   "id": "94b8c22e-7309-4b35-8810-b52751fc0205",
   "metadata": {},
   "outputs": [],
   "source": [
    "import numpy as np\n",
    "from itertools import cycle, islice"
   ]
  },
  {
   "cell_type": "code",
   "execution_count": 4,
   "id": "42ee2082-ed0c-499e-9a4f-c18c5b68448d",
   "metadata": {},
   "outputs": [],
   "source": [
    "mat = np.random.randint(0, 10, (10, 10))"
   ]
  },
  {
   "cell_type": "code",
   "execution_count": 5,
   "id": "f906f0be-2a0b-4dd2-adf1-9e1154a67682",
   "metadata": {},
   "outputs": [
    {
     "data": {
      "text/plain": [
       "(10, 10)"
      ]
     },
     "execution_count": 5,
     "metadata": {},
     "output_type": "execute_result"
    }
   ],
   "source": [
    "mat.shape"
   ]
  },
  {
   "cell_type": "code",
   "execution_count": 6,
   "id": "1b7e95c3-a164-47da-b60e-c74e330bdf0a",
   "metadata": {},
   "outputs": [
    {
     "data": {
      "text/plain": [
       "array([[3, 1, 2, 4, 3, 5, 8, 2, 8, 3],\n",
       "       [5, 5, 2, 4, 0, 9, 8, 7, 2, 7],\n",
       "       [0, 1, 3, 9, 1, 1, 5, 4, 4, 2],\n",
       "       [0, 8, 3, 5, 2, 2, 8, 9, 9, 8],\n",
       "       [5, 9, 5, 9, 5, 1, 7, 4, 3, 8],\n",
       "       [3, 0, 1, 7, 8, 7, 0, 5, 3, 7],\n",
       "       [9, 0, 5, 6, 6, 4, 3, 3, 0, 5],\n",
       "       [5, 3, 5, 4, 7, 1, 0, 8, 6, 5],\n",
       "       [5, 5, 4, 2, 8, 2, 6, 8, 6, 4],\n",
       "       [7, 8, 7, 5, 8, 7, 4, 1, 4, 4]])"
      ]
     },
     "execution_count": 6,
     "metadata": {},
     "output_type": "execute_result"
    }
   ],
   "source": [
    "mat"
   ]
  },
  {
   "cell_type": "code",
   "execution_count": 7,
   "id": "f51dd365-e775-45da-ae0d-4d164d64fa7f",
   "metadata": {},
   "outputs": [],
   "source": [
    "rows = range(mat.shape[0])"
   ]
  },
  {
   "cell_type": "code",
   "execution_count": 8,
   "id": "dc951d87-e91f-4f89-8e92-c66813510cfe",
   "metadata": {},
   "outputs": [
    {
     "data": {
      "text/plain": [
       "[0, 1, 2, 3, 4, 5, 6, 7, 8, 9]"
      ]
     },
     "execution_count": 8,
     "metadata": {},
     "output_type": "execute_result"
    }
   ],
   "source": [
    "list(rows)"
   ]
  },
  {
   "cell_type": "code",
   "execution_count": 9,
   "id": "366e3106-d49b-44d8-ac9b-e1809b77275b",
   "metadata": {},
   "outputs": [],
   "source": [
    "rows_top, rows_bottom = rows[:5], rows[5:]"
   ]
  },
  {
   "cell_type": "code",
   "execution_count": 10,
   "id": "c358a3f9-efe4-41a3-9ad8-c7ca0a96c3f0",
   "metadata": {},
   "outputs": [
    {
     "data": {
      "text/plain": [
       "range(0, 5)"
      ]
     },
     "execution_count": 10,
     "metadata": {},
     "output_type": "execute_result"
    }
   ],
   "source": [
    "rows_top"
   ]
  },
  {
   "cell_type": "code",
   "execution_count": 11,
   "id": "9a4f1c00-cde4-49ce-97d4-6bac0d9e37d4",
   "metadata": {},
   "outputs": [
    {
     "data": {
      "text/plain": [
       "range(5, 10)"
      ]
     },
     "execution_count": 11,
     "metadata": {},
     "output_type": "execute_result"
    }
   ],
   "source": [
    "rows_bottom"
   ]
  },
  {
   "cell_type": "code",
   "execution_count": 13,
   "id": "801c25ec-5e25-4711-a82c-bbd27f0fe28c",
   "metadata": {},
   "outputs": [
    {
     "data": {
      "text/plain": [
       "[9, 8, 7, 6, 5]"
      ]
     },
     "execution_count": 13,
     "metadata": {},
     "output_type": "execute_result"
    }
   ],
   "source": [
    "list(reversed(rows_bottom))"
   ]
  },
  {
   "cell_type": "code",
   "execution_count": 14,
   "id": "163730e8-8ed5-43bd-94fc-c8bb514e023b",
   "metadata": {},
   "outputs": [
    {
     "data": {
      "text/plain": [
       "[(0, 9), (1, 8), (2, 7), (3, 6), (4, 5)]"
      ]
     },
     "execution_count": 14,
     "metadata": {},
     "output_type": "execute_result"
    }
   ],
   "source": [
    "list(zip(rows_top, reversed(rows_bottom)))"
   ]
  },
  {
   "cell_type": "code",
   "execution_count": 15,
   "id": "a7c61b0e-7130-400e-86d9-827956d40c0d",
   "metadata": {},
   "outputs": [],
   "source": [
    "def gen_rows(num_rows):\n",
    "    num_bottom_rows = num_rows // 2\n",
    "    rows_top = range(0, num_rows - num_bottom_rows)\n",
    "    rows_bottom = range(num_rows - num_bottom_rows, num_rows)\n",
    "    "
   ]
  },
  {
   "cell_type": "code",
   "execution_count": 19,
   "id": "fa1e657d-3122-46b0-a700-2ade568c5005",
   "metadata": {},
   "outputs": [],
   "source": [
    "def direction():\n",
    "    yield from cycle([(+1, 0), (0, +1), (-1, 0), (0, -1)])"
   ]
  },
  {
   "cell_type": "code",
   "execution_count": 22,
   "id": "53819051-ee60-4b79-a573-9e790cd840fe",
   "metadata": {},
   "outputs": [
    {
     "data": {
      "text/plain": [
       "[((1, 0), 0),\n",
       " ((0, 1), 1),\n",
       " ((-1, 0), 2),\n",
       " ((0, -1), 3),\n",
       " ((1, 0), 4),\n",
       " ((0, 1), 5),\n",
       " ((-1, 0), 6),\n",
       " ((0, -1), 7),\n",
       " ((1, 0), 8),\n",
       " ((0, 1), 9)]"
      ]
     },
     "execution_count": 22,
     "metadata": {},
     "output_type": "execute_result"
    }
   ],
   "source": [
    "list(zip(direction(), range(10)))"
   ]
  },
  {
   "cell_type": "code",
   "execution_count": 42,
   "id": "74375503-e2d5-4d49-8ce7-8f08e5b67603",
   "metadata": {},
   "outputs": [],
   "source": [
    "def spiral_matrix(mat):\n",
    "    if mat.shape[0] < 1: # no more rows (stopping condition)\n",
    "        return\n",
    "    yield from mat[0, :] # top row\n",
    "    yield from mat[1:, -1] # right column\n",
    "    yield from reversed(mat[-1, :-1]) # bottom row (reversed)\n",
    "    yield from reversed(mat[1:-1, 0]) # left column (reversed)\n",
    "    yield from spiral_matrix(mat[1:-1, 1:-1]) # recursive call"
   ]
  },
  {
   "cell_type": "code",
   "execution_count": 43,
   "id": "df12eb57-e1a6-4602-917f-5d6e87f819a3",
   "metadata": {},
   "outputs": [
    {
     "name": "stdout",
     "output_type": "stream",
     "text": [
      "[3, 1, 2, 4, 3, 5, 8, 2, 8, 3]\n",
      "[7, 2, 8, 8, 7, 5, 5, 4, 4, 4]\n",
      "[1, 4, 7, 8, 5, 7, 8, 7, 5, 5]\n",
      "[9, 3, 5, 0, 0, 5, 5, 2, 4, 0]\n",
      "[9, 8, 7, 2, 4, 9, 3, 3, 0, 6]\n",
      "[6, 8, 6, 2, 8, 2, 4, 5, 3, 0]\n",
      "[0, 9, 8, 1, 3, 9, 1, 1, 5, 4]\n",
      "[9, 4, 5, 3, 8, 0, 1, 7, 4, 5]\n",
      "[5, 1, 5, 3, 5, 2, 2, 8, 7, 0]\n",
      "[3, 4, 6, 6, 7, 9, 5, 1, 7, 8]\n"
     ]
    }
   ],
   "source": [
    "g = spiral_matrix(mat)\n",
    "\n",
    "for i in range(10):\n",
    "    print(list(islice(g, 10)))"
   ]
  },
  {
   "cell_type": "code",
   "execution_count": 44,
   "id": "4025834f-fa91-4eb4-9664-753c12ca1ff7",
   "metadata": {},
   "outputs": [
    {
     "data": {
      "text/plain": [
       "array([[3, 1, 2, 4, 3, 5, 8, 2, 8, 3],\n",
       "       [5, 5, 2, 4, 0, 9, 8, 7, 2, 7],\n",
       "       [0, 1, 3, 9, 1, 1, 5, 4, 4, 2],\n",
       "       [0, 8, 3, 5, 2, 2, 8, 9, 9, 8],\n",
       "       [5, 9, 5, 9, 5, 1, 7, 4, 3, 8],\n",
       "       [3, 0, 1, 7, 8, 7, 0, 5, 3, 7],\n",
       "       [9, 0, 5, 6, 6, 4, 3, 3, 0, 5],\n",
       "       [5, 3, 5, 4, 7, 1, 0, 8, 6, 5],\n",
       "       [5, 5, 4, 2, 8, 2, 6, 8, 6, 4],\n",
       "       [7, 8, 7, 5, 8, 7, 4, 1, 4, 4]])"
      ]
     },
     "execution_count": 44,
     "metadata": {},
     "output_type": "execute_result"
    }
   ],
   "source": [
    "mat"
   ]
  },
  {
   "cell_type": "code",
   "execution_count": 45,
   "id": "9427ae62-d838-4ad4-9df9-9acba4d69720",
   "metadata": {},
   "outputs": [
    {
     "ename": "StopIteration",
     "evalue": "",
     "output_type": "error",
     "traceback": [
      "\u001b[0;31m---------------------------------------------------------------------------\u001b[0m",
      "\u001b[0;31mStopIteration\u001b[0m                             Traceback (most recent call last)",
      "Cell \u001b[0;32mIn[45], line 1\u001b[0m\n\u001b[0;32m----> 1\u001b[0m \u001b[38;5;28;43mnext\u001b[39;49m\u001b[43m(\u001b[49m\u001b[43mg\u001b[49m\u001b[43m)\u001b[49m\n",
      "\u001b[0;31mStopIteration\u001b[0m: "
     ]
    }
   ],
   "source": [
    "next(g)"
   ]
  },
  {
   "cell_type": "code",
   "execution_count": 46,
   "id": "10faf961-9451-4a1e-92f9-5b453a2eaf11",
   "metadata": {},
   "outputs": [
    {
     "name": "stdout",
     "output_type": "stream",
     "text": [
      "[3, 1, 2, 4, 3, 5, 8, 2, 8, 3, 7, 2, 8, 8, 7, 5, 5, 4, 4, 4, 1, 4, 7, 8, 5, 7,\n",
      " 8, 7, 5, 5, 9, 3, 5, 0, 0, 5, 5, 2, 4, 0, 9, 8, 7, 2, 4, 9, 3, 3, 0, 6, 6, 8,\n",
      " 6, 2, 8, 2, 4, 5, 3, 0, 0, 9, 8, 1, 3, 9, 1, 1, 5, 4, 9, 4, 5, 3, 8, 0, 1, 7,\n",
      " 4, 5, 5, 1, 5, 3, 5, 2, 2, 8, 7, 0, 3, 4, 6, 6, 7, 9, 5, 1, 7, 8]\n"
     ]
    }
   ],
   "source": [
    "import pprint\n",
    "\n",
    "pprint.pprint(list(spiral_matrix(mat)), compact=True)"
   ]
  },
  {
   "cell_type": "code",
   "execution_count": null,
   "id": "caaa0ead-9e38-4d26-b259-bab64075194f",
   "metadata": {},
   "outputs": [],
   "source": []
  }
 ],
 "metadata": {
  "kernelspec": {
   "display_name": "Python 3 (ipykernel)",
   "language": "python",
   "name": "python3"
  },
  "language_info": {
   "codemirror_mode": {
    "name": "ipython",
    "version": 3
   },
   "file_extension": ".py",
   "mimetype": "text/x-python",
   "name": "python",
   "nbconvert_exporter": "python",
   "pygments_lexer": "ipython3",
   "version": "3.8.10"
  }
 },
 "nbformat": 4,
 "nbformat_minor": 5
}

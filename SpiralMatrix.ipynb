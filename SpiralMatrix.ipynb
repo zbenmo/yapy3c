{
 "cells": [
  {
   "cell_type": "code",
   "execution_count": 1,
   "id": "94b8c22e-7309-4b35-8810-b52751fc0205",
   "metadata": {},
   "outputs": [],
   "source": [
    "import numpy as np\n",
    "from itertools import cycle, islice"
   ]
  },
  {
   "cell_type": "code",
   "execution_count": 2,
   "id": "42ee2082-ed0c-499e-9a4f-c18c5b68448d",
   "metadata": {},
   "outputs": [],
   "source": [
    "mat = np.random.randint(0, 10, (10, 10))"
   ]
  },
  {
   "cell_type": "code",
   "execution_count": 3,
   "id": "f906f0be-2a0b-4dd2-adf1-9e1154a67682",
   "metadata": {},
   "outputs": [
    {
     "data": {
      "text/plain": [
       "(10, 10)"
      ]
     },
     "execution_count": 3,
     "metadata": {},
     "output_type": "execute_result"
    }
   ],
   "source": [
    "mat.shape"
   ]
  },
  {
   "cell_type": "code",
   "execution_count": 4,
   "id": "1b7e95c3-a164-47da-b60e-c74e330bdf0a",
   "metadata": {},
   "outputs": [
    {
     "data": {
      "text/plain": [
       "array([[1, 0, 4, 4, 6, 3, 2, 2, 6, 5],\n",
       "       [9, 1, 8, 0, 9, 1, 6, 7, 7, 8],\n",
       "       [3, 8, 6, 9, 6, 0, 7, 2, 3, 8],\n",
       "       [9, 4, 2, 7, 1, 8, 2, 5, 5, 8],\n",
       "       [3, 1, 3, 7, 9, 6, 9, 0, 5, 4],\n",
       "       [3, 9, 2, 3, 6, 2, 6, 5, 3, 3],\n",
       "       [9, 3, 5, 7, 6, 9, 9, 9, 4, 0],\n",
       "       [6, 4, 1, 0, 0, 7, 1, 6, 1, 2],\n",
       "       [6, 8, 5, 8, 5, 9, 7, 4, 2, 9],\n",
       "       [2, 5, 1, 1, 6, 4, 1, 6, 0, 0]])"
      ]
     },
     "execution_count": 4,
     "metadata": {},
     "output_type": "execute_result"
    }
   ],
   "source": [
    "mat"
   ]
  },
  {
   "cell_type": "code",
   "execution_count": 5,
   "id": "f51dd365-e775-45da-ae0d-4d164d64fa7f",
   "metadata": {},
   "outputs": [],
   "source": [
    "rows = range(mat.shape[0])"
   ]
  },
  {
   "cell_type": "code",
   "execution_count": 6,
   "id": "dc951d87-e91f-4f89-8e92-c66813510cfe",
   "metadata": {},
   "outputs": [
    {
     "data": {
      "text/plain": [
       "[0, 1, 2, 3, 4, 5, 6, 7, 8, 9]"
      ]
     },
     "execution_count": 6,
     "metadata": {},
     "output_type": "execute_result"
    }
   ],
   "source": [
    "list(rows)"
   ]
  },
  {
   "cell_type": "code",
   "execution_count": 7,
   "id": "366e3106-d49b-44d8-ac9b-e1809b77275b",
   "metadata": {},
   "outputs": [],
   "source": [
    "rows_top, rows_bottom = rows[:5], rows[5:]"
   ]
  },
  {
   "cell_type": "code",
   "execution_count": 8,
   "id": "c358a3f9-efe4-41a3-9ad8-c7ca0a96c3f0",
   "metadata": {},
   "outputs": [
    {
     "data": {
      "text/plain": [
       "range(0, 5)"
      ]
     },
     "execution_count": 8,
     "metadata": {},
     "output_type": "execute_result"
    }
   ],
   "source": [
    "rows_top"
   ]
  },
  {
   "cell_type": "code",
   "execution_count": 9,
   "id": "9a4f1c00-cde4-49ce-97d4-6bac0d9e37d4",
   "metadata": {},
   "outputs": [
    {
     "data": {
      "text/plain": [
       "range(5, 10)"
      ]
     },
     "execution_count": 9,
     "metadata": {},
     "output_type": "execute_result"
    }
   ],
   "source": [
    "rows_bottom"
   ]
  },
  {
   "cell_type": "code",
   "execution_count": 10,
   "id": "801c25ec-5e25-4711-a82c-bbd27f0fe28c",
   "metadata": {},
   "outputs": [
    {
     "data": {
      "text/plain": [
       "[9, 8, 7, 6, 5]"
      ]
     },
     "execution_count": 10,
     "metadata": {},
     "output_type": "execute_result"
    }
   ],
   "source": [
    "list(reversed(rows_bottom))"
   ]
  },
  {
   "cell_type": "code",
   "execution_count": 11,
   "id": "163730e8-8ed5-43bd-94fc-c8bb514e023b",
   "metadata": {},
   "outputs": [
    {
     "data": {
      "text/plain": [
       "[(0, 9), (1, 8), (2, 7), (3, 6), (4, 5)]"
      ]
     },
     "execution_count": 11,
     "metadata": {},
     "output_type": "execute_result"
    }
   ],
   "source": [
    "list(zip(rows_top, reversed(rows_bottom)))"
   ]
  },
  {
   "cell_type": "code",
   "execution_count": 12,
   "id": "a7c61b0e-7130-400e-86d9-827956d40c0d",
   "metadata": {},
   "outputs": [],
   "source": [
    "def gen_rows(num_rows):\n",
    "    num_bottom_rows = num_rows // 2\n",
    "    rows_top = range(0, num_rows - num_bottom_rows)\n",
    "    rows_bottom = range(num_rows - num_bottom_rows, num_rows)\n",
    "    "
   ]
  },
  {
   "cell_type": "code",
   "execution_count": 13,
   "id": "fa1e657d-3122-46b0-a700-2ade568c5005",
   "metadata": {},
   "outputs": [],
   "source": [
    "def direction():\n",
    "    yield from cycle([(+1, 0), (0, +1), (-1, 0), (0, -1)])"
   ]
  },
  {
   "cell_type": "code",
   "execution_count": 14,
   "id": "53819051-ee60-4b79-a573-9e790cd840fe",
   "metadata": {},
   "outputs": [
    {
     "data": {
      "text/plain": [
       "[((1, 0), 0),\n",
       " ((0, 1), 1),\n",
       " ((-1, 0), 2),\n",
       " ((0, -1), 3),\n",
       " ((1, 0), 4),\n",
       " ((0, 1), 5),\n",
       " ((-1, 0), 6),\n",
       " ((0, -1), 7),\n",
       " ((1, 0), 8),\n",
       " ((0, 1), 9)]"
      ]
     },
     "execution_count": 14,
     "metadata": {},
     "output_type": "execute_result"
    }
   ],
   "source": [
    "list(zip(direction(), range(10)))"
   ]
  },
  {
   "cell_type": "code",
   "execution_count": 15,
   "id": "74375503-e2d5-4d49-8ce7-8f08e5b67603",
   "metadata": {},
   "outputs": [],
   "source": [
    "def spiral_matrix(mat):\n",
    "    if mat.shape[0] < 1: # no more rows (stopping condition)\n",
    "        return\n",
    "    yield from mat[0, :] # top row\n",
    "    yield from mat[1:, -1] # right column\n",
    "    yield from reversed(mat[-1, :-1]) # bottom row (reversed)\n",
    "    yield from reversed(mat[1:-1, 0]) # left column (reversed)\n",
    "    yield from spiral_matrix(mat[1:-1, 1:-1]) # recursive call"
   ]
  },
  {
   "cell_type": "code",
   "execution_count": 16,
   "id": "df12eb57-e1a6-4602-917f-5d6e87f819a3",
   "metadata": {},
   "outputs": [
    {
     "name": "stdout",
     "output_type": "stream",
     "text": [
      "[1, 0, 4, 4, 6, 3, 2, 2, 6, 5]\n",
      "[8, 8, 8, 4, 3, 0, 2, 9, 0, 0]\n",
      "[6, 1, 4, 6, 1, 1, 5, 2, 6, 6]\n",
      "[9, 3, 3, 9, 3, 9, 1, 8, 0, 9]\n",
      "[1, 6, 7, 7, 3, 5, 5, 3, 4, 1]\n",
      "[2, 4, 7, 9, 5, 8, 5, 8, 4, 3]\n",
      "[9, 1, 4, 8, 6, 9, 6, 0, 7, 2]\n",
      "[5, 0, 5, 9, 6, 1, 7, 0, 0, 1]\n",
      "[5, 2, 3, 2, 7, 1, 8, 2, 9, 6]\n",
      "[9, 9, 6, 7, 3, 7, 9, 6, 2, 6]\n"
     ]
    }
   ],
   "source": [
    "g = spiral_matrix(mat)\n",
    "\n",
    "for i in range(10):\n",
    "    print(list(islice(g, 10)))"
   ]
  },
  {
   "cell_type": "code",
   "execution_count": 17,
   "id": "4025834f-fa91-4eb4-9664-753c12ca1ff7",
   "metadata": {},
   "outputs": [
    {
     "data": {
      "text/plain": [
       "array([[1, 0, 4, 4, 6, 3, 2, 2, 6, 5],\n",
       "       [9, 1, 8, 0, 9, 1, 6, 7, 7, 8],\n",
       "       [3, 8, 6, 9, 6, 0, 7, 2, 3, 8],\n",
       "       [9, 4, 2, 7, 1, 8, 2, 5, 5, 8],\n",
       "       [3, 1, 3, 7, 9, 6, 9, 0, 5, 4],\n",
       "       [3, 9, 2, 3, 6, 2, 6, 5, 3, 3],\n",
       "       [9, 3, 5, 7, 6, 9, 9, 9, 4, 0],\n",
       "       [6, 4, 1, 0, 0, 7, 1, 6, 1, 2],\n",
       "       [6, 8, 5, 8, 5, 9, 7, 4, 2, 9],\n",
       "       [2, 5, 1, 1, 6, 4, 1, 6, 0, 0]])"
      ]
     },
     "execution_count": 17,
     "metadata": {},
     "output_type": "execute_result"
    }
   ],
   "source": [
    "mat"
   ]
  },
  {
   "cell_type": "code",
   "execution_count": 45,
   "id": "9427ae62-d838-4ad4-9df9-9acba4d69720",
   "metadata": {},
   "outputs": [
    {
     "ename": "StopIteration",
     "evalue": "",
     "output_type": "error",
     "traceback": [
      "\u001b[0;31m---------------------------------------------------------------------------\u001b[0m",
      "\u001b[0;31mStopIteration\u001b[0m                             Traceback (most recent call last)",
      "Cell \u001b[0;32mIn[45], line 1\u001b[0m\n\u001b[0;32m----> 1\u001b[0m \u001b[38;5;28;43mnext\u001b[39;49m\u001b[43m(\u001b[49m\u001b[43mg\u001b[49m\u001b[43m)\u001b[49m\n",
      "\u001b[0;31mStopIteration\u001b[0m: "
     ]
    }
   ],
   "source": [
    "next(g)"
   ]
  },
  {
   "cell_type": "code",
   "execution_count": 18,
   "id": "10faf961-9451-4a1e-92f9-5b453a2eaf11",
   "metadata": {},
   "outputs": [
    {
     "name": "stdout",
     "output_type": "stream",
     "text": [
      "[1, 0, 4, 4, 6, 3, 2, 2, 6, 5, 8, 8, 8, 4, 3, 0, 2, 9, 0, 0, 6, 1, 4, 6, 1, 1,\n",
      " 5, 2, 6, 6, 9, 3, 3, 9, 3, 9, 1, 8, 0, 9, 1, 6, 7, 7, 3, 5, 5, 3, 4, 1, 2, 4,\n",
      " 7, 9, 5, 8, 5, 8, 4, 3, 9, 1, 4, 8, 6, 9, 6, 0, 7, 2, 5, 0, 5, 9, 6, 1, 7, 0,\n",
      " 0, 1, 5, 2, 3, 2, 7, 1, 8, 2, 9, 6, 9, 9, 6, 7, 3, 7, 9, 6, 2, 6]\n"
     ]
    }
   ],
   "source": [
    "import pprint\n",
    "\n",
    "pprint.pprint(list(spiral_matrix(mat)), compact=True)"
   ]
  },
  {
   "cell_type": "code",
   "execution_count": 71,
   "id": "caaa0ead-9e38-4d26-b259-bab64075194f",
   "metadata": {},
   "outputs": [],
   "source": [
    "def spiral_matrix_set(mat):\n",
    "    if mat.shape[0] < 1: # no more rows (stopping condition)\n",
    "        return\n",
    "        \n",
    "    new_vals = []\n",
    "    for _ in mat[0, :]: # top row\n",
    "        new_vals.append((yield))\n",
    "    mat[0, :] = new_vals\n",
    "    \n",
    "    new_vals = []\n",
    "    for _ in mat[1:, -1]: # right column\n",
    "        new_vals.append((yield))\n",
    "    mat[1:, -1] = new_vals\n",
    "\n",
    "    new_vals = []\n",
    "    for _ in mat[-1, :-1]: # bottom row (reversed)\n",
    "        new_vals.append((yield))\n",
    "    mat[-1, :-1] = list(reversed(new_vals))\n",
    "\n",
    "    new_vals = []\n",
    "    for _ in mat[1:-1, 0]: # left column (reversed)\n",
    "        new_vals.append((yield))\n",
    "    mat[1:-1, 0] = list(reversed(new_vals))\n",
    "\n",
    "    yield from spiral_matrix_set(mat[1:-1, 1:-1]) # recursive call"
   ]
  },
  {
   "cell_type": "code",
   "execution_count": 54,
   "id": "68f470cc-6a78-4710-9354-85eabe12c434",
   "metadata": {},
   "outputs": [],
   "source": [
    "def test():\n",
    "    lst = [1, 2, 3]\n",
    "    new_vals = []\n",
    "    for x in lst:\n",
    "        got = (yield)\n",
    "        new_vals.append(got)\n",
    "    lst[:] = new_vals\n",
    "    print(lst)"
   ]
  },
  {
   "cell_type": "code",
   "execution_count": 79,
   "id": "870f1407-c47a-419d-9382-1fd22a748117",
   "metadata": {},
   "outputs": [],
   "source": [
    "import itertools"
   ]
  },
  {
   "cell_type": "code",
   "execution_count": 84,
   "id": "c4a9985c-8051-49a2-bcd3-cb42f03b6b02",
   "metadata": {},
   "outputs": [],
   "source": [
    "def fill_spiral(mat):\n",
    "    gen = spiral_matrix_set(mat)\n",
    "    gen.send(None)\n",
    "    try:\n",
    "        for x in itertools.count():\n",
    "            gen.send(x)\n",
    "    except StopIteration:\n",
    "        pass"
   ]
  },
  {
   "cell_type": "code",
   "execution_count": 85,
   "id": "4efd278a-e219-4fde-ab92-c45617cc096d",
   "metadata": {},
   "outputs": [],
   "source": [
    "fill_spiral(mat)"
   ]
  },
  {
   "cell_type": "code",
   "execution_count": 88,
   "id": "8fec1e2f-3739-4118-b86d-02658e671d70",
   "metadata": {},
   "outputs": [],
   "source": [
    "mat = np.zeros((8, 8))"
   ]
  },
  {
   "cell_type": "code",
   "execution_count": 89,
   "id": "d18c1ac1-840d-4f4b-8be4-11289829cb3a",
   "metadata": {},
   "outputs": [
    {
     "data": {
      "text/plain": [
       "array([[0., 0., 0., 0., 0., 0., 0., 0.],\n",
       "       [0., 0., 0., 0., 0., 0., 0., 0.],\n",
       "       [0., 0., 0., 0., 0., 0., 0., 0.],\n",
       "       [0., 0., 0., 0., 0., 0., 0., 0.],\n",
       "       [0., 0., 0., 0., 0., 0., 0., 0.],\n",
       "       [0., 0., 0., 0., 0., 0., 0., 0.],\n",
       "       [0., 0., 0., 0., 0., 0., 0., 0.],\n",
       "       [0., 0., 0., 0., 0., 0., 0., 0.]])"
      ]
     },
     "execution_count": 89,
     "metadata": {},
     "output_type": "execute_result"
    }
   ],
   "source": [
    "mat"
   ]
  },
  {
   "cell_type": "code",
   "execution_count": 90,
   "id": "0b15da01-d039-403d-a2b9-0a060d0281be",
   "metadata": {},
   "outputs": [],
   "source": [
    "fill_spiral(mat)"
   ]
  },
  {
   "cell_type": "code",
   "execution_count": 91,
   "id": "c7fa9646-4cc2-4840-ad1c-a13f7ac787cc",
   "metadata": {},
   "outputs": [
    {
     "data": {
      "text/plain": [
       "array([[ 0.,  1.,  2.,  3.,  4.,  5.,  6.,  7.],\n",
       "       [27., 28., 29., 30., 31., 32., 33.,  8.],\n",
       "       [26., 47., 48., 49., 50., 51., 34.,  9.],\n",
       "       [25., 46., 59., 60., 61., 52., 35., 10.],\n",
       "       [24., 45., 58., 63., 62., 53., 36., 11.],\n",
       "       [23., 44., 57., 56., 55., 54., 37., 12.],\n",
       "       [22., 43., 42., 41., 40., 39., 38., 13.],\n",
       "       [21., 20., 19., 18., 17., 16., 15., 14.]])"
      ]
     },
     "execution_count": 91,
     "metadata": {},
     "output_type": "execute_result"
    }
   ],
   "source": [
    "mat"
   ]
  },
  {
   "cell_type": "code",
   "execution_count": 102,
   "id": "2aefbc86-b6a7-4f7d-80a6-fbeb5c77460c",
   "metadata": {},
   "outputs": [
    {
     "data": {
      "text/plain": [
       "(slice(None, None, None),)"
      ]
     },
     "execution_count": 102,
     "metadata": {},
     "output_type": "execute_result"
    }
   ],
   "source": [
    "np.index_exp[:]"
   ]
  },
  {
   "cell_type": "code",
   "execution_count": 263,
   "id": "7fc07367-4d3f-4c91-bcdb-f984f077d8d7",
   "metadata": {},
   "outputs": [],
   "source": [
    "def spiral_matrix_index_exp(mat, c):\n",
    "    rows, cols = mat.shape\n",
    "    \n",
    "    if rows < 1: # no more rows (stopping condition)\n",
    "        return\n",
    "\n",
    "    mat[0, :] = list(itertools.islice(c, cols))\n",
    "    mat[1:, -1] = list(itertools.islice(c, rows - 1))\n",
    "    mat[-1, 0:-1] = list(reversed(list(itertools.islice(c, cols - 1))))\n",
    "    mat[1:-1, 0] = list(reversed(list(itertools.islice(c, rows - 2))))\n",
    "\n",
    "    spiral_matrix_index_exp(mat[1:-1, 1:-1], c) # recursive call"
   ]
  },
  {
   "cell_type": "code",
   "execution_count": 264,
   "id": "f2bcc5e3-2ca1-4109-a5b2-4d0bce95c9ae",
   "metadata": {},
   "outputs": [
    {
     "data": {
      "text/plain": [
       "(slice(None, None, None), 0, -1)"
      ]
     },
     "execution_count": 264,
     "metadata": {},
     "output_type": "execute_result"
    }
   ],
   "source": [
    "np.index_exp[:,0,-1]"
   ]
  },
  {
   "cell_type": "code",
   "execution_count": 265,
   "id": "82604bfd-adaa-4616-b569-54ae37b013f1",
   "metadata": {},
   "outputs": [
    {
     "data": {
      "text/plain": [
       "array([9, 8, 7, 6, 5, 4, 3, 2, 1, 0])"
      ]
     },
     "execution_count": 265,
     "metadata": {},
     "output_type": "execute_result"
    }
   ],
   "source": [
    "np.arange(0, 10)[::-1]"
   ]
  },
  {
   "cell_type": "code",
   "execution_count": 266,
   "id": "8f5fee5a-3622-4f72-9e7e-cc75978163ab",
   "metadata": {},
   "outputs": [],
   "source": [
    "def fill_spiral2(mat):\n",
    "    c = itertools.count()\n",
    "    for index_exp in spiral_matrix_index_exp(mat):\n",
    "        print(index_exp)\n",
    "        mat[index_exp] = list(itertools.islice(c, np.product(mat[index_exp].shape)))"
   ]
  },
  {
   "cell_type": "code",
   "execution_count": 267,
   "id": "b79a35dc-b2df-4d37-b341-1f138d4f8570",
   "metadata": {},
   "outputs": [],
   "source": [
    "mat = np.zeros((8, 8))"
   ]
  },
  {
   "cell_type": "code",
   "execution_count": 270,
   "id": "07c05a2d-322b-42ca-85f0-7505364e8d47",
   "metadata": {},
   "outputs": [],
   "source": [
    "spiral_matrix_index_exp(mat, itertools.count(100))"
   ]
  },
  {
   "cell_type": "code",
   "execution_count": 271,
   "id": "f17a272d-389d-489b-8889-55428cbc53dc",
   "metadata": {},
   "outputs": [
    {
     "data": {
      "text/plain": [
       "array([[100., 101., 102., 103., 104., 105., 106., 107.],\n",
       "       [127., 128., 129., 130., 131., 132., 133., 108.],\n",
       "       [126., 147., 148., 149., 150., 151., 134., 109.],\n",
       "       [125., 146., 159., 160., 161., 152., 135., 110.],\n",
       "       [124., 145., 158., 163., 162., 153., 136., 111.],\n",
       "       [123., 144., 157., 156., 155., 154., 137., 112.],\n",
       "       [122., 143., 142., 141., 140., 139., 138., 113.],\n",
       "       [121., 120., 119., 118., 117., 116., 115., 114.]])"
      ]
     },
     "execution_count": 271,
     "metadata": {},
     "output_type": "execute_result"
    }
   ],
   "source": [
    "mat"
   ]
  },
  {
   "cell_type": "code",
   "execution_count": 124,
   "id": "45ab24b2-7d5e-43b3-9da3-586422a3f1c9",
   "metadata": {},
   "outputs": [],
   "source": [
    "c = itertools.count()"
   ]
  },
  {
   "cell_type": "code",
   "execution_count": 126,
   "id": "38fb4f82-a3eb-4e1c-98c2-dae4e6b09e00",
   "metadata": {},
   "outputs": [
    {
     "data": {
      "text/plain": [
       "[0, 1, 2, 3, 4]"
      ]
     },
     "execution_count": 126,
     "metadata": {},
     "output_type": "execute_result"
    }
   ],
   "source": [
    "list(itertools.islice(c, 5))"
   ]
  },
  {
   "cell_type": "code",
   "execution_count": 127,
   "id": "c4b76ee9-6a8c-42e1-876d-ce3292b6f812",
   "metadata": {},
   "outputs": [
    {
     "data": {
      "text/plain": [
       "[5, 6, 7, 8, 9]"
      ]
     },
     "execution_count": 127,
     "metadata": {},
     "output_type": "execute_result"
    }
   ],
   "source": [
    "list(itertools.islice(c, 5))"
   ]
  },
  {
   "cell_type": "code",
   "execution_count": 128,
   "id": "b37d1b0d-0c89-41a2-8d9a-f65bab6119a8",
   "metadata": {},
   "outputs": [
    {
     "data": {
      "text/plain": [
       "[10, 11, 12, 13, 14]"
      ]
     },
     "execution_count": 128,
     "metadata": {},
     "output_type": "execute_result"
    }
   ],
   "source": [
    "list(itertools.islice(c, 5))"
   ]
  },
  {
   "cell_type": "code",
   "execution_count": 140,
   "id": "5752c2f3-9a87-4690-9598-dbecb6d8dbf3",
   "metadata": {},
   "outputs": [],
   "source": [
    "a_idx = np.index_exp[:, 0]"
   ]
  },
  {
   "cell_type": "code",
   "execution_count": 137,
   "id": "762e7512-4bb2-4679-84cd-f732eb0fc08d",
   "metadata": {},
   "outputs": [
    {
     "ename": "ValueError",
     "evalue": "The truth value of an array with more than one element is ambiguous. Use a.any() or a.all()",
     "output_type": "error",
     "traceback": [
      "\u001b[0;31m---------------------------------------------------------------------------\u001b[0m",
      "\u001b[0;31mValueError\u001b[0m                                Traceback (most recent call last)",
      "Cell \u001b[0;32mIn[137], line 1\u001b[0m\n\u001b[0;32m----> 1\u001b[0m \u001b[43ma_idx\u001b[49m\u001b[38;5;241;43m.\u001b[39;49m\u001b[43mcount\u001b[49m\u001b[43m(\u001b[49m\u001b[43mmat\u001b[49m\u001b[43m)\u001b[49m\n",
      "\u001b[0;31mValueError\u001b[0m: The truth value of an array with more than one element is ambiguous. Use a.any() or a.all()"
     ]
    }
   ],
   "source": [
    "a_idx.count(mat)"
   ]
  },
  {
   "cell_type": "code",
   "execution_count": 149,
   "id": "51492076-d21b-4a4d-8c23-96b657b66c1c",
   "metadata": {},
   "outputs": [
    {
     "data": {
      "text/plain": [
       "8"
      ]
     },
     "execution_count": 149,
     "metadata": {},
     "output_type": "execute_result"
    }
   ],
   "source": [
    "np.product(mat[a_idx].shape)"
   ]
  },
  {
   "cell_type": "code",
   "execution_count": null,
   "id": "8dbaa161-47a1-4c48-a5e8-0007cf6c5073",
   "metadata": {},
   "outputs": [],
   "source": []
  }
 ],
 "metadata": {
  "kernelspec": {
   "display_name": "Python 3 (ipykernel)",
   "language": "python",
   "name": "python3"
  },
  "language_info": {
   "codemirror_mode": {
    "name": "ipython",
    "version": 3
   },
   "file_extension": ".py",
   "mimetype": "text/x-python",
   "name": "python",
   "nbconvert_exporter": "python",
   "pygments_lexer": "ipython3",
   "version": "3.8.10"
  }
 },
 "nbformat": 4,
 "nbformat_minor": 5
}

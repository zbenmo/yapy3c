{
 "cells": [
  {
   "cell_type": "code",
   "execution_count": 31,
   "id": "5cd6ffbf-c702-447f-8363-37dd794a0ead",
   "metadata": {},
   "outputs": [],
   "source": [
    "from itertools import islice\n",
    "from pprint import pprint"
   ]
  },
  {
   "cell_type": "code",
   "execution_count": 2,
   "id": "537d6086-3581-469e-a475-bf3ceb8cf197",
   "metadata": {},
   "outputs": [
    {
     "name": "stdout",
     "output_type": "stream",
     "text": [
      "hello\n",
      "hello\n",
      "hello\n",
      "hello\n",
      "hello\n"
     ]
    }
   ],
   "source": [
    "for x in islice(range(1_000_000), 5):\n",
    "    print(\"hello\")"
   ]
  },
  {
   "cell_type": "code",
   "execution_count": 3,
   "id": "16265deb-48cd-45f2-abd1-4f937f125e0c",
   "metadata": {},
   "outputs": [],
   "source": [
    "from collections import defaultdict, Counter"
   ]
  },
  {
   "cell_type": "code",
   "execution_count": 4,
   "id": "7d639177-a6e7-4295-8ac9-48e6f9cd3bf6",
   "metadata": {},
   "outputs": [],
   "source": [
    "c = Counter(\"hello\")"
   ]
  },
  {
   "cell_type": "code",
   "execution_count": 5,
   "id": "bb846a7f-1337-469c-85d7-869fe795a3ac",
   "metadata": {},
   "outputs": [
    {
     "data": {
      "text/plain": [
       "Counter({'l': 2, 'h': 1, 'e': 1, 'o': 1})"
      ]
     },
     "execution_count": 5,
     "metadata": {},
     "output_type": "execute_result"
    }
   ],
   "source": [
    "c"
   ]
  },
  {
   "cell_type": "code",
   "execution_count": 6,
   "id": "ca93c28c-2db7-4a85-af5c-736351c08f69",
   "metadata": {},
   "outputs": [],
   "source": [
    "c.update(\"telegraph\")"
   ]
  },
  {
   "cell_type": "code",
   "execution_count": 7,
   "id": "b064d664-b05a-4058-bbc3-d6a56b2b3178",
   "metadata": {},
   "outputs": [
    {
     "data": {
      "text/plain": [
       "Counter({'e': 3,\n",
       "         'l': 3,\n",
       "         'h': 2,\n",
       "         'o': 1,\n",
       "         't': 1,\n",
       "         'g': 1,\n",
       "         'r': 1,\n",
       "         'a': 1,\n",
       "         'p': 1})"
      ]
     },
     "execution_count": 7,
     "metadata": {},
     "output_type": "execute_result"
    }
   ],
   "source": [
    "c"
   ]
  },
  {
   "cell_type": "code",
   "execution_count": 9,
   "id": "126947da-86d1-4faf-8daa-ee78dce2a23c",
   "metadata": {},
   "outputs": [
    {
     "data": {
      "text/plain": [
       "[('e', 3), ('l', 3), ('h', 2), ('o', 1)]"
      ]
     },
     "execution_count": 9,
     "metadata": {},
     "output_type": "execute_result"
    }
   ],
   "source": [
    "list(islice(c.most_common(), 4))"
   ]
  },
  {
   "cell_type": "code",
   "execution_count": 16,
   "id": "35867f51-5929-413f-99a4-4ed45313d13d",
   "metadata": {},
   "outputs": [],
   "source": [
    "from itertools import combinations, combinations_with_replacement"
   ]
  },
  {
   "cell_type": "code",
   "execution_count": 15,
   "id": "f60b07c4-c108-460b-bc5d-c5dc43934968",
   "metadata": {},
   "outputs": [
    {
     "data": {
      "text/plain": [
       "[]"
      ]
     },
     "execution_count": 15,
     "metadata": {},
     "output_type": "execute_result"
    }
   ],
   "source": [
    "list(combinations([1, 2, 3], 4))"
   ]
  },
  {
   "cell_type": "code",
   "execution_count": 17,
   "id": "7948b344-1185-454d-bc38-11019ccf7c3a",
   "metadata": {},
   "outputs": [
    {
     "data": {
      "text/plain": [
       "[(1, 1, 1, 1),\n",
       " (1, 1, 1, 2),\n",
       " (1, 1, 1, 3),\n",
       " (1, 1, 2, 2),\n",
       " (1, 1, 2, 3),\n",
       " (1, 1, 3, 3),\n",
       " (1, 2, 2, 2),\n",
       " (1, 2, 2, 3),\n",
       " (1, 2, 3, 3),\n",
       " (1, 3, 3, 3),\n",
       " (2, 2, 2, 2),\n",
       " (2, 2, 2, 3),\n",
       " (2, 2, 3, 3),\n",
       " (2, 3, 3, 3),\n",
       " (3, 3, 3, 3)]"
      ]
     },
     "execution_count": 17,
     "metadata": {},
     "output_type": "execute_result"
    }
   ],
   "source": [
    "list(combinations_with_replacement([1, 2, 3], 4))"
   ]
  },
  {
   "cell_type": "code",
   "execution_count": 19,
   "id": "939f8f74-0db6-438a-9dcb-9409b2719ce6",
   "metadata": {},
   "outputs": [],
   "source": [
    "from typing import Generator"
   ]
  },
  {
   "cell_type": "code",
   "execution_count": 29,
   "id": "2b67638e-523f-4209-bfa3-1b0390a84553",
   "metadata": {},
   "outputs": [],
   "source": [
    "def find_arrangements(num_workers=5, num_stations=3) -> Generator[tuple, None, None]:\n",
    "    for option in islice(combinations_with_replacement(range(num_stations), num_workers), None):\n",
    "        c = Counter(option)\n",
    "        yield tuple(c[i] for i in range(num_stations))"
   ]
  },
  {
   "cell_type": "code",
   "execution_count": 24,
   "id": "0897a141-2215-45b3-b976-f18b66cd0d13",
   "metadata": {},
   "outputs": [
    {
     "data": {
      "text/plain": [
       "<itertools.combinations_with_replacement at 0x7fa19160b560>"
      ]
     },
     "execution_count": 24,
     "metadata": {},
     "output_type": "execute_result"
    }
   ],
   "source": [
    "combinations_with_replacement([0, 1, 2], 5)"
   ]
  },
  {
   "cell_type": "code",
   "execution_count": 25,
   "id": "39434144-2c6f-44f0-85ec-145e7e647af1",
   "metadata": {},
   "outputs": [
    {
     "name": "stdout",
     "output_type": "stream",
     "text": [
      "Counter({0: 5})\n",
      "Counter({0: 4, 1: 1})\n"
     ]
    }
   ],
   "source": [
    "for option in islice(combinations_with_replacement([0, 1, 2], 5), 2):\n",
    "    c = Counter(option)\n",
    "    print(c)"
   ]
  },
  {
   "cell_type": "code",
   "execution_count": 26,
   "id": "7eaee442-ceba-48dc-8e79-8fcd2f797c25",
   "metadata": {},
   "outputs": [
    {
     "data": {
      "text/plain": [
       "[4, 1, 0]"
      ]
     },
     "execution_count": 26,
     "metadata": {},
     "output_type": "execute_result"
    }
   ],
   "source": [
    "[c[i] for i in range(3)]"
   ]
  },
  {
   "cell_type": "code",
   "execution_count": 32,
   "id": "4af372a5-c757-434f-b667-069f6f3dbcd5",
   "metadata": {},
   "outputs": [
    {
     "name": "stdout",
     "output_type": "stream",
     "text": [
      "[(5, 0, 0), (4, 1, 0), (4, 0, 1), (3, 2, 0), (3, 1, 1), (3, 0, 2), (2, 3, 0),\n",
      " (2, 2, 1), (2, 1, 2), (2, 0, 3), (1, 4, 0), (1, 3, 1), (1, 2, 2), (1, 1, 3),\n",
      " (1, 0, 4), (0, 5, 0), (0, 4, 1), (0, 3, 2), (0, 2, 3), (0, 1, 4), (0, 0, 5)]\n"
     ]
    }
   ],
   "source": [
    "pprint(list(find_arrangements()), compact=True)"
   ]
  },
  {
   "cell_type": "code",
   "execution_count": 37,
   "id": "62897903-87d8-4e27-a29d-0fe3250b2ffc",
   "metadata": {},
   "outputs": [],
   "source": [
    "lst = [\n",
    "    1,\n",
    "    2,\n",
    "    3,\n",
    "    4,\n",
    "]"
   ]
  },
  {
   "cell_type": "code",
   "execution_count": 38,
   "id": "43abc1b0-edcb-4e0a-b600-d5ff3004283a",
   "metadata": {},
   "outputs": [
    {
     "data": {
      "text/plain": [
       "[1, 2, 3, 4]"
      ]
     },
     "execution_count": 38,
     "metadata": {},
     "output_type": "execute_result"
    }
   ],
   "source": [
    "lst"
   ]
  },
  {
   "cell_type": "code",
   "execution_count": 39,
   "id": "35613974-f1d9-4480-8260-7f6a716e3b32",
   "metadata": {},
   "outputs": [],
   "source": [
    "import numpy as np"
   ]
  },
  {
   "cell_type": "code",
   "execution_count": 40,
   "id": "cf32dcc7-c9b2-4133-8af8-365db33f305d",
   "metadata": {},
   "outputs": [],
   "source": [
    "def myfunc(a, b):\n",
    "    \"Return a-b if a>b, otherwise return a+b\"\n",
    "    if a > b:\n",
    "        return a - b\n",
    "    else:\n",
    "        return a + b"
   ]
  },
  {
   "cell_type": "code",
   "execution_count": 41,
   "id": "044fd051-3c0a-426b-a596-75157fde03e1",
   "metadata": {},
   "outputs": [
    {
     "data": {
      "text/plain": [
       "4"
      ]
     },
     "execution_count": 41,
     "metadata": {},
     "output_type": "execute_result"
    }
   ],
   "source": [
    "myfunc(1, 3)"
   ]
  },
  {
   "cell_type": "code",
   "execution_count": 42,
   "id": "16656715-8abe-4b24-81da-8a9d9f8258db",
   "metadata": {},
   "outputs": [
    {
     "data": {
      "text/plain": [
       "2"
      ]
     },
     "execution_count": 42,
     "metadata": {},
     "output_type": "execute_result"
    }
   ],
   "source": [
    "myfunc(3, 1)"
   ]
  },
  {
   "cell_type": "code",
   "execution_count": 43,
   "id": "bb8516a4-ce58-44dc-a512-f6bfcde45d65",
   "metadata": {},
   "outputs": [],
   "source": [
    "vfunc = np.vectorize(myfunc)"
   ]
  },
  {
   "cell_type": "code",
   "execution_count": 44,
   "id": "a5e435a1-0dcf-46d5-87fa-8a7928510ba5",
   "metadata": {},
   "outputs": [
    {
     "data": {
      "text/plain": [
       "array([3, 4, 1, 2])"
      ]
     },
     "execution_count": 44,
     "metadata": {},
     "output_type": "execute_result"
    }
   ],
   "source": [
    "vfunc([1, 2, 3, 4], 2)"
   ]
  },
  {
   "cell_type": "code",
   "execution_count": 45,
   "id": "3258fee9-7996-4b98-a1aa-1d6fe4e82753",
   "metadata": {},
   "outputs": [
    {
     "name": "stdout",
     "output_type": "stream",
     "text": [
      "CPU times: user 1e+03 ns, sys: 1 µs, total: 2 µs\n",
      "Wall time: 3.58 µs\n"
     ]
    },
    {
     "data": {
      "text/plain": [
       "array([3, 4, 1, 2])"
      ]
     },
     "execution_count": 45,
     "metadata": {},
     "output_type": "execute_result"
    }
   ],
   "source": [
    "%time\n",
    "\n",
    "vfunc([1, 2, 3, 4], 2)"
   ]
  },
  {
   "cell_type": "code",
   "execution_count": 46,
   "id": "3f581c28-6acb-4adf-9eca-1374bf961041",
   "metadata": {},
   "outputs": [
    {
     "name": "stdout",
     "output_type": "stream",
     "text": [
      "4.31 µs ± 27.8 ns per loop (mean ± std. dev. of 7 runs, 100,000 loops each)\n"
     ]
    }
   ],
   "source": [
    "%%timeit\n",
    "\n",
    "vfunc([1, 2, 3, 4], 2)"
   ]
  },
  {
   "cell_type": "code",
   "execution_count": 47,
   "id": "b07133ec-53ac-4669-839b-c5a0f67adac9",
   "metadata": {},
   "outputs": [],
   "source": [
    "@np.vectorize\n",
    "def myfunc1(a, b):\n",
    "    \"Return a-b if a>b, otherwise return a+b\"\n",
    "    if a > b:\n",
    "        return a - b\n",
    "    else:\n",
    "        return a + b"
   ]
  },
  {
   "cell_type": "code",
   "execution_count": 48,
   "id": "48e6303d-58bf-4909-b1e9-4ffe27100ada",
   "metadata": {},
   "outputs": [
    {
     "name": "stdout",
     "output_type": "stream",
     "text": [
      "4.25 µs ± 65.5 ns per loop (mean ± std. dev. of 7 runs, 100,000 loops each)\n"
     ]
    }
   ],
   "source": [
    "%%timeit\n",
    "\n",
    "myfunc1([1, 2, 3, 4], 2)"
   ]
  },
  {
   "cell_type": "code",
   "execution_count": 49,
   "id": "053ec688-e66b-4d53-88af-1e28dc1ea598",
   "metadata": {},
   "outputs": [],
   "source": [
    "from typing import Callable"
   ]
  },
  {
   "cell_type": "code",
   "execution_count": 50,
   "id": "bd35a142-2340-4203-a8dd-821faa98f688",
   "metadata": {},
   "outputs": [],
   "source": [
    "def f1():\n",
    "    print(\"f1\")"
   ]
  },
  {
   "cell_type": "code",
   "execution_count": 51,
   "id": "3b8ed930-ffa4-470f-a8ae-0d0b234ebcb8",
   "metadata": {},
   "outputs": [
    {
     "name": "stdout",
     "output_type": "stream",
     "text": [
      "f1\n"
     ]
    }
   ],
   "source": [
    "f1()"
   ]
  },
  {
   "cell_type": "code",
   "execution_count": 55,
   "id": "33425a8c-755b-4433-a74b-4730a52094a8",
   "metadata": {},
   "outputs": [],
   "source": [
    "class MyClass:\n",
    "    def __call__(self):\n",
    "        print(\"MyClass\")"
   ]
  },
  {
   "cell_type": "code",
   "execution_count": 56,
   "id": "3422c169-d919-4fae-a096-42a72a3dac6d",
   "metadata": {},
   "outputs": [],
   "source": [
    "mci = MyClass()"
   ]
  },
  {
   "cell_type": "code",
   "execution_count": 57,
   "id": "1cb92656-2adc-44a0-ba18-d8c56c39d36b",
   "metadata": {},
   "outputs": [
    {
     "name": "stdout",
     "output_type": "stream",
     "text": [
      "MyClass\n"
     ]
    }
   ],
   "source": [
    "mci()"
   ]
  },
  {
   "cell_type": "code",
   "execution_count": 62,
   "id": "6960bea9-fe84-4005-a82a-ba770866c639",
   "metadata": {},
   "outputs": [],
   "source": [
    "def super_function(c: Callable):\n",
    "    print(c())"
   ]
  },
  {
   "cell_type": "code",
   "execution_count": 63,
   "id": "3282ac4d-a0d4-41b7-ad49-baefe9315dc6",
   "metadata": {},
   "outputs": [
    {
     "name": "stdout",
     "output_type": "stream",
     "text": [
      "f1\n",
      "None\n"
     ]
    }
   ],
   "source": [
    "super_function(f1)"
   ]
  },
  {
   "cell_type": "code",
   "execution_count": 64,
   "id": "e70ec630-1b3b-44c9-8b97-74623ad70737",
   "metadata": {},
   "outputs": [
    {
     "name": "stdout",
     "output_type": "stream",
     "text": [
      "MyClass\n",
      "None\n"
     ]
    }
   ],
   "source": [
    "super_function(mci)"
   ]
  },
  {
   "cell_type": "code",
   "execution_count": 65,
   "id": "eea44498-bb71-4713-92c2-0e8a33610aac",
   "metadata": {},
   "outputs": [
    {
     "name": "stdout",
     "output_type": "stream",
     "text": [
      "3\n"
     ]
    }
   ],
   "source": [
    "super_function(lambda: 3)"
   ]
  },
  {
   "cell_type": "code",
   "execution_count": 67,
   "id": "3ceb0c33-fd29-42d5-b2a1-b8fd76dc3a44",
   "metadata": {},
   "outputs": [],
   "source": [
    "def wrap_f(g):\n",
    "    def f():\n",
    "        return g() + 3\n",
    "    return f"
   ]
  },
  {
   "cell_type": "code",
   "execution_count": 68,
   "id": "0d5183c0-b233-49a9-99f4-55522654347f",
   "metadata": {},
   "outputs": [],
   "source": [
    "my_closure = wrap_f(lambda: 7)"
   ]
  },
  {
   "cell_type": "code",
   "execution_count": 69,
   "id": "5319faaf-a9c7-4be8-bc4c-780a04a554ca",
   "metadata": {},
   "outputs": [
    {
     "data": {
      "text/plain": [
       "10"
      ]
     },
     "execution_count": 69,
     "metadata": {},
     "output_type": "execute_result"
    }
   ],
   "source": [
    "my_closure()"
   ]
  },
  {
   "cell_type": "code",
   "execution_count": 70,
   "id": "b0da7575-8233-47a3-bcbd-6670a324855c",
   "metadata": {},
   "outputs": [
    {
     "name": "stdout",
     "output_type": "stream",
     "text": [
      "10\n"
     ]
    }
   ],
   "source": [
    "super_function(my_closure)"
   ]
  },
  {
   "cell_type": "code",
   "execution_count": 71,
   "id": "2b67b5e4-f6cb-4a21-afbb-40e0c26fc834",
   "metadata": {},
   "outputs": [
    {
     "data": {
      "text/plain": [
       "'bye'"
      ]
     },
     "execution_count": 71,
     "metadata": {},
     "output_type": "execute_result"
    }
   ],
   "source": [
    "'hello'\n",
    "'bye'"
   ]
  },
  {
   "cell_type": "code",
   "execution_count": 72,
   "id": "d2bb719a-0d41-4fda-a070-36c965ecb5de",
   "metadata": {},
   "outputs": [],
   "source": [
    "def f1(a: str):\n",
    "    print(a)"
   ]
  },
  {
   "cell_type": "code",
   "execution_count": 73,
   "id": "8458e7ad-2f43-413c-9a24-6c8f2f52c383",
   "metadata": {},
   "outputs": [
    {
     "name": "stdout",
     "output_type": "stream",
     "text": [
      "hellobye\n"
     ]
    }
   ],
   "source": [
    "f1('hello'\n",
    "   'bye')"
   ]
  },
  {
   "cell_type": "code",
   "execution_count": 75,
   "id": "41aaea4f-015b-4885-bc51-fb107383e316",
   "metadata": {},
   "outputs": [],
   "source": [
    "from tqdm import tqdm"
   ]
  },
  {
   "cell_type": "code",
   "execution_count": 77,
   "id": "c2421fe9-3b4d-4d3a-b0e8-02460b589587",
   "metadata": {},
   "outputs": [
    {
     "name": "stderr",
     "output_type": "stream",
     "text": [
      "100%|████████████████████████████████████████████████████████████████████| 1000000/1000000 [00:00<00:00, 8172781.19it/s]\n"
     ]
    }
   ],
   "source": [
    "for x in tqdm(range(1_000_000)):\n",
    "    a = 3"
   ]
  },
  {
   "cell_type": "code",
   "execution_count": 78,
   "id": "fc023479-170e-4825-a247-9788ddb449bc",
   "metadata": {},
   "outputs": [
    {
     "data": {
      "text/plain": [
       "['Callable',\n",
       " 'Counter',\n",
       " 'Generator',\n",
       " 'In',\n",
       " 'MyClass',\n",
       " 'Out',\n",
       " '_',\n",
       " '_12',\n",
       " '_13',\n",
       " '_14',\n",
       " '_15',\n",
       " '_17',\n",
       " '_21',\n",
       " '_22',\n",
       " '_23',\n",
       " '_24',\n",
       " '_26',\n",
       " '_28',\n",
       " '_30',\n",
       " '_34',\n",
       " '_36',\n",
       " '_38',\n",
       " '_41',\n",
       " '_42',\n",
       " '_44',\n",
       " '_45',\n",
       " '_5',\n",
       " '_69',\n",
       " '_7',\n",
       " '_71',\n",
       " '_8',\n",
       " '_9',\n",
       " '__',\n",
       " '___',\n",
       " '__builtin__',\n",
       " '__builtins__',\n",
       " '__doc__',\n",
       " '__loader__',\n",
       " '__name__',\n",
       " '__package__',\n",
       " '__session__',\n",
       " '__spec__',\n",
       " '_dh',\n",
       " '_i',\n",
       " '_i1',\n",
       " '_i10',\n",
       " '_i11',\n",
       " '_i12',\n",
       " '_i13',\n",
       " '_i14',\n",
       " '_i15',\n",
       " '_i16',\n",
       " '_i17',\n",
       " '_i18',\n",
       " '_i19',\n",
       " '_i2',\n",
       " '_i20',\n",
       " '_i21',\n",
       " '_i22',\n",
       " '_i23',\n",
       " '_i24',\n",
       " '_i25',\n",
       " '_i26',\n",
       " '_i27',\n",
       " '_i28',\n",
       " '_i29',\n",
       " '_i3',\n",
       " '_i30',\n",
       " '_i31',\n",
       " '_i32',\n",
       " '_i33',\n",
       " '_i34',\n",
       " '_i35',\n",
       " '_i36',\n",
       " '_i37',\n",
       " '_i38',\n",
       " '_i39',\n",
       " '_i4',\n",
       " '_i40',\n",
       " '_i41',\n",
       " '_i42',\n",
       " '_i43',\n",
       " '_i44',\n",
       " '_i45',\n",
       " '_i46',\n",
       " '_i47',\n",
       " '_i48',\n",
       " '_i49',\n",
       " '_i5',\n",
       " '_i50',\n",
       " '_i51',\n",
       " '_i52',\n",
       " '_i53',\n",
       " '_i54',\n",
       " '_i55',\n",
       " '_i56',\n",
       " '_i57',\n",
       " '_i58',\n",
       " '_i59',\n",
       " '_i6',\n",
       " '_i60',\n",
       " '_i61',\n",
       " '_i62',\n",
       " '_i63',\n",
       " '_i64',\n",
       " '_i65',\n",
       " '_i66',\n",
       " '_i67',\n",
       " '_i68',\n",
       " '_i69',\n",
       " '_i7',\n",
       " '_i70',\n",
       " '_i71',\n",
       " '_i72',\n",
       " '_i73',\n",
       " '_i74',\n",
       " '_i75',\n",
       " '_i76',\n",
       " '_i77',\n",
       " '_i78',\n",
       " '_i8',\n",
       " '_i9',\n",
       " '_ih',\n",
       " '_ii',\n",
       " '_iii',\n",
       " '_oh',\n",
       " 'a',\n",
       " 'c',\n",
       " 'combinations',\n",
       " 'combinations_with_replacement',\n",
       " 'defaultdict',\n",
       " 'exit',\n",
       " 'f1',\n",
       " 'find_arrangements',\n",
       " 'get_ipython',\n",
       " 'islice',\n",
       " 'lst',\n",
       " 'mci',\n",
       " 'my_closure',\n",
       " 'myfunc',\n",
       " 'myfunc1',\n",
       " 'np',\n",
       " 'open',\n",
       " 'option',\n",
       " 'pprint',\n",
       " 'quit',\n",
       " 'super_function',\n",
       " 'tqdm',\n",
       " 'vfunc',\n",
       " 'wrap_f',\n",
       " 'x']"
      ]
     },
     "execution_count": 78,
     "metadata": {},
     "output_type": "execute_result"
    }
   ],
   "source": [
    "dir()"
   ]
  },
  {
   "cell_type": "code",
   "execution_count": null,
   "id": "d27dbc00-f61b-4722-a227-8b073b93383e",
   "metadata": {},
   "outputs": [],
   "source": []
  }
 ],
 "metadata": {
  "kernelspec": {
   "display_name": "Python 3 (ipykernel)",
   "language": "python",
   "name": "python3"
  },
  "language_info": {
   "codemirror_mode": {
    "name": "ipython",
    "version": 3
   },
   "file_extension": ".py",
   "mimetype": "text/x-python",
   "name": "python",
   "nbconvert_exporter": "python",
   "pygments_lexer": "ipython3",
   "version": "3.10.6"
  }
 },
 "nbformat": 4,
 "nbformat_minor": 5
}

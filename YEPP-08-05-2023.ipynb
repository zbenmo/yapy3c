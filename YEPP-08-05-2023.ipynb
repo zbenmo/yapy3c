{
 "cells": [
  {
   "cell_type": "code",
   "execution_count": 1,
   "id": "990b7599-5570-48c9-8b28-4c97b1358a35",
   "metadata": {
    "tags": []
   },
   "outputs": [
    {
     "data": {
      "text/plain": [
       "3"
      ]
     },
     "execution_count": 1,
     "metadata": {},
     "output_type": "execute_result"
    }
   ],
   "source": [
    "1+2"
   ]
  },
  {
   "cell_type": "code",
   "execution_count": 2,
   "id": "880b2c4d-ea5c-4604-9388-ead4ff0d040e",
   "metadata": {
    "tags": []
   },
   "outputs": [],
   "source": [
    "l = ['l', 'o', 'd', 'a', 'g']"
   ]
  },
  {
   "cell_type": "code",
   "execution_count": 3,
   "id": "6c424af3-9e97-4dfe-a7c6-59e22f86d391",
   "metadata": {
    "tags": []
   },
   "outputs": [
    {
     "data": {
      "text/plain": [
       "['l', 'o', 'd', 'a', 'g']"
      ]
     },
     "execution_count": 3,
     "metadata": {},
     "output_type": "execute_result"
    }
   ],
   "source": [
    "l"
   ]
  },
  {
   "cell_type": "code",
   "execution_count": 4,
   "id": "6f631580-3163-4e5c-ad02-fc597db01761",
   "metadata": {
    "tags": []
   },
   "outputs": [
    {
     "data": {
      "text/plain": [
       "'lodag'"
      ]
     },
     "execution_count": 4,
     "metadata": {},
     "output_type": "execute_result"
    }
   ],
   "source": [
    "''.join(l)"
   ]
  },
  {
   "cell_type": "code",
   "execution_count": 5,
   "id": "4308aa51-adc9-4191-a29a-f8e678ad1a86",
   "metadata": {
    "tags": []
   },
   "outputs": [
    {
     "data": {
      "text/plain": [
       "int"
      ]
     },
     "execution_count": 5,
     "metadata": {},
     "output_type": "execute_result"
    }
   ],
   "source": [
    "type(3)"
   ]
  },
  {
   "cell_type": "code",
   "execution_count": 6,
   "id": "01cf7aa2-608c-4d2a-9da5-accfc898efa1",
   "metadata": {
    "tags": []
   },
   "outputs": [
    {
     "data": {
      "text/plain": [
       "type"
      ]
     },
     "execution_count": 6,
     "metadata": {},
     "output_type": "execute_result"
    }
   ],
   "source": [
    "type(int)"
   ]
  },
  {
   "cell_type": "code",
   "execution_count": 7,
   "id": "c0741d22-1f08-4c3b-b1b7-f36d83f602e8",
   "metadata": {
    "tags": []
   },
   "outputs": [
    {
     "data": {
      "text/plain": [
       "3"
      ]
     },
     "execution_count": 7,
     "metadata": {},
     "output_type": "execute_result"
    }
   ],
   "source": [
    "1\n",
    "2\n",
    "3"
   ]
  },
  {
   "cell_type": "code",
   "execution_count": 8,
   "id": "09c2ac61-d76f-4f95-a1a3-7f46955e9342",
   "metadata": {
    "tags": []
   },
   "outputs": [],
   "source": [
    "def deep_neural_network(how_deep):\n",
    "  \"\"\"\n",
    "  This function constructs a DNN based on your specification\n",
    "  Please take into consideration the benefits of a deep network,\n",
    "  versus the downsides.\n",
    "  \"\"\"\n",
    "\n",
    "  pass"
   ]
  },
  {
   "cell_type": "code",
   "execution_count": 9,
   "id": "a9b160f9-534c-4095-b8d0-44645ed1d187",
   "metadata": {
    "tags": []
   },
   "outputs": [
    {
     "data": {
      "text/plain": [
       "\u001b[0;31mSignature:\u001b[0m \u001b[0mdeep_neural_network\u001b[0m\u001b[0;34m(\u001b[0m\u001b[0mhow_deep\u001b[0m\u001b[0;34m)\u001b[0m\u001b[0;34m\u001b[0m\u001b[0;34m\u001b[0m\u001b[0m\n",
       "\u001b[0;31mDocstring:\u001b[0m\n",
       "This function constructs a DNN based on your specification\n",
       "Please take into consideration the benefits of a deep network,\n",
       "versus the downsides.\n",
       "\u001b[0;31mFile:\u001b[0m      /tmp/ipykernel_419/3854767696.py\n",
       "\u001b[0;31mType:\u001b[0m      function"
      ]
     },
     "metadata": {},
     "output_type": "display_data"
    }
   ],
   "source": [
    "deep_neural_network?"
   ]
  },
  {
   "cell_type": "code",
   "execution_count": 10,
   "id": "71bf916c-92a5-4791-8ab7-5e1958fb640a",
   "metadata": {
    "tags": []
   },
   "outputs": [
    {
     "name": "stdout",
     "output_type": "stream",
     "text": [
      "0) -> a\n",
      "1) -> b\n",
      "2) -> c\n"
     ]
    }
   ],
   "source": [
    "for i, ele in enumerate(\"abc\"):\n",
    "    print(f\"{i}) -> {ele}\")"
   ]
  },
  {
   "cell_type": "code",
   "execution_count": 11,
   "id": "6969cf8b-61cb-4bab-b8ca-487dc484a136",
   "metadata": {
    "tags": []
   },
   "outputs": [],
   "source": [
    "l = [1, 2, 3, 4, 1]"
   ]
  },
  {
   "cell_type": "code",
   "execution_count": 15,
   "id": "7a30d9ab-1fe8-4f2f-8b0d-8c2e4b7230a7",
   "metadata": {
    "tags": []
   },
   "outputs": [
    {
     "data": {
      "text/plain": [
       "[1, 2, 3, 4]"
      ]
     },
     "execution_count": 15,
     "metadata": {},
     "output_type": "execute_result"
    }
   ],
   "source": [
    "list(dict.fromkeys(l).keys())"
   ]
  },
  {
   "cell_type": "code",
   "execution_count": 16,
   "id": "79889e38-27a4-476b-b32f-c5c2dc76a661",
   "metadata": {
    "tags": []
   },
   "outputs": [],
   "source": [
    "def my_gen():\n",
    "    return\n",
    "    yield \"hello\""
   ]
  },
  {
   "cell_type": "code",
   "execution_count": 18,
   "id": "3b997560-dfce-4c8b-8c8e-7dd8b5b65291",
   "metadata": {
    "tags": []
   },
   "outputs": [
    {
     "data": {
      "text/plain": [
       "[]"
      ]
     },
     "execution_count": 18,
     "metadata": {},
     "output_type": "execute_result"
    }
   ],
   "source": [
    "list(my_gen())"
   ]
  },
  {
   "cell_type": "code",
   "execution_count": 24,
   "id": "254a68f7-e523-4771-b437-b842eabe9e8c",
   "metadata": {
    "tags": []
   },
   "outputs": [],
   "source": [
    "from collections import defaultdict"
   ]
  },
  {
   "cell_type": "code",
   "execution_count": 25,
   "id": "9b56c2a0-2ed3-4318-a760-fa585c18c86c",
   "metadata": {
    "tags": []
   },
   "outputs": [],
   "source": [
    "my_dict = defaultdict(list)"
   ]
  },
  {
   "cell_type": "code",
   "execution_count": 26,
   "id": "a19dc27f-fc09-47c2-af42-a85549f98967",
   "metadata": {
    "tags": []
   },
   "outputs": [
    {
     "data": {
      "text/plain": [
       "defaultdict(list, {})"
      ]
     },
     "execution_count": 26,
     "metadata": {},
     "output_type": "execute_result"
    }
   ],
   "source": [
    "my_dict"
   ]
  },
  {
   "cell_type": "code",
   "execution_count": 27,
   "id": "364883b2-c447-4c82-a8ef-00ef47400444",
   "metadata": {
    "tags": []
   },
   "outputs": [],
   "source": [
    "my_dict['entry1'].append(3)"
   ]
  },
  {
   "cell_type": "code",
   "execution_count": 28,
   "id": "d7f0fcaa-c6ab-4914-ac9a-42626501923f",
   "metadata": {
    "tags": []
   },
   "outputs": [
    {
     "data": {
      "text/plain": [
       "defaultdict(list, {'entry1': [3]})"
      ]
     },
     "execution_count": 28,
     "metadata": {},
     "output_type": "execute_result"
    }
   ],
   "source": [
    "my_dict"
   ]
  },
  {
   "cell_type": "code",
   "execution_count": 30,
   "id": "6beb48da-1942-468d-ba9f-0552e925b763",
   "metadata": {
    "tags": []
   },
   "outputs": [
    {
     "data": {
      "text/plain": [
       "'In, Out, _, _1, _13, _14, _15, _18, _22, _26, _28, _29, _3, _4, _5, _6, _7, __, ___, __builtin__, __builtins__, __doc__, __loader__, __name__, __package__, __session__, __spec__, _dh, _i, _i1, _i10, _i11, _i12, _i13, _i14, _i15, _i16, _i17, _i18, _i19, _i2, _i20, _i21, _i22, _i23, _i24, _i25, _i26, _i27, _i28, _i29, _i3, _i30, _i4, _i5, _i6, _i7, _i8, _i9, _ih, _ii, _iii, _oh, deep_neural_network, defaultdict, ele, exit, get_ipython, i, l, my_dict, my_gen, open, quit'"
      ]
     },
     "execution_count": 30,
     "metadata": {},
     "output_type": "execute_result"
    }
   ],
   "source": [
    "', '.join(dir())"
   ]
  },
  {
   "cell_type": "code",
   "execution_count": 31,
   "id": "42f95a94-d8b9-4a4b-9735-fab748434596",
   "metadata": {
    "tags": []
   },
   "outputs": [],
   "source": [
    "from itertools import permutations"
   ]
  },
  {
   "cell_type": "code",
   "execution_count": 32,
   "id": "1a72329d-eae5-4d7c-9f92-8be640117e80",
   "metadata": {
    "tags": []
   },
   "outputs": [
    {
     "data": {
      "text/plain": [
       "'In, Out, _, _1, _13, _14, _15, _18, _22, _26, _28, _29, _3, _30, _4, _5, _6, _7, __, ___, __builtin__, __builtins__, __doc__, __loader__, __name__, __package__, __session__, __spec__, _dh, _i, _i1, _i10, _i11, _i12, _i13, _i14, _i15, _i16, _i17, _i18, _i19, _i2, _i20, _i21, _i22, _i23, _i24, _i25, _i26, _i27, _i28, _i29, _i3, _i30, _i31, _i32, _i4, _i5, _i6, _i7, _i8, _i9, _ih, _ii, _iii, _oh, deep_neural_network, defaultdict, ele, exit, get_ipython, i, l, my_dict, my_gen, open, permutations, quit'"
      ]
     },
     "execution_count": 32,
     "metadata": {},
     "output_type": "execute_result"
    }
   ],
   "source": [
    "', '.join(dir())"
   ]
  },
  {
   "cell_type": "code",
   "execution_count": 33,
   "id": "44a7c7dd-c2ed-4e2b-bd25-03e1e6318a51",
   "metadata": {
    "tags": []
   },
   "outputs": [
    {
     "data": {
      "text/plain": [
       "type"
      ]
     },
     "execution_count": 33,
     "metadata": {},
     "output_type": "execute_result"
    }
   ],
   "source": [
    "type(permutations)"
   ]
  },
  {
   "cell_type": "code",
   "execution_count": 1,
   "id": "0b8ca7e6-a70b-495c-8f02-395b123dde7f",
   "metadata": {},
   "outputs": [],
   "source": [
    "class A:\n",
    "    a =3"
   ]
  },
  {
   "cell_type": "code",
   "execution_count": 2,
   "id": "5dd675c6-9562-49fb-94f6-1d186cf70fe7",
   "metadata": {
    "tags": []
   },
   "outputs": [],
   "source": [
    "a1 = A()\n",
    "a2 = A()"
   ]
  },
  {
   "cell_type": "code",
   "execution_count": 4,
   "id": "e91f138d-ed65-49fb-9a97-0645e6e2b5be",
   "metadata": {
    "tags": []
   },
   "outputs": [
    {
     "data": {
      "text/plain": [
       "3"
      ]
     },
     "execution_count": 4,
     "metadata": {},
     "output_type": "execute_result"
    }
   ],
   "source": [
    "a1.a"
   ]
  },
  {
   "cell_type": "code",
   "execution_count": 5,
   "id": "16a7647e-e03a-40e7-aeec-552496d52927",
   "metadata": {
    "tags": []
   },
   "outputs": [
    {
     "data": {
      "text/plain": [
       "3"
      ]
     },
     "execution_count": 5,
     "metadata": {},
     "output_type": "execute_result"
    }
   ],
   "source": [
    "a1.a"
   ]
  },
  {
   "cell_type": "code",
   "execution_count": 6,
   "id": "fa19da85-bd53-452f-8c58-41c5b5919962",
   "metadata": {
    "tags": []
   },
   "outputs": [],
   "source": [
    "a1.a =4"
   ]
  },
  {
   "cell_type": "code",
   "execution_count": 7,
   "id": "43904f0d-432a-4078-9637-a63c8970547e",
   "metadata": {
    "tags": []
   },
   "outputs": [
    {
     "data": {
      "text/plain": [
       "4"
      ]
     },
     "execution_count": 7,
     "metadata": {},
     "output_type": "execute_result"
    }
   ],
   "source": [
    "a1.a"
   ]
  },
  {
   "cell_type": "code",
   "execution_count": 8,
   "id": "c2ea48fc-e08e-431b-b09b-e4b25b86ba42",
   "metadata": {
    "tags": []
   },
   "outputs": [
    {
     "data": {
      "text/plain": [
       "3"
      ]
     },
     "execution_count": 8,
     "metadata": {},
     "output_type": "execute_result"
    }
   ],
   "source": [
    "a2.a"
   ]
  },
  {
   "cell_type": "code",
   "execution_count": 9,
   "id": "d5e0b21a-cd30-4f0c-aafc-6cce3e99b079",
   "metadata": {
    "tags": []
   },
   "outputs": [
    {
     "data": {
      "text/plain": [
       "{}"
      ]
     },
     "execution_count": 9,
     "metadata": {},
     "output_type": "execute_result"
    }
   ],
   "source": [
    "a2.__dict__"
   ]
  },
  {
   "cell_type": "code",
   "execution_count": 10,
   "id": "64c58165-4160-46cb-b78c-1dd17c6b8f08",
   "metadata": {
    "tags": []
   },
   "outputs": [
    {
     "data": {
      "text/plain": [
       "{'a': 4}"
      ]
     },
     "execution_count": 10,
     "metadata": {},
     "output_type": "execute_result"
    }
   ],
   "source": [
    "a1.__dict__"
   ]
  },
  {
   "cell_type": "code",
   "execution_count": null,
   "id": "22d63686-0437-47e6-8a44-a75ce58d303d",
   "metadata": {},
   "outputs": [],
   "source": []
  }
 ],
 "metadata": {
  "kernelspec": {
   "display_name": "Python 3 (ipykernel)",
   "language": "python",
   "name": "python3"
  },
  "language_info": {
   "codemirror_mode": {
    "name": "ipython",
    "version": 3
   },
   "file_extension": ".py",
   "mimetype": "text/x-python",
   "name": "python",
   "nbconvert_exporter": "python",
   "pygments_lexer": "ipython3",
   "version": "3.10.6"
  }
 },
 "nbformat": 4,
 "nbformat_minor": 5
}

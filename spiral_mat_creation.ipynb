{
 "cells": [
  {
   "cell_type": "code",
   "execution_count": 1,
   "id": "20203acf-5ccc-4462-816f-a565451fe273",
   "metadata": {},
   "outputs": [],
   "source": [
    "import numpy as np"
   ]
  },
  {
   "cell_type": "code",
   "execution_count": 2,
   "id": "38cea255-5cad-4424-afc2-8d6ab4cef1ec",
   "metadata": {},
   "outputs": [],
   "source": [
    "mat = np.array(range(36)).reshape(6, -1)"
   ]
  },
  {
   "cell_type": "code",
   "execution_count": 3,
   "id": "f6db5449-6b05-49f4-b756-99c2ab3fdf5e",
   "metadata": {},
   "outputs": [
    {
     "data": {
      "text/plain": [
       "array([[ 0,  1,  2,  3,  4,  5],\n",
       "       [ 6,  7,  8,  9, 10, 11],\n",
       "       [12, 13, 14, 15, 16, 17],\n",
       "       [18, 19, 20, 21, 22, 23],\n",
       "       [24, 25, 26, 27, 28, 29],\n",
       "       [30, 31, 32, 33, 34, 35]])"
      ]
     },
     "execution_count": 3,
     "metadata": {},
     "output_type": "execute_result"
    }
   ],
   "source": [
    "mat"
   ]
  },
  {
   "cell_type": "code",
   "execution_count": 81,
   "id": "504e30a8-c108-48d3-840d-ce1cd65a7591",
   "metadata": {},
   "outputs": [],
   "source": [
    "def spiral_mat(n: int):\n",
    "\n",
    "    def complete_mat(mat, contents):\n",
    "        # if len(contents) < 1:\n",
    "        #     return mat\n",
    "        rows, cols = mat.shape\n",
    "        new_content = np.array(contents[:cols]).reshape(1, -1)\n",
    "        new_mat = np.concatenate([\n",
    "            new_content,\n",
    "            mat\n",
    "        ])\n",
    "        if new_mat.shape == (n, n):\n",
    "            return new_mat\n",
    "        return complete_mat(np.rot90(new_mat), contents[cols:])\n",
    "    \n",
    "    contents = range(1, n * n)\n",
    "    mat = np.zeros((1, 1))\n",
    "    return complete_mat(mat, contents)"
   ]
  },
  {
   "cell_type": "code",
   "execution_count": 82,
   "id": "7da4c3b1-df76-4af5-a8fd-6d8ea1e54309",
   "metadata": {},
   "outputs": [
    {
     "data": {
      "text/plain": [
       "array([[42., 43., 44., 45., 46., 47., 48.],\n",
       "       [41., 20., 21., 22., 23., 24., 25.],\n",
       "       [40., 19.,  6.,  7.,  8.,  9., 26.],\n",
       "       [39., 18.,  5.,  0.,  1., 10., 27.],\n",
       "       [38., 17.,  4.,  3.,  2., 11., 28.],\n",
       "       [37., 16., 15., 14., 13., 12., 29.],\n",
       "       [36., 35., 34., 33., 32., 31., 30.]])"
      ]
     },
     "execution_count": 82,
     "metadata": {},
     "output_type": "execute_result"
    }
   ],
   "source": [
    "spiral_mat(7)"
   ]
  },
  {
   "cell_type": "code",
   "execution_count": null,
   "id": "81f9c645-9d4d-4d79-8368-24609a22517d",
   "metadata": {},
   "outputs": [],
   "source": []
  }
 ],
 "metadata": {
  "kernelspec": {
   "display_name": "Python 3 (ipykernel)",
   "language": "python",
   "name": "python3"
  },
  "language_info": {
   "codemirror_mode": {
    "name": "ipython",
    "version": 3
   },
   "file_extension": ".py",
   "mimetype": "text/x-python",
   "name": "python",
   "nbconvert_exporter": "python",
   "pygments_lexer": "ipython3",
   "version": "3.8.10"
  }
 },
 "nbformat": 4,
 "nbformat_minor": 5
}

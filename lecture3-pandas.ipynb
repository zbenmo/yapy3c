{
 "cells": [
  {
   "cell_type": "code",
   "execution_count": 1,
   "id": "b823c1f1-33dc-42ad-89c7-47e30571c095",
   "metadata": {},
   "outputs": [],
   "source": [
    "import pandas as pd\n",
    "import numpy as np\n",
    "import itertools"
   ]
  },
  {
   "cell_type": "code",
   "execution_count": 2,
   "id": "a2050ff7-4bbd-4e4d-a594-c00ff2011b4b",
   "metadata": {},
   "outputs": [],
   "source": [
    "from typing import Generator"
   ]
  },
  {
   "cell_type": "code",
   "execution_count": 3,
   "id": "191173e5-65de-4365-a1dc-0426de063f46",
   "metadata": {},
   "outputs": [],
   "source": [
    "c = itertools.count(10, 10)"
   ]
  },
  {
   "cell_type": "code",
   "execution_count": 4,
   "id": "e95f3923-2c23-4953-a8fc-a7c757b71bdc",
   "metadata": {},
   "outputs": [],
   "source": [
    "df = pd.DataFrame({\n",
    "    'a': [1, 2, 3, 4],\n",
    "    'b': range(4),\n",
    "    'c': iter('abdc'),\n",
    "    'd': (x for _, x in zip(range(4), c)),\n",
    "    'e': (x for _, x in zip(range(4), itertools.cycle('ABC'))),\n",
    "})"
   ]
  },
  {
   "cell_type": "code",
   "execution_count": 5,
   "id": "7f140915-8ffa-40ba-9354-e30b55495969",
   "metadata": {},
   "outputs": [
    {
     "data": {
      "text/html": [
       "<div>\n",
       "<style scoped>\n",
       "    .dataframe tbody tr th:only-of-type {\n",
       "        vertical-align: middle;\n",
       "    }\n",
       "\n",
       "    .dataframe tbody tr th {\n",
       "        vertical-align: top;\n",
       "    }\n",
       "\n",
       "    .dataframe thead th {\n",
       "        text-align: right;\n",
       "    }\n",
       "</style>\n",
       "<table border=\"1\" class=\"dataframe\">\n",
       "  <thead>\n",
       "    <tr style=\"text-align: right;\">\n",
       "      <th></th>\n",
       "      <th>a</th>\n",
       "      <th>b</th>\n",
       "      <th>c</th>\n",
       "      <th>d</th>\n",
       "      <th>e</th>\n",
       "    </tr>\n",
       "  </thead>\n",
       "  <tbody>\n",
       "    <tr>\n",
       "      <th>0</th>\n",
       "      <td>1</td>\n",
       "      <td>0</td>\n",
       "      <td>a</td>\n",
       "      <td>10</td>\n",
       "      <td>A</td>\n",
       "    </tr>\n",
       "    <tr>\n",
       "      <th>1</th>\n",
       "      <td>2</td>\n",
       "      <td>1</td>\n",
       "      <td>b</td>\n",
       "      <td>20</td>\n",
       "      <td>B</td>\n",
       "    </tr>\n",
       "    <tr>\n",
       "      <th>2</th>\n",
       "      <td>3</td>\n",
       "      <td>2</td>\n",
       "      <td>d</td>\n",
       "      <td>30</td>\n",
       "      <td>C</td>\n",
       "    </tr>\n",
       "    <tr>\n",
       "      <th>3</th>\n",
       "      <td>4</td>\n",
       "      <td>3</td>\n",
       "      <td>c</td>\n",
       "      <td>40</td>\n",
       "      <td>A</td>\n",
       "    </tr>\n",
       "  </tbody>\n",
       "</table>\n",
       "</div>"
      ],
      "text/plain": [
       "   a  b  c   d  e\n",
       "0  1  0  a  10  A\n",
       "1  2  1  b  20  B\n",
       "2  3  2  d  30  C\n",
       "3  4  3  c  40  A"
      ]
     },
     "execution_count": 5,
     "metadata": {},
     "output_type": "execute_result"
    }
   ],
   "source": [
    "df"
   ]
  },
  {
   "cell_type": "code",
   "execution_count": 6,
   "id": "dfa2f14c-60ae-47f1-b7fd-469dbb72a676",
   "metadata": {},
   "outputs": [
    {
     "data": {
      "image/png": "[encoded data removed]",
      "text/plain": [
       "<Figure size 640x480 with 1 Axes>"
      ]
     },
     "metadata": {},
     "output_type": "display_data"
    }
   ],
   "source": [
    "df.assign(\n",
    "    f=lambda d: d.a + d.b,\n",
    "    g=lambda d: d.a * d.b,\n",
    "    h=lambda d: d.g - d.f,\n",
    ")['h'].plot();"
   ]
  },
  {
   "cell_type": "code",
   "execution_count": 7,
   "id": "057fa655-a4f4-40e2-b123-cb090fd2d7b3",
   "metadata": {},
   "outputs": [
    {
     "name": "stdout",
     "output_type": "stream",
     "text": [
      "   a  b  c   d  e\n",
      "0  1  0  a  10  A\n",
      "1  2  1  b  20  B\n",
      "2  3  2  d  30  C\n",
      "3  4  3  c  40  A\n"
     ]
    }
   ],
   "source": [
    "print(df)"
   ]
  },
  {
   "cell_type": "code",
   "execution_count": 8,
   "id": "080fc591-a270-426f-9a8e-fdc97310c58d",
   "metadata": {},
   "outputs": [
    {
     "data": {
      "text/plain": [
       "50"
      ]
     },
     "execution_count": 8,
     "metadata": {},
     "output_type": "execute_result"
    }
   ],
   "source": [
    "next(c)"
   ]
  },
  {
   "cell_type": "code",
   "execution_count": 9,
   "id": "d51265dd-679c-4b6c-ac77-27fcd5ec5fa5",
   "metadata": {},
   "outputs": [],
   "source": [
    "df2 = pd.DataFrame(np.random.rand(2000).reshape(1000, -1), columns = ['x', 'y'])"
   ]
  },
  {
   "cell_type": "code",
   "execution_count": 10,
   "id": "edb28c20-4950-4de9-be8e-3ed921c71a32",
   "metadata": {},
   "outputs": [
    {
     "data": {
      "text/plain": [
       "(1000, 2)"
      ]
     },
     "execution_count": 10,
     "metadata": {},
     "output_type": "execute_result"
    }
   ],
   "source": [
    "df2.shape"
   ]
  },
  {
   "cell_type": "code",
   "execution_count": 11,
   "id": "95d82027-9643-458c-bdaf-fee7f42a9f31",
   "metadata": {},
   "outputs": [
    {
     "data": {
      "text/html": [
       "<div>\n",
       "<style scoped>\n",
       "    .dataframe tbody tr th:only-of-type {\n",
       "        vertical-align: middle;\n",
       "    }\n",
       "\n",
       "    .dataframe tbody tr th {\n",
       "        vertical-align: top;\n",
       "    }\n",
       "\n",
       "    .dataframe thead th {\n",
       "        text-align: right;\n",
       "    }\n",
       "</style>\n",
       "<table border=\"1\" class=\"dataframe\">\n",
       "  <thead>\n",
       "    <tr style=\"text-align: right;\">\n",
       "      <th></th>\n",
       "      <th>x</th>\n",
       "      <th>y</th>\n",
       "    </tr>\n",
       "  </thead>\n",
       "  <tbody>\n",
       "    <tr>\n",
       "      <th>0</th>\n",
       "      <td>0.787826</td>\n",
       "      <td>0.839019</td>\n",
       "    </tr>\n",
       "    <tr>\n",
       "      <th>1</th>\n",
       "      <td>0.030616</td>\n",
       "      <td>0.235700</td>\n",
       "    </tr>\n",
       "    <tr>\n",
       "      <th>2</th>\n",
       "      <td>0.982241</td>\n",
       "      <td>0.080019</td>\n",
       "    </tr>\n",
       "    <tr>\n",
       "      <th>3</th>\n",
       "      <td>0.046172</td>\n",
       "      <td>0.131130</td>\n",
       "    </tr>\n",
       "    <tr>\n",
       "      <th>4</th>\n",
       "      <td>0.760451</td>\n",
       "      <td>0.122259</td>\n",
       "    </tr>\n",
       "  </tbody>\n",
       "</table>\n",
       "</div>"
      ],
      "text/plain": [
       "          x         y\n",
       "0  0.787826  0.839019\n",
       "1  0.030616  0.235700\n",
       "2  0.982241  0.080019\n",
       "3  0.046172  0.131130\n",
       "4  0.760451  0.122259"
      ]
     },
     "execution_count": 11,
     "metadata": {},
     "output_type": "execute_result"
    }
   ],
   "source": [
    "df2.head()"
   ]
  },
  {
   "cell_type": "code",
   "execution_count": 12,
   "id": "57b5f3e2-952f-4a62-a887-1095cccd78e9",
   "metadata": {},
   "outputs": [
    {
     "data": {
      "text/plain": [
       "<Axes: xlabel='x', ylabel='y'>"
      ]
     },
     "execution_count": 12,
     "metadata": {},
     "output_type": "execute_result"
    },
    {
     "data": {
      "image/png": "[encoded data removed]",
      "text/plain": [
       "<Figure size 640x480 with 1 Axes>"
      ]
     },
     "metadata": {},
     "output_type": "display_data"
    }
   ],
   "source": [
    "(\n",
    "    df2.\n",
    "    loc[lambda d: d['x'] ** 2 + d['y'] ** 2 <= 1].\n",
    "    plot(kind='scatter', x='x', y='y')\n",
    ")"
   ]
  },
  {
   "cell_type": "code",
   "execution_count": 13,
   "id": "103230d8-77bd-479c-a973-1213f22ad48a",
   "metadata": {},
   "outputs": [],
   "source": [
    "import matplotlib.pyplot as plt "
   ]
  },
  {
   "cell_type": "code",
   "execution_count": 14,
   "id": "69be3060-af34-4909-aeb8-a450a792ac1f",
   "metadata": {},
   "outputs": [],
   "source": [
    "df2_1 = (\n",
    "    df2\n",
    "    .assign(\n",
    "        square_dist=lambda d: d['x'] ** 2 + d['y'] ** 2,\n",
    "        in_circle=lambda d: d.square_dist <= 1,\n",
    "    )\n",
    ")"
   ]
  },
  {
   "cell_type": "code",
   "execution_count": 15,
   "id": "0e206a85-61f8-4444-b879-1e69f3b424ba",
   "metadata": {},
   "outputs": [
    {
     "data": {
      "text/html": [
       "<div>\n",
       "<style scoped>\n",
       "    .dataframe tbody tr th:only-of-type {\n",
       "        vertical-align: middle;\n",
       "    }\n",
       "\n",
       "    .dataframe tbody tr th {\n",
       "        vertical-align: top;\n",
       "    }\n",
       "\n",
       "    .dataframe thead th {\n",
       "        text-align: right;\n",
       "    }\n",
       "</style>\n",
       "<table border=\"1\" class=\"dataframe\">\n",
       "  <thead>\n",
       "    <tr style=\"text-align: right;\">\n",
       "      <th></th>\n",
       "      <th>x</th>\n",
       "      <th>y</th>\n",
       "      <th>square_dist</th>\n",
       "      <th>in_circle</th>\n",
       "    </tr>\n",
       "  </thead>\n",
       "  <tbody>\n",
       "    <tr>\n",
       "      <th>0</th>\n",
       "      <td>0.787826</td>\n",
       "      <td>0.839019</td>\n",
       "      <td>1.324624</td>\n",
       "      <td>False</td>\n",
       "    </tr>\n",
       "    <tr>\n",
       "      <th>1</th>\n",
       "      <td>0.030616</td>\n",
       "      <td>0.235700</td>\n",
       "      <td>0.056492</td>\n",
       "      <td>True</td>\n",
       "    </tr>\n",
       "    <tr>\n",
       "      <th>2</th>\n",
       "      <td>0.982241</td>\n",
       "      <td>0.080019</td>\n",
       "      <td>0.971200</td>\n",
       "      <td>True</td>\n",
       "    </tr>\n",
       "    <tr>\n",
       "      <th>3</th>\n",
       "      <td>0.046172</td>\n",
       "      <td>0.131130</td>\n",
       "      <td>0.019327</td>\n",
       "      <td>True</td>\n",
       "    </tr>\n",
       "    <tr>\n",
       "      <th>4</th>\n",
       "      <td>0.760451</td>\n",
       "      <td>0.122259</td>\n",
       "      <td>0.593234</td>\n",
       "      <td>True</td>\n",
       "    </tr>\n",
       "  </tbody>\n",
       "</table>\n",
       "</div>"
      ],
      "text/plain": [
       "          x         y  square_dist  in_circle\n",
       "0  0.787826  0.839019     1.324624      False\n",
       "1  0.030616  0.235700     0.056492       True\n",
       "2  0.982241  0.080019     0.971200       True\n",
       "3  0.046172  0.131130     0.019327       True\n",
       "4  0.760451  0.122259     0.593234       True"
      ]
     },
     "execution_count": 15,
     "metadata": {},
     "output_type": "execute_result"
    }
   ],
   "source": [
    "df2_1.head()"
   ]
  },
  {
   "cell_type": "code",
   "execution_count": 16,
   "id": "4c2e22eb-4d56-4492-8804-a3ace59bbfed",
   "metadata": {},
   "outputs": [
    {
     "data": {
      "image/png": "[encoded data removed]",
      "text/plain": [
       "<Figure size 640x480 with 1 Axes>"
      ]
     },
     "metadata": {},
     "output_type": "display_data"
    }
   ],
   "source": [
    "ax = (\n",
    "    df2_1\n",
    "    .loc[df2_1.in_circle]\n",
    "    .plot(kind='scatter', x='x', y='y', color='blue')\n",
    ")\n",
    "(\n",
    "    df2_1\n",
    "    .loc[~df2_1.in_circle]\n",
    "    .plot(kind='scatter', x='x', y='y', color='red', ax=ax)\n",
    ")\n",
    "plt.show()"
   ]
  },
  {
   "cell_type": "code",
   "execution_count": 17,
   "id": "6e416b65-7f69-460a-a225-60aff33cb311",
   "metadata": {},
   "outputs": [
    {
     "data": {
      "text/plain": [
       "781"
      ]
     },
     "execution_count": 17,
     "metadata": {},
     "output_type": "execute_result"
    }
   ],
   "source": [
    "(\n",
    "    df2\n",
    "    .loc[lambda d: d['x'] ** 2 + d['y'] ** 2 <= 1]\n",
    "    # plot(kind='scatter', x='x', y='y')\n",
    "    .shape[0]\n",
    ")"
   ]
  },
  {
   "cell_type": "code",
   "execution_count": 18,
   "id": "5ccc2941-1f0f-49d6-9d3d-e4e9a0806343",
   "metadata": {},
   "outputs": [
    {
     "data": {
      "text/plain": [
       "3.108"
      ]
     },
     "execution_count": 18,
     "metadata": {},
     "output_type": "execute_result"
    }
   ],
   "source": [
    "777 / df2.shape[0] * 4"
   ]
  },
  {
   "cell_type": "code",
   "execution_count": 19,
   "id": "ab24dbe5-758a-43aa-b36c-d3f31f8b4f9e",
   "metadata": {},
   "outputs": [],
   "source": [
    "def all_words() -> Generator[tuple, None, None]:\n",
    "    for paragraph in range(6):\n",
    "        for line in range(20):\n",
    "            for word_ind in range(8):\n",
    "                word = np.random.choice(\"hello to you cruel world. What are we eating today?\".split())\n",
    "                yield word, paragraph, line, word_ind "
   ]
  },
  {
   "cell_type": "code",
   "execution_count": 20,
   "id": "a7726dd8-b4b2-4875-b9da-56c0440852cd",
   "metadata": {},
   "outputs": [],
   "source": [
    "df3 = pd.DataFrame.from_records(all_words(), columns=['word', 'paragraph', 'line', 'word_ind'])"
   ]
  },
  {
   "cell_type": "code",
   "execution_count": 21,
   "id": "839bc8ea-63bf-49f6-a37c-7daf330f21ed",
   "metadata": {},
   "outputs": [
    {
     "data": {
      "text/plain": [
       "(960, 4)"
      ]
     },
     "execution_count": 21,
     "metadata": {},
     "output_type": "execute_result"
    }
   ],
   "source": [
    "df3.shape"
   ]
  },
  {
   "cell_type": "code",
   "execution_count": 22,
   "id": "2b561640-1d6e-4188-a7b7-ce6bb5a996cd",
   "metadata": {},
   "outputs": [
    {
     "data": {
      "text/html": [
       "<div>\n",
       "<style scoped>\n",
       "    .dataframe tbody tr th:only-of-type {\n",
       "        vertical-align: middle;\n",
       "    }\n",
       "\n",
       "    .dataframe tbody tr th {\n",
       "        vertical-align: top;\n",
       "    }\n",
       "\n",
       "    .dataframe thead th {\n",
       "        text-align: right;\n",
       "    }\n",
       "</style>\n",
       "<table border=\"1\" class=\"dataframe\">\n",
       "  <thead>\n",
       "    <tr style=\"text-align: right;\">\n",
       "      <th></th>\n",
       "      <th>word</th>\n",
       "      <th>paragraph</th>\n",
       "      <th>line</th>\n",
       "      <th>word_ind</th>\n",
       "    </tr>\n",
       "  </thead>\n",
       "  <tbody>\n",
       "    <tr>\n",
       "      <th>0</th>\n",
       "      <td>What</td>\n",
       "      <td>0</td>\n",
       "      <td>0</td>\n",
       "      <td>0</td>\n",
       "    </tr>\n",
       "    <tr>\n",
       "      <th>1</th>\n",
       "      <td>eating</td>\n",
       "      <td>0</td>\n",
       "      <td>0</td>\n",
       "      <td>1</td>\n",
       "    </tr>\n",
       "    <tr>\n",
       "      <th>2</th>\n",
       "      <td>today?</td>\n",
       "      <td>0</td>\n",
       "      <td>0</td>\n",
       "      <td>2</td>\n",
       "    </tr>\n",
       "    <tr>\n",
       "      <th>3</th>\n",
       "      <td>What</td>\n",
       "      <td>0</td>\n",
       "      <td>0</td>\n",
       "      <td>3</td>\n",
       "    </tr>\n",
       "    <tr>\n",
       "      <th>4</th>\n",
       "      <td>are</td>\n",
       "      <td>0</td>\n",
       "      <td>0</td>\n",
       "      <td>4</td>\n",
       "    </tr>\n",
       "    <tr>\n",
       "      <th>5</th>\n",
       "      <td>world.</td>\n",
       "      <td>0</td>\n",
       "      <td>0</td>\n",
       "      <td>5</td>\n",
       "    </tr>\n",
       "    <tr>\n",
       "      <th>6</th>\n",
       "      <td>we</td>\n",
       "      <td>0</td>\n",
       "      <td>0</td>\n",
       "      <td>6</td>\n",
       "    </tr>\n",
       "    <tr>\n",
       "      <th>7</th>\n",
       "      <td>we</td>\n",
       "      <td>0</td>\n",
       "      <td>0</td>\n",
       "      <td>7</td>\n",
       "    </tr>\n",
       "    <tr>\n",
       "      <th>8</th>\n",
       "      <td>hello</td>\n",
       "      <td>0</td>\n",
       "      <td>1</td>\n",
       "      <td>0</td>\n",
       "    </tr>\n",
       "    <tr>\n",
       "      <th>9</th>\n",
       "      <td>world.</td>\n",
       "      <td>0</td>\n",
       "      <td>1</td>\n",
       "      <td>1</td>\n",
       "    </tr>\n",
       "    <tr>\n",
       "      <th>10</th>\n",
       "      <td>world.</td>\n",
       "      <td>0</td>\n",
       "      <td>1</td>\n",
       "      <td>2</td>\n",
       "    </tr>\n",
       "    <tr>\n",
       "      <th>11</th>\n",
       "      <td>to</td>\n",
       "      <td>0</td>\n",
       "      <td>1</td>\n",
       "      <td>3</td>\n",
       "    </tr>\n",
       "    <tr>\n",
       "      <th>12</th>\n",
       "      <td>What</td>\n",
       "      <td>0</td>\n",
       "      <td>1</td>\n",
       "      <td>4</td>\n",
       "    </tr>\n",
       "    <tr>\n",
       "      <th>13</th>\n",
       "      <td>hello</td>\n",
       "      <td>0</td>\n",
       "      <td>1</td>\n",
       "      <td>5</td>\n",
       "    </tr>\n",
       "    <tr>\n",
       "      <th>14</th>\n",
       "      <td>today?</td>\n",
       "      <td>0</td>\n",
       "      <td>1</td>\n",
       "      <td>6</td>\n",
       "    </tr>\n",
       "    <tr>\n",
       "      <th>15</th>\n",
       "      <td>are</td>\n",
       "      <td>0</td>\n",
       "      <td>1</td>\n",
       "      <td>7</td>\n",
       "    </tr>\n",
       "    <tr>\n",
       "      <th>16</th>\n",
       "      <td>you</td>\n",
       "      <td>0</td>\n",
       "      <td>2</td>\n",
       "      <td>0</td>\n",
       "    </tr>\n",
       "    <tr>\n",
       "      <th>17</th>\n",
       "      <td>eating</td>\n",
       "      <td>0</td>\n",
       "      <td>2</td>\n",
       "      <td>1</td>\n",
       "    </tr>\n",
       "    <tr>\n",
       "      <th>18</th>\n",
       "      <td>hello</td>\n",
       "      <td>0</td>\n",
       "      <td>2</td>\n",
       "      <td>2</td>\n",
       "    </tr>\n",
       "    <tr>\n",
       "      <th>19</th>\n",
       "      <td>world.</td>\n",
       "      <td>0</td>\n",
       "      <td>2</td>\n",
       "      <td>3</td>\n",
       "    </tr>\n",
       "  </tbody>\n",
       "</table>\n",
       "</div>"
      ],
      "text/plain": [
       "      word  paragraph  line  word_ind\n",
       "0     What          0     0         0\n",
       "1   eating          0     0         1\n",
       "2   today?          0     0         2\n",
       "3     What          0     0         3\n",
       "4      are          0     0         4\n",
       "5   world.          0     0         5\n",
       "6       we          0     0         6\n",
       "7       we          0     0         7\n",
       "8    hello          0     1         0\n",
       "9   world.          0     1         1\n",
       "10  world.          0     1         2\n",
       "11      to          0     1         3\n",
       "12    What          0     1         4\n",
       "13   hello          0     1         5\n",
       "14  today?          0     1         6\n",
       "15     are          0     1         7\n",
       "16     you          0     2         0\n",
       "17  eating          0     2         1\n",
       "18   hello          0     2         2\n",
       "19  world.          0     2         3"
      ]
     },
     "execution_count": 22,
     "metadata": {},
     "output_type": "execute_result"
    }
   ],
   "source": [
    "df3.head(20)"
   ]
  },
  {
   "cell_type": "code",
   "execution_count": 23,
   "id": "f0cd45cf-078c-4a55-8004-9a8dd9da00bc",
   "metadata": {},
   "outputs": [
    {
     "data": {
      "text/html": [
       "<div>\n",
       "<style scoped>\n",
       "    .dataframe tbody tr th:only-of-type {\n",
       "        vertical-align: middle;\n",
       "    }\n",
       "\n",
       "    .dataframe tbody tr th {\n",
       "        vertical-align: top;\n",
       "    }\n",
       "\n",
       "    .dataframe thead th {\n",
       "        text-align: right;\n",
       "    }\n",
       "</style>\n",
       "<table border=\"1\" class=\"dataframe\">\n",
       "  <thead>\n",
       "    <tr style=\"text-align: right;\">\n",
       "      <th></th>\n",
       "      <th>word</th>\n",
       "      <th>paragraph</th>\n",
       "      <th>line</th>\n",
       "      <th>word_ind</th>\n",
       "    </tr>\n",
       "  </thead>\n",
       "  <tbody>\n",
       "    <tr>\n",
       "      <th>16</th>\n",
       "      <td>you</td>\n",
       "      <td>0</td>\n",
       "      <td>2</td>\n",
       "      <td>0</td>\n",
       "    </tr>\n",
       "    <tr>\n",
       "      <th>26</th>\n",
       "      <td>you</td>\n",
       "      <td>0</td>\n",
       "      <td>3</td>\n",
       "      <td>2</td>\n",
       "    </tr>\n",
       "    <tr>\n",
       "      <th>29</th>\n",
       "      <td>you</td>\n",
       "      <td>0</td>\n",
       "      <td>3</td>\n",
       "      <td>5</td>\n",
       "    </tr>\n",
       "    <tr>\n",
       "      <th>51</th>\n",
       "      <td>you</td>\n",
       "      <td>0</td>\n",
       "      <td>6</td>\n",
       "      <td>3</td>\n",
       "    </tr>\n",
       "    <tr>\n",
       "      <th>58</th>\n",
       "      <td>you</td>\n",
       "      <td>0</td>\n",
       "      <td>7</td>\n",
       "      <td>2</td>\n",
       "    </tr>\n",
       "    <tr>\n",
       "      <th>...</th>\n",
       "      <td>...</td>\n",
       "      <td>...</td>\n",
       "      <td>...</td>\n",
       "      <td>...</td>\n",
       "    </tr>\n",
       "    <tr>\n",
       "      <th>925</th>\n",
       "      <td>you</td>\n",
       "      <td>5</td>\n",
       "      <td>15</td>\n",
       "      <td>5</td>\n",
       "    </tr>\n",
       "    <tr>\n",
       "      <th>934</th>\n",
       "      <td>you</td>\n",
       "      <td>5</td>\n",
       "      <td>16</td>\n",
       "      <td>6</td>\n",
       "    </tr>\n",
       "    <tr>\n",
       "      <th>948</th>\n",
       "      <td>you</td>\n",
       "      <td>5</td>\n",
       "      <td>18</td>\n",
       "      <td>4</td>\n",
       "    </tr>\n",
       "    <tr>\n",
       "      <th>950</th>\n",
       "      <td>you</td>\n",
       "      <td>5</td>\n",
       "      <td>18</td>\n",
       "      <td>6</td>\n",
       "    </tr>\n",
       "    <tr>\n",
       "      <th>959</th>\n",
       "      <td>you</td>\n",
       "      <td>5</td>\n",
       "      <td>19</td>\n",
       "      <td>7</td>\n",
       "    </tr>\n",
       "  </tbody>\n",
       "</table>\n",
       "<p>102 rows × 4 columns</p>\n",
       "</div>"
      ],
      "text/plain": [
       "    word  paragraph  line  word_ind\n",
       "16   you          0     2         0\n",
       "26   you          0     3         2\n",
       "29   you          0     3         5\n",
       "51   you          0     6         3\n",
       "58   you          0     7         2\n",
       "..   ...        ...   ...       ...\n",
       "925  you          5    15         5\n",
       "934  you          5    16         6\n",
       "948  you          5    18         4\n",
       "950  you          5    18         6\n",
       "959  you          5    19         7\n",
       "\n",
       "[102 rows x 4 columns]"
      ]
     },
     "execution_count": 23,
     "metadata": {},
     "output_type": "execute_result"
    }
   ],
   "source": [
    "(\n",
    "    df3.\n",
    "    query(\"word=='you'\")\n",
    ")"
   ]
  },
  {
   "cell_type": "code",
   "execution_count": 24,
   "id": "f794abf3-bf11-4dfc-a5f8-43b7551408ee",
   "metadata": {
    "scrolled": true
   },
   "outputs": [
    {
     "data": {
      "text/plain": [
       "[(0, 2, 0),\n",
       " (0, 3, 2),\n",
       " (0, 3, 5),\n",
       " (0, 6, 3),\n",
       " (0, 7, 2),\n",
       " (0, 7, 5),\n",
       " (0, 10, 0),\n",
       " (0, 10, 5),\n",
       " (0, 10, 6),\n",
       " (0, 15, 0),\n",
       " (0, 15, 4),\n",
       " (0, 17, 0),\n",
       " (0, 17, 2),\n",
       " (0, 17, 4),\n",
       " (0, 18, 1),\n",
       " (0, 19, 5),\n",
       " (1, 0, 2),\n",
       " (1, 0, 6),\n",
       " (1, 1, 1),\n",
       " (1, 1, 2),\n",
       " (1, 3, 6),\n",
       " (1, 4, 3),\n",
       " (1, 5, 3),\n",
       " (1, 5, 4),\n",
       " (1, 7, 2),\n",
       " (1, 8, 6),\n",
       " (1, 12, 1),\n",
       " (1, 12, 7),\n",
       " (1, 13, 1),\n",
       " (1, 13, 7),\n",
       " (1, 14, 2),\n",
       " (1, 14, 4),\n",
       " (1, 15, 0),\n",
       " (1, 17, 5),\n",
       " (1, 17, 6),\n",
       " (1, 18, 1),\n",
       " (1, 19, 1),\n",
       " (1, 19, 6),\n",
       " (2, 4, 0),\n",
       " (2, 4, 6),\n",
       " (2, 7, 4),\n",
       " (2, 8, 6),\n",
       " (2, 9, 5),\n",
       " (2, 10, 2),\n",
       " (2, 10, 5),\n",
       " (2, 12, 2),\n",
       " (2, 14, 0),\n",
       " (2, 14, 6),\n",
       " (2, 15, 4),\n",
       " (2, 19, 0),\n",
       " (2, 19, 6),\n",
       " (3, 0, 0),\n",
       " (3, 1, 1),\n",
       " (3, 2, 3),\n",
       " (3, 4, 6),\n",
       " (3, 5, 1),\n",
       " (3, 6, 2),\n",
       " (3, 7, 2),\n",
       " (3, 7, 5),\n",
       " (3, 7, 6),\n",
       " (3, 9, 3),\n",
       " (3, 10, 4),\n",
       " (3, 12, 2),\n",
       " (3, 12, 4),\n",
       " (3, 14, 0),\n",
       " (3, 18, 2),\n",
       " (3, 19, 3),\n",
       " (4, 0, 6),\n",
       " (4, 2, 7),\n",
       " (4, 3, 5),\n",
       " (4, 5, 5),\n",
       " (4, 6, 2),\n",
       " (4, 9, 1),\n",
       " (4, 9, 4),\n",
       " (4, 9, 6),\n",
       " (4, 10, 1),\n",
       " (4, 12, 1),\n",
       " (4, 13, 2),\n",
       " (4, 14, 7),\n",
       " (4, 16, 3),\n",
       " (4, 16, 6),\n",
       " (4, 18, 5),\n",
       " (5, 0, 6),\n",
       " (5, 1, 0),\n",
       " (5, 1, 5),\n",
       " (5, 2, 4),\n",
       " (5, 2, 7),\n",
       " (5, 3, 5),\n",
       " (5, 5, 0),\n",
       " (5, 5, 1),\n",
       " (5, 5, 7),\n",
       " (5, 6, 5),\n",
       " (5, 7, 0),\n",
       " (5, 10, 1),\n",
       " (5, 13, 3),\n",
       " (5, 13, 5),\n",
       " (5, 14, 3),\n",
       " (5, 15, 5),\n",
       " (5, 16, 6),\n",
       " (5, 18, 4),\n",
       " (5, 18, 6),\n",
       " (5, 19, 7)]"
      ]
     },
     "execution_count": 24,
     "metadata": {},
     "output_type": "execute_result"
    }
   ],
   "source": [
    "list((\n",
    "    df3\n",
    "    .loc[lambda d: d.word == 'you', ['paragraph', 'line', 'word_ind']]\n",
    "    .to_records(index=False)\n",
    "))"
   ]
  },
  {
   "cell_type": "code",
   "execution_count": 25,
   "id": "c83c6528-e317-4e49-ba56-671dae03f487",
   "metadata": {},
   "outputs": [
    {
     "data": {
      "text/plain": [
       "[(0, 2, 0),\n",
       " (0, 3, 2),\n",
       " (0, 3, 5),\n",
       " (0, 6, 3),\n",
       " (0, 7, 2),\n",
       " (0, 7, 5),\n",
       " (0, 10, 0),\n",
       " (0, 10, 5),\n",
       " (0, 10, 6),\n",
       " (0, 15, 0),\n",
       " (0, 15, 4),\n",
       " (0, 17, 0),\n",
       " (0, 17, 2),\n",
       " (0, 17, 4),\n",
       " (0, 18, 1),\n",
       " (0, 19, 5),\n",
       " (1, 0, 2),\n",
       " (1, 0, 6),\n",
       " (1, 1, 1),\n",
       " (1, 1, 2),\n",
       " (1, 3, 6),\n",
       " (1, 4, 3),\n",
       " (1, 5, 3),\n",
       " (1, 5, 4),\n",
       " (1, 7, 2),\n",
       " (1, 8, 6),\n",
       " (1, 12, 1),\n",
       " (1, 12, 7),\n",
       " (1, 13, 1),\n",
       " (1, 13, 7),\n",
       " (1, 14, 2),\n",
       " (1, 14, 4),\n",
       " (1, 15, 0),\n",
       " (1, 17, 5),\n",
       " (1, 17, 6),\n",
       " (1, 18, 1),\n",
       " (1, 19, 1),\n",
       " (1, 19, 6),\n",
       " (2, 4, 0),\n",
       " (2, 4, 6),\n",
       " (2, 7, 4),\n",
       " (2, 8, 6),\n",
       " (2, 9, 5),\n",
       " (2, 10, 2),\n",
       " (2, 10, 5),\n",
       " (2, 12, 2),\n",
       " (2, 14, 0),\n",
       " (2, 14, 6),\n",
       " (2, 15, 4),\n",
       " (2, 19, 0),\n",
       " (2, 19, 6),\n",
       " (3, 0, 0),\n",
       " (3, 1, 1),\n",
       " (3, 2, 3),\n",
       " (3, 4, 6),\n",
       " (3, 5, 1),\n",
       " (3, 6, 2),\n",
       " (3, 7, 2),\n",
       " (3, 7, 5),\n",
       " (3, 7, 6),\n",
       " (3, 9, 3),\n",
       " (3, 10, 4),\n",
       " (3, 12, 2),\n",
       " (3, 12, 4),\n",
       " (3, 14, 0),\n",
       " (3, 18, 2),\n",
       " (3, 19, 3),\n",
       " (4, 0, 6),\n",
       " (4, 2, 7),\n",
       " (4, 3, 5),\n",
       " (4, 5, 5),\n",
       " (4, 6, 2),\n",
       " (4, 9, 1),\n",
       " (4, 9, 4),\n",
       " (4, 9, 6),\n",
       " (4, 10, 1),\n",
       " (4, 12, 1),\n",
       " (4, 13, 2),\n",
       " (4, 14, 7),\n",
       " (4, 16, 3),\n",
       " (4, 16, 6),\n",
       " (4, 18, 5),\n",
       " (5, 0, 6),\n",
       " (5, 1, 0),\n",
       " (5, 1, 5),\n",
       " (5, 2, 4),\n",
       " (5, 2, 7),\n",
       " (5, 3, 5),\n",
       " (5, 5, 0),\n",
       " (5, 5, 1),\n",
       " (5, 5, 7),\n",
       " (5, 6, 5),\n",
       " (5, 7, 0),\n",
       " (5, 10, 1),\n",
       " (5, 13, 3),\n",
       " (5, 13, 5),\n",
       " (5, 14, 3),\n",
       " (5, 15, 5),\n",
       " (5, 16, 6),\n",
       " (5, 18, 4),\n",
       " (5, 18, 6),\n",
       " (5, 19, 7)]"
      ]
     },
     "execution_count": 25,
     "metadata": {},
     "output_type": "execute_result"
    }
   ],
   "source": [
    "list(map(tuple, (\n",
    "    df3\n",
    "    .loc[lambda d: d.word == 'you', ['paragraph', 'line', 'word_ind']]\n",
    "    .to_numpy()\n",
    ")))"
   ]
  },
  {
   "cell_type": "code",
   "execution_count": 26,
   "id": "01b8b6cb-259f-49c9-a046-7d8287e51f33",
   "metadata": {
    "scrolled": true
   },
   "outputs": [
    {
     "data": {
      "text/html": [
       "<div>\n",
       "<style scoped>\n",
       "    .dataframe tbody tr th:only-of-type {\n",
       "        vertical-align: middle;\n",
       "    }\n",
       "\n",
       "    .dataframe tbody tr th {\n",
       "        vertical-align: top;\n",
       "    }\n",
       "\n",
       "    .dataframe thead th {\n",
       "        text-align: right;\n",
       "    }\n",
       "</style>\n",
       "<table border=\"1\" class=\"dataframe\">\n",
       "  <thead>\n",
       "    <tr style=\"text-align: right;\">\n",
       "      <th></th>\n",
       "      <th>word</th>\n",
       "      <th>paragraph</th>\n",
       "      <th>line</th>\n",
       "      <th>word_ind</th>\n",
       "      <th>occurance</th>\n",
       "    </tr>\n",
       "  </thead>\n",
       "  <tbody>\n",
       "    <tr>\n",
       "      <th>0</th>\n",
       "      <td>What</td>\n",
       "      <td>0</td>\n",
       "      <td>0</td>\n",
       "      <td>0</td>\n",
       "      <td>(0, 0, 0)</td>\n",
       "    </tr>\n",
       "    <tr>\n",
       "      <th>1</th>\n",
       "      <td>eating</td>\n",
       "      <td>0</td>\n",
       "      <td>0</td>\n",
       "      <td>1</td>\n",
       "      <td>(0, 0, 1)</td>\n",
       "    </tr>\n",
       "    <tr>\n",
       "      <th>2</th>\n",
       "      <td>today?</td>\n",
       "      <td>0</td>\n",
       "      <td>0</td>\n",
       "      <td>2</td>\n",
       "      <td>(0, 0, 2)</td>\n",
       "    </tr>\n",
       "    <tr>\n",
       "      <th>3</th>\n",
       "      <td>What</td>\n",
       "      <td>0</td>\n",
       "      <td>0</td>\n",
       "      <td>3</td>\n",
       "      <td>(0, 0, 3)</td>\n",
       "    </tr>\n",
       "    <tr>\n",
       "      <th>4</th>\n",
       "      <td>are</td>\n",
       "      <td>0</td>\n",
       "      <td>0</td>\n",
       "      <td>4</td>\n",
       "      <td>(0, 0, 4)</td>\n",
       "    </tr>\n",
       "    <tr>\n",
       "      <th>...</th>\n",
       "      <td>...</td>\n",
       "      <td>...</td>\n",
       "      <td>...</td>\n",
       "      <td>...</td>\n",
       "      <td>...</td>\n",
       "    </tr>\n",
       "    <tr>\n",
       "      <th>955</th>\n",
       "      <td>are</td>\n",
       "      <td>5</td>\n",
       "      <td>19</td>\n",
       "      <td>3</td>\n",
       "      <td>(5, 19, 3)</td>\n",
       "    </tr>\n",
       "    <tr>\n",
       "      <th>956</th>\n",
       "      <td>today?</td>\n",
       "      <td>5</td>\n",
       "      <td>19</td>\n",
       "      <td>4</td>\n",
       "      <td>(5, 19, 4)</td>\n",
       "    </tr>\n",
       "    <tr>\n",
       "      <th>957</th>\n",
       "      <td>we</td>\n",
       "      <td>5</td>\n",
       "      <td>19</td>\n",
       "      <td>5</td>\n",
       "      <td>(5, 19, 5)</td>\n",
       "    </tr>\n",
       "    <tr>\n",
       "      <th>958</th>\n",
       "      <td>to</td>\n",
       "      <td>5</td>\n",
       "      <td>19</td>\n",
       "      <td>6</td>\n",
       "      <td>(5, 19, 6)</td>\n",
       "    </tr>\n",
       "    <tr>\n",
       "      <th>959</th>\n",
       "      <td>you</td>\n",
       "      <td>5</td>\n",
       "      <td>19</td>\n",
       "      <td>7</td>\n",
       "      <td>(5, 19, 7)</td>\n",
       "    </tr>\n",
       "  </tbody>\n",
       "</table>\n",
       "<p>960 rows × 5 columns</p>\n",
       "</div>"
      ],
      "text/plain": [
       "       word  paragraph  line  word_ind   occurance\n",
       "0      What          0     0         0   (0, 0, 0)\n",
       "1    eating          0     0         1   (0, 0, 1)\n",
       "2    today?          0     0         2   (0, 0, 2)\n",
       "3      What          0     0         3   (0, 0, 3)\n",
       "4       are          0     0         4   (0, 0, 4)\n",
       "..      ...        ...   ...       ...         ...\n",
       "955     are          5    19         3  (5, 19, 3)\n",
       "956  today?          5    19         4  (5, 19, 4)\n",
       "957      we          5    19         5  (5, 19, 5)\n",
       "958      to          5    19         6  (5, 19, 6)\n",
       "959     you          5    19         7  (5, 19, 7)\n",
       "\n",
       "[960 rows x 5 columns]"
      ]
     },
     "execution_count": 26,
     "metadata": {},
     "output_type": "execute_result"
    }
   ],
   "source": [
    "(\n",
    "    df3\n",
    "    # .loc[lambda d: d.word == 'you']\n",
    "    .assign(\n",
    "        occurance= list(df3[['paragraph', 'line', 'word_ind']].itertuples(index=False, name=None))\n",
    "    )\n",
    ")"
   ]
  },
  {
   "cell_type": "code",
   "execution_count": 27,
   "id": "d823c273-6c87-4839-a0db-643b74db3936",
   "metadata": {},
   "outputs": [
    {
     "data": {
      "text/html": [
       "<div>\n",
       "<style scoped>\n",
       "    .dataframe tbody tr th:only-of-type {\n",
       "        vertical-align: middle;\n",
       "    }\n",
       "\n",
       "    .dataframe tbody tr th {\n",
       "        vertical-align: top;\n",
       "    }\n",
       "\n",
       "    .dataframe thead th {\n",
       "        text-align: right;\n",
       "    }\n",
       "</style>\n",
       "<table border=\"1\" class=\"dataframe\">\n",
       "  <thead>\n",
       "    <tr style=\"text-align: right;\">\n",
       "      <th></th>\n",
       "      <th>occurance</th>\n",
       "    </tr>\n",
       "    <tr>\n",
       "      <th>word</th>\n",
       "      <th></th>\n",
       "    </tr>\n",
       "  </thead>\n",
       "  <tbody>\n",
       "    <tr>\n",
       "      <th>What</th>\n",
       "      <td>[(0, 0, 0), (0, 0, 3), (0, 1, 4), (0, 6, 0), (...</td>\n",
       "    </tr>\n",
       "    <tr>\n",
       "      <th>are</th>\n",
       "      <td>[(0, 0, 4), (0, 1, 7), (0, 2, 6), (0, 5, 2), (...</td>\n",
       "    </tr>\n",
       "    <tr>\n",
       "      <th>cruel</th>\n",
       "      <td>[(0, 3, 4), (0, 4, 2), (0, 4, 3), (0, 7, 3), (...</td>\n",
       "    </tr>\n",
       "    <tr>\n",
       "      <th>eating</th>\n",
       "      <td>[(0, 0, 1), (0, 2, 1), (0, 2, 7), (0, 3, 1), (...</td>\n",
       "    </tr>\n",
       "    <tr>\n",
       "      <th>hello</th>\n",
       "      <td>[(0, 1, 0), (0, 1, 5), (0, 2, 2), (0, 5, 6), (...</td>\n",
       "    </tr>\n",
       "    <tr>\n",
       "      <th>to</th>\n",
       "      <td>[(0, 1, 3), (0, 2, 4), (0, 3, 7), (0, 4, 7), (...</td>\n",
       "    </tr>\n",
       "    <tr>\n",
       "      <th>today?</th>\n",
       "      <td>[(0, 0, 2), (0, 1, 6), (0, 5, 4), (0, 5, 5), (...</td>\n",
       "    </tr>\n",
       "    <tr>\n",
       "      <th>we</th>\n",
       "      <td>[(0, 0, 6), (0, 0, 7), (0, 2, 5), (0, 3, 3), (...</td>\n",
       "    </tr>\n",
       "    <tr>\n",
       "      <th>world.</th>\n",
       "      <td>[(0, 0, 5), (0, 1, 1), (0, 1, 2), (0, 2, 3), (...</td>\n",
       "    </tr>\n",
       "    <tr>\n",
       "      <th>you</th>\n",
       "      <td>[(0, 2, 0), (0, 3, 2), (0, 3, 5), (0, 6, 3), (...</td>\n",
       "    </tr>\n",
       "  </tbody>\n",
       "</table>\n",
       "</div>"
      ],
      "text/plain": [
       "                                                occurance\n",
       "word                                                     \n",
       "What    [(0, 0, 0), (0, 0, 3), (0, 1, 4), (0, 6, 0), (...\n",
       "are     [(0, 0, 4), (0, 1, 7), (0, 2, 6), (0, 5, 2), (...\n",
       "cruel   [(0, 3, 4), (0, 4, 2), (0, 4, 3), (0, 7, 3), (...\n",
       "eating  [(0, 0, 1), (0, 2, 1), (0, 2, 7), (0, 3, 1), (...\n",
       "hello   [(0, 1, 0), (0, 1, 5), (0, 2, 2), (0, 5, 6), (...\n",
       "to      [(0, 1, 3), (0, 2, 4), (0, 3, 7), (0, 4, 7), (...\n",
       "today?  [(0, 0, 2), (0, 1, 6), (0, 5, 4), (0, 5, 5), (...\n",
       "we      [(0, 0, 6), (0, 0, 7), (0, 2, 5), (0, 3, 3), (...\n",
       "world.  [(0, 0, 5), (0, 1, 1), (0, 1, 2), (0, 2, 3), (...\n",
       "you     [(0, 2, 0), (0, 3, 2), (0, 3, 5), (0, 6, 3), (..."
      ]
     },
     "execution_count": 27,
     "metadata": {},
     "output_type": "execute_result"
    }
   ],
   "source": [
    "(\n",
    "    df3\n",
    "    .assign(\n",
    "        occurance=lambda d: list(d[['paragraph', 'line', 'word_ind']].itertuples(index=False, name=None))\n",
    "    )\n",
    "    .groupby('word')\n",
    "    .agg(\n",
    "        occurance=('occurance', list)\n",
    "    )\n",
    ")"
   ]
  },
  {
   "cell_type": "code",
   "execution_count": 28,
   "id": "4026acc5-fccf-4497-ad57-b9dc2c8fc874",
   "metadata": {},
   "outputs": [
    {
     "data": {
      "text/html": [
       "<div>\n",
       "<style scoped>\n",
       "    .dataframe tbody tr th:only-of-type {\n",
       "        vertical-align: middle;\n",
       "    }\n",
       "\n",
       "    .dataframe tbody tr th {\n",
       "        vertical-align: top;\n",
       "    }\n",
       "\n",
       "    .dataframe thead th {\n",
       "        text-align: right;\n",
       "    }\n",
       "</style>\n",
       "<table border=\"1\" class=\"dataframe\">\n",
       "  <thead>\n",
       "    <tr style=\"text-align: right;\">\n",
       "      <th></th>\n",
       "      <th>word</th>\n",
       "      <th>paragraph</th>\n",
       "      <th>line</th>\n",
       "      <th>word_ind</th>\n",
       "    </tr>\n",
       "  </thead>\n",
       "  <tbody>\n",
       "    <tr>\n",
       "      <th>0</th>\n",
       "      <td>What</td>\n",
       "      <td>0</td>\n",
       "      <td>0</td>\n",
       "      <td>0</td>\n",
       "    </tr>\n",
       "    <tr>\n",
       "      <th>1</th>\n",
       "      <td>eating</td>\n",
       "      <td>0</td>\n",
       "      <td>0</td>\n",
       "      <td>1</td>\n",
       "    </tr>\n",
       "    <tr>\n",
       "      <th>2</th>\n",
       "      <td>today?</td>\n",
       "      <td>0</td>\n",
       "      <td>0</td>\n",
       "      <td>2</td>\n",
       "    </tr>\n",
       "    <tr>\n",
       "      <th>3</th>\n",
       "      <td>What</td>\n",
       "      <td>0</td>\n",
       "      <td>0</td>\n",
       "      <td>3</td>\n",
       "    </tr>\n",
       "    <tr>\n",
       "      <th>4</th>\n",
       "      <td>are</td>\n",
       "      <td>0</td>\n",
       "      <td>0</td>\n",
       "      <td>4</td>\n",
       "    </tr>\n",
       "  </tbody>\n",
       "</table>\n",
       "</div>"
      ],
      "text/plain": [
       "     word  paragraph  line  word_ind\n",
       "0    What          0     0         0\n",
       "1  eating          0     0         1\n",
       "2  today?          0     0         2\n",
       "3    What          0     0         3\n",
       "4     are          0     0         4"
      ]
     },
     "execution_count": 28,
     "metadata": {},
     "output_type": "execute_result"
    }
   ],
   "source": [
    "df3.head()"
   ]
  },
  {
   "cell_type": "code",
   "execution_count": 29,
   "id": "b39e129e-0795-48c2-a4b5-37c3ab13eca0",
   "metadata": {},
   "outputs": [],
   "source": [
    "r = range(3)"
   ]
  },
  {
   "cell_type": "code",
   "execution_count": 30,
   "id": "fe616828-c767-4ba7-b18b-573fdba8c2e0",
   "metadata": {},
   "outputs": [
    {
     "ename": "TypeError",
     "evalue": "'range' object is not an iterator",
     "output_type": "error",
     "traceback": [
      "\u001b[0;31m---------------------------------------------------------------------------\u001b[0m",
      "\u001b[0;31mTypeError\u001b[0m                                 Traceback (most recent call last)",
      "Cell \u001b[0;32mIn[30], line 1\u001b[0m\n\u001b[0;32m----> 1\u001b[0m \u001b[38;5;28;43mnext\u001b[39;49m\u001b[43m(\u001b[49m\u001b[43mr\u001b[49m\u001b[43m)\u001b[49m\n",
      "\u001b[0;31mTypeError\u001b[0m: 'range' object is not an iterator"
     ]
    }
   ],
   "source": [
    "next(r)"
   ]
  },
  {
   "cell_type": "code",
   "execution_count": 31,
   "id": "c754d6a3-ea51-496a-83a2-0f30136836d3",
   "metadata": {},
   "outputs": [],
   "source": [
    "ri = iter(r)"
   ]
  },
  {
   "cell_type": "code",
   "execution_count": 32,
   "id": "919f3a9d-c125-4167-99ad-b2710f4f154a",
   "metadata": {},
   "outputs": [
    {
     "data": {
      "text/plain": [
       "0"
      ]
     },
     "execution_count": 32,
     "metadata": {},
     "output_type": "execute_result"
    }
   ],
   "source": [
    "next(ri)"
   ]
  },
  {
   "cell_type": "code",
   "execution_count": 33,
   "id": "342d7eac-e1b0-4b80-a4a6-de9e40b64948",
   "metadata": {},
   "outputs": [
    {
     "name": "stdout",
     "output_type": "stream",
     "text": [
      "1\n",
      "2\n"
     ]
    },
    {
     "ename": "StopIteration",
     "evalue": "",
     "output_type": "error",
     "traceback": [
      "\u001b[0;31m---------------------------------------------------------------------------\u001b[0m",
      "\u001b[0;31mStopIteration\u001b[0m                             Traceback (most recent call last)",
      "Cell \u001b[0;32mIn[33], line 2\u001b[0m\n\u001b[1;32m      1\u001b[0m \u001b[38;5;28;01mwhile\u001b[39;00m \u001b[38;5;28;01mTrue\u001b[39;00m:\n\u001b[0;32m----> 2\u001b[0m     \u001b[38;5;28mprint\u001b[39m(\u001b[38;5;28;43mnext\u001b[39;49m\u001b[43m(\u001b[49m\u001b[43mri\u001b[49m\u001b[43m)\u001b[49m)\n",
      "\u001b[0;31mStopIteration\u001b[0m: "
     ]
    }
   ],
   "source": [
    "while True:\n",
    "    print(next(ri))"
   ]
  },
  {
   "cell_type": "code",
   "execution_count": 34,
   "id": "4f290565-48a8-4eec-a5b6-7095845c88a0",
   "metadata": {},
   "outputs": [],
   "source": [
    "c = itertools.count()"
   ]
  },
  {
   "cell_type": "code",
   "execution_count": 35,
   "id": "0edd34de-fe9b-4003-acf3-3efa2b94c5e5",
   "metadata": {},
   "outputs": [
    {
     "data": {
      "text/plain": [
       "0"
      ]
     },
     "execution_count": 35,
     "metadata": {},
     "output_type": "execute_result"
    }
   ],
   "source": [
    "next(c)"
   ]
  },
  {
   "cell_type": "code",
   "execution_count": 36,
   "id": "4f16da69-b945-410d-a0d0-b55d4a63b349",
   "metadata": {},
   "outputs": [
    {
     "name": "stdout",
     "output_type": "stream",
     "text": [
      "1\n",
      "2\n",
      "3\n",
      "4\n"
     ]
    }
   ],
   "source": [
    "for x in range(4):\n",
    "    print(next(c))"
   ]
  },
  {
   "cell_type": "code",
   "execution_count": 37,
   "id": "4e84a632-c2f5-46d4-a509-7008608ec98f",
   "metadata": {},
   "outputs": [
    {
     "data": {
      "text/plain": [
       "5"
      ]
     },
     "execution_count": 37,
     "metadata": {},
     "output_type": "execute_result"
    }
   ],
   "source": [
    "next(c)"
   ]
  },
  {
   "cell_type": "code",
   "execution_count": 41,
   "id": "5d0aafcf-2326-42f7-846f-88a9c1e68e46",
   "metadata": {},
   "outputs": [
    {
     "data": {
      "text/plain": [
       "['a', 'b', 'c', 'd']"
      ]
     },
     "execution_count": 41,
     "metadata": {},
     "output_type": "execute_result"
    }
   ],
   "source": [
    "s = \"abcd\"\n",
    "[*s]"
   ]
  },
  {
   "cell_type": "code",
   "execution_count": 42,
   "id": "def3af7d-a74f-4fc5-98be-885c4bdd09c6",
   "metadata": {},
   "outputs": [
    {
     "data": {
      "text/plain": [
       "['a', 'b', 'c', 'd']"
      ]
     },
     "execution_count": 42,
     "metadata": {},
     "output_type": "execute_result"
    }
   ],
   "source": [
    "list(s)"
   ]
  },
  {
   "cell_type": "code",
   "execution_count": 43,
   "id": "c2146997-eea1-40cc-8430-bf7360055c63",
   "metadata": {},
   "outputs": [
    {
     "data": {
      "text/plain": [
       "<str_iterator at 0x7f32463fe7c0>"
      ]
     },
     "execution_count": 43,
     "metadata": {},
     "output_type": "execute_result"
    }
   ],
   "source": [
    "iter(s)"
   ]
  },
  {
   "cell_type": "code",
   "execution_count": 44,
   "id": "d31c419b-f770-47e1-9df7-dd21df4c58d7",
   "metadata": {},
   "outputs": [
    {
     "data": {
      "text/plain": [
       "['a', 'b', 'c', 'd']"
      ]
     },
     "execution_count": 44,
     "metadata": {},
     "output_type": "execute_result"
    }
   ],
   "source": [
    "list(iter(s))"
   ]
  },
  {
   "cell_type": "code",
   "execution_count": 45,
   "id": "a6f00130-9b2c-4141-aab1-596222dedb17",
   "metadata": {},
   "outputs": [],
   "source": [
    "lst = []\n",
    "lst.extend(s)"
   ]
  },
  {
   "cell_type": "code",
   "execution_count": 46,
   "id": "821e5243-b915-45e6-8ba9-4f44f00481f3",
   "metadata": {},
   "outputs": [
    {
     "data": {
      "text/plain": [
       "['a', 'b', 'c', 'd']"
      ]
     },
     "execution_count": 46,
     "metadata": {},
     "output_type": "execute_result"
    }
   ],
   "source": [
    "lst"
   ]
  },
  {
   "cell_type": "code",
   "execution_count": 47,
   "id": "01dbf277-a827-4daa-ae1e-77632c864c6a",
   "metadata": {},
   "outputs": [],
   "source": [
    "import seaborn as sns"
   ]
  },
  {
   "cell_type": "code",
   "execution_count": 50,
   "id": "5816a7c4-4db4-406c-ac05-93a2a7173fa7",
   "metadata": {},
   "outputs": [
    {
     "data": {
      "image/png": "[encoded data removed]",
      "text/plain": [
       "<Figure size 640x480 with 1 Axes>"
      ]
     },
     "metadata": {},
     "output_type": "display_data"
    }
   ],
   "source": [
    "sns.scatterplot(x='x', y='y', data=df2_1, hue='in_circle');"
   ]
  },
  {
   "cell_type": "code",
   "execution_count": 110,
   "id": "fd41d5c6-e834-43c7-bd9e-8f437ecf5be7",
   "metadata": {},
   "outputs": [],
   "source": [
    "contents = \"\"\"a,b,msg,last,really_last\n",
    "1,2,hello,5,1\n",
    "6,7,bye,,2\n",
    "1,1,,10,2\n",
    ",2,haim,11,6\n",
    "\"\"\""
   ]
  },
  {
   "cell_type": "code",
   "execution_count": 111,
   "id": "f96f2425-c8a8-4e73-8d67-0a9e081e779b",
   "metadata": {},
   "outputs": [
    {
     "name": "stdout",
     "output_type": "stream",
     "text": [
      "a,b,msg,last,really_last\n",
      "1,2,hello,5,1\n",
      "6,7,bye,,2\n",
      "1,1,,10,2\n",
      ",2,haim,11,6\n",
      "\n"
     ]
    }
   ],
   "source": [
    "print(contents)"
   ]
  },
  {
   "cell_type": "code",
   "execution_count": 112,
   "id": "573205d4-44de-46df-baac-8f4e0c7fe008",
   "metadata": {},
   "outputs": [],
   "source": [
    "from io import StringIO\n",
    "\n",
    "df4 = pd.read_csv(StringIO(contents))"
   ]
  },
  {
   "cell_type": "code",
   "execution_count": 113,
   "id": "4c398545-326e-49f8-8b37-650c4787904d",
   "metadata": {},
   "outputs": [
    {
     "data": {
      "text/html": [
       "<div>\n",
       "<style scoped>\n",
       "    .dataframe tbody tr th:only-of-type {\n",
       "        vertical-align: middle;\n",
       "    }\n",
       "\n",
       "    .dataframe tbody tr th {\n",
       "        vertical-align: top;\n",
       "    }\n",
       "\n",
       "    .dataframe thead th {\n",
       "        text-align: right;\n",
       "    }\n",
       "</style>\n",
       "<table border=\"1\" class=\"dataframe\">\n",
       "  <thead>\n",
       "    <tr style=\"text-align: right;\">\n",
       "      <th></th>\n",
       "      <th>a</th>\n",
       "      <th>b</th>\n",
       "      <th>msg</th>\n",
       "      <th>last</th>\n",
       "      <th>really_last</th>\n",
       "    </tr>\n",
       "  </thead>\n",
       "  <tbody>\n",
       "    <tr>\n",
       "      <th>0</th>\n",
       "      <td>1.0</td>\n",
       "      <td>2</td>\n",
       "      <td>hello</td>\n",
       "      <td>5.0</td>\n",
       "      <td>1</td>\n",
       "    </tr>\n",
       "    <tr>\n",
       "      <th>1</th>\n",
       "      <td>6.0</td>\n",
       "      <td>7</td>\n",
       "      <td>bye</td>\n",
       "      <td>NaN</td>\n",
       "      <td>2</td>\n",
       "    </tr>\n",
       "    <tr>\n",
       "      <th>2</th>\n",
       "      <td>1.0</td>\n",
       "      <td>1</td>\n",
       "      <td>NaN</td>\n",
       "      <td>10.0</td>\n",
       "      <td>2</td>\n",
       "    </tr>\n",
       "    <tr>\n",
       "      <th>3</th>\n",
       "      <td>NaN</td>\n",
       "      <td>2</td>\n",
       "      <td>haim</td>\n",
       "      <td>11.0</td>\n",
       "      <td>6</td>\n",
       "    </tr>\n",
       "  </tbody>\n",
       "</table>\n",
       "</div>"
      ],
      "text/plain": [
       "     a  b    msg  last  really_last\n",
       "0  1.0  2  hello   5.0            1\n",
       "1  6.0  7    bye   NaN            2\n",
       "2  1.0  1    NaN  10.0            2\n",
       "3  NaN  2   haim  11.0            6"
      ]
     },
     "execution_count": 113,
     "metadata": {},
     "output_type": "execute_result"
    }
   ],
   "source": [
    "df4"
   ]
  },
  {
   "cell_type": "code",
   "execution_count": 114,
   "id": "b4643be7-1cb8-40a4-98eb-ba47b90d7d1f",
   "metadata": {},
   "outputs": [
    {
     "name": "stdout",
     "output_type": "stream",
     "text": [
      "<class 'pandas.core.frame.DataFrame'>\n",
      "RangeIndex: 4 entries, 0 to 3\n",
      "Data columns (total 5 columns):\n",
      " #   Column       Non-Null Count  Dtype  \n",
      "---  ------       --------------  -----  \n",
      " 0   a            3 non-null      float64\n",
      " 1   b            4 non-null      int64  \n",
      " 2   msg          3 non-null      object \n",
      " 3   last         3 non-null      float64\n",
      " 4   really_last  4 non-null      int64  \n",
      "dtypes: float64(2), int64(2), object(1)\n",
      "memory usage: 288.0+ bytes\n"
     ]
    }
   ],
   "source": [
    "df4.info()"
   ]
  },
  {
   "cell_type": "code",
   "execution_count": 115,
   "id": "4e7a3201-016a-4693-8624-50380234ada7",
   "metadata": {},
   "outputs": [
    {
     "data": {
      "text/html": [
       "<div>\n",
       "<style scoped>\n",
       "    .dataframe tbody tr th:only-of-type {\n",
       "        vertical-align: middle;\n",
       "    }\n",
       "\n",
       "    .dataframe tbody tr th {\n",
       "        vertical-align: top;\n",
       "    }\n",
       "\n",
       "    .dataframe thead th {\n",
       "        text-align: right;\n",
       "    }\n",
       "</style>\n",
       "<table border=\"1\" class=\"dataframe\">\n",
       "  <thead>\n",
       "    <tr style=\"text-align: right;\">\n",
       "      <th></th>\n",
       "      <th>a</th>\n",
       "      <th>b</th>\n",
       "      <th>msg</th>\n",
       "      <th>last</th>\n",
       "      <th>really_last</th>\n",
       "    </tr>\n",
       "  </thead>\n",
       "  <tbody>\n",
       "    <tr>\n",
       "      <th>0</th>\n",
       "      <td>False</td>\n",
       "      <td>False</td>\n",
       "      <td>False</td>\n",
       "      <td>False</td>\n",
       "      <td>False</td>\n",
       "    </tr>\n",
       "    <tr>\n",
       "      <th>1</th>\n",
       "      <td>False</td>\n",
       "      <td>False</td>\n",
       "      <td>False</td>\n",
       "      <td>True</td>\n",
       "      <td>False</td>\n",
       "    </tr>\n",
       "    <tr>\n",
       "      <th>2</th>\n",
       "      <td>False</td>\n",
       "      <td>False</td>\n",
       "      <td>True</td>\n",
       "      <td>False</td>\n",
       "      <td>False</td>\n",
       "    </tr>\n",
       "    <tr>\n",
       "      <th>3</th>\n",
       "      <td>True</td>\n",
       "      <td>False</td>\n",
       "      <td>False</td>\n",
       "      <td>False</td>\n",
       "      <td>False</td>\n",
       "    </tr>\n",
       "  </tbody>\n",
       "</table>\n",
       "</div>"
      ],
      "text/plain": [
       "       a      b    msg   last  really_last\n",
       "0  False  False  False  False        False\n",
       "1  False  False  False   True        False\n",
       "2  False  False   True  False        False\n",
       "3   True  False  False  False        False"
      ]
     },
     "execution_count": 115,
     "metadata": {},
     "output_type": "execute_result"
    }
   ],
   "source": [
    "pd.isna(df4)"
   ]
  },
  {
   "cell_type": "code",
   "execution_count": 116,
   "id": "16e7a1d8-88ab-4d56-acb4-cc5f880db7b8",
   "metadata": {},
   "outputs": [
    {
     "data": {
      "text/html": [
       "<div>\n",
       "<style scoped>\n",
       "    .dataframe tbody tr th:only-of-type {\n",
       "        vertical-align: middle;\n",
       "    }\n",
       "\n",
       "    .dataframe tbody tr th {\n",
       "        vertical-align: top;\n",
       "    }\n",
       "\n",
       "    .dataframe thead th {\n",
       "        text-align: right;\n",
       "    }\n",
       "</style>\n",
       "<table border=\"1\" class=\"dataframe\">\n",
       "  <thead>\n",
       "    <tr style=\"text-align: right;\">\n",
       "      <th></th>\n",
       "      <th>a</th>\n",
       "      <th>b</th>\n",
       "      <th>msg</th>\n",
       "      <th>last</th>\n",
       "      <th>really_last</th>\n",
       "      <th>a_isna</th>\n",
       "    </tr>\n",
       "  </thead>\n",
       "  <tbody>\n",
       "    <tr>\n",
       "      <th>0</th>\n",
       "      <td>1.0</td>\n",
       "      <td>2</td>\n",
       "      <td>hello</td>\n",
       "      <td>5.0</td>\n",
       "      <td>1</td>\n",
       "      <td>False</td>\n",
       "    </tr>\n",
       "    <tr>\n",
       "      <th>1</th>\n",
       "      <td>6.0</td>\n",
       "      <td>7</td>\n",
       "      <td>bye</td>\n",
       "      <td>NaN</td>\n",
       "      <td>2</td>\n",
       "      <td>False</td>\n",
       "    </tr>\n",
       "    <tr>\n",
       "      <th>2</th>\n",
       "      <td>1.0</td>\n",
       "      <td>1</td>\n",
       "      <td>NaN</td>\n",
       "      <td>10.0</td>\n",
       "      <td>2</td>\n",
       "      <td>False</td>\n",
       "    </tr>\n",
       "    <tr>\n",
       "      <th>3</th>\n",
       "      <td>-1.0</td>\n",
       "      <td>2</td>\n",
       "      <td>haim</td>\n",
       "      <td>11.0</td>\n",
       "      <td>6</td>\n",
       "      <td>True</td>\n",
       "    </tr>\n",
       "  </tbody>\n",
       "</table>\n",
       "</div>"
      ],
      "text/plain": [
       "     a  b    msg  last  really_last  a_isna\n",
       "0  1.0  2  hello   5.0            1   False\n",
       "1  6.0  7    bye   NaN            2   False\n",
       "2  1.0  1    NaN  10.0            2   False\n",
       "3 -1.0  2   haim  11.0            6    True"
      ]
     },
     "execution_count": 116,
     "metadata": {},
     "output_type": "execute_result"
    }
   ],
   "source": [
    "(\n",
    "    df4\n",
    "    .assign(\n",
    "        a_isna=lambda d: pd.isna(d.a)\n",
    "    )\n",
    "    .fillna({'a':-1})\n",
    ")"
   ]
  },
  {
   "cell_type": "code",
   "execution_count": 117,
   "id": "efaf6d6d-f7a6-4660-9839-9f3f22a6a23d",
   "metadata": {},
   "outputs": [
    {
     "data": {
      "text/plain": [
       "Index(['a', 'b', 'msg', 'last', 'really_last'], dtype='object')"
      ]
     },
     "execution_count": 117,
     "metadata": {},
     "output_type": "execute_result"
    }
   ],
   "source": [
    "df4.columns"
   ]
  },
  {
   "cell_type": "code",
   "execution_count": 118,
   "id": "fc49b63f-0dd9-4c56-b8bb-5d210da75428",
   "metadata": {},
   "outputs": [
    {
     "data": {
      "text/html": [
       "<div>\n",
       "<style scoped>\n",
       "    .dataframe tbody tr th:only-of-type {\n",
       "        vertical-align: middle;\n",
       "    }\n",
       "\n",
       "    .dataframe tbody tr th {\n",
       "        vertical-align: top;\n",
       "    }\n",
       "\n",
       "    .dataframe thead th {\n",
       "        text-align: right;\n",
       "    }\n",
       "</style>\n",
       "<table border=\"1\" class=\"dataframe\">\n",
       "  <thead>\n",
       "    <tr style=\"text-align: right;\">\n",
       "      <th></th>\n",
       "      <th>a</th>\n",
       "      <th>b</th>\n",
       "      <th>msg</th>\n",
       "      <th>last</th>\n",
       "      <th>really_last</th>\n",
       "    </tr>\n",
       "  </thead>\n",
       "  <tbody>\n",
       "    <tr>\n",
       "      <th>0</th>\n",
       "      <td>1.0</td>\n",
       "      <td>2</td>\n",
       "      <td>hello</td>\n",
       "      <td>5.0</td>\n",
       "      <td>1</td>\n",
       "    </tr>\n",
       "    <tr>\n",
       "      <th>1</th>\n",
       "      <td>6.0</td>\n",
       "      <td>7</td>\n",
       "      <td>bye</td>\n",
       "      <td>NaN</td>\n",
       "      <td>2</td>\n",
       "    </tr>\n",
       "    <tr>\n",
       "      <th>2</th>\n",
       "      <td>1.0</td>\n",
       "      <td>1</td>\n",
       "      <td>NaN</td>\n",
       "      <td>10.0</td>\n",
       "      <td>2</td>\n",
       "    </tr>\n",
       "    <tr>\n",
       "      <th>3</th>\n",
       "      <td>NaN</td>\n",
       "      <td>2</td>\n",
       "      <td>haim</td>\n",
       "      <td>11.0</td>\n",
       "      <td>6</td>\n",
       "    </tr>\n",
       "  </tbody>\n",
       "</table>\n",
       "</div>"
      ],
      "text/plain": [
       "     a  b    msg  last  really_last\n",
       "0  1.0  2  hello   5.0            1\n",
       "1  6.0  7    bye   NaN            2\n",
       "2  1.0  1    NaN  10.0            2\n",
       "3  NaN  2   haim  11.0            6"
      ]
     },
     "execution_count": 118,
     "metadata": {},
     "output_type": "execute_result"
    }
   ],
   "source": [
    "df4"
   ]
  },
  {
   "cell_type": "code",
   "execution_count": 119,
   "id": "be82c56e-1a64-4312-b27b-ac12d0b9acf7",
   "metadata": {},
   "outputs": [
    {
     "data": {
      "text/plain": [
       "Index          128\n",
       "a               32\n",
       "b               32\n",
       "msg            215\n",
       "last            32\n",
       "really_last     32\n",
       "dtype: int64"
      ]
     },
     "execution_count": 119,
     "metadata": {},
     "output_type": "execute_result"
    }
   ],
   "source": [
    "df4.memory_usage(deep=True)"
   ]
  },
  {
   "cell_type": "code",
   "execution_count": 121,
   "id": "5b345430-ac77-4340-88c1-3d2b121d5a65",
   "metadata": {},
   "outputs": [
    {
     "data": {
      "text/plain": [
       "471"
      ]
     },
     "execution_count": 121,
     "metadata": {},
     "output_type": "execute_result"
    }
   ],
   "source": [
    "df4.memory_usage(deep=True).sum()"
   ]
  },
  {
   "cell_type": "code",
   "execution_count": 129,
   "id": "1b5d06b4-63f8-49c2-864a-0305093be4a1",
   "metadata": {},
   "outputs": [
    {
     "data": {
      "text/plain": [
       "112645"
      ]
     },
     "execution_count": 129,
     "metadata": {},
     "output_type": "execute_result"
    }
   ],
   "source": [
    "(\n",
    "    df3\n",
    "    .memory_usage(deep=True)\n",
    "    .sum()\n",
    ")"
   ]
  },
  {
   "cell_type": "code",
   "execution_count": 132,
   "id": "f3064009-ee0d-4c15-9c21-c2d18ed6f84b",
   "metadata": {},
   "outputs": [
    {
     "data": {
      "text/plain": [
       "25360"
      ]
     },
     "execution_count": 132,
     "metadata": {},
     "output_type": "execute_result"
    }
   ],
   "source": [
    "(\n",
    "    df3\n",
    "    .astype({'word': 'category'})\n",
    "    .memory_usage(deep=True)\n",
    "    .sum()\n",
    ")"
   ]
  },
  {
   "cell_type": "code",
   "execution_count": 137,
   "id": "dbb0b6d7-d9bf-461d-908d-9b42c3f972f2",
   "metadata": {},
   "outputs": [
    {
     "data": {
      "text/html": [
       "<div>\n",
       "<style scoped>\n",
       "    .dataframe tbody tr th:only-of-type {\n",
       "        vertical-align: middle;\n",
       "    }\n",
       "\n",
       "    .dataframe tbody tr th {\n",
       "        vertical-align: top;\n",
       "    }\n",
       "\n",
       "    .dataframe thead th {\n",
       "        text-align: right;\n",
       "    }\n",
       "</style>\n",
       "<table border=\"1\" class=\"dataframe\">\n",
       "  <thead>\n",
       "    <tr style=\"text-align: right;\">\n",
       "      <th></th>\n",
       "      <th>word</th>\n",
       "      <th>paragraph</th>\n",
       "      <th>line</th>\n",
       "      <th>word_ind</th>\n",
       "      <th>par1</th>\n",
       "    </tr>\n",
       "  </thead>\n",
       "  <tbody>\n",
       "    <tr>\n",
       "      <th>0</th>\n",
       "      <td>What</td>\n",
       "      <td>0</td>\n",
       "      <td>0</td>\n",
       "      <td>0</td>\n",
       "      <td>4</td>\n",
       "    </tr>\n",
       "    <tr>\n",
       "      <th>1</th>\n",
       "      <td>eating</td>\n",
       "      <td>0</td>\n",
       "      <td>0</td>\n",
       "      <td>1</td>\n",
       "      <td>4</td>\n",
       "    </tr>\n",
       "    <tr>\n",
       "      <th>2</th>\n",
       "      <td>today?</td>\n",
       "      <td>0</td>\n",
       "      <td>0</td>\n",
       "      <td>2</td>\n",
       "      <td>4</td>\n",
       "    </tr>\n",
       "    <tr>\n",
       "      <th>3</th>\n",
       "      <td>What</td>\n",
       "      <td>0</td>\n",
       "      <td>0</td>\n",
       "      <td>3</td>\n",
       "      <td>4</td>\n",
       "    </tr>\n",
       "    <tr>\n",
       "      <th>4</th>\n",
       "      <td>are</td>\n",
       "      <td>0</td>\n",
       "      <td>0</td>\n",
       "      <td>4</td>\n",
       "      <td>4</td>\n",
       "    </tr>\n",
       "    <tr>\n",
       "      <th>...</th>\n",
       "      <td>...</td>\n",
       "      <td>...</td>\n",
       "      <td>...</td>\n",
       "      <td>...</td>\n",
       "      <td>...</td>\n",
       "    </tr>\n",
       "    <tr>\n",
       "      <th>955</th>\n",
       "      <td>are</td>\n",
       "      <td>5</td>\n",
       "      <td>19</td>\n",
       "      <td>3</td>\n",
       "      <td>4</td>\n",
       "    </tr>\n",
       "    <tr>\n",
       "      <th>956</th>\n",
       "      <td>today?</td>\n",
       "      <td>5</td>\n",
       "      <td>19</td>\n",
       "      <td>4</td>\n",
       "      <td>4</td>\n",
       "    </tr>\n",
       "    <tr>\n",
       "      <th>957</th>\n",
       "      <td>we</td>\n",
       "      <td>5</td>\n",
       "      <td>19</td>\n",
       "      <td>5</td>\n",
       "      <td>4</td>\n",
       "    </tr>\n",
       "    <tr>\n",
       "      <th>958</th>\n",
       "      <td>to</td>\n",
       "      <td>5</td>\n",
       "      <td>19</td>\n",
       "      <td>6</td>\n",
       "      <td>4</td>\n",
       "    </tr>\n",
       "    <tr>\n",
       "      <th>959</th>\n",
       "      <td>you</td>\n",
       "      <td>5</td>\n",
       "      <td>19</td>\n",
       "      <td>7</td>\n",
       "      <td>4</td>\n",
       "    </tr>\n",
       "  </tbody>\n",
       "</table>\n",
       "<p>960 rows × 5 columns</p>\n",
       "</div>"
      ],
      "text/plain": [
       "       word  paragraph  line  word_ind  par1\n",
       "0      What          0     0         0     4\n",
       "1    eating          0     0         1     4\n",
       "2    today?          0     0         2     4\n",
       "3      What          0     0         3     4\n",
       "4       are          0     0         4     4\n",
       "..      ...        ...   ...       ...   ...\n",
       "955     are          5    19         3     4\n",
       "956  today?          5    19         4     4\n",
       "957      we          5    19         5     4\n",
       "958      to          5    19         6     4\n",
       "959     you          5    19         7     4\n",
       "\n",
       "[960 rows x 5 columns]"
      ]
     },
     "execution_count": 137,
     "metadata": {},
     "output_type": "execute_result"
    }
   ],
   "source": [
    "def f1(df, par1):\n",
    "    return (\n",
    "        df\n",
    "        .assign(\n",
    "            par1=par1\n",
    "        )\n",
    "    )\n",
    "\n",
    "(\n",
    "    df3\n",
    "    .groupby('word', group_keys=False)\n",
    "    .apply(f1, 4)\n",
    ")"
   ]
  },
  {
   "cell_type": "code",
   "execution_count": 146,
   "id": "58c47122-eea9-4dff-9e8b-c5e584aad773",
   "metadata": {},
   "outputs": [
    {
     "data": {
      "text/plain": [
       "False    765\n",
       "True     195\n",
       "Name: eos, dtype: int64"
      ]
     },
     "execution_count": 146,
     "metadata": {},
     "output_type": "execute_result"
    }
   ],
   "source": [
    "(\n",
    "    df3\n",
    "    .assign(\n",
    "        eos=lambda d: d.word.str.endswith('?') | d.word.str.endswith('.')\n",
    "    )\n",
    "    ['eos']\n",
    "    .value_counts()\n",
    ")"
   ]
  },
  {
   "cell_type": "code",
   "execution_count": 220,
   "id": "11e8dde1-4909-4ded-b25e-59132168ed44",
   "metadata": {},
   "outputs": [],
   "source": [
    "from typing import Iterator\n",
    "import itertools\n",
    "import collections"
   ]
  },
  {
   "cell_type": "code",
   "execution_count": 192,
   "id": "c8a514d8-cd05-4a92-861e-7b32fa4cedcb",
   "metadata": {},
   "outputs": [],
   "source": [
    "def spiral_mat(rows: int, cols: int, content: Iterator) -> \"np.array\":\n",
    "    def helper_function(mat : np.array, content: Iterator):\n",
    "        \"\"\"recursive function\"\"\"\n",
    "        num_rows, num_cols = mat.shape\n",
    "\n",
    "        if num_rows < 1 or num_cols < 1:\n",
    "            return\n",
    "        mat[0, :] = list(itertools.islice(content, num_cols))\n",
    "        mat[1:, -1] = [x for _, x in zip(range(num_rows - 1), content)]\n",
    "        mat[-1, :-1] = list(reversed([x for _, x, in zip(range(num_cols - 1), content)]))\n",
    "        mat[1:-1, 0] = list(reversed([x for _, x in zip(range(num_rows - 2), content)]))\n",
    "        helper_function(mat[1:-1, 1:-1], content)\n",
    "\n",
    "    mat = np.empty((rows, cols))\n",
    "    helper_function(mat, content)\n",
    "    return mat"
   ]
  },
  {
   "cell_type": "code",
   "execution_count": 193,
   "id": "17131f5e-89f6-474c-8f88-2865266be446",
   "metadata": {},
   "outputs": [
    {
     "data": {
      "text/plain": [
       "array([[ 0.,  1.,  2.,  3.,  4.,  5.],\n",
       "       [23., 24., 25., 26., 27.,  6.],\n",
       "       [22., 39., 40., 41., 28.,  7.],\n",
       "       [21., 38., 47., 42., 29.,  8.],\n",
       "       [20., 37., 46., 43., 30.,  9.],\n",
       "       [19., 36., 45., 44., 31., 10.],\n",
       "       [18., 35., 34., 33., 32., 11.],\n",
       "       [17., 16., 15., 14., 13., 12.]])"
      ]
     },
     "execution_count": 193,
     "metadata": {},
     "output_type": "execute_result"
    }
   ],
   "source": [
    "spiral_mat(8, 6, itertools.count())"
   ]
  },
  {
   "cell_type": "code",
   "execution_count": 194,
   "id": "0710df98-64fb-49fa-b837-f7b6c00cc00e",
   "metadata": {},
   "outputs": [
    {
     "data": {
      "text/plain": [
       "count(34)"
      ]
     },
     "execution_count": 194,
     "metadata": {},
     "output_type": "execute_result"
    }
   ],
   "source": [
    "c"
   ]
  },
  {
   "cell_type": "code",
   "execution_count": 195,
   "id": "0ed53b3c-b066-4d35-86c0-5601a76ba3e3",
   "metadata": {},
   "outputs": [
    {
     "data": {
      "text/plain": [
       "[34, 35, 36, 37, 38, 39, 40, 41, 42, 43]"
      ]
     },
     "execution_count": 195,
     "metadata": {},
     "output_type": "execute_result"
    }
   ],
   "source": [
    "list(itertools.islice(c, 10))"
   ]
  },
  {
   "cell_type": "code",
   "execution_count": 196,
   "id": "60f51808-3151-483b-86d2-99634c99aae0",
   "metadata": {},
   "outputs": [
    {
     "data": {
      "text/plain": [
       "[44, 45, 46, 47, 48, 49, 50, 51, 52, 53]"
      ]
     },
     "execution_count": 196,
     "metadata": {},
     "output_type": "execute_result"
    }
   ],
   "source": [
    "list(itertools.islice(c, 10))"
   ]
  },
  {
   "cell_type": "code",
   "execution_count": 197,
   "id": "edf88a68-72c2-495a-baf3-04209ae54dc0",
   "metadata": {},
   "outputs": [
    {
     "data": {
      "text/plain": [
       "[54, 55, 56, 57, 58, 59, 60, 61]"
      ]
     },
     "execution_count": 197,
     "metadata": {},
     "output_type": "execute_result"
    }
   ],
   "source": [
    "list(itertools.islice(c, 8))"
   ]
  },
  {
   "cell_type": "code",
   "execution_count": 198,
   "id": "b06b6dd3-6187-46fa-9e73-39eeddd30306",
   "metadata": {},
   "outputs": [
    {
     "data": {
      "text/plain": [
       "62"
      ]
     },
     "execution_count": 198,
     "metadata": {},
     "output_type": "execute_result"
    }
   ],
   "source": [
    "next(c)"
   ]
  },
  {
   "cell_type": "code",
   "execution_count": 201,
   "id": "90c3eb44-2486-4835-b715-77e01232993b",
   "metadata": {},
   "outputs": [
    {
     "data": {
      "text/plain": [
       "65"
      ]
     },
     "execution_count": 201,
     "metadata": {},
     "output_type": "execute_result"
    }
   ],
   "source": [
    "next(c)"
   ]
  },
  {
   "cell_type": "code",
   "execution_count": 202,
   "id": "87827a44-fded-40ca-bc84-6ab4fab547d9",
   "metadata": {},
   "outputs": [
    {
     "ename": "TypeError",
     "evalue": "'list' object is not an iterator",
     "output_type": "error",
     "traceback": [
      "\u001b[0;31m---------------------------------------------------------------------------\u001b[0m",
      "\u001b[0;31mTypeError\u001b[0m                                 Traceback (most recent call last)",
      "Cell \u001b[0;32mIn[202], line 1\u001b[0m\n\u001b[0;32m----> 1\u001b[0m \u001b[38;5;28;43mnext\u001b[39;49m\u001b[43m(\u001b[49m\u001b[43m[\u001b[49m\u001b[38;5;241;43m1\u001b[39;49m\u001b[43m,\u001b[49m\u001b[38;5;241;43m2\u001b[39;49m\u001b[43m,\u001b[49m\u001b[38;5;241;43m3\u001b[39;49m\u001b[43m,\u001b[49m\u001b[38;5;241;43m4\u001b[39;49m\u001b[43m]\u001b[49m\u001b[43m)\u001b[49m\n",
      "\u001b[0;31mTypeError\u001b[0m: 'list' object is not an iterator"
     ]
    }
   ],
   "source": [
    "next([1,2,3,4])"
   ]
  },
  {
   "cell_type": "code",
   "execution_count": 203,
   "id": "ce15d830-9084-4b21-b722-9f6e5021a2de",
   "metadata": {},
   "outputs": [
    {
     "name": "stdout",
     "output_type": "stream",
     "text": [
      "1\n",
      "2\n",
      "3\n",
      "4\n"
     ]
    }
   ],
   "source": [
    "for item in [1, 2, 3, 4]:\n",
    "    print(item)"
   ]
  },
  {
   "cell_type": "code",
   "execution_count": 204,
   "id": "b9dd67cb-52b7-40fc-9e00-aa52857ef2aa",
   "metadata": {},
   "outputs": [
    {
     "name": "stdout",
     "output_type": "stream",
     "text": [
      "h\n",
      "e\n",
      "l\n",
      "l\n",
      "o\n"
     ]
    }
   ],
   "source": [
    "for item in \"hello\":\n",
    "    print(item)"
   ]
  },
  {
   "cell_type": "code",
   "execution_count": 205,
   "id": "de88dcb7-06fa-4d04-bf8a-105c5b017dbc",
   "metadata": {},
   "outputs": [
    {
     "data": {
      "text/plain": [
       "['h', 'e', 'l', 'l', 'o']"
      ]
     },
     "execution_count": 205,
     "metadata": {},
     "output_type": "execute_result"
    }
   ],
   "source": [
    "list(\"hello\")"
   ]
  },
  {
   "cell_type": "code",
   "execution_count": 206,
   "id": "861ac8fe-a163-4bfb-8007-0fb2ffa7b8a3",
   "metadata": {},
   "outputs": [
    {
     "name": "stdout",
     "output_type": "stream",
     "text": [
      "0\n",
      "1\n",
      "2\n",
      "3\n",
      "4\n",
      "5\n"
     ]
    }
   ],
   "source": [
    "for item in range(6):\n",
    "    print(item)"
   ]
  },
  {
   "cell_type": "code",
   "execution_count": 207,
   "id": "9efd217f-b9e2-405a-846c-faa3f3a46b99",
   "metadata": {},
   "outputs": [],
   "source": [
    "r = range(6)"
   ]
  },
  {
   "cell_type": "code",
   "execution_count": 208,
   "id": "ee7e8336-5763-47ea-88ba-e388d5c7ccea",
   "metadata": {},
   "outputs": [
    {
     "data": {
      "text/plain": [
       "range(0, 6)"
      ]
     },
     "execution_count": 208,
     "metadata": {},
     "output_type": "execute_result"
    }
   ],
   "source": [
    "r"
   ]
  },
  {
   "cell_type": "code",
   "execution_count": 209,
   "id": "2e668fed-7c86-4226-90e4-0cf2bc924bcd",
   "metadata": {},
   "outputs": [
    {
     "ename": "TypeError",
     "evalue": "'range' object is not an iterator",
     "output_type": "error",
     "traceback": [
      "\u001b[0;31m---------------------------------------------------------------------------\u001b[0m",
      "\u001b[0;31mTypeError\u001b[0m                                 Traceback (most recent call last)",
      "Cell \u001b[0;32mIn[209], line 1\u001b[0m\n\u001b[0;32m----> 1\u001b[0m \u001b[38;5;28;43mnext\u001b[39;49m\u001b[43m(\u001b[49m\u001b[43mr\u001b[49m\u001b[43m)\u001b[49m\n",
      "\u001b[0;31mTypeError\u001b[0m: 'range' object is not an iterator"
     ]
    }
   ],
   "source": [
    "next(r)"
   ]
  },
  {
   "cell_type": "code",
   "execution_count": 210,
   "id": "8ed98eaa-9340-4129-9104-2a868e90d7c6",
   "metadata": {},
   "outputs": [],
   "source": [
    "ir = iter(r)"
   ]
  },
  {
   "cell_type": "code",
   "execution_count": 211,
   "id": "8d028c4b-c4de-4444-a1c9-1fa24087fca2",
   "metadata": {},
   "outputs": [
    {
     "data": {
      "text/plain": [
       "<range_iterator at 0x7f3224a3f4b0>"
      ]
     },
     "execution_count": 211,
     "metadata": {},
     "output_type": "execute_result"
    }
   ],
   "source": [
    "ir"
   ]
  },
  {
   "cell_type": "code",
   "execution_count": 213,
   "id": "2261e6da-2ad7-436e-98a9-a7d4f66f0c40",
   "metadata": {},
   "outputs": [
    {
     "data": {
      "text/plain": [
       "0"
      ]
     },
     "execution_count": 213,
     "metadata": {},
     "output_type": "execute_result"
    }
   ],
   "source": [
    "next(ir)"
   ]
  },
  {
   "cell_type": "code",
   "execution_count": 214,
   "id": "533c5ca4-48ac-4791-9421-73db0a5035a6",
   "metadata": {},
   "outputs": [
    {
     "data": {
      "text/plain": [
       "1"
      ]
     },
     "execution_count": 214,
     "metadata": {},
     "output_type": "execute_result"
    }
   ],
   "source": [
    "next(ir)"
   ]
  },
  {
   "cell_type": "code",
   "execution_count": 224,
   "id": "d360655b-6b00-498b-b1ca-4f3321398bd2",
   "metadata": {},
   "outputs": [],
   "source": [
    "def all_arrangements(num_workers: int, num_stations: int) -> Generator[tuple, None, None]:\n",
    "    for option in itertools.combinations_with_replacement(range(num_stations), num_workers):\n",
    "        the_count = collections.Counter(option)\n",
    "        candidate = tuple(the_count[x] for x in range(num_stations))\n",
    "        if all(x > 0 for x in candidate):\n",
    "            yield candidate"
   ]
  },
  {
   "cell_type": "code",
   "execution_count": 225,
   "id": "e74f0548-24e7-4520-a0d7-2a2e223584b2",
   "metadata": {},
   "outputs": [
    {
     "data": {
      "text/plain": [
       "[(3, 1, 1), (2, 2, 1), (2, 1, 2), (1, 3, 1), (1, 2, 2), (1, 1, 3)]"
      ]
     },
     "execution_count": 225,
     "metadata": {},
     "output_type": "execute_result"
    }
   ],
   "source": [
    "list(all_arrangements(5, 3))"
   ]
  },
  {
   "cell_type": "code",
   "execution_count": 227,
   "id": "688d6f4a-ca9c-477d-b3aa-8180d7c1a5c1",
   "metadata": {},
   "outputs": [
    {
     "data": {
      "text/html": [
       "<div>\n",
       "<style scoped>\n",
       "    .dataframe tbody tr th:only-of-type {\n",
       "        vertical-align: middle;\n",
       "    }\n",
       "\n",
       "    .dataframe tbody tr th {\n",
       "        vertical-align: top;\n",
       "    }\n",
       "\n",
       "    .dataframe thead th {\n",
       "        text-align: right;\n",
       "    }\n",
       "</style>\n",
       "<table border=\"1\" class=\"dataframe\">\n",
       "  <thead>\n",
       "    <tr style=\"text-align: right;\">\n",
       "      <th></th>\n",
       "      <th>S1</th>\n",
       "      <th>S2</th>\n",
       "      <th>S3</th>\n",
       "    </tr>\n",
       "  </thead>\n",
       "  <tbody>\n",
       "    <tr>\n",
       "      <th>0</th>\n",
       "      <td>3</td>\n",
       "      <td>1</td>\n",
       "      <td>1</td>\n",
       "    </tr>\n",
       "    <tr>\n",
       "      <th>1</th>\n",
       "      <td>2</td>\n",
       "      <td>2</td>\n",
       "      <td>1</td>\n",
       "    </tr>\n",
       "    <tr>\n",
       "      <th>2</th>\n",
       "      <td>2</td>\n",
       "      <td>1</td>\n",
       "      <td>2</td>\n",
       "    </tr>\n",
       "    <tr>\n",
       "      <th>3</th>\n",
       "      <td>1</td>\n",
       "      <td>3</td>\n",
       "      <td>1</td>\n",
       "    </tr>\n",
       "    <tr>\n",
       "      <th>4</th>\n",
       "      <td>1</td>\n",
       "      <td>2</td>\n",
       "      <td>2</td>\n",
       "    </tr>\n",
       "    <tr>\n",
       "      <th>5</th>\n",
       "      <td>1</td>\n",
       "      <td>1</td>\n",
       "      <td>3</td>\n",
       "    </tr>\n",
       "  </tbody>\n",
       "</table>\n",
       "</div>"
      ],
      "text/plain": [
       "   S1  S2  S3\n",
       "0   3   1   1\n",
       "1   2   2   1\n",
       "2   2   1   2\n",
       "3   1   3   1\n",
       "4   1   2   2\n",
       "5   1   1   3"
      ]
     },
     "execution_count": 227,
     "metadata": {},
     "output_type": "execute_result"
    }
   ],
   "source": [
    "pd.DataFrame.from_records(all_arrangements(5, 3), columns=\"S1 S2 S3\".split())"
   ]
  },
  {
   "cell_type": "code",
   "execution_count": null,
   "id": "c7c23793-bba5-448d-8aa9-fde0f2b26d1c",
   "metadata": {},
   "outputs": [],
   "source": []
  }
 ],
 "metadata": {
  "kernelspec": {
   "display_name": "Python 3 (ipykernel)",
   "language": "python",
   "name": "python3"
  },
  "language_info": {
   "codemirror_mode": {
    "name": "ipython",
    "version": 3
   },
   "file_extension": ".py",
   "mimetype": "text/x-python",
   "name": "python",
   "nbconvert_exporter": "python",
   "pygments_lexer": "ipython3",
   "version": "3.8.10"
  }
 },
 "nbformat": 4,
 "nbformat_minor": 5
}

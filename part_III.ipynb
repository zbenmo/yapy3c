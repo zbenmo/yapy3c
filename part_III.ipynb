{
 "cells": [
  {
   "cell_type": "code",
   "execution_count": 10,
   "id": "fcd38b27-e83c-43b7-aaac-42ab0420e856",
   "metadata": {
    "tags": []
   },
   "outputs": [],
   "source": [
    "def scan(a, b, c):\n",
    "    \"Does something interesting with the arguments passed to it in the parameters 'a', 'b', and 'c'\"\n",
    "    \n",
    "    for num in range(a, b):\n",
    "        for add in range(c):\n",
    "            print(num + add, end=', ')\n",
    "        print()"
   ]
  },
  {
   "cell_type": "code",
   "execution_count": 11,
   "id": "1a2bf933-28b2-44b3-a030-1a37320e01f1",
   "metadata": {
    "tags": []
   },
   "outputs": [
    {
     "name": "stdout",
     "output_type": "stream",
     "text": [
      "2, 3, 4, 5, 6, 7, 8, \n",
      "3, 4, 5, 6, 7, 8, 9, \n",
      "4, 5, 6, 7, 8, 9, 10, \n"
     ]
    }
   ],
   "source": [
    "scan(2, 5, 7)"
   ]
  },
  {
   "cell_type": "code",
   "execution_count": 12,
   "id": "66a75d6a-d0c0-4e02-a7b1-06473852f76f",
   "metadata": {
    "tags": []
   },
   "outputs": [],
   "source": [
    "def deep_neural_network(how_deep):\n",
    "  \"\"\"\n",
    "This function constructs a DNN based on your specification\n",
    "Please take into consideration the benefits of a deep network,\n",
    "versus the downsides.\"\"\"\n",
    "\n",
    "  pass"
   ]
  },
  {
   "cell_type": "code",
   "execution_count": 14,
   "id": "24f8c54a-5e4a-4a08-8d17-f86bfe26b305",
   "metadata": {
    "tags": []
   },
   "outputs": [
    {
     "data": {
      "text/plain": [
       "\u001b[0;31mSignature:\u001b[0m \u001b[0mdeep_neural_network\u001b[0m\u001b[0;34m(\u001b[0m\u001b[0mhow_deep\u001b[0m\u001b[0;34m)\u001b[0m\u001b[0;34m\u001b[0m\u001b[0;34m\u001b[0m\u001b[0m\n",
       "\u001b[0;31mDocstring:\u001b[0m\n",
       "This function constructs a DNN based on your specification\n",
       "Please take into consideration the benefits of a deep network,\n",
       "versus the downsides.\n",
       "\u001b[0;31mFile:\u001b[0m      /tmp/ipykernel_566/1092418094.py\n",
       "\u001b[0;31mType:\u001b[0m      function"
      ]
     },
     "metadata": {},
     "output_type": "display_data"
    }
   ],
   "source": [
    "deep_neural_network?"
   ]
  },
  {
   "cell_type": "code",
   "execution_count": 16,
   "id": "4f1b3b75-4a3a-4818-935e-46a84a7a1364",
   "metadata": {
    "tags": []
   },
   "outputs": [
    {
     "data": {
      "text/plain": [
       "NoneType"
      ]
     },
     "execution_count": 16,
     "metadata": {},
     "output_type": "execute_result"
    }
   ],
   "source": [
    "type(deep_neural_network(5))"
   ]
  },
  {
   "cell_type": "code",
   "execution_count": 17,
   "id": "9a1e8202-7834-49ea-a2a1-2038800a5d53",
   "metadata": {
    "tags": []
   },
   "outputs": [
    {
     "data": {
      "text/plain": [
       "NoneType"
      ]
     },
     "execution_count": 17,
     "metadata": {},
     "output_type": "execute_result"
    }
   ],
   "source": [
    "type(None)"
   ]
  },
  {
   "cell_type": "code",
   "execution_count": 19,
   "id": "79548d25-02d9-42f8-84e3-2dcb82ee5443",
   "metadata": {
    "tags": []
   },
   "outputs": [
    {
     "name": "stdout",
     "output_type": "stream",
     "text": [
      "<function deep_neural_network at 0x7f1b05b2b1f0>\n"
     ]
    }
   ],
   "source": [
    "print(deep_neural_network)"
   ]
  },
  {
   "cell_type": "code",
   "execution_count": 27,
   "id": "55ed00c6-1e1d-4ec9-809c-39ef11f5d006",
   "metadata": {
    "tags": []
   },
   "outputs": [],
   "source": [
    "s1 = set(\"hello\")"
   ]
  },
  {
   "cell_type": "code",
   "execution_count": 21,
   "id": "521f1aab-fed1-4d0f-b0e0-e98a9844d902",
   "metadata": {
    "tags": []
   },
   "outputs": [
    {
     "data": {
      "text/plain": [
       "{'e', 'h', 'l', 'o'}"
      ]
     },
     "execution_count": 21,
     "metadata": {},
     "output_type": "execute_result"
    }
   ],
   "source": [
    "s1"
   ]
  },
  {
   "cell_type": "code",
   "execution_count": 22,
   "id": "bee16286-e995-4455-ab46-fe172a5a78a8",
   "metadata": {
    "tags": []
   },
   "outputs": [],
   "source": [
    "s2 = set(\"bye\")"
   ]
  },
  {
   "cell_type": "code",
   "execution_count": 23,
   "id": "003ca5f0-a4fd-478a-bfba-dab7d37e2d39",
   "metadata": {
    "tags": []
   },
   "outputs": [
    {
     "data": {
      "text/plain": [
       "{'b', 'e', 'y'}"
      ]
     },
     "execution_count": 23,
     "metadata": {},
     "output_type": "execute_result"
    }
   ],
   "source": [
    "s2"
   ]
  },
  {
   "cell_type": "code",
   "execution_count": 24,
   "id": "e96f1aec-99f7-4dea-965b-7c35e2153d06",
   "metadata": {
    "tags": []
   },
   "outputs": [
    {
     "data": {
      "text/plain": [
       "{'e'}"
      ]
     },
     "execution_count": 24,
     "metadata": {},
     "output_type": "execute_result"
    }
   ],
   "source": [
    "s1 & s2"
   ]
  },
  {
   "cell_type": "code",
   "execution_count": 25,
   "id": "230925a6-a33a-48b8-8294-eb7c2975605c",
   "metadata": {
    "tags": []
   },
   "outputs": [
    {
     "data": {
      "text/plain": [
       "{'h', 'l', 'o'}"
      ]
     },
     "execution_count": 25,
     "metadata": {},
     "output_type": "execute_result"
    }
   ],
   "source": [
    "s1 - s2"
   ]
  },
  {
   "cell_type": "code",
   "execution_count": 26,
   "id": "4530e545-b91c-48d9-b661-d39109fce05a",
   "metadata": {
    "tags": []
   },
   "outputs": [
    {
     "data": {
      "text/plain": [
       "{'b', 'y'}"
      ]
     },
     "execution_count": 26,
     "metadata": {},
     "output_type": "execute_result"
    }
   ],
   "source": [
    "s2 - s1"
   ]
  },
  {
   "cell_type": "code",
   "execution_count": 28,
   "id": "81d383b2-fd51-4510-a8f6-06528497eeaf",
   "metadata": {
    "tags": []
   },
   "outputs": [
    {
     "data": {
      "text/plain": [
       "({'e', 'h', 'l', 'o'}, {'b', 'e', 'y'})"
      ]
     },
     "execution_count": 28,
     "metadata": {},
     "output_type": "execute_result"
    }
   ],
   "source": [
    "s1, s2"
   ]
  },
  {
   "cell_type": "code",
   "execution_count": 29,
   "id": "70d89919-0c20-48ba-8528-c35f486b45bc",
   "metadata": {
    "tags": []
   },
   "outputs": [
    {
     "data": {
      "text/plain": [
       "({'e'}, {'h', 'l', 'o'}, {'b', 'y'})"
      ]
     },
     "execution_count": 29,
     "metadata": {},
     "output_type": "execute_result"
    }
   ],
   "source": [
    "s1 & s2, s1 - s2, s2 - s1"
   ]
  },
  {
   "cell_type": "code",
   "execution_count": 30,
   "id": "dbba4066-afeb-4ad4-9b98-3ba5a26b86a0",
   "metadata": {
    "tags": []
   },
   "outputs": [
    {
     "data": {
      "text/plain": [
       "dict"
      ]
     },
     "execution_count": 30,
     "metadata": {},
     "output_type": "execute_result"
    }
   ],
   "source": [
    "type({})"
   ]
  },
  {
   "cell_type": "code",
   "execution_count": 45,
   "id": "aed60f1c-da66-40b2-9c17-b86627ce86b8",
   "metadata": {
    "tags": []
   },
   "outputs": [
    {
     "data": {
      "text/plain": [
       "['Welcome', 'to', 'my', 'show!']"
      ]
     },
     "execution_count": 45,
     "metadata": {},
     "output_type": "execute_result"
    }
   ],
   "source": [
    "words = \"Welcome to my show!\".split(); words"
   ]
  },
  {
   "cell_type": "code",
   "execution_count": 39,
   "id": "577057fd-926b-410f-b3bd-0e3bb612b06e",
   "metadata": {
    "tags": []
   },
   "outputs": [
    {
     "data": {
      "text/plain": [
       "['Welcome', 'to', 'my', 'show!']"
      ]
     },
     "execution_count": 39,
     "metadata": {},
     "output_type": "execute_result"
    }
   ],
   "source": [
    "words"
   ]
  },
  {
   "cell_type": "code",
   "execution_count": 40,
   "id": "c4048729-bf81-4e98-81f0-e07b6428a19d",
   "metadata": {
    "tags": []
   },
   "outputs": [],
   "source": [
    "words_lower = [word.lower() for word in words]"
   ]
  },
  {
   "cell_type": "code",
   "execution_count": 41,
   "id": "ab37c2d7-a21e-4122-b59c-89d21ef162ed",
   "metadata": {
    "tags": []
   },
   "outputs": [
    {
     "data": {
      "text/plain": [
       "['welcome', 'to', 'my', 'show!']"
      ]
     },
     "execution_count": 41,
     "metadata": {},
     "output_type": "execute_result"
    }
   ],
   "source": [
    "words_lower"
   ]
  },
  {
   "cell_type": "code",
   "execution_count": 43,
   "id": "73927be9-9d10-44e2-8216-d5d6fc2fba57",
   "metadata": {
    "tags": []
   },
   "outputs": [],
   "source": [
    "words_lower = []\n",
    "for word in words:\n",
    "    words_lower.append(word.lower())"
   ]
  },
  {
   "cell_type": "code",
   "execution_count": 44,
   "id": "a0b2943f-1f64-4568-ab7d-931eca79d2ab",
   "metadata": {
    "tags": []
   },
   "outputs": [
    {
     "data": {
      "text/plain": [
       "['welcome', 'to', 'my', 'show!']"
      ]
     },
     "execution_count": 44,
     "metadata": {},
     "output_type": "execute_result"
    }
   ],
   "source": [
    "words_lower"
   ]
  },
  {
   "cell_type": "code",
   "execution_count": 47,
   "id": "26b7ad97-11fc-4341-9d2b-cca972132e9b",
   "metadata": {
    "tags": []
   },
   "outputs": [
    {
     "data": {
      "text/plain": [
       "['welcome', 'my', 'show!']"
      ]
     },
     "execution_count": 47,
     "metadata": {},
     "output_type": "execute_result"
    }
   ],
   "source": [
    "words_filtered = [word for word in words_lower if word not in {'from', 'to', 'cc'}]; words_filtered"
   ]
  },
  {
   "cell_type": "code",
   "execution_count": 50,
   "id": "6f79ee36-88b7-4a03-afc0-96fa3cd222e0",
   "metadata": {
    "tags": []
   },
   "outputs": [
    {
     "data": {
      "text/plain": [
       "{'apple': 5, 'banana': 6, 'orange': 6}"
      ]
     },
     "execution_count": 50,
     "metadata": {},
     "output_type": "execute_result"
    }
   ],
   "source": [
    "fruits = [\"apple\", \"banana\", \"orange\"]\n",
    "lens = {fruit: len(fruit) for fruit in fruits}; lens"
   ]
  },
  {
   "cell_type": "code",
   "execution_count": 49,
   "id": "bfe95e08-b9ca-4466-b011-93eda9fa85d9",
   "metadata": {
    "tags": []
   },
   "outputs": [
    {
     "data": {
      "text/plain": [
       "{'apple': 5, 'banana': 6, 'orange': 6}"
      ]
     },
     "execution_count": 49,
     "metadata": {},
     "output_type": "execute_result"
    }
   ],
   "source": [
    "lens"
   ]
  },
  {
   "cell_type": "code",
   "execution_count": 51,
   "id": "9cc9d322-d0a0-4357-90f0-e2a432bb6f26",
   "metadata": {
    "tags": []
   },
   "outputs": [
    {
     "data": {
      "text/plain": [
       "{1: 'I', 5: 'V', 10: 'X'}"
      ]
     },
     "execution_count": 51,
     "metadata": {},
     "output_type": "execute_result"
    }
   ],
   "source": [
    "roman_numbers = {'I': 1, 'V' : 5, 'X': 10}\n",
    "arabic_numbers = {v: k for k, v in roman_numbers.items()}; arabic_numbers"
   ]
  },
  {
   "cell_type": "code",
   "execution_count": 57,
   "id": "ef930fd5-80fc-44ab-8c31-a475eca482bb",
   "metadata": {
    "tags": []
   },
   "outputs": [
    {
     "data": {
      "text/plain": [
       "<enumerate at 0x7f1b05a60340>"
      ]
     },
     "execution_count": 57,
     "metadata": {},
     "output_type": "execute_result"
    }
   ],
   "source": [
    "enumerate(list(\"groceries\"))"
   ]
  },
  {
   "cell_type": "code",
   "execution_count": 58,
   "id": "d004a8bb-5547-4607-8722-22cefb957620",
   "metadata": {
    "tags": []
   },
   "outputs": [
    {
     "data": {
      "text/plain": [
       "[(0, 'g'),\n",
       " (1, 'r'),\n",
       " (2, 'o'),\n",
       " (3, 'c'),\n",
       " (4, 'e'),\n",
       " (5, 'r'),\n",
       " (6, 'i'),\n",
       " (7, 'e'),\n",
       " (8, 's')]"
      ]
     },
     "execution_count": 58,
     "metadata": {},
     "output_type": "execute_result"
    }
   ],
   "source": [
    "list(enumerate(list(\"groceries\")))"
   ]
  },
  {
   "cell_type": "code",
   "execution_count": 83,
   "id": "8e835602-5d73-43f0-96ea-f6585561088a",
   "metadata": {
    "tags": []
   },
   "outputs": [],
   "source": [
    "def from_roman(roman):\n",
    "    \"\"\"\n",
    "    This function receives a roman number as a string and returns the number.\n",
    "\n",
    "    >>> from_roman(\"VII\")\n",
    "    7\n",
    "    >>> from_roman(\"IV\")\n",
    "    4\n",
    "    >>> from_roman(\"XIV\")\n",
    "    14\n",
    "    >>> from_roman(\"XVIII\")\n",
    "    18\n",
    "    >>> from_roman(\"MMM\")\n",
    "    ValueError                                Traceback (most recent call last)\n",
    "        ...\n",
    "    ValueError: Don't know to handle 'M'.    \n",
    "    \"\"\"\n",
    "    \n",
    "    mapping = {'I': 1, 'V': 5, 'X': 10}\n",
    "    \n",
    "    arabic = 0\n",
    "    prev_val = 0\n",
    "    for c in reversed(roman):\n",
    "        val = mapping.get(c, None)\n",
    "        if val is None:\n",
    "            raise ValueError(f\"Don't know to handle '{c}'.\")\n",
    "        if val >= prev_val:\n",
    "            arabic += val\n",
    "        else:\n",
    "            arabic -= val\n",
    "        prev_val = val\n",
    "    return arabic"
   ]
  },
  {
   "cell_type": "code",
   "execution_count": 84,
   "id": "fc5a17f3-7371-49e5-a876-64df7fd7b2ec",
   "metadata": {
    "tags": []
   },
   "outputs": [
    {
     "data": {
      "text/plain": [
       "7"
      ]
     },
     "execution_count": 84,
     "metadata": {},
     "output_type": "execute_result"
    }
   ],
   "source": [
    "from_roman(\"VII\")"
   ]
  },
  {
   "cell_type": "code",
   "execution_count": 85,
   "id": "1ed907ed-f64d-49b2-86e1-251a5379746e",
   "metadata": {
    "tags": []
   },
   "outputs": [
    {
     "data": {
      "text/plain": [
       "4"
      ]
     },
     "execution_count": 85,
     "metadata": {},
     "output_type": "execute_result"
    }
   ],
   "source": [
    "from_roman(\"IV\")"
   ]
  },
  {
   "cell_type": "code",
   "execution_count": 86,
   "id": "2eaacf55-4a2a-4309-a94f-1bd868cd120b",
   "metadata": {
    "tags": []
   },
   "outputs": [
    {
     "data": {
      "text/plain": [
       "14"
      ]
     },
     "execution_count": 86,
     "metadata": {},
     "output_type": "execute_result"
    }
   ],
   "source": [
    "from_roman(\"XIV\")"
   ]
  },
  {
   "cell_type": "code",
   "execution_count": 87,
   "id": "ebdcc376-c950-424d-b769-53e2d0e16bcb",
   "metadata": {
    "tags": []
   },
   "outputs": [
    {
     "data": {
      "text/plain": [
       "9"
      ]
     },
     "execution_count": 87,
     "metadata": {},
     "output_type": "execute_result"
    }
   ],
   "source": [
    "from_roman(\"IX\")"
   ]
  },
  {
   "cell_type": "code",
   "execution_count": 88,
   "id": "1e2dae37-ad71-4eda-afc6-7de0ad6e4061",
   "metadata": {
    "tags": []
   },
   "outputs": [
    {
     "data": {
      "text/plain": [
       "18"
      ]
     },
     "execution_count": 88,
     "metadata": {},
     "output_type": "execute_result"
    }
   ],
   "source": [
    "from_roman(\"XVIII\")"
   ]
  },
  {
   "cell_type": "code",
   "execution_count": 89,
   "id": "4c7c6c0e-1aaf-4b83-8534-ad345f4afe1b",
   "metadata": {
    "tags": []
   },
   "outputs": [
    {
     "ename": "ValueError",
     "evalue": "Don't know to handle 'M'.",
     "output_type": "error",
     "traceback": [
      "\u001b[0;31m---------------------------------------------------------------------------\u001b[0m",
      "\u001b[0;31mValueError\u001b[0m                                Traceback (most recent call last)",
      "Cell \u001b[0;32mIn[89], line 1\u001b[0m\n\u001b[0;32m----> 1\u001b[0m \u001b[43mfrom_roman\u001b[49m\u001b[43m(\u001b[49m\u001b[38;5;124;43m\"\u001b[39;49m\u001b[38;5;124;43mMMM\u001b[39;49m\u001b[38;5;124;43m\"\u001b[39;49m\u001b[43m)\u001b[49m\n",
      "Cell \u001b[0;32mIn[83], line 11\u001b[0m, in \u001b[0;36mfrom_roman\u001b[0;34m(roman)\u001b[0m\n\u001b[1;32m      9\u001b[0m val \u001b[38;5;241m=\u001b[39m mapping\u001b[38;5;241m.\u001b[39mget(c, \u001b[38;5;28;01mNone\u001b[39;00m)\n\u001b[1;32m     10\u001b[0m \u001b[38;5;28;01mif\u001b[39;00m val \u001b[38;5;129;01mis\u001b[39;00m \u001b[38;5;28;01mNone\u001b[39;00m:\n\u001b[0;32m---> 11\u001b[0m     \u001b[38;5;28;01mraise\u001b[39;00m \u001b[38;5;167;01mValueError\u001b[39;00m(\u001b[38;5;124mf\u001b[39m\u001b[38;5;124m\"\u001b[39m\u001b[38;5;124mDon\u001b[39m\u001b[38;5;124m'\u001b[39m\u001b[38;5;124mt know to handle \u001b[39m\u001b[38;5;124m'\u001b[39m\u001b[38;5;132;01m{\u001b[39;00mc\u001b[38;5;132;01m}\u001b[39;00m\u001b[38;5;124m'\u001b[39m\u001b[38;5;124m.\u001b[39m\u001b[38;5;124m\"\u001b[39m)\n\u001b[1;32m     12\u001b[0m \u001b[38;5;28;01mif\u001b[39;00m val \u001b[38;5;241m>\u001b[39m\u001b[38;5;241m=\u001b[39m prev_val:\n\u001b[1;32m     13\u001b[0m     arabic \u001b[38;5;241m+\u001b[39m\u001b[38;5;241m=\u001b[39m val\n",
      "\u001b[0;31mValueError\u001b[0m: Don't know to handle 'M'."
     ]
    }
   ],
   "source": [
    "from_roman(\"MMM\")"
   ]
  },
  {
   "cell_type": "code",
   "execution_count": 6,
   "id": "a01387f1-53f1-4afa-9133-8370f04a697e",
   "metadata": {
    "tags": []
   },
   "outputs": [],
   "source": [
    "def from_roman2(roman):\n",
    "    \"\"\"\n",
    "    This function receives a roman number as a string and returns the number.\n",
    "\n",
    "    >>> from_roman2(\"VII\")\n",
    "    7\n",
    "    >>> from_roman2(\"IV\")\n",
    "    4\n",
    "    >>> from_roman2(\"XIV\")\n",
    "    14\n",
    "    >>> from_roman2(\"XVIII\")\n",
    "    18\n",
    "    >>> from_roman2(\"MMM\")\n",
    "    ValueError                                Traceback (most recent call last)\n",
    "        ...\n",
    "    ValueError: Don't know to handle 'M'.    \n",
    "    \"\"\"\n",
    "    \n",
    "    if len(roman) < 1:\n",
    "        return 0\n",
    "    \n",
    "    mapping = {'I': 1, 'V': 5, 'X': 10}\n",
    "    \n",
    "    values = [mapping.get(c, None) for c in roman]\n",
    "    if None in values:\n",
    "        c = next(c for c, v in zip(roman, values) if v is None) # returns the (next) first occurance\n",
    "        raise ValueError(f\"Don't know to handle '{c}'.\")\n",
    "    # the sign +1 or -1\n",
    "    add_or_sub = [1 if v1 >= v2 else -1 for v1, v2 in zip(values[:-1], values[1:])]\n",
    "    assert len(values) - 1 == len(add_or_sub)\n",
    "    add_or_sub.append(+1) # right most element is added.\n",
    "    return sum(v * s for v, s in zip(values, add_or_sub))"
   ]
  },
  {
   "cell_type": "code",
   "execution_count": 7,
   "id": "caf767de-a50c-4a41-8ee1-b679846115aa",
   "metadata": {
    "tags": []
   },
   "outputs": [
    {
     "data": {
      "text/plain": [
       "7"
      ]
     },
     "execution_count": 7,
     "metadata": {},
     "output_type": "execute_result"
    }
   ],
   "source": [
    "from_roman2(\"VII\")"
   ]
  },
  {
   "cell_type": "code",
   "execution_count": 8,
   "id": "8c08a850-d483-4b85-8e20-f8c8cef4c2ed",
   "metadata": {
    "tags": []
   },
   "outputs": [
    {
     "data": {
      "text/plain": [
       "[(0, 'a', 'f'), (1, 'b', 'g'), (2, 'c', 'h')]"
      ]
     },
     "execution_count": 8,
     "metadata": {},
     "output_type": "execute_result"
    }
   ],
   "source": [
    "list(zip(range(3), \"abc\", \"fgh\"))"
   ]
  },
  {
   "cell_type": "code",
   "execution_count": 9,
   "id": "fc114112-e32c-48c1-b0e9-15fbbea46b85",
   "metadata": {
    "tags": []
   },
   "outputs": [
    {
     "ename": "ValueError",
     "evalue": "Don't know to handle 'M'.",
     "output_type": "error",
     "traceback": [
      "\u001b[0;31m---------------------------------------------------------------------------\u001b[0m",
      "\u001b[0;31mValueError\u001b[0m                                Traceback (most recent call last)",
      "Cell \u001b[0;32mIn[9], line 1\u001b[0m\n\u001b[0;32m----> 1\u001b[0m \u001b[43mfrom_roman2\u001b[49m\u001b[43m(\u001b[49m\u001b[38;5;124;43m\"\u001b[39;49m\u001b[38;5;124;43mMMM\u001b[39;49m\u001b[38;5;124;43m\"\u001b[39;49m\u001b[43m)\u001b[49m\n",
      "Cell \u001b[0;32mIn[6], line 27\u001b[0m, in \u001b[0;36mfrom_roman2\u001b[0;34m(roman)\u001b[0m\n\u001b[1;32m     25\u001b[0m \u001b[38;5;28;01mif\u001b[39;00m \u001b[38;5;28;01mNone\u001b[39;00m \u001b[38;5;129;01min\u001b[39;00m values:\n\u001b[1;32m     26\u001b[0m     c \u001b[38;5;241m=\u001b[39m \u001b[38;5;28mnext\u001b[39m(c \u001b[38;5;28;01mfor\u001b[39;00m c, v \u001b[38;5;129;01min\u001b[39;00m \u001b[38;5;28mzip\u001b[39m(roman, values) \u001b[38;5;28;01mif\u001b[39;00m v \u001b[38;5;129;01mis\u001b[39;00m \u001b[38;5;28;01mNone\u001b[39;00m) \u001b[38;5;66;03m# returns the (next) first occurance\u001b[39;00m\n\u001b[0;32m---> 27\u001b[0m     \u001b[38;5;28;01mraise\u001b[39;00m \u001b[38;5;167;01mValueError\u001b[39;00m(\u001b[38;5;124mf\u001b[39m\u001b[38;5;124m\"\u001b[39m\u001b[38;5;124mDon\u001b[39m\u001b[38;5;124m'\u001b[39m\u001b[38;5;124mt know to handle \u001b[39m\u001b[38;5;124m'\u001b[39m\u001b[38;5;132;01m{\u001b[39;00mc\u001b[38;5;132;01m}\u001b[39;00m\u001b[38;5;124m'\u001b[39m\u001b[38;5;124m.\u001b[39m\u001b[38;5;124m\"\u001b[39m)\n\u001b[1;32m     28\u001b[0m \u001b[38;5;66;03m# the sign +1 or -1\u001b[39;00m\n\u001b[1;32m     29\u001b[0m add_or_sub \u001b[38;5;241m=\u001b[39m [\u001b[38;5;241m1\u001b[39m \u001b[38;5;28;01mif\u001b[39;00m v1 \u001b[38;5;241m>\u001b[39m\u001b[38;5;241m=\u001b[39m v2 \u001b[38;5;28;01melse\u001b[39;00m \u001b[38;5;241m-\u001b[39m\u001b[38;5;241m1\u001b[39m \u001b[38;5;28;01mfor\u001b[39;00m v1, v2 \u001b[38;5;129;01min\u001b[39;00m \u001b[38;5;28mzip\u001b[39m(values[:\u001b[38;5;241m-\u001b[39m\u001b[38;5;241m1\u001b[39m], values[\u001b[38;5;241m1\u001b[39m:])]\n",
      "\u001b[0;31mValueError\u001b[0m: Don't know to handle 'M'."
     ]
    }
   ],
   "source": [
    "from_roman2(\"MMM\")"
   ]
  },
  {
   "cell_type": "code",
   "execution_count": 10,
   "id": "80882d03-7911-4a13-9618-43148d8ed9cd",
   "metadata": {
    "tags": []
   },
   "outputs": [
    {
     "data": {
      "text/plain": [
       "0"
      ]
     },
     "execution_count": 10,
     "metadata": {},
     "output_type": "execute_result"
    }
   ],
   "source": [
    "from_roman2(\"\")"
   ]
  },
  {
   "cell_type": "code",
   "execution_count": null,
   "id": "7b051376-ede6-471e-baa6-ef7610b951a5",
   "metadata": {},
   "outputs": [],
   "source": []
  }
 ],
 "metadata": {
  "kernelspec": {
   "display_name": "Python 3 (ipykernel)",
   "language": "python",
   "name": "python3"
  },
  "language_info": {
   "codemirror_mode": {
    "name": "ipython",
    "version": 3
   },
   "file_extension": ".py",
   "mimetype": "text/x-python",
   "name": "python",
   "nbconvert_exporter": "python",
   "pygments_lexer": "ipython3",
   "version": "3.8.10"
  }
 },
 "nbformat": 4,
 "nbformat_minor": 5
}

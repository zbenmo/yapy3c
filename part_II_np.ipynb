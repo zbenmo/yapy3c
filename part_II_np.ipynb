{
 "cells": [
  {
   "cell_type": "code",
   "execution_count": 1,
   "id": "6c455ac9-b55a-4d90-954b-65ce298614cb",
   "metadata": {
    "tags": []
   },
   "outputs": [],
   "source": [
    "import numpy as np"
   ]
  },
  {
   "cell_type": "code",
   "execution_count": 2,
   "id": "456f3199-6ccb-49a0-96b3-2692f3eb1543",
   "metadata": {
    "tags": []
   },
   "outputs": [],
   "source": [
    "arr = np.array([1, 2, 3])"
   ]
  },
  {
   "cell_type": "code",
   "execution_count": 3,
   "id": "13a8ade5-7d81-4f22-a788-30dc74300f79",
   "metadata": {
    "tags": []
   },
   "outputs": [
    {
     "data": {
      "text/plain": [
       "array([1, 2, 3])"
      ]
     },
     "execution_count": 3,
     "metadata": {},
     "output_type": "execute_result"
    }
   ],
   "source": [
    "arr"
   ]
  },
  {
   "cell_type": "code",
   "execution_count": 4,
   "id": "f4e425a6-4ff3-4718-9414-3f1e234a4b31",
   "metadata": {
    "tags": []
   },
   "outputs": [
    {
     "data": {
      "text/plain": [
       "numpy.ndarray"
      ]
     },
     "execution_count": 4,
     "metadata": {},
     "output_type": "execute_result"
    }
   ],
   "source": [
    "type(arr)"
   ]
  },
  {
   "cell_type": "code",
   "execution_count": 5,
   "id": "181889b0-0a04-4351-973b-fe6b6bfed7ee",
   "metadata": {
    "tags": []
   },
   "outputs": [
    {
     "data": {
      "text/plain": [
       "(3,)"
      ]
     },
     "execution_count": 5,
     "metadata": {},
     "output_type": "execute_result"
    }
   ],
   "source": [
    "arr.shape"
   ]
  },
  {
   "cell_type": "code",
   "execution_count": 6,
   "id": "bdcf8e09-a8c1-45e4-b2c5-fe0e73401459",
   "metadata": {
    "tags": []
   },
   "outputs": [
    {
     "data": {
      "text/plain": [
       "3"
      ]
     },
     "execution_count": 6,
     "metadata": {},
     "output_type": "execute_result"
    }
   ],
   "source": [
    "len(arr)"
   ]
  },
  {
   "cell_type": "code",
   "execution_count": 10,
   "id": "468bc2cc-4fdc-4097-aee0-04760c88b87d",
   "metadata": {
    "tags": []
   },
   "outputs": [
    {
     "data": {
      "text/plain": [
       "\u001b[0;31mType:\u001b[0m        tuple\n",
       "\u001b[0;31mString form:\u001b[0m (3,)\n",
       "\u001b[0;31mLength:\u001b[0m      1\n",
       "\u001b[0;31mDocstring:\u001b[0m  \n",
       "Built-in immutable sequence.\n",
       "\n",
       "If no argument is given, the constructor returns an empty tuple.\n",
       "If iterable is specified the tuple is initialized from iterable's items.\n",
       "\n",
       "If the argument is a tuple, the return value is the same object."
      ]
     },
     "metadata": {},
     "output_type": "display_data"
    }
   ],
   "source": [
    "arr.shape?"
   ]
  },
  {
   "cell_type": "code",
   "execution_count": 8,
   "id": "a1cd31bd-504a-413a-bf44-b4e772889817",
   "metadata": {
    "tags": []
   },
   "outputs": [
    {
     "data": {
      "text/plain": [
       "tuple"
      ]
     },
     "execution_count": 8,
     "metadata": {},
     "output_type": "execute_result"
    }
   ],
   "source": [
    "type(arr.shape)"
   ]
  },
  {
   "cell_type": "code",
   "execution_count": 11,
   "id": "ee21db6c-df5d-4763-8a39-a4b780dfb202",
   "metadata": {
    "tags": []
   },
   "outputs": [
    {
     "data": {
      "text/plain": [
       "dtype('int64')"
      ]
     },
     "execution_count": 11,
     "metadata": {},
     "output_type": "execute_result"
    }
   ],
   "source": [
    "arr.dtype"
   ]
  },
  {
   "cell_type": "code",
   "execution_count": 12,
   "id": "57cd1af9-c733-4e21-8302-2c9f1ffa1fb7",
   "metadata": {
    "tags": []
   },
   "outputs": [
    {
     "data": {
      "text/plain": [
       "1"
      ]
     },
     "execution_count": 12,
     "metadata": {},
     "output_type": "execute_result"
    }
   ],
   "source": [
    "len(arr.shape)"
   ]
  },
  {
   "cell_type": "code",
   "execution_count": 14,
   "id": "a9a0dd6e-01ca-4bb2-97db-746d20aefb5f",
   "metadata": {
    "tags": []
   },
   "outputs": [
    {
     "data": {
      "text/plain": [
       "3"
      ]
     },
     "execution_count": 14,
     "metadata": {},
     "output_type": "execute_result"
    }
   ],
   "source": [
    "np.prod(arr.shape)"
   ]
  },
  {
   "cell_type": "code",
   "execution_count": 15,
   "id": "96ee8024-a0fd-4ade-9b6b-d6249867b6b0",
   "metadata": {
    "tags": []
   },
   "outputs": [
    {
     "data": {
      "text/plain": [
       "\u001b[0;31mSignature:\u001b[0m\n",
       "\u001b[0mnp\u001b[0m\u001b[0;34m.\u001b[0m\u001b[0mprod\u001b[0m\u001b[0;34m(\u001b[0m\u001b[0;34m\u001b[0m\n",
       "\u001b[0;34m\u001b[0m    \u001b[0ma\u001b[0m\u001b[0;34m,\u001b[0m\u001b[0;34m\u001b[0m\n",
       "\u001b[0;34m\u001b[0m    \u001b[0maxis\u001b[0m\u001b[0;34m=\u001b[0m\u001b[0;32mNone\u001b[0m\u001b[0;34m,\u001b[0m\u001b[0;34m\u001b[0m\n",
       "\u001b[0;34m\u001b[0m    \u001b[0mdtype\u001b[0m\u001b[0;34m=\u001b[0m\u001b[0;32mNone\u001b[0m\u001b[0;34m,\u001b[0m\u001b[0;34m\u001b[0m\n",
       "\u001b[0;34m\u001b[0m    \u001b[0mout\u001b[0m\u001b[0;34m=\u001b[0m\u001b[0;32mNone\u001b[0m\u001b[0;34m,\u001b[0m\u001b[0;34m\u001b[0m\n",
       "\u001b[0;34m\u001b[0m    \u001b[0mkeepdims\u001b[0m\u001b[0;34m=\u001b[0m\u001b[0;34m<\u001b[0m\u001b[0mno\u001b[0m \u001b[0mvalue\u001b[0m\u001b[0;34m>\u001b[0m\u001b[0;34m,\u001b[0m\u001b[0;34m\u001b[0m\n",
       "\u001b[0;34m\u001b[0m    \u001b[0minitial\u001b[0m\u001b[0;34m=\u001b[0m\u001b[0;34m<\u001b[0m\u001b[0mno\u001b[0m \u001b[0mvalue\u001b[0m\u001b[0;34m>\u001b[0m\u001b[0;34m,\u001b[0m\u001b[0;34m\u001b[0m\n",
       "\u001b[0;34m\u001b[0m    \u001b[0mwhere\u001b[0m\u001b[0;34m=\u001b[0m\u001b[0;34m<\u001b[0m\u001b[0mno\u001b[0m \u001b[0mvalue\u001b[0m\u001b[0;34m>\u001b[0m\u001b[0;34m,\u001b[0m\u001b[0;34m\u001b[0m\n",
       "\u001b[0;34m\u001b[0m\u001b[0;34m)\u001b[0m\u001b[0;34m\u001b[0m\u001b[0;34m\u001b[0m\u001b[0m\n",
       "\u001b[0;31mDocstring:\u001b[0m\n",
       "Return the product of array elements over a given axis.\n",
       "\n",
       "Parameters\n",
       "----------\n",
       "a : array_like\n",
       "    Input data.\n",
       "axis : None or int or tuple of ints, optional\n",
       "    Axis or axes along which a product is performed.  The default,\n",
       "    axis=None, will calculate the product of all the elements in the\n",
       "    input array. If axis is negative it counts from the last to the\n",
       "    first axis.\n",
       "\n",
       "    .. versionadded:: 1.7.0\n",
       "\n",
       "    If axis is a tuple of ints, a product is performed on all of the\n",
       "    axes specified in the tuple instead of a single axis or all the\n",
       "    axes as before.\n",
       "dtype : dtype, optional\n",
       "    The type of the returned array, as well as of the accumulator in\n",
       "    which the elements are multiplied.  The dtype of `a` is used by\n",
       "    default unless `a` has an integer dtype of less precision than the\n",
       "    default platform integer.  In that case, if `a` is signed then the\n",
       "    platform integer is used while if `a` is unsigned then an unsigned\n",
       "    integer of the same precision as the platform integer is used.\n",
       "out : ndarray, optional\n",
       "    Alternative output array in which to place the result. It must have\n",
       "    the same shape as the expected output, but the type of the output\n",
       "    values will be cast if necessary.\n",
       "keepdims : bool, optional\n",
       "    If this is set to True, the axes which are reduced are left in the\n",
       "    result as dimensions with size one. With this option, the result\n",
       "    will broadcast correctly against the input array.\n",
       "\n",
       "    If the default value is passed, then `keepdims` will not be\n",
       "    passed through to the `prod` method of sub-classes of\n",
       "    `ndarray`, however any non-default value will be.  If the\n",
       "    sub-class' method does not implement `keepdims` any\n",
       "    exceptions will be raised.\n",
       "initial : scalar, optional\n",
       "    The starting value for this product. See `~numpy.ufunc.reduce` for details.\n",
       "\n",
       "    .. versionadded:: 1.15.0\n",
       "\n",
       "where : array_like of bool, optional\n",
       "    Elements to include in the product. See `~numpy.ufunc.reduce` for details.\n",
       "\n",
       "    .. versionadded:: 1.17.0\n",
       "\n",
       "Returns\n",
       "-------\n",
       "product_along_axis : ndarray, see `dtype` parameter above.\n",
       "    An array shaped as `a` but with the specified axis removed.\n",
       "    Returns a reference to `out` if specified.\n",
       "\n",
       "See Also\n",
       "--------\n",
       "ndarray.prod : equivalent method\n",
       ":ref:`ufuncs-output-type`\n",
       "\n",
       "Notes\n",
       "-----\n",
       "Arithmetic is modular when using integer types, and no error is\n",
       "raised on overflow.  That means that, on a 32-bit platform:\n",
       "\n",
       ">>> x = np.array([536870910, 536870910, 536870910, 536870910])\n",
       ">>> np.prod(x)\n",
       "16 # may vary\n",
       "\n",
       "The product of an empty array is the neutral element 1:\n",
       "\n",
       ">>> np.prod([])\n",
       "1.0\n",
       "\n",
       "Examples\n",
       "--------\n",
       "By default, calculate the product of all elements:\n",
       "\n",
       ">>> np.prod([1.,2.])\n",
       "2.0\n",
       "\n",
       "Even when the input array is two-dimensional:\n",
       "\n",
       ">>> a = np.array([[1., 2.], [3., 4.]])\n",
       ">>> np.prod(a)\n",
       "24.0\n",
       "\n",
       "But we can also specify the axis over which to multiply:\n",
       "\n",
       ">>> np.prod(a, axis=1)\n",
       "array([  2.,  12.])\n",
       ">>> np.prod(a, axis=0)\n",
       "array([3., 8.])\n",
       "\n",
       "Or select specific elements to include:\n",
       "\n",
       ">>> np.prod([1., np.nan, 3.], where=[True, False, True])\n",
       "3.0\n",
       "\n",
       "If the type of `x` is unsigned, then the output type is\n",
       "the unsigned platform integer:\n",
       "\n",
       ">>> x = np.array([1, 2, 3], dtype=np.uint8)\n",
       ">>> np.prod(x).dtype == np.uint\n",
       "True\n",
       "\n",
       "If `x` is of a signed integer type, then the output type\n",
       "is the default platform integer:\n",
       "\n",
       ">>> x = np.array([1, 2, 3], dtype=np.int8)\n",
       ">>> np.prod(x).dtype == int\n",
       "True\n",
       "\n",
       "You can also start the product with a value other than one:\n",
       "\n",
       ">>> np.prod([1, 2], initial=5)\n",
       "10\n",
       "\u001b[0;31mFile:\u001b[0m      ~/projects/yapy3c/venv/lib/python3.8/site-packages/numpy/core/fromnumeric.py\n",
       "\u001b[0;31mType:\u001b[0m      function"
      ]
     },
     "metadata": {},
     "output_type": "display_data"
    }
   ],
   "source": [
    "np.prod?"
   ]
  },
  {
   "cell_type": "code",
   "execution_count": 45,
   "id": "31cb04bc-7164-4337-94d8-2e5adeaabd6f",
   "metadata": {
    "tags": []
   },
   "outputs": [
    {
     "data": {
      "text/plain": [
       "array([[1, 2],\n",
       "       [1, 0],\n",
       "       [2, 1]])"
      ]
     },
     "execution_count": 45,
     "metadata": {},
     "output_type": "execute_result"
    }
   ],
   "source": [
    "mat = np.array([[1, 2], [1, 0], [2, 1]]); mat"
   ]
  },
  {
   "cell_type": "code",
   "execution_count": 46,
   "id": "657bf223-bc21-43be-955f-ba1d8f397401",
   "metadata": {
    "tags": []
   },
   "outputs": [
    {
     "data": {
      "text/plain": [
       "(2, 6)"
      ]
     },
     "execution_count": 46,
     "metadata": {},
     "output_type": "execute_result"
    }
   ],
   "source": [
    "len(mat.shape), np.prod(mat.shape)"
   ]
  },
  {
   "cell_type": "code",
   "execution_count": 47,
   "id": "17751607-5ae2-4d79-92df-dc413fa99c96",
   "metadata": {
    "tags": []
   },
   "outputs": [
    {
     "data": {
      "text/plain": [
       "(7, array([4, 3]), array([3, 1, 3]))"
      ]
     },
     "execution_count": 47,
     "metadata": {},
     "output_type": "execute_result"
    }
   ],
   "source": [
    "np.sum(mat), np.sum(mat, axis=0), np.sum(mat, axis=1)"
   ]
  },
  {
   "cell_type": "code",
   "execution_count": 48,
   "id": "8ede6397-b124-4289-8098-08d1d77ce792",
   "metadata": {
    "tags": []
   },
   "outputs": [],
   "source": [
    "def inflate(input_matrix):\n",
    "    res = []\n",
    "    for row in range(0, input_matrix.shape[0]):\n",
    "        res_row = []\n",
    "        for col in range(0, input_matrix.shape[1]):\n",
    "            submatrix = input_matrix[row:row + 1, col:col + 1]\n",
    "            transformed = np.zeros((3, 3)) if submatrix == 0 else np.ones((3, 3))\n",
    "            res_row.append(transformed)\n",
    "        res.append(np.concatenate(res_row, axis=1))\n",
    "    return np.concatenate(res, axis=0)"
   ]
  },
  {
   "cell_type": "code",
   "execution_count": 50,
   "id": "9c1c0b0f-54ff-4e73-8f15-3b4a8c411889",
   "metadata": {
    "tags": []
   },
   "outputs": [
    {
     "name": "stdout",
     "output_type": "stream",
     "text": [
      "[[1 2]\n",
      " [1 0]\n",
      " [2 1]]\n",
      "\n"
     ]
    },
    {
     "data": {
      "text/plain": [
       "array([[1., 1., 1., 1., 1., 1.],\n",
       "       [1., 1., 1., 1., 1., 1.],\n",
       "       [1., 1., 1., 1., 1., 1.],\n",
       "       [1., 1., 1., 0., 0., 0.],\n",
       "       [1., 1., 1., 0., 0., 0.],\n",
       "       [1., 1., 1., 0., 0., 0.],\n",
       "       [1., 1., 1., 1., 1., 1.],\n",
       "       [1., 1., 1., 1., 1., 1.],\n",
       "       [1., 1., 1., 1., 1., 1.]])"
      ]
     },
     "execution_count": 50,
     "metadata": {},
     "output_type": "execute_result"
    }
   ],
   "source": [
    "print(mat, end=\"\\n\\n\")\n",
    "inflate(mat)"
   ]
  },
  {
   "cell_type": "code",
   "execution_count": 27,
   "id": "5ca9d6f2-74f0-4535-9119-a33604cc70ad",
   "metadata": {
    "tags": []
   },
   "outputs": [
    {
     "data": {
      "text/plain": [
       "array([[1., 0., 0., 0.],\n",
       "       [1., 1., 0., 0.],\n",
       "       [1., 1., 1., 0.],\n",
       "       [1., 1., 1., 1.]])"
      ]
     },
     "execution_count": 27,
     "metadata": {},
     "output_type": "execute_result"
    }
   ],
   "source": [
    "np.tri(4)"
   ]
  },
  {
   "cell_type": "code",
   "execution_count": 28,
   "id": "513ddcc1-c926-4b7f-92f5-9eeefe466667",
   "metadata": {
    "tags": []
   },
   "outputs": [
    {
     "data": {
      "text/plain": [
       "array([[1., 1., 1., 1.],\n",
       "       [0., 1., 1., 1.],\n",
       "       [0., 0., 1., 1.],\n",
       "       [0., 0., 0., 1.]])"
      ]
     },
     "execution_count": 28,
     "metadata": {},
     "output_type": "execute_result"
    }
   ],
   "source": [
    "np.tri(4).T # transpose"
   ]
  },
  {
   "cell_type": "code",
   "execution_count": 32,
   "id": "2343b9c5-e033-4bed-8281-8eda39316073",
   "metadata": {
    "tags": []
   },
   "outputs": [
    {
     "data": {
      "text/plain": [
       "array([[1., 1., 1., 1.],\n",
       "       [1., 1., 1., 0.],\n",
       "       [1., 1., 0., 0.],\n",
       "       [1., 0., 0., 0.]])"
      ]
     },
     "execution_count": 32,
     "metadata": {},
     "output_type": "execute_result"
    }
   ],
   "source": [
    "np.flip(np.tri(4), axis=0)"
   ]
  },
  {
   "cell_type": "code",
   "execution_count": 3,
   "id": "05320aa6-413e-487c-9bd1-4b6870921d87",
   "metadata": {},
   "outputs": [],
   "source": [
    "a_scalar = np.array(1)"
   ]
  },
  {
   "cell_type": "code",
   "execution_count": 4,
   "id": "51ba7055-4aad-4a0a-b033-16818f9ccad7",
   "metadata": {
    "tags": []
   },
   "outputs": [
    {
     "data": {
      "text/plain": [
       "0"
      ]
     },
     "execution_count": 4,
     "metadata": {},
     "output_type": "execute_result"
    }
   ],
   "source": [
    "a_scalar.ndim"
   ]
  },
  {
   "cell_type": "code",
   "execution_count": 9,
   "id": "2c1e97b5-c7bd-460e-a887-582faabff633",
   "metadata": {
    "tags": []
   },
   "outputs": [
    {
     "data": {
      "text/plain": [
       "0"
      ]
     },
     "execution_count": 9,
     "metadata": {},
     "output_type": "execute_result"
    }
   ],
   "source": [
    "len(a_scalar.shape)"
   ]
  },
  {
   "cell_type": "code",
   "execution_count": 6,
   "id": "a8028f53-a9c5-4299-b21c-92b90bb5cc70",
   "metadata": {
    "tags": []
   },
   "outputs": [],
   "source": [
    "arr = np.array([1, 2])"
   ]
  },
  {
   "cell_type": "code",
   "execution_count": 7,
   "id": "206d518b-eb04-4b3c-8ab3-78aab64f81b6",
   "metadata": {
    "tags": []
   },
   "outputs": [
    {
     "data": {
      "text/plain": [
       "1"
      ]
     },
     "execution_count": 7,
     "metadata": {},
     "output_type": "execute_result"
    }
   ],
   "source": [
    "arr.ndim"
   ]
  },
  {
   "cell_type": "code",
   "execution_count": 10,
   "id": "deb89d1a-c2e6-43e9-acaa-3e7bbd8dd027",
   "metadata": {
    "tags": []
   },
   "outputs": [
    {
     "data": {
      "text/plain": [
       "1"
      ]
     },
     "execution_count": 10,
     "metadata": {},
     "output_type": "execute_result"
    }
   ],
   "source": [
    "len(arr.shape)"
   ]
  },
  {
   "cell_type": "code",
   "execution_count": 4,
   "id": "33e06ec2-0bda-47cc-b574-c80aee5e27bb",
   "metadata": {},
   "outputs": [
    {
     "data": {
      "text/plain": [
       "(tuple, int)"
      ]
     },
     "execution_count": 4,
     "metadata": {},
     "output_type": "execute_result"
    }
   ],
   "source": [
    "type((3,)), type((3))"
   ]
  },
  {
   "cell_type": "code",
   "execution_count": 6,
   "id": "eb6d0984-4cf9-4617-91a7-d341b686bb87",
   "metadata": {
    "tags": []
   },
   "outputs": [],
   "source": [
    "arr = np.array([1, 2, 3, 4, 5])"
   ]
  },
  {
   "cell_type": "code",
   "execution_count": 7,
   "id": "d00f8d4b-02f1-43a3-8970-0024457a2e0d",
   "metadata": {
    "tags": []
   },
   "outputs": [
    {
     "data": {
      "text/plain": [
       "array([1, 2, 3, 4, 5])"
      ]
     },
     "execution_count": 7,
     "metadata": {},
     "output_type": "execute_result"
    }
   ],
   "source": [
    "arr"
   ]
  },
  {
   "cell_type": "code",
   "execution_count": 8,
   "id": "8eaab7f9-740c-4773-b019-6f05ee70abb4",
   "metadata": {
    "tags": []
   },
   "outputs": [
    {
     "data": {
      "text/plain": [
       "(5,)"
      ]
     },
     "execution_count": 8,
     "metadata": {},
     "output_type": "execute_result"
    }
   ],
   "source": [
    "arr.shape"
   ]
  },
  {
   "cell_type": "code",
   "execution_count": 11,
   "id": "9bc982e2-9a03-4d38-9360-1c04b7bf4c32",
   "metadata": {
    "tags": []
   },
   "outputs": [
    {
     "data": {
      "text/plain": [
       "array([1, 3])"
      ]
     },
     "execution_count": 11,
     "metadata": {},
     "output_type": "execute_result"
    }
   ],
   "source": [
    "arr[[0, 2]]"
   ]
  },
  {
   "cell_type": "code",
   "execution_count": 12,
   "id": "565aff24-eb86-4236-a330-93967180e9ee",
   "metadata": {
    "tags": []
   },
   "outputs": [
    {
     "data": {
      "text/plain": [
       "array([1, 3, 3, 3, 3])"
      ]
     },
     "execution_count": 12,
     "metadata": {},
     "output_type": "execute_result"
    }
   ],
   "source": [
    "arr[[0, 2, 2, 2, 2]]"
   ]
  },
  {
   "cell_type": "code",
   "execution_count": 13,
   "id": "24298841-bbc6-4f24-b75c-934571c69231",
   "metadata": {
    "tags": []
   },
   "outputs": [
    {
     "data": {
      "text/plain": [
       "array([1, 2, 5])"
      ]
     },
     "execution_count": 13,
     "metadata": {},
     "output_type": "execute_result"
    }
   ],
   "source": [
    "arr[[True, True, False, False, True]]"
   ]
  },
  {
   "cell_type": "code",
   "execution_count": 14,
   "id": "d694149d-4203-4e72-bc5a-20cadfd2d6fe",
   "metadata": {
    "tags": []
   },
   "outputs": [],
   "source": [
    "ind = arr % 3 == 0"
   ]
  },
  {
   "cell_type": "code",
   "execution_count": 23,
   "id": "51d13910-58f4-49ae-b104-4f9f32a54b02",
   "metadata": {
    "tags": []
   },
   "outputs": [
    {
     "data": {
      "text/plain": [
       "(5, array([3]))"
      ]
     },
     "execution_count": 23,
     "metadata": {},
     "output_type": "execute_result"
    }
   ],
   "source": [
    "len(ind), arr[ind]"
   ]
  },
  {
   "cell_type": "code",
   "execution_count": 17,
   "id": "d47be31b-062f-4a89-9fc9-e4594befcdf9",
   "metadata": {
    "tags": []
   },
   "outputs": [
    {
     "ename": "IndexError",
     "evalue": "boolean index did not match indexed array along dimension 0; dimension is 5 but corresponding boolean dimension is 6",
     "output_type": "error",
     "traceback": [
      "\u001b[0;31m---------------------------------------------------------------------------\u001b[0m",
      "\u001b[0;31mIndexError\u001b[0m                                Traceback (most recent call last)",
      "Cell \u001b[0;32mIn[17], line 1\u001b[0m\n\u001b[0;32m----> 1\u001b[0m \u001b[43marr\u001b[49m\u001b[43m[\u001b[49m\u001b[43m[\u001b[49m\u001b[38;5;28;43;01mTrue\u001b[39;49;00m\u001b[43m,\u001b[49m\u001b[43m \u001b[49m\u001b[38;5;28;43;01mFalse\u001b[39;49;00m\u001b[43m]\u001b[49m\u001b[43m \u001b[49m\u001b[38;5;241;43m*\u001b[39;49m\u001b[43m \u001b[49m\u001b[38;5;241;43m3\u001b[39;49m\u001b[43m]\u001b[49m\n",
      "\u001b[0;31mIndexError\u001b[0m: boolean index did not match indexed array along dimension 0; dimension is 5 but corresponding boolean dimension is 6"
     ]
    }
   ],
   "source": [
    "arr[[True, False] * 3]"
   ]
  },
  {
   "cell_type": "code",
   "execution_count": 18,
   "id": "a0f73e8b-b714-4158-ba89-701ace22b4bb",
   "metadata": {
    "tags": []
   },
   "outputs": [],
   "source": [
    "lst = [1, 2, 3]"
   ]
  },
  {
   "cell_type": "code",
   "execution_count": 19,
   "id": "ff619741-5087-4bc5-aba6-de85fb9ed7f9",
   "metadata": {
    "tags": []
   },
   "outputs": [
    {
     "ename": "TypeError",
     "evalue": "list indices must be integers or slices, not list",
     "output_type": "error",
     "traceback": [
      "\u001b[0;31m---------------------------------------------------------------------------\u001b[0m",
      "\u001b[0;31mTypeError\u001b[0m                                 Traceback (most recent call last)",
      "Cell \u001b[0;32mIn[19], line 1\u001b[0m\n\u001b[0;32m----> 1\u001b[0m \u001b[43mlst\u001b[49m\u001b[43m[\u001b[49m\u001b[43m[\u001b[49m\u001b[38;5;241;43m0\u001b[39;49m\u001b[43m,\u001b[49m\u001b[43m \u001b[49m\u001b[38;5;241;43m0\u001b[39;49m\u001b[43m,\u001b[49m\u001b[43m \u001b[49m\u001b[38;5;241;43m1\u001b[39;49m\u001b[43m]\u001b[49m\u001b[43m]\u001b[49m\n",
      "\u001b[0;31mTypeError\u001b[0m: list indices must be integers or slices, not list"
     ]
    }
   ],
   "source": [
    "lst[[0, 0, 1]]"
   ]
  },
  {
   "cell_type": "code",
   "execution_count": 22,
   "id": "eafd991a-27d6-4e53-84d3-6543cb81c612",
   "metadata": {
    "tags": []
   },
   "outputs": [
    {
     "data": {
      "text/plain": [
       "array([1, 1, 1, 2, 2])"
      ]
     },
     "execution_count": 22,
     "metadata": {},
     "output_type": "execute_result"
    }
   ],
   "source": [
    "np.array(lst)[[0,0 , 0, 1,1]]"
   ]
  },
  {
   "cell_type": "code",
   "execution_count": 12,
   "id": "afbbce4c-bf8d-467a-9cf8-6c80c92a89ac",
   "metadata": {},
   "outputs": [],
   "source": [
    "arr = np.random.randint(1, 356, 1_000_000)"
   ]
  },
  {
   "cell_type": "code",
   "execution_count": 13,
   "id": "ce5ef1b8-6ef2-4348-b222-b1fb77b00d9a",
   "metadata": {
    "tags": []
   },
   "outputs": [
    {
     "name": "stdout",
     "output_type": "stream",
     "text": [
      "CPU times: user 48.2 ms, sys: 0 ns, total: 48.2 ms\n",
      "Wall time: 48.2 ms\n"
     ]
    },
    {
     "data": {
      "text/plain": [
       "True"
      ]
     },
     "execution_count": 13,
     "metadata": {},
     "output_type": "execute_result"
    }
   ],
   "source": [
    "%%time\n",
    "\n",
    "len(set(arr)) < len(arr)"
   ]
  },
  {
   "cell_type": "code",
   "execution_count": 14,
   "id": "d700bd7b-8243-45aa-a233-f267e8db1608",
   "metadata": {
    "tags": []
   },
   "outputs": [
    {
     "name": "stdout",
     "output_type": "stream",
     "text": [
      "CPU times: user 34.4 ms, sys: 0 ns, total: 34.4 ms\n",
      "Wall time: 33.1 ms\n"
     ]
    },
    {
     "data": {
      "text/plain": [
       "True"
      ]
     },
     "execution_count": 14,
     "metadata": {},
     "output_type": "execute_result"
    }
   ],
   "source": [
    "%%time\n",
    "\n",
    "arr.sort()\n",
    "(arr[:-1] == arr[1:]).sum() > 0"
   ]
  },
  {
   "cell_type": "code",
   "execution_count": 15,
   "id": "93b4b4d6-67db-418f-92be-6a7478583c15",
   "metadata": {
    "tags": []
   },
   "outputs": [
    {
     "data": {
      "text/plain": [
       "array([1, 1, 1, 1, 1, 1, 1, 1, 1, 1, 1, 1, 1, 1, 1, 1, 1, 1, 1, 1, 1, 1,\n",
       "       1, 1, 1, 1, 1, 1, 1, 1, 1, 1, 1, 1, 1, 1, 1, 1, 1, 1])"
      ]
     },
     "execution_count": 15,
     "metadata": {},
     "output_type": "execute_result"
    }
   ],
   "source": [
    "arr[:40]"
   ]
  },
  {
   "cell_type": "code",
   "execution_count": 2,
   "id": "d3ee90df-c7df-4e8d-9284-4a18136948d6",
   "metadata": {
    "tags": []
   },
   "outputs": [
    {
     "name": "stdout",
     "output_type": "stream",
     "text": [
      "0.010489225387573242\n"
     ]
    }
   ],
   "source": [
    "import time\n",
    "\n",
    "start = time.time()\n",
    "arr = np.random.randint(1, 356, 1_000_000)\n",
    "end = time.time()\n",
    "print(end - start)"
   ]
  },
  {
   "cell_type": "code",
   "execution_count": 23,
   "id": "47ffe563-b3d7-4568-af5b-924805a4eaa8",
   "metadata": {
    "tags": []
   },
   "outputs": [],
   "source": [
    "a = np.random.randn(5_000_000)\n",
    "b = np.random.randn(5_000_000)"
   ]
  },
  {
   "cell_type": "code",
   "execution_count": 24,
   "id": "0b09e5eb-ca4c-4308-aea0-d6975eb368d3",
   "metadata": {
    "tags": []
   },
   "outputs": [
    {
     "data": {
      "text/plain": [
       "((5000000,), (5000000,))"
      ]
     },
     "execution_count": 24,
     "metadata": {},
     "output_type": "execute_result"
    }
   ],
   "source": [
    "a.shape, b.shape"
   ]
  },
  {
   "cell_type": "code",
   "execution_count": 25,
   "id": "092e2822-8aa3-4786-9179-3a25d0b425ac",
   "metadata": {
    "tags": []
   },
   "outputs": [
    {
     "name": "stdout",
     "output_type": "stream",
     "text": [
      "CPU times: user 11.1 ms, sys: 142 µs, total: 11.3 ms\n",
      "Wall time: 9.83 ms\n"
     ]
    }
   ],
   "source": [
    "%%time\n",
    "\n",
    "c1 = a + b"
   ]
  },
  {
   "cell_type": "code",
   "execution_count": 26,
   "id": "056026ad-8b9f-49e0-9226-da4c05dccf90",
   "metadata": {
    "tags": []
   },
   "outputs": [
    {
     "name": "stdout",
     "output_type": "stream",
     "text": [
      "CPU times: user 1.08 s, sys: 115 ms, total: 1.2 s\n",
      "Wall time: 1.2 s\n"
     ]
    }
   ],
   "source": [
    "%%time\n",
    "\n",
    "c2 = []\n",
    "for i in range(len(a)):\n",
    "    c2.append(a[i] + b[i])\n",
    "c2 = np.array(c2)"
   ]
  },
  {
   "cell_type": "code",
   "execution_count": 27,
   "id": "36b1409d-51bd-49cf-9c54-1033df027848",
   "metadata": {
    "tags": []
   },
   "outputs": [
    {
     "name": "stdout",
     "output_type": "stream",
     "text": [
      "CPU times: user 614 ms, sys: 38 ms, total: 652 ms\n",
      "Wall time: 652 ms\n"
     ]
    }
   ],
   "source": [
    "%%time\n",
    "\n",
    "c3 = np.array([ia + ib for ia, ib in zip(a, b)])"
   ]
  },
  {
   "cell_type": "code",
   "execution_count": 28,
   "id": "38db0bed-0405-4caa-bcba-47442c63d1dd",
   "metadata": {
    "tags": []
   },
   "outputs": [
    {
     "data": {
      "text/plain": [
       "True"
      ]
     },
     "execution_count": 28,
     "metadata": {},
     "output_type": "execute_result"
    }
   ],
   "source": [
    "np.array_equal(c1, c2) and np.array_equal(c2, c3) "
   ]
  },
  {
   "cell_type": "code",
   "execution_count": 29,
   "id": "1e45e04d-a909-49b4-933c-03572f8e877d",
   "metadata": {},
   "outputs": [
    {
     "data": {
      "text/plain": [
       "\u001b[0;31mSignature:\u001b[0m \u001b[0mnp\u001b[0m\u001b[0;34m.\u001b[0m\u001b[0mallclose\u001b[0m\u001b[0;34m(\u001b[0m\u001b[0ma\u001b[0m\u001b[0;34m,\u001b[0m \u001b[0mb\u001b[0m\u001b[0;34m,\u001b[0m \u001b[0mrtol\u001b[0m\u001b[0;34m=\u001b[0m\u001b[0;36m1e-05\u001b[0m\u001b[0;34m,\u001b[0m \u001b[0matol\u001b[0m\u001b[0;34m=\u001b[0m\u001b[0;36m1e-08\u001b[0m\u001b[0;34m,\u001b[0m \u001b[0mequal_nan\u001b[0m\u001b[0;34m=\u001b[0m\u001b[0;32mFalse\u001b[0m\u001b[0;34m)\u001b[0m\u001b[0;34m\u001b[0m\u001b[0;34m\u001b[0m\u001b[0m\n",
       "\u001b[0;31mDocstring:\u001b[0m\n",
       "Returns True if two arrays are element-wise equal within a tolerance.\n",
       "\n",
       "The tolerance values are positive, typically very small numbers.  The\n",
       "relative difference (`rtol` * abs(`b`)) and the absolute difference\n",
       "`atol` are added together to compare against the absolute difference\n",
       "between `a` and `b`.\n",
       "\n",
       "NaNs are treated as equal if they are in the same place and if\n",
       "``equal_nan=True``.  Infs are treated as equal if they are in the same\n",
       "place and of the same sign in both arrays.\n",
       "\n",
       "Parameters\n",
       "----------\n",
       "a, b : array_like\n",
       "    Input arrays to compare.\n",
       "rtol : float\n",
       "    The relative tolerance parameter (see Notes).\n",
       "atol : float\n",
       "    The absolute tolerance parameter (see Notes).\n",
       "equal_nan : bool\n",
       "    Whether to compare NaN's as equal.  If True, NaN's in `a` will be\n",
       "    considered equal to NaN's in `b` in the output array.\n",
       "\n",
       "    .. versionadded:: 1.10.0\n",
       "\n",
       "Returns\n",
       "-------\n",
       "allclose : bool\n",
       "    Returns True if the two arrays are equal within the given\n",
       "    tolerance; False otherwise.\n",
       "\n",
       "See Also\n",
       "--------\n",
       "isclose, all, any, equal\n",
       "\n",
       "Notes\n",
       "-----\n",
       "If the following equation is element-wise True, then allclose returns\n",
       "True.\n",
       "\n",
       " absolute(`a` - `b`) <= (`atol` + `rtol` * absolute(`b`))\n",
       "\n",
       "The above equation is not symmetric in `a` and `b`, so that\n",
       "``allclose(a, b)`` might be different from ``allclose(b, a)`` in\n",
       "some rare cases.\n",
       "\n",
       "The comparison of `a` and `b` uses standard broadcasting, which\n",
       "means that `a` and `b` need not have the same shape in order for\n",
       "``allclose(a, b)`` to evaluate to True.  The same is true for\n",
       "`equal` but not `array_equal`.\n",
       "\n",
       "`allclose` is not defined for non-numeric data types.\n",
       "`bool` is considered a numeric data-type for this purpose.\n",
       "\n",
       "Examples\n",
       "--------\n",
       ">>> np.allclose([1e10,1e-7], [1.00001e10,1e-8])\n",
       "False\n",
       ">>> np.allclose([1e10,1e-8], [1.00001e10,1e-9])\n",
       "True\n",
       ">>> np.allclose([1e10,1e-8], [1.0001e10,1e-9])\n",
       "False\n",
       ">>> np.allclose([1.0, np.nan], [1.0, np.nan])\n",
       "False\n",
       ">>> np.allclose([1.0, np.nan], [1.0, np.nan], equal_nan=True)\n",
       "True\n",
       "\u001b[0;31mFile:\u001b[0m      ~/projects/yapy3c/venv/lib/python3.8/site-packages/numpy/core/numeric.py\n",
       "\u001b[0;31mType:\u001b[0m      function"
      ]
     },
     "metadata": {},
     "output_type": "display_data"
    }
   ],
   "source": [
    "np.allclose?"
   ]
  },
  {
   "cell_type": "code",
   "execution_count": 30,
   "id": "3c3a5076-0b44-450a-9622-3507086a0636",
   "metadata": {
    "tags": []
   },
   "outputs": [
    {
     "data": {
      "text/plain": [
       "((5000000,), (1000, 5000))"
      ]
     },
     "execution_count": 30,
     "metadata": {},
     "output_type": "execute_result"
    }
   ],
   "source": [
    "aa = a.reshape((1000, -1)); a.shape, aa.shape"
   ]
  },
  {
   "cell_type": "code",
   "execution_count": 31,
   "id": "11f62f48-39cf-4d27-96d6-0f6a516c4388",
   "metadata": {
    "tags": []
   },
   "outputs": [
    {
     "data": {
      "text/plain": [
       "(-1.752274499506939,\n",
       " -0.3307574792704177,\n",
       " -1.752274499506939,\n",
       " -0.3307574792704177)"
      ]
     },
     "execution_count": 31,
     "metadata": {},
     "output_type": "execute_result"
    }
   ],
   "source": [
    "a[0], a[1], aa[0, 0], aa[0, 1]"
   ]
  },
  {
   "cell_type": "code",
   "execution_count": 32,
   "id": "460f9e12-e075-426b-a7b5-e591962bacf3",
   "metadata": {
    "tags": []
   },
   "outputs": [
    {
     "data": {
      "text/plain": [
       "(3.141592653589793, 3.141592653589793)"
      ]
     },
     "execution_count": 32,
     "metadata": {},
     "output_type": "execute_result"
    }
   ],
   "source": [
    "aa[0, 0] = np.pi\n",
    "a[0], aa[0, 0]"
   ]
  },
  {
   "cell_type": "code",
   "execution_count": 20,
   "id": "2dd5a694-2cd5-47ba-ab48-92f7224266f0",
   "metadata": {
    "tags": []
   },
   "outputs": [
    {
     "data": {
      "text/plain": [
       "3.141592653589793"
      ]
     },
     "execution_count": 20,
     "metadata": {},
     "output_type": "execute_result"
    }
   ],
   "source": [
    "a[0]"
   ]
  },
  {
   "cell_type": "code",
   "execution_count": 33,
   "id": "e92c7802-33d8-4bd4-a266-d018f2626d52",
   "metadata": {
    "tags": []
   },
   "outputs": [
    {
     "data": {
      "text/plain": [
       "(1000, 5000, 1)"
      ]
     },
     "execution_count": 33,
     "metadata": {},
     "output_type": "execute_result"
    }
   ],
   "source": [
    "aa[:,:,np.newaxis].shape"
   ]
  },
  {
   "cell_type": "code",
   "execution_count": 35,
   "id": "7aa69135-5dbd-4654-b7c4-f5914adfdd99",
   "metadata": {
    "tags": []
   },
   "outputs": [
    {
     "data": {
      "text/plain": [
       "(1000, 5000, 1)"
      ]
     },
     "execution_count": 35,
     "metadata": {},
     "output_type": "execute_result"
    }
   ],
   "source": [
    "aa.reshape((1000, 5000, -1)).shape"
   ]
  },
  {
   "cell_type": "code",
   "execution_count": 36,
   "id": "65c4ff8b-b96c-4b95-8342-0270a2ecfee7",
   "metadata": {
    "tags": []
   },
   "outputs": [
    {
     "data": {
      "text/plain": [
       "(1000, 5000, 1)"
      ]
     },
     "execution_count": 36,
     "metadata": {},
     "output_type": "execute_result"
    }
   ],
   "source": [
    "aa[:,:,None].shape"
   ]
  },
  {
   "cell_type": "code",
   "execution_count": 40,
   "id": "a7ae7d49-4f20-499f-8aa1-2d0482da7ef5",
   "metadata": {
    "tags": []
   },
   "outputs": [
    {
     "data": {
      "text/plain": [
       "(1, 1000, 5000)"
      ]
     },
     "execution_count": 40,
     "metadata": {},
     "output_type": "execute_result"
    }
   ],
   "source": [
    "aa[np.newaxis, :, :].shape"
   ]
  },
  {
   "cell_type": "code",
   "execution_count": 41,
   "id": "dcc28953-9b7c-4fb8-a9dd-b1d6b20fb46c",
   "metadata": {
    "tags": []
   },
   "outputs": [
    {
     "data": {
      "text/plain": [
       "(1, 5000, 1000)"
      ]
     },
     "execution_count": 41,
     "metadata": {},
     "output_type": "execute_result"
    }
   ],
   "source": [
    "aa[np.newaxis, :, :].transpose(0, 2, 1).shape"
   ]
  },
  {
   "cell_type": "code",
   "execution_count": 43,
   "id": "f3f2b973-33bb-4ff9-a845-70bca8a351e8",
   "metadata": {
    "tags": []
   },
   "outputs": [
    {
     "data": {
      "text/plain": [
       "NoneType"
      ]
     },
     "execution_count": 43,
     "metadata": {},
     "output_type": "execute_result"
    }
   ],
   "source": [
    "type(np.newaxis)"
   ]
  },
  {
   "cell_type": "code",
   "execution_count": 44,
   "id": "634bd6bb-4ab2-4ad6-a3ac-1935c47540e5",
   "metadata": {
    "tags": []
   },
   "outputs": [
    {
     "data": {
      "text/plain": [
       "\u001b[0;31mDocstring:\u001b[0m\n",
       "where(condition, [x, y], /)\n",
       "\n",
       "Return elements chosen from `x` or `y` depending on `condition`.\n",
       "\n",
       ".. note::\n",
       "    When only `condition` is provided, this function is a shorthand for\n",
       "    ``np.asarray(condition).nonzero()``. Using `nonzero` directly should be\n",
       "    preferred, as it behaves correctly for subclasses. The rest of this\n",
       "    documentation covers only the case where all three arguments are\n",
       "    provided.\n",
       "\n",
       "Parameters\n",
       "----------\n",
       "condition : array_like, bool\n",
       "    Where True, yield `x`, otherwise yield `y`.\n",
       "x, y : array_like\n",
       "    Values from which to choose. `x`, `y` and `condition` need to be\n",
       "    broadcastable to some shape.\n",
       "\n",
       "Returns\n",
       "-------\n",
       "out : ndarray\n",
       "    An array with elements from `x` where `condition` is True, and elements\n",
       "    from `y` elsewhere.\n",
       "\n",
       "See Also\n",
       "--------\n",
       "choose\n",
       "nonzero : The function that is called when x and y are omitted\n",
       "\n",
       "Notes\n",
       "-----\n",
       "If all the arrays are 1-D, `where` is equivalent to::\n",
       "\n",
       "    [xv if c else yv\n",
       "     for c, xv, yv in zip(condition, x, y)]\n",
       "\n",
       "Examples\n",
       "--------\n",
       ">>> a = np.arange(10)\n",
       ">>> a\n",
       "array([0, 1, 2, 3, 4, 5, 6, 7, 8, 9])\n",
       ">>> np.where(a < 5, a, 10*a)\n",
       "array([ 0,  1,  2,  3,  4, 50, 60, 70, 80, 90])\n",
       "\n",
       "This can be used on multidimensional arrays too:\n",
       "\n",
       ">>> np.where([[True, False], [True, True]],\n",
       "...          [[1, 2], [3, 4]],\n",
       "...          [[9, 8], [7, 6]])\n",
       "array([[1, 8],\n",
       "       [3, 4]])\n",
       "\n",
       "The shapes of x, y, and the condition are broadcast together:\n",
       "\n",
       ">>> x, y = np.ogrid[:3, :4]\n",
       ">>> np.where(x < y, x, 10 + y)  # both x and 10+y are broadcast\n",
       "array([[10,  0,  0,  0],\n",
       "       [10, 11,  1,  1],\n",
       "       [10, 11, 12,  2]])\n",
       "\n",
       ">>> a = np.array([[0, 1, 2],\n",
       "...               [0, 2, 4],\n",
       "...               [0, 3, 6]])\n",
       ">>> np.where(a < 4, a, -1)  # -1 is broadcast\n",
       "array([[ 0,  1,  2],\n",
       "       [ 0,  2, -1],\n",
       "       [ 0,  3, -1]])\n",
       "\u001b[0;31mType:\u001b[0m      function"
      ]
     },
     "metadata": {},
     "output_type": "display_data"
    }
   ],
   "source": [
    "np.where?"
   ]
  },
  {
   "cell_type": "code",
   "execution_count": 87,
   "id": "ed3fc858-0c5a-417a-a947-7ba50d2344d2",
   "metadata": {
    "tags": []
   },
   "outputs": [
    {
     "data": {
      "text/plain": [
       "array([0.        , 0.12319971, 0.24639942, 0.36959914, 0.49279885])"
      ]
     },
     "execution_count": 87,
     "metadata": {},
     "output_type": "execute_result"
    }
   ],
   "source": [
    "x = np.linspace(0, 2 * np.pi, 52)\n",
    "x[:5]"
   ]
  },
  {
   "cell_type": "code",
   "execution_count": 88,
   "id": "1502e678-f121-4e9c-9795-279c52ba361a",
   "metadata": {
    "tags": []
   },
   "outputs": [
    {
     "data": {
      "image/png": "[encoded data removed]",
      "text/plain": [
       "<Figure size 640x480 with 1 Axes>"
      ]
     },
     "metadata": {},
     "output_type": "display_data"
    }
   ],
   "source": [
    "import matplotlib.pyplot as plt\n",
    "\n",
    "plt.plot(x, np.sin(x))\n",
    "plt.scatter(x, np.sin(x))\n",
    "plt.xlabel(\"x\")\n",
    "plt.ylabel(\"sin(x)\")\n",
    "plt.title(\"The \" + r\"$\\bf{x}$\" + \" values were taken with \" +r\"$\\bf{np.linspace}$\");"
   ]
  },
  {
   "cell_type": "code",
   "execution_count": 89,
   "id": "a8d1ed1b-bb33-408b-8ba8-c42fae39640e",
   "metadata": {
    "tags": []
   },
   "outputs": [
    {
     "data": {
      "text/plain": [
       "((5000000,),\n",
       " array([ 3.14159265,  3.        ,  0.49121537, -0.38382345,  0.31436233]))"
      ]
     },
     "execution_count": 89,
     "metadata": {},
     "output_type": "execute_result"
    }
   ],
   "source": [
    "a_or_3 = np.where(a > b, a, 3)\n",
    "a_or_3.shape, a_or_3[:5]"
   ]
  },
  {
   "cell_type": "code",
   "execution_count": 80,
   "id": "d13327d6-6210-4df7-9f10-6b4c27cb3d51",
   "metadata": {
    "tags": []
   },
   "outputs": [
    {
     "data": {
      "text/plain": [
       "\u001b[0;31mDocstring:\u001b[0m\n",
       "where(condition, [x, y], /)\n",
       "\n",
       "Return elements chosen from `x` or `y` depending on `condition`.\n",
       "\n",
       ".. note::\n",
       "    When only `condition` is provided, this function is a shorthand for\n",
       "    ``np.asarray(condition).nonzero()``. Using `nonzero` directly should be\n",
       "    preferred, as it behaves correctly for subclasses. The rest of this\n",
       "    documentation covers only the case where all three arguments are\n",
       "    provided.\n",
       "\n",
       "Parameters\n",
       "----------\n",
       "condition : array_like, bool\n",
       "    Where True, yield `x`, otherwise yield `y`.\n",
       "x, y : array_like\n",
       "    Values from which to choose. `x`, `y` and `condition` need to be\n",
       "    broadcastable to some shape.\n",
       "\n",
       "Returns\n",
       "-------\n",
       "out : ndarray\n",
       "    An array with elements from `x` where `condition` is True, and elements\n",
       "    from `y` elsewhere.\n",
       "\n",
       "See Also\n",
       "--------\n",
       "choose\n",
       "nonzero : The function that is called when x and y are omitted\n",
       "\n",
       "Notes\n",
       "-----\n",
       "If all the arrays are 1-D, `where` is equivalent to::\n",
       "\n",
       "    [xv if c else yv\n",
       "     for c, xv, yv in zip(condition, x, y)]\n",
       "\n",
       "Examples\n",
       "--------\n",
       ">>> a = np.arange(10)\n",
       ">>> a\n",
       "array([0, 1, 2, 3, 4, 5, 6, 7, 8, 9])\n",
       ">>> np.where(a < 5, a, 10*a)\n",
       "array([ 0,  1,  2,  3,  4, 50, 60, 70, 80, 90])\n",
       "\n",
       "This can be used on multidimensional arrays too:\n",
       "\n",
       ">>> np.where([[True, False], [True, True]],\n",
       "...          [[1, 2], [3, 4]],\n",
       "...          [[9, 8], [7, 6]])\n",
       "array([[1, 8],\n",
       "       [3, 4]])\n",
       "\n",
       "The shapes of x, y, and the condition are broadcast together:\n",
       "\n",
       ">>> x, y = np.ogrid[:3, :4]\n",
       ">>> np.where(x < y, x, 10 + y)  # both x and 10+y are broadcast\n",
       "array([[10,  0,  0,  0],\n",
       "       [10, 11,  1,  1],\n",
       "       [10, 11, 12,  2]])\n",
       "\n",
       ">>> a = np.array([[0, 1, 2],\n",
       "...               [0, 2, 4],\n",
       "...               [0, 3, 6]])\n",
       ">>> np.where(a < 4, a, -1)  # -1 is broadcast\n",
       "array([[ 0,  1,  2],\n",
       "       [ 0,  2, -1],\n",
       "       [ 0,  3, -1]])\n",
       "\u001b[0;31mType:\u001b[0m      function"
      ]
     },
     "metadata": {},
     "output_type": "display_data"
    }
   ],
   "source": [
    "np.where?"
   ]
  },
  {
   "cell_type": "code",
   "execution_count": 84,
   "id": "3336478d-aa87-4092-8a91-67cd417c8ab8",
   "metadata": {
    "tags": []
   },
   "outputs": [
    {
     "data": {
      "text/plain": [
       "(52, array([0.        , 0.12319971, 0.24639942, 0.36959914, 0.49279885]))"
      ]
     },
     "execution_count": 84,
     "metadata": {},
     "output_type": "execute_result"
    }
   ],
   "source": [
    "x2 = np.arange(0, 2 * np.pi, 0.1); len(x), x[:5]"
   ]
  },
  {
   "cell_type": "code",
   "execution_count": 86,
   "id": "d9f4e48b-856b-4be4-be11-731dd717ee82",
   "metadata": {
    "tags": []
   },
   "outputs": [
    {
     "data": {
      "image/png": "[encoded data removed]",
      "text/plain": [
       "<Figure size 640x480 with 1 Axes>"
      ]
     },
     "metadata": {},
     "output_type": "display_data"
    }
   ],
   "source": [
    "plt.plot(x2, np.sin(x2))\n",
    "plt.scatter(x2, np.sin(x2))\n",
    "plt.xlabel(\"x2\")\n",
    "plt.ylabel(\"sin(x2)\")\n",
    "plt.title(\"The \" + r\"$\\bf{x2}$\" + \" values were taken with \" +r\"$\\bf{np.arange}$\");"
   ]
  },
  {
   "cell_type": "code",
   "execution_count": null,
   "id": "795b3af1-b5f1-476c-8044-a6e84c5eed90",
   "metadata": {},
   "outputs": [],
   "source": []
  }
 ],
 "metadata": {
  "kernelspec": {
   "display_name": "Python 3 (ipykernel)",
   "language": "python",
   "name": "python3"
  },
  "language_info": {
   "codemirror_mode": {
    "name": "ipython",
    "version": 3
   },
   "file_extension": ".py",
   "mimetype": "text/x-python",
   "name": "python",
   "nbconvert_exporter": "python",
   "pygments_lexer": "ipython3",
   "version": "3.8.10"
  }
 },
 "nbformat": 4,
 "nbformat_minor": 5
}

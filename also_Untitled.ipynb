{
 "cells": [
  {
   "cell_type": "code",
   "execution_count": 1,
   "id": "a9aa25a0-ea6f-48c2-9921-41c6971c9186",
   "metadata": {
    "tags": []
   },
   "outputs": [],
   "source": [
    "import my_module"
   ]
  },
  {
   "cell_type": "code",
   "execution_count": 2,
   "id": "8ecb93e9-6850-43a4-b765-d74cdb4659e8",
   "metadata": {
    "tags": []
   },
   "outputs": [
    {
     "data": {
      "text/plain": [
       "6.7"
      ]
     },
     "execution_count": 2,
     "metadata": {},
     "output_type": "execute_result"
    }
   ],
   "source": [
    "my_module.my_func(3, 3.7)"
   ]
  },
  {
   "cell_type": "code",
   "execution_count": 3,
   "id": "87d4e76e-81db-4397-83d3-e462e11f4808",
   "metadata": {
    "tags": []
   },
   "outputs": [],
   "source": [
    "r=6"
   ]
  },
  {
   "cell_type": "code",
   "execution_count": 4,
   "id": "16303907-7b04-4bae-9316-a815859f5f76",
   "metadata": {
    "tags": []
   },
   "outputs": [
    {
     "data": {
      "text/plain": [
       "6"
      ]
     },
     "execution_count": 4,
     "metadata": {},
     "output_type": "execute_result"
    }
   ],
   "source": [
    "r"
   ]
  },
  {
   "cell_type": "code",
   "execution_count": 5,
   "id": "bba21113-538d-40e8-b450-f1d2fe644472",
   "metadata": {},
   "outputs": [],
   "source": [
    "from typing import Callable"
   ]
  },
  {
   "cell_type": "code",
   "execution_count": 6,
   "id": "b18c6b77-b8d1-46eb-a3be-af7a414976bb",
   "metadata": {
    "tags": []
   },
   "outputs": [],
   "source": [
    "def f1(fn: Callable[[int], int]):\n",
    "    return 1 + fn(30)"
   ]
  },
  {
   "cell_type": "code",
   "execution_count": 7,
   "id": "4dd3d8e8-69f1-4ece-a66a-ea13884672cb",
   "metadata": {
    "tags": []
   },
   "outputs": [
    {
     "name": "stdout",
     "output_type": "stream",
     "text": [
      "30\n"
     ]
    },
    {
     "ename": "TypeError",
     "evalue": "unsupported operand type(s) for +: 'int' and 'NoneType'",
     "output_type": "error",
     "traceback": [
      "\u001b[0;31m---------------------------------------------------------------------------\u001b[0m",
      "\u001b[0;31mTypeError\u001b[0m                                 Traceback (most recent call last)",
      "Cell \u001b[0;32mIn[7], line 1\u001b[0m\n\u001b[0;32m----> 1\u001b[0m \u001b[43mf1\u001b[49m\u001b[43m(\u001b[49m\u001b[38;5;28;43mprint\u001b[39;49m\u001b[43m)\u001b[49m\n",
      "Cell \u001b[0;32mIn[6], line 2\u001b[0m, in \u001b[0;36mf1\u001b[0;34m(fn)\u001b[0m\n\u001b[1;32m      1\u001b[0m \u001b[38;5;28;01mdef\u001b[39;00m \u001b[38;5;21mf1\u001b[39m(fn: Callable[[\u001b[38;5;28mint\u001b[39m], \u001b[38;5;28mint\u001b[39m]):\n\u001b[0;32m----> 2\u001b[0m     \u001b[38;5;28;01mreturn\u001b[39;00m \u001b[38;5;241;43m1\u001b[39;49m\u001b[43m \u001b[49m\u001b[38;5;241;43m+\u001b[39;49m\u001b[43m \u001b[49m\u001b[43mfn\u001b[49m\u001b[43m(\u001b[49m\u001b[38;5;241;43m30\u001b[39;49m\u001b[43m)\u001b[49m\n",
      "\u001b[0;31mTypeError\u001b[0m: unsupported operand type(s) for +: 'int' and 'NoneType'"
     ]
    }
   ],
   "source": [
    "f1(print)"
   ]
  },
  {
   "cell_type": "code",
   "execution_count": null,
   "id": "7afbac4a-21f0-4f7c-b965-248028c6cf84",
   "metadata": {
    "tags": []
   },
   "outputs": [],
   "source": [
    "def f_impl1(a):\n",
    "    return a + 4"
   ]
  },
  {
   "cell_type": "code",
   "execution_count": null,
   "id": "e2373a01-9266-479e-8ee8-714e8f3cd1d9",
   "metadata": {
    "tags": []
   },
   "outputs": [],
   "source": [
    "f1(f_impl1)"
   ]
  },
  {
   "cell_type": "code",
   "execution_count": null,
   "id": "e1e5b9d8-139b-4920-9d98-d7aa9a07452e",
   "metadata": {
    "tags": []
   },
   "outputs": [],
   "source": [
    "f1(lambda x: x ** 2)"
   ]
  },
  {
   "cell_type": "code",
   "execution_count": null,
   "id": "4acce00a-bd0f-4abb-8bda-062c747ba38e",
   "metadata": {
    "tags": []
   },
   "outputs": [],
   "source": [
    "def make_fn(to_add: int):\n",
    "    def wrapped(x: int):\n",
    "        return x + to_add\n",
    "    return wrapped"
   ]
  },
  {
   "cell_type": "code",
   "execution_count": null,
   "id": "f82de257-fb03-4bc5-872f-80f9b90924a9",
   "metadata": {
    "tags": []
   },
   "outputs": [],
   "source": [
    "f1(make_fn(100))"
   ]
  },
  {
   "cell_type": "code",
   "execution_count": null,
   "id": "c33fa057-149a-4f81-9fd0-e82199f6993a",
   "metadata": {
    "tags": []
   },
   "outputs": [],
   "source": [
    "make_fn(100)(7)"
   ]
  },
  {
   "cell_type": "code",
   "execution_count": null,
   "id": "49f7b150-3481-414d-b4ea-77f55cdc4f6f",
   "metadata": {
    "tags": []
   },
   "outputs": [],
   "source": [
    "tmp_fn = make_fn(100)"
   ]
  },
  {
   "cell_type": "code",
   "execution_count": null,
   "id": "1e412b28-545b-4d19-a88b-5d6b4a4c39f4",
   "metadata": {
    "tags": []
   },
   "outputs": [],
   "source": [
    "tmp_fn(4)"
   ]
  },
  {
   "cell_type": "code",
   "execution_count": null,
   "id": "3da2a08f-27d9-4486-b829-6b6106f859c3",
   "metadata": {
    "tags": []
   },
   "outputs": [],
   "source": [
    "class A:\n",
    "    def __init__(self, to_mul: int):\n",
    "        self._to_mul = to_mul\n",
    "        \n",
    "    def __call__(self, x: int):\n",
    "        return x * self._to_mul"
   ]
  },
  {
   "cell_type": "code",
   "execution_count": null,
   "id": "e7cf8697-6316-4d4d-b861-78a07d524adb",
   "metadata": {
    "tags": []
   },
   "outputs": [],
   "source": [
    "my_a_obj = A(3)"
   ]
  },
  {
   "cell_type": "code",
   "execution_count": null,
   "id": "39127c4d-e100-4319-8702-5e425fadd834",
   "metadata": {
    "tags": []
   },
   "outputs": [],
   "source": [
    "my_a_obj(14)"
   ]
  },
  {
   "cell_type": "code",
   "execution_count": null,
   "id": "79f26d39-a2de-4093-adeb-ab52796add82",
   "metadata": {
    "tags": []
   },
   "outputs": [],
   "source": [
    "f1(my_a_obj)"
   ]
  },
  {
   "cell_type": "code",
   "execution_count": null,
   "id": "0e91d5b6-76f3-4419-baba-a406182b1d2d",
   "metadata": {
    "tags": []
   },
   "outputs": [],
   "source": [
    "from functools import partial\n",
    "\n",
    "\n",
    "def standardize(number, mean=0, std=1):\n",
    "    return (number - mean) / std\n",
    "\n",
    "\n",
    "for std_fn in [\n",
    "    partial(standardize, mean=1, std=0.5),\n",
    "    partial(standardize, mean=0, std=1)\n",
    "]:\n",
    "    a, b, c = (std_fn(arg) for arg in [1, 2, -1])\n",
    "    print(a, b, c)"
   ]
  },
  {
   "cell_type": "code",
   "execution_count": null,
   "id": "e294a598-8f64-4877-87d2-84cb1d7fd237",
   "metadata": {
    "tags": []
   },
   "outputs": [],
   "source": [
    "a, *middle, c = 1, 2, 3, 4"
   ]
  },
  {
   "cell_type": "code",
   "execution_count": null,
   "id": "901b2d93-a76d-4de2-975d-b9de417449a1",
   "metadata": {
    "tags": []
   },
   "outputs": [],
   "source": [
    "a, c"
   ]
  },
  {
   "cell_type": "code",
   "execution_count": null,
   "id": "84664178-37b9-4ce4-8489-407163f8d236",
   "metadata": {
    "tags": []
   },
   "outputs": [],
   "source": [
    "middle"
   ]
  },
  {
   "cell_type": "code",
   "execution_count": null,
   "id": "4abe752f-b7f9-4ffa-aa14-307a8b0306a2",
   "metadata": {
    "tags": []
   },
   "outputs": [],
   "source": [
    "import numpy as np"
   ]
  },
  {
   "cell_type": "code",
   "execution_count": null,
   "id": "2470f23e-981d-47a4-a690-49b6893ace00",
   "metadata": {
    "tags": []
   },
   "outputs": [],
   "source": [
    "np.append([1, 2, 3], [[4,5], [10, 20]])"
   ]
  },
  {
   "cell_type": "code",
   "execution_count": null,
   "id": "614e9be1-8417-4689-abd9-99f3b839b9c6",
   "metadata": {
    "tags": []
   },
   "outputs": [],
   "source": [
    "np.array([[4,5], [10, 20]]).flatten()"
   ]
  },
  {
   "cell_type": "code",
   "execution_count": null,
   "id": "f8252360-ea2e-4c4a-9b51-71c82133b001",
   "metadata": {
    "tags": []
   },
   "outputs": [],
   "source": [
    "np.array([[4,5], [10, 20]]).ravel()"
   ]
  },
  {
   "cell_type": "code",
   "execution_count": 8,
   "id": "81ea5bd5-a10c-494c-9299-0f177acbbbf7",
   "metadata": {
    "tags": []
   },
   "outputs": [
    {
     "data": {
      "text/plain": [
       "['__builtins__',\n",
       " '__cached__',\n",
       " '__doc__',\n",
       " '__file__',\n",
       " '__loader__',\n",
       " '__name__',\n",
       " '__package__',\n",
       " '__spec__',\n",
       " 'my_func',\n",
       " 'my_global_view_of_the_world']"
      ]
     },
     "execution_count": 8,
     "metadata": {},
     "output_type": "execute_result"
    }
   ],
   "source": [
    "dir(my_module)"
   ]
  },
  {
   "cell_type": "code",
   "execution_count": 10,
   "id": "e87300bf-9ad8-4bb5-bbac-de076230bd1e",
   "metadata": {
    "tags": []
   },
   "outputs": [
    {
     "data": {
      "text/plain": [
       "'ABBA'"
      ]
     },
     "execution_count": 10,
     "metadata": {},
     "output_type": "execute_result"
    }
   ],
   "source": [
    "my_module.my_global_view_of_the_world"
   ]
  },
  {
   "cell_type": "code",
   "execution_count": 13,
   "id": "3779324a-bbdc-4e66-89d2-a48046e2bb29",
   "metadata": {
    "tags": []
   },
   "outputs": [],
   "source": [
    "def my_additional_func():\n",
    "    print( my_module.my_global_view_of_the_world + \" rules\")"
   ]
  },
  {
   "cell_type": "code",
   "execution_count": 14,
   "id": "78972a24-84fd-4f45-8cb6-da99e6d9bf3e",
   "metadata": {
    "tags": []
   },
   "outputs": [
    {
     "name": "stdout",
     "output_type": "stream",
     "text": [
      "ABBA rules\n"
     ]
    }
   ],
   "source": [
    "my_additional_func()"
   ]
  },
  {
   "cell_type": "code",
   "execution_count": 1,
   "id": "0382f895-f448-46b3-8272-141f2f56b1cb",
   "metadata": {},
   "outputs": [],
   "source": [
    "a, b, c = [1, 2, 3]"
   ]
  },
  {
   "cell_type": "code",
   "execution_count": 5,
   "id": "51179ec4-4523-42d3-aed5-adb69be0b554",
   "metadata": {
    "tags": []
   },
   "outputs": [],
   "source": [
    "a, b, *_ = [1, 2, 3, 4]"
   ]
  },
  {
   "cell_type": "code",
   "execution_count": 7,
   "id": "223292fe-bbf3-4b24-b892-5727bc69f561",
   "metadata": {
    "tags": []
   },
   "outputs": [
    {
     "data": {
      "text/plain": [
       "[3, 4]"
      ]
     },
     "execution_count": 7,
     "metadata": {},
     "output_type": "execute_result"
    }
   ],
   "source": [
    "_"
   ]
  },
  {
   "cell_type": "code",
   "execution_count": 8,
   "id": "581a98f9-72d2-42ef-ad18-3beafd174f69",
   "metadata": {
    "tags": []
   },
   "outputs": [
    {
     "data": {
      "text/plain": [
       "(1, 2)"
      ]
     },
     "execution_count": 8,
     "metadata": {},
     "output_type": "execute_result"
    }
   ],
   "source": [
    "a, b"
   ]
  },
  {
   "cell_type": "code",
   "execution_count": 10,
   "id": "539be6e4-4714-48a8-9e11-12a6ee438cb6",
   "metadata": {
    "tags": []
   },
   "outputs": [],
   "source": [
    "a, b, c = range(3)"
   ]
  },
  {
   "cell_type": "code",
   "execution_count": 11,
   "id": "6f195726-450d-4725-bdab-a72b0ca49254",
   "metadata": {
    "tags": []
   },
   "outputs": [
    {
     "data": {
      "text/plain": [
       "(0, 1, 2)"
      ]
     },
     "execution_count": 11,
     "metadata": {},
     "output_type": "execute_result"
    }
   ],
   "source": [
    "a, b, c"
   ]
  },
  {
   "cell_type": "code",
   "execution_count": 12,
   "id": "7262a6f7-6669-42f4-b88d-673f32d6766b",
   "metadata": {
    "tags": []
   },
   "outputs": [],
   "source": [
    "a,b, c = (x for x in range(3))"
   ]
  },
  {
   "cell_type": "code",
   "execution_count": 13,
   "id": "b92500a7-86e5-4fcc-a477-07793f0f667d",
   "metadata": {
    "tags": []
   },
   "outputs": [
    {
     "data": {
      "text/plain": [
       "(0, 1, 2)"
      ]
     },
     "execution_count": 13,
     "metadata": {},
     "output_type": "execute_result"
    }
   ],
   "source": [
    "a, b, c"
   ]
  },
  {
   "cell_type": "code",
   "execution_count": 14,
   "id": "731b7934-8d93-46a7-a5e8-63230fa397cf",
   "metadata": {
    "tags": []
   },
   "outputs": [],
   "source": [
    "my_gen = (x for x in range(100))"
   ]
  },
  {
   "cell_type": "code",
   "execution_count": 15,
   "id": "c0b8f0d6-a2b7-47b7-bc04-0b779ce72e16",
   "metadata": {
    "tags": []
   },
   "outputs": [
    {
     "data": {
      "text/plain": [
       "<generator object <genexpr> at 0x7f33da20b060>"
      ]
     },
     "execution_count": 15,
     "metadata": {},
     "output_type": "execute_result"
    }
   ],
   "source": [
    "my_gen"
   ]
  },
  {
   "cell_type": "code",
   "execution_count": 16,
   "id": "9725a528-3524-4fb1-9e17-3918215fd095",
   "metadata": {
    "tags": []
   },
   "outputs": [],
   "source": [
    "*_, a, b = my_gen"
   ]
  },
  {
   "cell_type": "code",
   "execution_count": 17,
   "id": "16d94df7-5c0c-4f11-9383-e7647fe47943",
   "metadata": {
    "tags": []
   },
   "outputs": [
    {
     "data": {
      "text/plain": [
       "(98, 99)"
      ]
     },
     "execution_count": 17,
     "metadata": {},
     "output_type": "execute_result"
    }
   ],
   "source": [
    "a, b"
   ]
  },
  {
   "cell_type": "code",
   "execution_count": 18,
   "id": "1baffe56-2580-45d0-8819-0cd17322dd03",
   "metadata": {
    "tags": []
   },
   "outputs": [
    {
     "ename": "ValueError",
     "evalue": "not enough values to unpack (expected at least 2, got 0)",
     "output_type": "error",
     "traceback": [
      "\u001b[0;31m---------------------------------------------------------------------------\u001b[0m",
      "\u001b[0;31mValueError\u001b[0m                                Traceback (most recent call last)",
      "Cell \u001b[0;32mIn[18], line 1\u001b[0m\n\u001b[0;32m----> 1\u001b[0m \u001b[38;5;241m*\u001b[39m_, a, b \u001b[38;5;241m=\u001b[39m my_gen\n",
      "\u001b[0;31mValueError\u001b[0m: not enough values to unpack (expected at least 2, got 0)"
     ]
    }
   ],
   "source": [
    "*_, a, b = my_gen"
   ]
  },
  {
   "cell_type": "code",
   "execution_count": 19,
   "id": "adb89d6b-cd90-4c11-9af0-5affdbd7f904",
   "metadata": {
    "tags": []
   },
   "outputs": [],
   "source": [
    "my_gen = (x for x in range(100))"
   ]
  },
  {
   "cell_type": "code",
   "execution_count": null,
   "id": "a3604d45-5f24-437b-be4d-5d3672775d0a",
   "metadata": {},
   "outputs": [],
   "source": []
  }
 ],
 "metadata": {
  "kernelspec": {
   "display_name": "Python 3 (ipykernel)",
   "language": "python",
   "name": "python3"
  },
  "language_info": {
   "codemirror_mode": {
    "name": "ipython",
    "version": 3
   },
   "file_extension": ".py",
   "mimetype": "text/x-python",
   "name": "python",
   "nbconvert_exporter": "python",
   "pygments_lexer": "ipython3",
   "version": "3.10.6"
  }
 },
 "nbformat": 4,
 "nbformat_minor": 5
}

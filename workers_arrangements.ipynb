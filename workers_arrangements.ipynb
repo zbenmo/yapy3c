{
 "cells": [
  {
   "cell_type": "code",
   "execution_count": 10,
   "id": "488d0c72-d234-41f5-b487-e5ab67b4bf4f",
   "metadata": {},
   "outputs": [],
   "source": [
    "from itertools import combinations, combinations_with_replacement\n",
    "from collections import Counter"
   ]
  },
  {
   "cell_type": "code",
   "execution_count": 25,
   "id": "d6df70ac-026c-4fcd-93b6-c1cfcd2a156f",
   "metadata": {},
   "outputs": [
    {
     "data": {
      "text/plain": [
       "[(1, 2), (1, 3), (2, 3)]"
      ]
     },
     "execution_count": 25,
     "metadata": {},
     "output_type": "execute_result"
    }
   ],
   "source": [
    "list(combinations([1, 2, 3], 2))"
   ]
  },
  {
   "cell_type": "code",
   "execution_count": 13,
   "id": "951cce7d-6af7-40ac-99e7-37b433d24e42",
   "metadata": {},
   "outputs": [
    {
     "data": {
      "text/plain": [
       "[(0, 0, 0, 0, 0),\n",
       " (0, 0, 0, 0, 1),\n",
       " (0, 0, 0, 0, 2),\n",
       " (0, 0, 0, 1, 1),\n",
       " (0, 0, 0, 1, 2),\n",
       " (0, 0, 0, 2, 2),\n",
       " (0, 0, 1, 1, 1),\n",
       " (0, 0, 1, 1, 2),\n",
       " (0, 0, 1, 2, 2),\n",
       " (0, 0, 2, 2, 2),\n",
       " (0, 1, 1, 1, 1),\n",
       " (0, 1, 1, 1, 2),\n",
       " (0, 1, 1, 2, 2),\n",
       " (0, 1, 2, 2, 2),\n",
       " (0, 2, 2, 2, 2),\n",
       " (1, 1, 1, 1, 1),\n",
       " (1, 1, 1, 1, 2),\n",
       " (1, 1, 1, 2, 2),\n",
       " (1, 1, 2, 2, 2),\n",
       " (1, 2, 2, 2, 2),\n",
       " (2, 2, 2, 2, 2)]"
      ]
     },
     "execution_count": 13,
     "metadata": {},
     "output_type": "execute_result"
    }
   ],
   "source": [
    "list(combinations_with_replacement(range(3), 5))"
   ]
  },
  {
   "cell_type": "code",
   "execution_count": 22,
   "id": "049c2e69-df24-4de7-9fbe-f7c5136cee99",
   "metadata": {},
   "outputs": [],
   "source": [
    "def workers_arrangements(how_many_workers: int, how_many_stations: int):\n",
    "    for option in combinations_with_replacement(range(how_many_stations), how_many_workers - how_many_stations):\n",
    "        counter = Counter(range(how_many_stations))\n",
    "        counter.update(option)\n",
    "        yield tuple(counter[x] for x in range(how_many_stations))"
   ]
  },
  {
   "cell_type": "code",
   "execution_count": 23,
   "id": "19f75805-5575-4b53-b73d-b06320338521",
   "metadata": {},
   "outputs": [
    {
     "data": {
      "text/plain": [
       "[(8, 1, 1),\n",
       " (7, 2, 1),\n",
       " (7, 1, 2),\n",
       " (6, 3, 1),\n",
       " (6, 2, 2),\n",
       " (6, 1, 3),\n",
       " (5, 4, 1),\n",
       " (5, 3, 2),\n",
       " (5, 2, 3),\n",
       " (5, 1, 4),\n",
       " (4, 5, 1),\n",
       " (4, 4, 2),\n",
       " (4, 3, 3),\n",
       " (4, 2, 4),\n",
       " (4, 1, 5),\n",
       " (3, 6, 1),\n",
       " (3, 5, 2),\n",
       " (3, 4, 3),\n",
       " (3, 3, 4),\n",
       " (3, 2, 5),\n",
       " (3, 1, 6),\n",
       " (2, 7, 1),\n",
       " (2, 6, 2),\n",
       " (2, 5, 3),\n",
       " (2, 4, 4),\n",
       " (2, 3, 5),\n",
       " (2, 2, 6),\n",
       " (2, 1, 7),\n",
       " (1, 8, 1),\n",
       " (1, 7, 2),\n",
       " (1, 6, 3),\n",
       " (1, 5, 4),\n",
       " (1, 4, 5),\n",
       " (1, 3, 6),\n",
       " (1, 2, 7),\n",
       " (1, 1, 8)]"
      ]
     },
     "execution_count": 23,
     "metadata": {},
     "output_type": "execute_result"
    }
   ],
   "source": [
    "list(workers_arrangements(10, 3))"
   ]
  },
  {
   "cell_type": "code",
   "execution_count": null,
   "id": "c609859b-c544-4454-805d-2ed978f314d8",
   "metadata": {},
   "outputs": [],
   "source": []
  }
 ],
 "metadata": {
  "kernelspec": {
   "display_name": "Python 3 (ipykernel)",
   "language": "python",
   "name": "python3"
  },
  "language_info": {
   "codemirror_mode": {
    "name": "ipython",
    "version": 3
   },
   "file_extension": ".py",
   "mimetype": "text/x-python",
   "name": "python",
   "nbconvert_exporter": "python",
   "pygments_lexer": "ipython3",
   "version": "3.8.10"
  }
 },
 "nbformat": 4,
 "nbformat_minor": 5
}

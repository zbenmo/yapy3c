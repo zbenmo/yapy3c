{
 "cells": [
  {
   "cell_type": "code",
   "execution_count": 1,
   "id": "3fada877-a54c-4880-ac0e-cdecc26633d4",
   "metadata": {
    "tags": []
   },
   "outputs": [],
   "source": [
    "a = [1, 2, 3]\n",
    "b = a[:]"
   ]
  },
  {
   "cell_type": "code",
   "execution_count": 2,
   "id": "6d95d8c0-6892-45c5-8740-69c8f2ba80d4",
   "metadata": {
    "tags": []
   },
   "outputs": [
    {
     "data": {
      "text/plain": [
       "([1, 2, 3], [1, 2, 3])"
      ]
     },
     "execution_count": 2,
     "metadata": {},
     "output_type": "execute_result"
    }
   ],
   "source": [
    "a, b"
   ]
  },
  {
   "cell_type": "code",
   "execution_count": 3,
   "id": "3cc2e18e-67ec-412e-b2a8-5612f9a376ee",
   "metadata": {
    "tags": []
   },
   "outputs": [],
   "source": [
    "a[0] = 7"
   ]
  },
  {
   "cell_type": "code",
   "execution_count": 4,
   "id": "7862cc16-88e5-44ea-910d-9a00d3869a1d",
   "metadata": {
    "tags": []
   },
   "outputs": [
    {
     "data": {
      "text/plain": [
       "([7, 2, 3], [1, 2, 3])"
      ]
     },
     "execution_count": 4,
     "metadata": {},
     "output_type": "execute_result"
    }
   ],
   "source": [
    "a, b"
   ]
  },
  {
   "cell_type": "code",
   "execution_count": 5,
   "id": "a00c7569-0e54-4add-8108-1720a4c4717f",
   "metadata": {
    "tags": []
   },
   "outputs": [
    {
     "name": "stdout",
     "output_type": "stream",
     "text": [
      "[7, 2, 3] [1, 2, 3]\n"
     ]
    }
   ],
   "source": [
    "print(a, b)"
   ]
  },
  {
   "cell_type": "code",
   "execution_count": 6,
   "id": "69a93e9c-0c3a-4548-80fd-b2dc7360b68c",
   "metadata": {},
   "outputs": [],
   "source": [
    "pyramid = [\n",
    "    [y for y in range(1, x + 1)]\n",
    "    for x in range(1, 6 + 1)\n",
    "]"
   ]
  },
  {
   "cell_type": "code",
   "execution_count": 7,
   "id": "9394646b-b405-4e37-a226-b17df0dd2f2d",
   "metadata": {
    "tags": []
   },
   "outputs": [
    {
     "name": "stdout",
     "output_type": "stream",
     "text": [
      "[[1], [1, 2], [1, 2, 3], [1, 2, 3, 4], [1, 2, 3, 4, 5], [1, 2, 3, 4, 5, 6]]\n"
     ]
    }
   ],
   "source": [
    "print(pyramid)"
   ]
  },
  {
   "cell_type": "code",
   "execution_count": 8,
   "id": "44a4329a-18c7-4715-a66a-d5c1297cb924",
   "metadata": {
    "tags": []
   },
   "outputs": [
    {
     "name": "stdout",
     "output_type": "stream",
     "text": [
      "[1]\n",
      "[1, 2]\n",
      "[1, 2, 3]\n",
      "[1, 2, 3, 4]\n",
      "[1, 2, 3, 4, 5]\n",
      "[1, 2, 3, 4, 5, 6]\n"
     ]
    }
   ],
   "source": [
    "print(*pyramid, sep=\"\\n\")"
   ]
  },
  {
   "cell_type": "code",
   "execution_count": 9,
   "id": "8fe4d54f-38ef-4b51-8dc4-db71f4597bf2",
   "metadata": {
    "tags": []
   },
   "outputs": [
    {
     "name": "stdout",
     "output_type": "stream",
     "text": [
      "[1, 2]\n"
     ]
    }
   ],
   "source": [
    "print([1, 2])"
   ]
  },
  {
   "cell_type": "code",
   "execution_count": 10,
   "id": "cdaed4c3-b3fc-4b4c-8c66-dddfa40f7d3f",
   "metadata": {
    "tags": []
   },
   "outputs": [
    {
     "name": "stdout",
     "output_type": "stream",
     "text": [
      "1 2\n"
     ]
    }
   ],
   "source": [
    "print(*[1, 2])"
   ]
  },
  {
   "cell_type": "code",
   "execution_count": 11,
   "id": "30311672-35a5-4c27-a5a1-c77717a74940",
   "metadata": {
    "tags": []
   },
   "outputs": [
    {
     "name": "stdout",
     "output_type": "stream",
     "text": [
      "1|2\n"
     ]
    }
   ],
   "source": [
    "print(*[1, 2], sep=\"|\")"
   ]
  },
  {
   "cell_type": "code",
   "execution_count": 12,
   "id": "08781c6c-ba5c-4fa2-bdee-eb13c80f60d8",
   "metadata": {
    "tags": []
   },
   "outputs": [
    {
     "name": "stdout",
     "output_type": "stream",
     "text": [
      "[1]\n",
      "[1, 2]\n",
      "[1, 2, 3]\n",
      "[1, 2, 3, 4]\n",
      "[1, 2, 3, 4, 5]\n",
      "[1, 2, 3, 4, 5, 6]\n"
     ]
    }
   ],
   "source": [
    "for row in pyramid:\n",
    "    print(row)"
   ]
  },
  {
   "cell_type": "code",
   "execution_count": 13,
   "id": "392c5bae-0307-48a6-bba8-e3e363a0e1cb",
   "metadata": {
    "tags": []
   },
   "outputs": [
    {
     "name": "stdout",
     "output_type": "stream",
     "text": [
      "[1]\n",
      "[1, 2]\n",
      "[1, 2, 3]\n",
      "[1, 2, 3, 4]\n",
      "[1, 2, 3, 4, 5]\n",
      "[1, 2, 3, 4, 5, 6]\n"
     ]
    }
   ],
   "source": [
    "print(\"\\n\".join(map(str, pyramid)))"
   ]
  },
  {
   "cell_type": "code",
   "execution_count": 14,
   "id": "c9a49778-2080-4f80-807a-ab0bef8391de",
   "metadata": {
    "tags": []
   },
   "outputs": [],
   "source": [
    "import pprint"
   ]
  },
  {
   "cell_type": "code",
   "execution_count": 28,
   "id": "95b9dc89-2492-4984-96f9-58dc7f2b5dce",
   "metadata": {
    "tags": []
   },
   "outputs": [],
   "source": [
    "pp = pprint.PrettyPrinter(indent=2)"
   ]
  },
  {
   "cell_type": "code",
   "execution_count": 29,
   "id": "831adf15-4504-4491-be02-de160ae247b9",
   "metadata": {
    "tags": []
   },
   "outputs": [
    {
     "name": "stdout",
     "output_type": "stream",
     "text": [
      "[[1], [1, 2], [1, 2, 3], [1, 2, 3, 4], [1, 2, 3, 4, 5], [1, 2, 3, 4, 5, 6]]\n"
     ]
    }
   ],
   "source": [
    "pp.pprint(pyramid)"
   ]
  },
  {
   "cell_type": "code",
   "execution_count": 30,
   "id": "cd04178e-e415-468f-ba3d-377261613572",
   "metadata": {
    "tags": []
   },
   "outputs": [
    {
     "name": "stdout",
     "output_type": "stream",
     "text": [
      "[ '[1]',\n",
      "  '[1, 2]',\n",
      "  '[1, 2, 3]',\n",
      "  '[1, 2, 3, 4]',\n",
      "  '[1, 2, 3, 4, 5]',\n",
      "  '[1, 2, 3, 4, 5, 6]']\n"
     ]
    }
   ],
   "source": [
    "pp.pprint(list(map(str, pyramid)))"
   ]
  },
  {
   "cell_type": "code",
   "execution_count": 35,
   "id": "78dd6716-ecec-4fcc-aa89-1c2d137d55df",
   "metadata": {
    "tags": []
   },
   "outputs": [],
   "source": [
    "import operator"
   ]
  },
  {
   "cell_type": "code",
   "execution_count": 36,
   "id": "0b9c9411-fd9b-498f-9c18-2638cbf0ebaf",
   "metadata": {
    "tags": []
   },
   "outputs": [
    {
     "data": {
      "text/plain": [
       "builtin_function_or_method"
      ]
     },
     "execution_count": 36,
     "metadata": {},
     "output_type": "execute_result"
    }
   ],
   "source": [
    "type(operator.add)"
   ]
  },
  {
   "cell_type": "code",
   "execution_count": 37,
   "id": "993ab061-3236-454a-8a11-6f9da570958d",
   "metadata": {
    "tags": []
   },
   "outputs": [],
   "source": [
    "my_range = range(-1, 10)"
   ]
  },
  {
   "cell_type": "code",
   "execution_count": 38,
   "id": "d12938a4-4468-4616-b606-cecc633d5fab",
   "metadata": {
    "tags": []
   },
   "outputs": [
    {
     "data": {
      "text/plain": [
       "range"
      ]
     },
     "execution_count": 38,
     "metadata": {},
     "output_type": "execute_result"
    }
   ],
   "source": [
    "type(my_range)"
   ]
  },
  {
   "cell_type": "code",
   "execution_count": 39,
   "id": "221ab9fd-24bc-4923-99cb-394ce51ca5c3",
   "metadata": {
    "tags": []
   },
   "outputs": [
    {
     "data": {
      "text/plain": [
       "[-1, 0, 1, 2, 3, 4, 5, 6, 7, 8, 9]"
      ]
     },
     "execution_count": 39,
     "metadata": {},
     "output_type": "execute_result"
    }
   ],
   "source": [
    "list(my_range)"
   ]
  },
  {
   "cell_type": "code",
   "execution_count": 65,
   "id": "3080b5fc-83ee-4e94-b817-b440fa38384a",
   "metadata": {
    "tags": []
   },
   "outputs": [],
   "source": [
    "i = iter(my_range)"
   ]
  },
  {
   "cell_type": "code",
   "execution_count": 66,
   "id": "d771ac36-6b01-4019-a095-5a7741d60329",
   "metadata": {
    "tags": []
   },
   "outputs": [
    {
     "data": {
      "text/plain": [
       "-1"
      ]
     },
     "execution_count": 66,
     "metadata": {},
     "output_type": "execute_result"
    }
   ],
   "source": [
    "next(i)"
   ]
  },
  {
   "cell_type": "code",
   "execution_count": 67,
   "id": "64f382f2-66ca-4444-b5b2-d4850c9d4fde",
   "metadata": {
    "tags": []
   },
   "outputs": [
    {
     "data": {
      "text/plain": [
       "0"
      ]
     },
     "execution_count": 67,
     "metadata": {},
     "output_type": "execute_result"
    }
   ],
   "source": [
    "next(i)"
   ]
  },
  {
   "cell_type": "code",
   "execution_count": 68,
   "id": "9c12ed5c-f518-48b5-bfa0-a486e2086644",
   "metadata": {
    "tags": []
   },
   "outputs": [
    {
     "name": "stdout",
     "output_type": "stream",
     "text": [
      "*********"
     ]
    }
   ],
   "source": [
    "for _ in i:\n",
    "    print('*', end='')"
   ]
  },
  {
   "cell_type": "code",
   "execution_count": 69,
   "id": "40a08bdc-77c4-4678-a3cf-a6a5a3600511",
   "metadata": {
    "tags": []
   },
   "outputs": [
    {
     "ename": "StopIteration",
     "evalue": "",
     "output_type": "error",
     "traceback": [
      "\u001b[0;31m---------------------------------------------------------------------------\u001b[0m",
      "\u001b[0;31mStopIteration\u001b[0m                             Traceback (most recent call last)",
      "Cell \u001b[0;32mIn[69], line 1\u001b[0m\n\u001b[0;32m----> 1\u001b[0m \u001b[38;5;28;43mnext\u001b[39;49m\u001b[43m(\u001b[49m\u001b[43mi\u001b[49m\u001b[43m)\u001b[49m\n",
      "\u001b[0;31mStopIteration\u001b[0m: "
     ]
    }
   ],
   "source": [
    "next(i)"
   ]
  },
  {
   "cell_type": "code",
   "execution_count": 70,
   "id": "a826bd4c-0b29-479a-a2e7-2b1b6bb07bcd",
   "metadata": {
    "tags": []
   },
   "outputs": [],
   "source": [
    "i = iter(my_range)"
   ]
  },
  {
   "cell_type": "code",
   "execution_count": 71,
   "id": "cfff8c88-281b-43ac-bfec-be50c76c8995",
   "metadata": {
    "tags": []
   },
   "outputs": [
    {
     "data": {
      "text/plain": [
       "<range_iterator at 0x7f4abc03d690>"
      ]
     },
     "execution_count": 71,
     "metadata": {},
     "output_type": "execute_result"
    }
   ],
   "source": [
    "i"
   ]
  },
  {
   "cell_type": "code",
   "execution_count": 72,
   "id": "7b57ad45-5679-41b3-854b-21e7d9a893be",
   "metadata": {
    "tags": []
   },
   "outputs": [
    {
     "data": {
      "text/plain": [
       "builtin_function_or_method"
      ]
     },
     "execution_count": 72,
     "metadata": {},
     "output_type": "execute_result"
    }
   ],
   "source": [
    "type(iter)"
   ]
  },
  {
   "cell_type": "code",
   "execution_count": 73,
   "id": "25c0adb9-f7cc-4cf9-a1c7-30aed7a7b652",
   "metadata": {
    "tags": []
   },
   "outputs": [
    {
     "data": {
      "text/plain": [
       "\u001b[0;31mDocstring:\u001b[0m\n",
       "iter(iterable) -> iterator\n",
       "iter(callable, sentinel) -> iterator\n",
       "\n",
       "Get an iterator from an object.  In the first form, the argument must\n",
       "supply its own iterator, or be a sequence.\n",
       "In the second form, the callable is called until it returns the sentinel.\n",
       "\u001b[0;31mType:\u001b[0m      builtin_function_or_method"
      ]
     },
     "metadata": {},
     "output_type": "display_data"
    }
   ],
   "source": [
    "iter?"
   ]
  },
  {
   "cell_type": "code",
   "execution_count": 76,
   "id": "6c1cdbc5-ac59-444a-81ce-08e4b6cf0819",
   "metadata": {
    "tags": []
   },
   "outputs": [
    {
     "data": {
      "text/plain": [
       "tuple"
      ]
     },
     "execution_count": 76,
     "metadata": {},
     "output_type": "execute_result"
    }
   ],
   "source": [
    "type((1, 2, 3))"
   ]
  },
  {
   "cell_type": "code",
   "execution_count": 8,
   "id": "48328db6-ac10-40c0-85a6-58b4351704e9",
   "metadata": {},
   "outputs": [
    {
     "name": "stdout",
     "output_type": "stream",
     "text": [
      "0x7f05e06e28c0\n",
      "[4, 3]\n",
      "0x7f05e06e28c0\n"
     ]
    }
   ],
   "source": [
    "a = [1, 2, 3]\n",
    "print(hex(id(a))) # printing the address of the object (in hex)\n",
    "a[:2] = [4]\n",
    "print(a)\n",
    "print(hex(id(a)))"
   ]
  },
  {
   "cell_type": "code",
   "execution_count": 1,
   "id": "f4aa09a0-e260-4010-abea-fbd7937ecf61",
   "metadata": {},
   "outputs": [],
   "source": [
    "l1 = [1, 2, []]\n",
    "l2 = l1[:]"
   ]
  },
  {
   "cell_type": "code",
   "execution_count": 2,
   "id": "bae9db09-0cfe-4c17-adb2-8394e82841a4",
   "metadata": {
    "tags": []
   },
   "outputs": [
    {
     "data": {
      "text/plain": [
       "[1, 2, []]"
      ]
     },
     "execution_count": 2,
     "metadata": {},
     "output_type": "execute_result"
    }
   ],
   "source": [
    "l1"
   ]
  },
  {
   "cell_type": "code",
   "execution_count": 3,
   "id": "0ce2a10e-4791-41da-965b-9155fa64e923",
   "metadata": {
    "tags": []
   },
   "outputs": [
    {
     "data": {
      "text/plain": [
       "[1, 2, []]"
      ]
     },
     "execution_count": 3,
     "metadata": {},
     "output_type": "execute_result"
    }
   ],
   "source": [
    "l2"
   ]
  },
  {
   "cell_type": "code",
   "execution_count": 4,
   "id": "3a5a9703-7390-4e37-8a93-facc2634c076",
   "metadata": {
    "tags": []
   },
   "outputs": [],
   "source": [
    "l2[0] = 66"
   ]
  },
  {
   "cell_type": "code",
   "execution_count": 5,
   "id": "59bc7806-2485-414a-aa60-006e30fee586",
   "metadata": {
    "tags": []
   },
   "outputs": [
    {
     "data": {
      "text/plain": [
       "[1, 2, []]"
      ]
     },
     "execution_count": 5,
     "metadata": {},
     "output_type": "execute_result"
    }
   ],
   "source": [
    "l1"
   ]
  },
  {
   "cell_type": "code",
   "execution_count": 6,
   "id": "7d59d47b-5c36-4280-9eb6-86262b7d2688",
   "metadata": {
    "tags": []
   },
   "outputs": [
    {
     "data": {
      "text/plain": [
       "[66, 2, []]"
      ]
     },
     "execution_count": 6,
     "metadata": {},
     "output_type": "execute_result"
    }
   ],
   "source": [
    "l2"
   ]
  },
  {
   "cell_type": "code",
   "execution_count": 7,
   "id": "892d58df-a3f5-42b0-b309-45726afb7f6a",
   "metadata": {
    "tags": []
   },
   "outputs": [],
   "source": [
    "l1[1] = \"hello\""
   ]
  },
  {
   "cell_type": "code",
   "execution_count": 8,
   "id": "90af28d4-feee-4676-89c7-bd10e176455e",
   "metadata": {
    "tags": []
   },
   "outputs": [
    {
     "data": {
      "text/plain": [
       "([1, 'hello', []], [66, 2, []])"
      ]
     },
     "execution_count": 8,
     "metadata": {},
     "output_type": "execute_result"
    }
   ],
   "source": [
    "l1, l2"
   ]
  },
  {
   "cell_type": "code",
   "execution_count": 9,
   "id": "83477a4a-f173-4960-82d1-0041e538c45f",
   "metadata": {
    "tags": []
   },
   "outputs": [],
   "source": [
    "l1[2].append(345)"
   ]
  },
  {
   "cell_type": "code",
   "execution_count": 10,
   "id": "2ae11714-bd88-4508-8a8b-52f10249dba4",
   "metadata": {
    "tags": []
   },
   "outputs": [
    {
     "data": {
      "text/plain": [
       "([1, 'hello', [345]], [66, 2, [345]])"
      ]
     },
     "execution_count": 10,
     "metadata": {},
     "output_type": "execute_result"
    }
   ],
   "source": [
    "l1, l2"
   ]
  },
  {
   "cell_type": "code",
   "execution_count": 11,
   "id": "73aaed13-b076-4274-a8fe-d2ef3d57b2d9",
   "metadata": {
    "tags": []
   },
   "outputs": [
    {
     "data": {
      "text/plain": [
       "{'a': 4, 'b': 6}"
      ]
     },
     "execution_count": 11,
     "metadata": {},
     "output_type": "execute_result"
    }
   ],
   "source": [
    "dict(a=4, b=6)"
   ]
  },
  {
   "cell_type": "code",
   "execution_count": 12,
   "id": "ae34757c-2782-4c34-8066-01ad6c8964a7",
   "metadata": {
    "tags": []
   },
   "outputs": [],
   "source": [
    "d = {}"
   ]
  },
  {
   "cell_type": "code",
   "execution_count": 13,
   "id": "7dfae25a-4eb9-4ed1-95b0-b32aa0bc9c07",
   "metadata": {
    "tags": []
   },
   "outputs": [
    {
     "data": {
      "text/plain": [
       "{}"
      ]
     },
     "execution_count": 13,
     "metadata": {},
     "output_type": "execute_result"
    }
   ],
   "source": [
    "d"
   ]
  },
  {
   "cell_type": "code",
   "execution_count": 14,
   "id": "e14923b2-ff3d-486d-a0a2-fa555b337b34",
   "metadata": {
    "tags": []
   },
   "outputs": [],
   "source": [
    "d.update({'a': 5, 'c': 'hello'})"
   ]
  },
  {
   "cell_type": "code",
   "execution_count": 15,
   "id": "862c1d9d-8e64-4b0d-a53f-a96253dc0998",
   "metadata": {
    "tags": []
   },
   "outputs": [
    {
     "data": {
      "text/plain": [
       "{'a': 5, 'c': 'hello'}"
      ]
     },
     "execution_count": 15,
     "metadata": {},
     "output_type": "execute_result"
    }
   ],
   "source": [
    "d"
   ]
  },
  {
   "cell_type": "code",
   "execution_count": 16,
   "id": "721452eb-9bca-488b-8f27-441fe4679006",
   "metadata": {
    "tags": []
   },
   "outputs": [],
   "source": [
    "d.update({'aa': 55, 'c': 'hello my friend'})"
   ]
  },
  {
   "cell_type": "code",
   "execution_count": 17,
   "id": "d28b5491-2546-4434-a803-75bc0362a86b",
   "metadata": {
    "tags": []
   },
   "outputs": [
    {
     "data": {
      "text/plain": [
       "{'a': 5, 'c': 'hello my friend', 'aa': 55}"
      ]
     },
     "execution_count": 17,
     "metadata": {},
     "output_type": "execute_result"
    }
   ],
   "source": [
    "d"
   ]
  },
  {
   "cell_type": "code",
   "execution_count": 18,
   "id": "c27a78e6-2557-4d00-9e0a-3027ab38000d",
   "metadata": {
    "tags": []
   },
   "outputs": [
    {
     "ename": "TypeError",
     "evalue": "unhashable type: 'list'",
     "output_type": "error",
     "traceback": [
      "\u001b[0;31m---------------------------------------------------------------------------\u001b[0m",
      "\u001b[0;31mTypeError\u001b[0m                                 Traceback (most recent call last)",
      "Cell \u001b[0;32mIn[18], line 1\u001b[0m\n\u001b[0;32m----> 1\u001b[0m d \u001b[38;5;241m=\u001b[39m \u001b[38;5;28mdict\u001b[39m({[\u001b[38;5;241m1\u001b[39m, \u001b[38;5;241m2\u001b[39m, \u001b[38;5;241m3\u001b[39m]: \u001b[38;5;124m\"\u001b[39m\u001b[38;5;124mhello\u001b[39m\u001b[38;5;124m\"\u001b[39m})\n",
      "\u001b[0;31mTypeError\u001b[0m: unhashable type: 'list'"
     ]
    }
   ],
   "source": [
    "d = dict({[1, 2, 3]: \"hello\"})"
   ]
  },
  {
   "cell_type": "code",
   "execution_count": 19,
   "id": "84bd3ca0-921a-4d4a-b989-cbd6e8b52de9",
   "metadata": {
    "tags": []
   },
   "outputs": [],
   "source": [
    "d = dict({(1, 2, 3): \"hello\"})"
   ]
  },
  {
   "cell_type": "code",
   "execution_count": 20,
   "id": "c924c81c-26e6-457d-a6ff-fb7704f0b46f",
   "metadata": {
    "tags": []
   },
   "outputs": [
    {
     "data": {
      "text/plain": [
       "{(1, 2, 3): 'hello'}"
      ]
     },
     "execution_count": 20,
     "metadata": {},
     "output_type": "execute_result"
    }
   ],
   "source": [
    "d"
   ]
  },
  {
   "cell_type": "code",
   "execution_count": 21,
   "id": "7a72811b-6a65-47dc-bfca-8a4e933d0136",
   "metadata": {
    "tags": []
   },
   "outputs": [
    {
     "data": {
      "text/plain": [
       "'hello'"
      ]
     },
     "execution_count": 21,
     "metadata": {},
     "output_type": "execute_result"
    }
   ],
   "source": [
    "d[1, 2, 3]"
   ]
  },
  {
   "cell_type": "code",
   "execution_count": 22,
   "id": "a0a481dd-323f-4b7f-8362-a06ea85bf923",
   "metadata": {
    "tags": []
   },
   "outputs": [],
   "source": [
    "d.get(5)"
   ]
  },
  {
   "cell_type": "code",
   "execution_count": 23,
   "id": "0c400ed3-faea-4765-afc6-1a59973981cc",
   "metadata": {
    "tags": []
   },
   "outputs": [
    {
     "ename": "KeyError",
     "evalue": "5",
     "output_type": "error",
     "traceback": [
      "\u001b[0;31m---------------------------------------------------------------------------\u001b[0m",
      "\u001b[0;31mKeyError\u001b[0m                                  Traceback (most recent call last)",
      "Cell \u001b[0;32mIn[23], line 1\u001b[0m\n\u001b[0;32m----> 1\u001b[0m \u001b[43md\u001b[49m\u001b[43m[\u001b[49m\u001b[38;5;241;43m5\u001b[39;49m\u001b[43m]\u001b[49m\n",
      "\u001b[0;31mKeyError\u001b[0m: 5"
     ]
    }
   ],
   "source": [
    "d[5]"
   ]
  },
  {
   "cell_type": "code",
   "execution_count": 25,
   "id": "e15f8f50-a7f4-4541-b9dc-c13551b77c14",
   "metadata": {
    "tags": []
   },
   "outputs": [
    {
     "data": {
      "text/plain": [
       "3.14"
      ]
     },
     "execution_count": 25,
     "metadata": {},
     "output_type": "execute_result"
    }
   ],
   "source": [
    "d.get(5, 3.14)"
   ]
  },
  {
   "cell_type": "code",
   "execution_count": 26,
   "id": "d85bd763-a1d9-4a56-b6e8-f069b9ba0935",
   "metadata": {
    "tags": []
   },
   "outputs": [],
   "source": [
    "a = 3\n",
    "b = 5"
   ]
  },
  {
   "cell_type": "code",
   "execution_count": 27,
   "id": "9ffbfc2f-a4f9-427b-bdd9-7a00da5e5b87",
   "metadata": {
    "tags": []
   },
   "outputs": [
    {
     "data": {
      "text/plain": [
       "(3, 5)"
      ]
     },
     "execution_count": 27,
     "metadata": {},
     "output_type": "execute_result"
    }
   ],
   "source": [
    "(a, b)"
   ]
  },
  {
   "cell_type": "code",
   "execution_count": 28,
   "id": "8d4cbfd7-5d61-4396-ac50-3f610b420c93",
   "metadata": {
    "tags": []
   },
   "outputs": [],
   "source": [
    "(a, b) = (1, 4)"
   ]
  },
  {
   "cell_type": "code",
   "execution_count": 29,
   "id": "bc9d07fb-7275-4b5b-a239-18b53b47372c",
   "metadata": {
    "tags": []
   },
   "outputs": [
    {
     "data": {
      "text/plain": [
       "1"
      ]
     },
     "execution_count": 29,
     "metadata": {},
     "output_type": "execute_result"
    }
   ],
   "source": [
    "a"
   ]
  },
  {
   "cell_type": "code",
   "execution_count": 30,
   "id": "b072d037-8b68-4d01-9df0-2d4b31930b30",
   "metadata": {
    "tags": []
   },
   "outputs": [
    {
     "data": {
      "text/plain": [
       "4"
      ]
     },
     "execution_count": 30,
     "metadata": {},
     "output_type": "execute_result"
    }
   ],
   "source": [
    "b"
   ]
  },
  {
   "cell_type": "code",
   "execution_count": 31,
   "id": "06f2a964-cde6-43e7-ba29-13f9d8b7a046",
   "metadata": {
    "tags": []
   },
   "outputs": [
    {
     "data": {
      "text/plain": [
       "{(1, 2, 3): 'hello'}"
      ]
     },
     "execution_count": 31,
     "metadata": {},
     "output_type": "execute_result"
    }
   ],
   "source": [
    "d"
   ]
  },
  {
   "cell_type": "code",
   "execution_count": 32,
   "id": "fdb9fca6-ce3d-4a46-8946-85bb663d36f4",
   "metadata": {
    "tags": []
   },
   "outputs": [],
   "source": [
    "d['a'] = 'bye'"
   ]
  },
  {
   "cell_type": "code",
   "execution_count": 33,
   "id": "2febccfb-9450-4f18-8aef-2e50985b07ce",
   "metadata": {
    "tags": []
   },
   "outputs": [
    {
     "data": {
      "text/plain": [
       "{(1, 2, 3): 'hello', 'a': 'bye'}"
      ]
     },
     "execution_count": 33,
     "metadata": {},
     "output_type": "execute_result"
    }
   ],
   "source": [
    "d"
   ]
  },
  {
   "cell_type": "code",
   "execution_count": 36,
   "id": "171286ac-b63f-4ff1-b85e-143d8e8b9f41",
   "metadata": {
    "tags": []
   },
   "outputs": [
    {
     "data": {
      "text/plain": [
       "[(1, 2, 3), 'a']"
      ]
     },
     "execution_count": 36,
     "metadata": {},
     "output_type": "execute_result"
    }
   ],
   "source": [
    "list(d.keys())"
   ]
  },
  {
   "cell_type": "code",
   "execution_count": 37,
   "id": "bd73b51e-1e18-4407-a4d4-72a8c5b7058e",
   "metadata": {
    "tags": []
   },
   "outputs": [
    {
     "data": {
      "text/plain": [
       "['hello', 'bye']"
      ]
     },
     "execution_count": 37,
     "metadata": {},
     "output_type": "execute_result"
    }
   ],
   "source": [
    "list(d.values())"
   ]
  },
  {
   "cell_type": "code",
   "execution_count": 39,
   "id": "31441372-8cf8-423a-82a3-71dfa0ff53e5",
   "metadata": {
    "tags": []
   },
   "outputs": [
    {
     "data": {
      "text/plain": [
       "[((1, 2, 3), 'hello'), ('a', 'bye')]"
      ]
     },
     "execution_count": 39,
     "metadata": {},
     "output_type": "execute_result"
    }
   ],
   "source": [
    "list(d.items())"
   ]
  },
  {
   "cell_type": "code",
   "execution_count": 40,
   "id": "d79e1616-84ac-4b97-8a5d-5c760fd6017a",
   "metadata": {
    "tags": []
   },
   "outputs": [
    {
     "data": {
      "text/plain": [
       "range(0, 1000000)"
      ]
     },
     "execution_count": 40,
     "metadata": {},
     "output_type": "execute_result"
    }
   ],
   "source": [
    "range(1_000_000)"
   ]
  },
  {
   "cell_type": "code",
   "execution_count": 3,
   "id": "701a5c9d-f137-4c0e-a39b-6d39f4e8c372",
   "metadata": {},
   "outputs": [],
   "source": [
    "import common"
   ]
  },
  {
   "cell_type": "code",
   "execution_count": 4,
   "id": "720d5ea4-e395-4ab4-802d-7b797338573c",
   "metadata": {
    "tags": []
   },
   "outputs": [
    {
     "name": "stdout",
     "output_type": "stream",
     "text": [
      "5 6\n"
     ]
    }
   ],
   "source": [
    "common.try_in_common(5, 6)"
   ]
  },
  {
   "cell_type": "code",
   "execution_count": null,
   "id": "7cb0dd23-ea9c-4e0c-bf95-ae97156c91bf",
   "metadata": {},
   "outputs": [],
   "source": []
  }
 ],
 "metadata": {
  "kernelspec": {
   "display_name": "Python 3 (ipykernel)",
   "language": "python",
   "name": "python3"
  },
  "language_info": {
   "codemirror_mode": {
    "name": "ipython",
    "version": 3
   },
   "file_extension": ".py",
   "mimetype": "text/x-python",
   "name": "python",
   "nbconvert_exporter": "python",
   "pygments_lexer": "ipython3",
   "version": "3.8.10"
  }
 },
 "nbformat": 4,
 "nbformat_minor": 5
}

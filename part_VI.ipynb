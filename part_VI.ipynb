{
 "cells": [
  {
   "cell_type": "code",
   "execution_count": 1,
   "id": "85157e5f-2c65-4e22-8809-16e360f68e3b",
   "metadata": {
    "tags": []
   },
   "outputs": [],
   "source": [
    "l = [1, 2, 3]"
   ]
  },
  {
   "cell_type": "code",
   "execution_count": 2,
   "id": "8e47e6bc-d116-4800-8b76-b71c78e08227",
   "metadata": {
    "tags": []
   },
   "outputs": [],
   "source": [
    "import json"
   ]
  },
  {
   "cell_type": "code",
   "execution_count": 3,
   "id": "f0441eb8-c6fb-4ae1-8745-ae4f46b03eef",
   "metadata": {
    "tags": []
   },
   "outputs": [],
   "source": [
    "out_s = json.dumps(l)"
   ]
  },
  {
   "cell_type": "code",
   "execution_count": 5,
   "id": "155da753-25ee-49f2-b0d0-3e6c77695b67",
   "metadata": {
    "tags": []
   },
   "outputs": [
    {
     "data": {
      "text/plain": [
       "('[1, 2, 3]', str)"
      ]
     },
     "execution_count": 5,
     "metadata": {},
     "output_type": "execute_result"
    }
   ],
   "source": [
    "out_s, type(out_s)"
   ]
  },
  {
   "cell_type": "code",
   "execution_count": 6,
   "id": "adf987ce-db69-4d88-9566-9042ff262652",
   "metadata": {
    "tags": []
   },
   "outputs": [],
   "source": [
    "out_o = json.loads(out_s)"
   ]
  },
  {
   "cell_type": "code",
   "execution_count": 7,
   "id": "fa1e489a-2ca1-4482-9448-29e192df2f23",
   "metadata": {
    "tags": []
   },
   "outputs": [
    {
     "data": {
      "text/plain": [
       "([1, 2, 3], list)"
      ]
     },
     "execution_count": 7,
     "metadata": {},
     "output_type": "execute_result"
    }
   ],
   "source": [
    "out_o, type(out_o)"
   ]
  },
  {
   "cell_type": "code",
   "execution_count": 8,
   "id": "09a5520c-434f-4738-8f53-94e87d9d3a73",
   "metadata": {
    "tags": []
   },
   "outputs": [
    {
     "data": {
      "text/plain": [
       "True"
      ]
     },
     "execution_count": 8,
     "metadata": {},
     "output_type": "execute_result"
    }
   ],
   "source": [
    "out_o == l"
   ]
  },
  {
   "cell_type": "code",
   "execution_count": 10,
   "id": "844c1abd-39ae-4d9e-b400-c8449f91e843",
   "metadata": {
    "tags": []
   },
   "outputs": [],
   "source": [
    "l[0] = 8"
   ]
  },
  {
   "cell_type": "code",
   "execution_count": 11,
   "id": "ca6a02e4-2c3a-4737-811a-7150a9e74353",
   "metadata": {
    "tags": []
   },
   "outputs": [
    {
     "data": {
      "text/plain": [
       "[8, 2, 3]"
      ]
     },
     "execution_count": 11,
     "metadata": {},
     "output_type": "execute_result"
    }
   ],
   "source": [
    "l"
   ]
  },
  {
   "cell_type": "code",
   "execution_count": 12,
   "id": "c136df0a-994a-4f40-bce7-a97b701a538a",
   "metadata": {
    "tags": []
   },
   "outputs": [
    {
     "data": {
      "text/plain": [
       "[1, 2, 3]"
      ]
     },
     "execution_count": 12,
     "metadata": {},
     "output_type": "execute_result"
    }
   ],
   "source": [
    "out_o"
   ]
  },
  {
   "cell_type": "code",
   "execution_count": 16,
   "id": "bd700822-9445-4065-8c19-3db7ab62f832",
   "metadata": {
    "tags": []
   },
   "outputs": [],
   "source": [
    "class A:\n",
    "    a = 1\n",
    "    b = 2\n",
    "    \n",
    "    def __repr__(self):\n",
    "        return f'{self.a}, {self.b}'"
   ]
  },
  {
   "cell_type": "code",
   "execution_count": 17,
   "id": "78632adc-3bc8-41d1-a5b8-915e5c993ed8",
   "metadata": {
    "tags": []
   },
   "outputs": [],
   "source": [
    "a = A()"
   ]
  },
  {
   "cell_type": "code",
   "execution_count": 18,
   "id": "1d9b7ce3-ae30-4ddb-ae36-d8e046e76c44",
   "metadata": {
    "tags": []
   },
   "outputs": [
    {
     "data": {
      "text/plain": [
       "1, 2"
      ]
     },
     "execution_count": 18,
     "metadata": {},
     "output_type": "execute_result"
    }
   ],
   "source": [
    "a"
   ]
  },
  {
   "cell_type": "code",
   "execution_count": 20,
   "id": "1fdc5e26-4f30-44ae-93d3-6c1c586033ac",
   "metadata": {
    "tags": []
   },
   "outputs": [
    {
     "data": {
      "text/plain": [
       "{}"
      ]
     },
     "execution_count": 20,
     "metadata": {},
     "output_type": "execute_result"
    }
   ],
   "source": [
    "a.__dict__"
   ]
  },
  {
   "cell_type": "code",
   "execution_count": 21,
   "id": "0ca66d51-6c32-4a4c-ab4e-cb15855e0416",
   "metadata": {
    "tags": []
   },
   "outputs": [],
   "source": [
    "a2 = A()"
   ]
  },
  {
   "cell_type": "code",
   "execution_count": 22,
   "id": "92391826-4cc0-438e-976f-0d1f6fe17a14",
   "metadata": {
    "tags": []
   },
   "outputs": [
    {
     "data": {
      "text/plain": [
       "1, 2"
      ]
     },
     "execution_count": 22,
     "metadata": {},
     "output_type": "execute_result"
    }
   ],
   "source": [
    "a2"
   ]
  },
  {
   "cell_type": "code",
   "execution_count": 23,
   "id": "0c668c4c-f1e4-4d00-8988-28428898b520",
   "metadata": {
    "tags": []
   },
   "outputs": [],
   "source": [
    "a.a = 5"
   ]
  },
  {
   "cell_type": "code",
   "execution_count": 24,
   "id": "4e54eb17-23fa-45f2-b60e-6cf410e1b297",
   "metadata": {
    "tags": []
   },
   "outputs": [
    {
     "data": {
      "text/plain": [
       "5, 2"
      ]
     },
     "execution_count": 24,
     "metadata": {},
     "output_type": "execute_result"
    }
   ],
   "source": [
    "a"
   ]
  },
  {
   "cell_type": "code",
   "execution_count": 26,
   "id": "e035497c-c826-434b-b644-4ee74a65b276",
   "metadata": {
    "tags": []
   },
   "outputs": [
    {
     "data": {
      "text/plain": [
       "1, 2"
      ]
     },
     "execution_count": 26,
     "metadata": {},
     "output_type": "execute_result"
    }
   ],
   "source": [
    "a2"
   ]
  },
  {
   "cell_type": "code",
   "execution_count": 67,
   "id": "deb24e8f-7c42-44f2-9d46-1ed169833598",
   "metadata": {
    "tags": []
   },
   "outputs": [],
   "source": [
    "class B:\n",
    "    def __init__(self):\n",
    "        self.a = 1\n",
    "        self.b = 2\n",
    "        \n",
    "    def __repr__(self):\n",
    "        return f'{self.a}, {self.b}'\n",
    "    \n",
    "    def to_dict(self):\n",
    "        return self.__dict__\n",
    "    \n",
    "    def to_json(self, indent=None):\n",
    "        return json.dumps(self.to_dict(), indent=indent)"
   ]
  },
  {
   "cell_type": "code",
   "execution_count": 68,
   "id": "5ee5b7de-6295-496e-92ee-eced821f8b51",
   "metadata": {
    "tags": []
   },
   "outputs": [],
   "source": [
    "b = B()"
   ]
  },
  {
   "cell_type": "code",
   "execution_count": 69,
   "id": "248b4941-f875-4004-835c-af7d4c570c19",
   "metadata": {
    "tags": []
   },
   "outputs": [
    {
     "data": {
      "text/plain": [
       "1, 2"
      ]
     },
     "execution_count": 69,
     "metadata": {},
     "output_type": "execute_result"
    }
   ],
   "source": [
    "b"
   ]
  },
  {
   "cell_type": "code",
   "execution_count": 70,
   "id": "988e9284-fd9f-4057-9e6d-c85d055fa7fa",
   "metadata": {
    "tags": []
   },
   "outputs": [
    {
     "data": {
      "text/plain": [
       "{'a': 1, 'b': 2}"
      ]
     },
     "execution_count": 70,
     "metadata": {},
     "output_type": "execute_result"
    }
   ],
   "source": [
    "b.__dict__"
   ]
  },
  {
   "cell_type": "code",
   "execution_count": 71,
   "id": "200ba76c-badf-4f8a-a1ca-01d93e05a6ce",
   "metadata": {
    "tags": []
   },
   "outputs": [
    {
     "data": {
      "text/plain": [
       "{'a': 1, 'b': 2}"
      ]
     },
     "execution_count": 71,
     "metadata": {},
     "output_type": "execute_result"
    }
   ],
   "source": [
    "b.to_dict()"
   ]
  },
  {
   "cell_type": "code",
   "execution_count": 72,
   "id": "baba38c9-760b-49c5-a534-6b4dc9baa105",
   "metadata": {
    "tags": []
   },
   "outputs": [
    {
     "data": {
      "text/plain": [
       "'{\"a\": 1, \"b\": 2}'"
      ]
     },
     "execution_count": 72,
     "metadata": {},
     "output_type": "execute_result"
    }
   ],
   "source": [
    "b.to_json()"
   ]
  },
  {
   "cell_type": "code",
   "execution_count": 73,
   "id": "d2821837-aefc-40dd-a764-b51b0a20ebc5",
   "metadata": {
    "tags": []
   },
   "outputs": [
    {
     "data": {
      "text/plain": [
       "'{\\n  \"a\": 1,\\n  \"b\": 2\\n}'"
      ]
     },
     "execution_count": 73,
     "metadata": {},
     "output_type": "execute_result"
    }
   ],
   "source": [
    "b.to_json(indent=2)"
   ]
  },
  {
   "cell_type": "code",
   "execution_count": 74,
   "id": "48381954-9615-472a-b41c-00b26910a6a1",
   "metadata": {
    "tags": []
   },
   "outputs": [
    {
     "name": "stdout",
     "output_type": "stream",
     "text": [
      "{\n",
      "  \"a\": 1,\n",
      "  \"b\": 2\n",
      "}\n"
     ]
    }
   ],
   "source": [
    "print(b.to_json(indent=2))"
   ]
  },
  {
   "cell_type": "code",
   "execution_count": 75,
   "id": "95cf5dfa-ae1a-4036-85b6-4e1b0a9cf6d4",
   "metadata": {
    "tags": []
   },
   "outputs": [
    {
     "data": {
      "text/plain": [
       "5"
      ]
     },
     "execution_count": 75,
     "metadata": {},
     "output_type": "execute_result"
    }
   ],
   "source": [
    "len(\"hello\")"
   ]
  },
  {
   "cell_type": "code",
   "execution_count": 77,
   "id": "a4f760fe-131c-495f-8a25-e3a3d34e6f64",
   "metadata": {
    "tags": []
   },
   "outputs": [
    {
     "data": {
      "text/plain": [
       "5"
      ]
     },
     "execution_count": 77,
     "metadata": {},
     "output_type": "execute_result"
    }
   ],
   "source": [
    "\"hello\".__len__()"
   ]
  },
  {
   "cell_type": "code",
   "execution_count": 80,
   "id": "c1c405cc-917d-4896-ab18-57fef385c20c",
   "metadata": {
    "tags": []
   },
   "outputs": [],
   "source": [
    "if True:\n",
    "    my_secret_var = 4\n",
    "else:\n",
    "    my_public_var = 7"
   ]
  },
  {
   "cell_type": "code",
   "execution_count": 81,
   "id": "95b0b974-3616-48bc-b5b9-355f19d6d81f",
   "metadata": {
    "tags": []
   },
   "outputs": [
    {
     "data": {
      "text/plain": [
       "4"
      ]
     },
     "execution_count": 81,
     "metadata": {},
     "output_type": "execute_result"
    }
   ],
   "source": [
    "my_secret_var"
   ]
  },
  {
   "cell_type": "code",
   "execution_count": 82,
   "id": "9b451acc-6a85-4cb6-a233-3ae575bd990f",
   "metadata": {
    "tags": []
   },
   "outputs": [
    {
     "ename": "NameError",
     "evalue": "name 'my_public_var' is not defined",
     "output_type": "error",
     "traceback": [
      "\u001b[0;31m---------------------------------------------------------------------------\u001b[0m",
      "\u001b[0;31mNameError\u001b[0m                                 Traceback (most recent call last)",
      "Cell \u001b[0;32mIn[82], line 1\u001b[0m\n\u001b[0;32m----> 1\u001b[0m \u001b[43mmy_public_var\u001b[49m\n",
      "\u001b[0;31mNameError\u001b[0m: name 'my_public_var' is not defined"
     ]
    }
   ],
   "source": [
    "my_public_var"
   ]
  },
  {
   "cell_type": "code",
   "execution_count": 1,
   "id": "fa970572-b802-4bce-a07e-fd08b63697be",
   "metadata": {},
   "outputs": [],
   "source": [
    "import array"
   ]
  },
  {
   "cell_type": "code",
   "execution_count": 5,
   "id": "1dd67d6b-84a2-4bd4-b2a0-6ce9829dbe52",
   "metadata": {
    "tags": []
   },
   "outputs": [],
   "source": [
    "std_arr = array.array('i', [1, 2, 3])"
   ]
  },
  {
   "cell_type": "code",
   "execution_count": 4,
   "id": "cb0e43a0-a7b3-41fc-ac75-fd6ff035c69b",
   "metadata": {
    "tags": []
   },
   "outputs": [
    {
     "data": {
      "text/plain": [
       "['ArrayType',\n",
       " '__doc__',\n",
       " '__loader__',\n",
       " '__name__',\n",
       " '__package__',\n",
       " '__spec__',\n",
       " '_array_reconstructor',\n",
       " 'array',\n",
       " 'typecodes']"
      ]
     },
     "execution_count": 4,
     "metadata": {},
     "output_type": "execute_result"
    }
   ],
   "source": [
    "dir(array)"
   ]
  },
  {
   "cell_type": "code",
   "execution_count": 6,
   "id": "565e8cbe-0c3b-4ebf-afc2-297e7ba79523",
   "metadata": {
    "tags": []
   },
   "outputs": [
    {
     "data": {
      "text/plain": [
       "array('i', [1, 2, 3])"
      ]
     },
     "execution_count": 6,
     "metadata": {},
     "output_type": "execute_result"
    }
   ],
   "source": [
    "std_arr"
   ]
  },
  {
   "cell_type": "code",
   "execution_count": 1,
   "id": "78b81dba-6a26-466e-a1a3-950a502105cf",
   "metadata": {},
   "outputs": [],
   "source": [
    "from sklearn.datasets import fetch_openml"
   ]
  },
  {
   "cell_type": "code",
   "execution_count": 5,
   "id": "731512bb-cd28-49d5-bfff-048d42a08ab7",
   "metadata": {
    "tags": []
   },
   "outputs": [],
   "source": [
    "def standardize(mean, std):\n",
    "    \"\"\"\n",
    "    This function returns a function that accepts a number and returns the standardized equivalent.\n",
    "    \"\"\"\n",
    "    \n",
    "    def do_standardize(number):\n",
    "        return (number - mean) / std\n",
    "    \n",
    "    return do_standardize"
   ]
  },
  {
   "cell_type": "code",
   "execution_count": 11,
   "id": "cbf2dfb1-e6dc-4346-815f-977423a60fb4",
   "metadata": {
    "tags": []
   },
   "outputs": [],
   "source": [
    "standardize_fn = standardize(1, 0.5)"
   ]
  },
  {
   "cell_type": "code",
   "execution_count": 12,
   "id": "8d5501b6-b96d-4f40-a407-440dddbdd548",
   "metadata": {
    "tags": []
   },
   "outputs": [
    {
     "data": {
      "text/plain": [
       "(0.0, 2.0, -4.0)"
      ]
     },
     "execution_count": 12,
     "metadata": {},
     "output_type": "execute_result"
    }
   ],
   "source": [
    "standardize_fn(1), standardize_fn(2), standardize_fn(-1)"
   ]
  },
  {
   "cell_type": "code",
   "execution_count": 13,
   "id": "f46e7f0c-87fb-4b77-bda5-de21b1765202",
   "metadata": {
    "tags": []
   },
   "outputs": [],
   "source": [
    "standardize_fn2 = standardize(0, 1)"
   ]
  },
  {
   "cell_type": "code",
   "execution_count": 15,
   "id": "5b478b49-7757-42cb-8d8b-cc4b30e430e3",
   "metadata": {
    "tags": []
   },
   "outputs": [
    {
     "data": {
      "text/plain": [
       "(1.0, 2.0, -1.0)"
      ]
     },
     "execution_count": 15,
     "metadata": {},
     "output_type": "execute_result"
    }
   ],
   "source": [
    "standardize_fn2(1), standardize_fn2(2), standardize_fn2(-1)"
   ]
  },
  {
   "cell_type": "code",
   "execution_count": 19,
   "id": "fb73b118-f523-49d8-868d-4d5ba517891a",
   "metadata": {
    "tags": []
   },
   "outputs": [
    {
     "name": "stdout",
     "output_type": "stream",
     "text": [
      "(0.0, 2.0, -4.0)\n",
      "(1.0, 2.0, -1.0)\n"
     ]
    }
   ],
   "source": [
    "for std_fn in [standardize(1, 0.5), standardize(0, 1)]:\n",
    "    print(tuple(std_fn(arg) for arg in [1, 2, -1]))"
   ]
  },
  {
   "cell_type": "code",
   "execution_count": 33,
   "id": "ff5f6fa7-cdad-4d62-8177-a66401f3c45b",
   "metadata": {
    "tags": []
   },
   "outputs": [],
   "source": [
    "def f1(a, b):\n",
    "    return a + b\n",
    "\n",
    "\n",
    "def f2(a, b, c):\n",
    "    return a + b * c\n",
    "\n",
    "\n",
    "def count_activation_f1():\n",
    "    \"Helper to count activations of f1\"\n",
    "    \n",
    "    def wrapped_f1(a, b):\n",
    "        wrapped_f1.count += 1\n",
    "        return f1(a, b)\n",
    "\n",
    "    wrapped_f1.count = 0\n",
    "    return wrapped_f1\n",
    "\n",
    "\n",
    "wrapped_f1 = count_activation_f1()\n",
    "\n",
    "\n",
    "def count_activation_f2():\n",
    "    \"Helper to count activations of f2\"\n",
    "    \n",
    "    def wrapped_f2(a, b, c):\n",
    "        wrapped_f2.count += 1\n",
    "        return f2(a, b, c)\n",
    "    \n",
    "    wrapped_f2.count =0\n",
    "    return wrapped_f2\n",
    "\n",
    "\n",
    "wrapped_f2 = count_activation_f2()"
   ]
  },
  {
   "cell_type": "code",
   "execution_count": 34,
   "id": "19a63ddd-2600-4ecf-9d36-e4cb2ae3853b",
   "metadata": {
    "tags": []
   },
   "outputs": [],
   "source": [
    "for i in range(4):\n",
    "    wrapped_f1(i, 3 * i + 1)"
   ]
  },
  {
   "cell_type": "code",
   "execution_count": 38,
   "id": "7e35d588-403d-4001-b5bf-d9c49c222b30",
   "metadata": {
    "tags": []
   },
   "outputs": [
    {
     "data": {
      "text/plain": [
       "(4, 42)"
      ]
     },
     "execution_count": 38,
     "metadata": {},
     "output_type": "execute_result"
    }
   ],
   "source": [
    "wrapped_f1.count, wrapped_f2.count"
   ]
  },
  {
   "cell_type": "code",
   "execution_count": 36,
   "id": "69558781-4c5b-48e5-aab2-db5c3ddece73",
   "metadata": {
    "tags": []
   },
   "outputs": [],
   "source": [
    "for i in range(42):\n",
    "    wrapped_f2(i, 3 * i + 1, 5)"
   ]
  },
  {
   "cell_type": "code",
   "execution_count": 37,
   "id": "1123b887-8a9f-4cd2-a328-bbc3a8de9069",
   "metadata": {
    "tags": []
   },
   "outputs": [
    {
     "data": {
      "text/plain": [
       "42"
      ]
     },
     "execution_count": 37,
     "metadata": {},
     "output_type": "execute_result"
    }
   ],
   "source": [
    "wrapped_f2.count"
   ]
  },
  {
   "cell_type": "code",
   "execution_count": 39,
   "id": "f3f264ac-2847-46f2-850d-32daa92fe8a8",
   "metadata": {
    "tags": []
   },
   "outputs": [],
   "source": [
    "def my_func(p1, p2, named1=4, named2=7):\n",
    "    print(p1 + p2 + named1 + named2)"
   ]
  },
  {
   "cell_type": "code",
   "execution_count": 40,
   "id": "af6b70c1-d873-4c46-a41c-0a3fca5efc69",
   "metadata": {
    "tags": []
   },
   "outputs": [
    {
     "ename": "TypeError",
     "evalue": "my_func() missing 2 required positional arguments: 'p1' and 'p2'",
     "output_type": "error",
     "traceback": [
      "\u001b[0;31m---------------------------------------------------------------------------\u001b[0m",
      "\u001b[0;31mTypeError\u001b[0m                                 Traceback (most recent call last)",
      "Cell \u001b[0;32mIn[40], line 1\u001b[0m\n\u001b[0;32m----> 1\u001b[0m \u001b[43mmy_func\u001b[49m\u001b[43m(\u001b[49m\u001b[43m)\u001b[49m\n",
      "\u001b[0;31mTypeError\u001b[0m: my_func() missing 2 required positional arguments: 'p1' and 'p2'"
     ]
    }
   ],
   "source": [
    "my_func()"
   ]
  },
  {
   "cell_type": "code",
   "execution_count": 41,
   "id": "42646825-85a1-414b-9e19-b2b56185b563",
   "metadata": {
    "tags": []
   },
   "outputs": [
    {
     "name": "stdout",
     "output_type": "stream",
     "text": [
      "13\n"
     ]
    }
   ],
   "source": [
    "my_func(1, 2, 3)"
   ]
  },
  {
   "cell_type": "code",
   "execution_count": 42,
   "id": "b2934786-aed0-4691-9a7c-20f04c7619bd",
   "metadata": {
    "tags": []
   },
   "outputs": [
    {
     "name": "stdout",
     "output_type": "stream",
     "text": [
      "10\n"
     ]
    }
   ],
   "source": [
    "my_func(1, 2, named2=3)"
   ]
  },
  {
   "cell_type": "code",
   "execution_count": 46,
   "id": "a7907a10-9e68-41fb-8a13-7e72fb81f8ae",
   "metadata": {
    "tags": []
   },
   "outputs": [
    {
     "data": {
      "text/plain": [
       "'Summary count: 5'"
      ]
     },
     "execution_count": 46,
     "metadata": {},
     "output_type": "execute_result"
    }
   ],
   "source": [
    "def count_characters(header, list_of_texts):\n",
    "    \"\"\"This function returns the total number of characters in the texts you pass in 'list_of_texts'.\n",
    "    Note, you're expected to pass a list where the items are the individual texts\n",
    "    'header' is used in the output\"\"\"\n",
    "    \n",
    "    return f'{header}: {sum(len(x) for x in list_of_texts)}'\n",
    "\n",
    "\n",
    "count_characters(\"Summary count\", [\"Hi\", \"Bye\"])"
   ]
  },
  {
   "cell_type": "code",
   "execution_count": 48,
   "id": "8232f802-538c-4b00-9668-6f8599913074",
   "metadata": {
    "tags": []
   },
   "outputs": [
    {
     "data": {
      "text/plain": [
       "'Summary count: 5'"
      ]
     },
     "execution_count": 48,
     "metadata": {},
     "output_type": "execute_result"
    }
   ],
   "source": [
    "def count_characters2(header, *list_of_texts):\n",
    "    \"\"\"This function returns the total number of characters in the texts you pass.\n",
    "    'header' is used in the output\"\"\"\n",
    "    \n",
    "    return f'{header}: {sum(len(x) for x in list_of_texts)}'\n",
    "\n",
    "\n",
    "count_characters2(\"Summary count\", \"Hi\", \"Bye\")"
   ]
  },
  {
   "cell_type": "code",
   "execution_count": 51,
   "id": "899c3c8e-a3fe-48d7-9740-4a45cb96e91a",
   "metadata": {
    "tags": []
   },
   "outputs": [
    {
     "data": {
      "text/plain": [
       "'Summary count is still: 5'"
      ]
     },
     "execution_count": 51,
     "metadata": {},
     "output_type": "execute_result"
    }
   ],
   "source": [
    "def count_characters3(*list_of_texts, **kwargs):\n",
    "    \"\"\"This function returns the total number of characters in the texts you pass.\n",
    "    'header' is used in the output\"\"\"\n",
    "    \n",
    "    header = kwargs.get(\"header\", \"Count\")\n",
    "    \n",
    "    return f'{header}: {sum(len(x) for x in list_of_texts)}'\n",
    "\n",
    "\n",
    "count_characters3(\"Hi\", \"Bye\", header=\"Summary count is still\")"
   ]
  },
  {
   "cell_type": "code",
   "execution_count": 53,
   "id": "f1fb2cd8-7ee3-4ea7-9499-b1c5e6dc1478",
   "metadata": {
    "tags": []
   },
   "outputs": [
    {
     "data": {
      "text/plain": [
       "(4, 42)"
      ]
     },
     "execution_count": 53,
     "metadata": {},
     "output_type": "execute_result"
    }
   ],
   "source": [
    "def counted(f):\n",
    "    def wrapped(*args, **kwargs):\n",
    "        wrapped.calls += 1\n",
    "        return f(*args, **kwargs)\n",
    "    wrapped.calls = 0\n",
    "    return wrapped\n",
    "\n",
    "\n",
    "@counted\n",
    "def f1(a, b):\n",
    "    return a + b\n",
    "\n",
    "\n",
    "@counted\n",
    "def f2(a, b, c):\n",
    "    return a + b * c\n",
    "\n",
    "\n",
    "for i in range(4):\n",
    "    wrapped_f1(i, 3 * i + 1)\n",
    "    \n",
    "for i in range(42):\n",
    "    wrapped_f2(i, 3 * i + 1, 5)    \n",
    "\n",
    "\n",
    "f1.calls, f2.calls"
   ]
  },
  {
   "cell_type": "code",
   "execution_count": null,
   "id": "fadf4cf8-99b0-400b-a509-93bf56fb7331",
   "metadata": {},
   "outputs": [],
   "source": []
  }
 ],
 "metadata": {
  "kernelspec": {
   "display_name": "Python 3 (ipykernel)",
   "language": "python",
   "name": "python3"
  },
  "language_info": {
   "codemirror_mode": {
    "name": "ipython",
    "version": 3
   },
   "file_extension": ".py",
   "mimetype": "text/x-python",
   "name": "python",
   "nbconvert_exporter": "python",
   "pygments_lexer": "ipython3",
   "version": "3.8.10"
  }
 },
 "nbformat": 4,
 "nbformat_minor": 5
}

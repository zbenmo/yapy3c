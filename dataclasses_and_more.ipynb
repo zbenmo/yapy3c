{
 "cells": [
  {
   "cell_type": "code",
   "execution_count": 1,
   "id": "1924fa68-ee52-4e87-abc4-5de4006e0480",
   "metadata": {
    "tags": []
   },
   "outputs": [],
   "source": [
    "import pandas as pd"
   ]
  },
  {
   "cell_type": "code",
   "execution_count": 2,
   "id": "cb5187bd-9f15-4889-ae37-77c1a7f08c99",
   "metadata": {
    "tags": []
   },
   "outputs": [
    {
     "data": {
      "text/plain": [
       "['In',\n",
       " 'Out',\n",
       " '_',\n",
       " '__',\n",
       " '___',\n",
       " '__builtin__',\n",
       " '__builtins__',\n",
       " '__doc__',\n",
       " '__loader__',\n",
       " '__name__',\n",
       " '__package__',\n",
       " '__session__',\n",
       " '__spec__',\n",
       " '_dh',\n",
       " '_i',\n",
       " '_i1',\n",
       " '_i2',\n",
       " '_ih',\n",
       " '_ii',\n",
       " '_iii',\n",
       " '_oh',\n",
       " 'exit',\n",
       " 'get_ipython',\n",
       " 'open',\n",
       " 'pd',\n",
       " 'quit']"
      ]
     },
     "execution_count": 2,
     "metadata": {},
     "output_type": "execute_result"
    }
   ],
   "source": [
    "dir()"
   ]
  },
  {
   "cell_type": "code",
   "execution_count": 4,
   "id": "c851df61-ec12-417f-8eff-b666fb19217c",
   "metadata": {},
   "outputs": [],
   "source": [
    "from dataclasses import dataclass, field"
   ]
  },
  {
   "cell_type": "code",
   "execution_count": 5,
   "id": "b0ad348c-cb79-41ee-a20b-6683e294e4d7",
   "metadata": {
    "tags": []
   },
   "outputs": [],
   "source": [
    "@dataclass\n",
    "class B1:\n",
    "    a: int\n",
    "    b: str = \"hello\"\n",
    "    c: list = field(default_factory=list)"
   ]
  },
  {
   "cell_type": "code",
   "execution_count": 6,
   "id": "8119b477-74ea-4d8e-a095-165efc015712",
   "metadata": {
    "tags": []
   },
   "outputs": [],
   "source": [
    "b1 = B1(a=3)"
   ]
  },
  {
   "cell_type": "code",
   "execution_count": 7,
   "id": "1a669cc6-7ae9-49c4-b4d3-d8fb4b03202c",
   "metadata": {
    "tags": []
   },
   "outputs": [
    {
     "data": {
      "text/plain": [
       "[]"
      ]
     },
     "execution_count": 7,
     "metadata": {},
     "output_type": "execute_result"
    }
   ],
   "source": [
    "b1.c"
   ]
  },
  {
   "cell_type": "code",
   "execution_count": 9,
   "id": "32244fb0-748c-4557-9f47-c2ecb7929dc7",
   "metadata": {
    "tags": []
   },
   "outputs": [],
   "source": [
    "b1.c.append(\"123\")"
   ]
  },
  {
   "cell_type": "code",
   "execution_count": 10,
   "id": "b62d8e7f-d94f-408d-9e40-eb1a88fc44d9",
   "metadata": {
    "tags": []
   },
   "outputs": [
    {
     "data": {
      "text/plain": [
       "['123']"
      ]
     },
     "execution_count": 10,
     "metadata": {},
     "output_type": "execute_result"
    }
   ],
   "source": [
    "b1.c"
   ]
  },
  {
   "cell_type": "code",
   "execution_count": 12,
   "id": "695f71a3-572d-4726-84dd-8b06c53d8821",
   "metadata": {
    "tags": []
   },
   "outputs": [],
   "source": [
    "b2 = B1(a=5)"
   ]
  },
  {
   "cell_type": "code",
   "execution_count": 13,
   "id": "b5fd7d46-bc95-4758-89fe-b0c069513c19",
   "metadata": {
    "tags": []
   },
   "outputs": [
    {
     "data": {
      "text/plain": [
       "B1(a=5, b='hello', c=[])"
      ]
     },
     "execution_count": 13,
     "metadata": {},
     "output_type": "execute_result"
    }
   ],
   "source": [
    "b2"
   ]
  },
  {
   "cell_type": "code",
   "execution_count": 14,
   "id": "ab5314db-f484-46ba-ab32-b6ed231abeca",
   "metadata": {
    "tags": []
   },
   "outputs": [
    {
     "data": {
      "text/plain": [
       "[]"
      ]
     },
     "execution_count": 14,
     "metadata": {},
     "output_type": "execute_result"
    }
   ],
   "source": [
    "b2.c"
   ]
  },
  {
   "cell_type": "code",
   "execution_count": 15,
   "id": "15bb851e-bbba-4af7-9bc7-159de044eced",
   "metadata": {
    "tags": []
   },
   "outputs": [
    {
     "data": {
      "text/plain": [
       "True"
      ]
     },
     "execution_count": 15,
     "metadata": {},
     "output_type": "execute_result"
    }
   ],
   "source": [
    "b2.c == B1(a=6).c"
   ]
  },
  {
   "cell_type": "code",
   "execution_count": 16,
   "id": "1443a427-a827-4ccd-b044-25127f8e7cb9",
   "metadata": {
    "tags": []
   },
   "outputs": [
    {
     "data": {
      "text/plain": [
       "True"
      ]
     },
     "execution_count": 16,
     "metadata": {},
     "output_type": "execute_result"
    }
   ],
   "source": [
    "[1, 2, 'a'] == [1, 2, 'a']"
   ]
  },
  {
   "cell_type": "code",
   "execution_count": 17,
   "id": "7eaa5f15-50cb-42be-a2b0-bac1b438a347",
   "metadata": {
    "tags": []
   },
   "outputs": [
    {
     "data": {
      "text/plain": [
       "True"
      ]
     },
     "execution_count": 17,
     "metadata": {},
     "output_type": "execute_result"
    }
   ],
   "source": [
    "id([1, 2, 'a']) == id([1, 2, 'a'])"
   ]
  },
  {
   "cell_type": "code",
   "execution_count": 18,
   "id": "18d9002e-6760-4a00-a1ab-a93ea2a5f6d8",
   "metadata": {
    "tags": []
   },
   "outputs": [
    {
     "data": {
      "text/plain": [
       "140458746232256"
      ]
     },
     "execution_count": 18,
     "metadata": {},
     "output_type": "execute_result"
    }
   ],
   "source": [
    "id([1, 2, 'a'])"
   ]
  },
  {
   "cell_type": "code",
   "execution_count": 19,
   "id": "23fb1c2f-7774-4848-9d0e-3617a0dc51b0",
   "metadata": {
    "tags": []
   },
   "outputs": [
    {
     "data": {
      "text/plain": [
       "140458746311808"
      ]
     },
     "execution_count": 19,
     "metadata": {},
     "output_type": "execute_result"
    }
   ],
   "source": [
    "id([1, 2, 'a'])"
   ]
  },
  {
   "cell_type": "code",
   "execution_count": 20,
   "id": "7b7605b5-1555-4d32-8688-3f5b093ae19e",
   "metadata": {
    "tags": []
   },
   "outputs": [
    {
     "data": {
      "text/plain": [
       "int"
      ]
     },
     "execution_count": 20,
     "metadata": {},
     "output_type": "execute_result"
    }
   ],
   "source": [
    "type(id([1, 2, 'a']))"
   ]
  },
  {
   "cell_type": "code",
   "execution_count": 21,
   "id": "84c76f0f-7dd9-46df-a60e-1b7c31de08e0",
   "metadata": {
    "tags": []
   },
   "outputs": [
    {
     "ename": "NameError",
     "evalue": "name 'sizeof' is not defined",
     "output_type": "error",
     "traceback": [
      "\u001b[0;31m---------------------------------------------------------------------------\u001b[0m",
      "\u001b[0;31mNameError\u001b[0m                                 Traceback (most recent call last)",
      "Cell \u001b[0;32mIn[21], line 1\u001b[0m\n\u001b[0;32m----> 1\u001b[0m \u001b[43msizeof\u001b[49m(\u001b[38;5;28mint\u001b[39m)\n",
      "\u001b[0;31mNameError\u001b[0m: name 'sizeof' is not defined"
     ]
    }
   ],
   "source": [
    "sizeof(int)"
   ]
  },
  {
   "cell_type": "code",
   "execution_count": 23,
   "id": "8f557b09-c8f3-4b59-b6eb-618c3fbed2ce",
   "metadata": {
    "tags": []
   },
   "outputs": [
    {
     "data": {
      "text/plain": [
       "416"
      ]
     },
     "execution_count": 23,
     "metadata": {},
     "output_type": "execute_result"
    }
   ],
   "source": [
    "import sys\n",
    "\n",
    "\n",
    "sys.getsizeof(int)"
   ]
  },
  {
   "cell_type": "code",
   "execution_count": 31,
   "id": "8cae4484-3742-45bb-8b3d-802a9ef86b09",
   "metadata": {
    "tags": []
   },
   "outputs": [],
   "source": [
    "a = 3"
   ]
  },
  {
   "cell_type": "code",
   "execution_count": 32,
   "id": "954d1ea7-c826-4889-8aaf-96f27cfcfd38",
   "metadata": {
    "tags": []
   },
   "outputs": [
    {
     "data": {
      "text/plain": [
       "28"
      ]
     },
     "execution_count": 32,
     "metadata": {},
     "output_type": "execute_result"
    }
   ],
   "source": [
    "sys.getsizeof(a)"
   ]
  },
  {
   "cell_type": "code",
   "execution_count": 33,
   "id": "af1fce79-f418-4b96-b213-b53b30b7e7c2",
   "metadata": {
    "tags": []
   },
   "outputs": [
    {
     "data": {
      "text/plain": [
       "int"
      ]
     },
     "execution_count": 33,
     "metadata": {},
     "output_type": "execute_result"
    }
   ],
   "source": [
    "type(a)"
   ]
  },
  {
   "cell_type": "code",
   "execution_count": 34,
   "id": "a1b7e421-4ec2-4581-b362-d3dd81ee671a",
   "metadata": {
    "tags": []
   },
   "outputs": [
    {
     "data": {
      "text/plain": [
       "False"
      ]
     },
     "execution_count": 34,
     "metadata": {},
     "output_type": "execute_result"
    }
   ],
   "source": [
    "id(b2.c) == id(B1(a=6).c)"
   ]
  },
  {
   "cell_type": "code",
   "execution_count": 35,
   "id": "41e45c18-0051-4a34-9c08-bf9702785647",
   "metadata": {
    "tags": []
   },
   "outputs": [],
   "source": [
    "@dataclass\n",
    "class B2:\n",
    "    a: int\n",
    "    b: str = \"airport\"\n",
    "    c: list = field(default_factory=list)"
   ]
  },
  {
   "cell_type": "code",
   "execution_count": 36,
   "id": "7da22234-2f53-487a-ad39-7b884268b983",
   "metadata": {
    "tags": []
   },
   "outputs": [],
   "source": [
    "b2 = B2(a=7)"
   ]
  },
  {
   "cell_type": "code",
   "execution_count": 37,
   "id": "b79a91a8-2b3f-4807-be51-1660a51271ff",
   "metadata": {
    "tags": []
   },
   "outputs": [
    {
     "data": {
      "text/plain": [
       "B2(a=7, b='airport', c=[])"
      ]
     },
     "execution_count": 37,
     "metadata": {},
     "output_type": "execute_result"
    }
   ],
   "source": [
    "b2"
   ]
  },
  {
   "cell_type": "code",
   "execution_count": 38,
   "id": "430e9514-052b-4f25-a879-5dde9cb962f7",
   "metadata": {
    "tags": []
   },
   "outputs": [
    {
     "data": {
      "text/plain": [
       "{'a': 7, 'b': 'airport', 'c': []}"
      ]
     },
     "execution_count": 38,
     "metadata": {},
     "output_type": "execute_result"
    }
   ],
   "source": [
    "b2.__dict__"
   ]
  },
  {
   "cell_type": "code",
   "execution_count": 40,
   "id": "616d7ad0-dc01-433f-b5f7-9fcb606d2e95",
   "metadata": {
    "tags": []
   },
   "outputs": [
    {
     "data": {
      "text/plain": [
       "B2(a=7, b='airport', c=[])"
      ]
     },
     "execution_count": 40,
     "metadata": {},
     "output_type": "execute_result"
    }
   ],
   "source": [
    "B2(**{'a': 7, 'b': 'airport', 'c': []})"
   ]
  },
  {
   "cell_type": "code",
   "execution_count": 41,
   "id": "858ff97f-5886-4604-a564-62a2d405ee1d",
   "metadata": {
    "tags": []
   },
   "outputs": [],
   "source": [
    "class C(B1, B2):\n",
    "    pass"
   ]
  },
  {
   "cell_type": "code",
   "execution_count": 44,
   "id": "259fddb1-1270-40a6-ab64-0352eae6e971",
   "metadata": {
    "tags": []
   },
   "outputs": [],
   "source": [
    "c = C(a=1)"
   ]
  },
  {
   "cell_type": "code",
   "execution_count": 45,
   "id": "d7f5effc-5b6c-46b7-b183-6ec8367b8d7d",
   "metadata": {
    "tags": []
   },
   "outputs": [
    {
     "data": {
      "text/plain": [
       "C(a=1, b='hello', c=[])"
      ]
     },
     "execution_count": 45,
     "metadata": {},
     "output_type": "execute_result"
    }
   ],
   "source": [
    "c"
   ]
  },
  {
   "cell_type": "code",
   "execution_count": 6,
   "id": "0498ad30-b703-4126-aeec-6346d199af72",
   "metadata": {},
   "outputs": [],
   "source": [
    "class Nice:\n",
    "    a : int = 3"
   ]
  },
  {
   "cell_type": "code",
   "execution_count": 7,
   "id": "b6862a25-08ad-4a03-8eb0-54a89bf56e93",
   "metadata": {
    "tags": []
   },
   "outputs": [],
   "source": [
    "n1 = Nice()\n",
    "n2 = Nice()"
   ]
  },
  {
   "cell_type": "code",
   "execution_count": 10,
   "id": "b41a8662-4429-4089-82b4-40297c6e0055",
   "metadata": {
    "tags": []
   },
   "outputs": [],
   "source": [
    "n1.a = 4"
   ]
  },
  {
   "cell_type": "code",
   "execution_count": 11,
   "id": "6b61256f-ed61-4b3b-a98d-4c1d9a8b1fef",
   "metadata": {
    "tags": []
   },
   "outputs": [
    {
     "data": {
      "text/plain": [
       "3"
      ]
     },
     "execution_count": 11,
     "metadata": {},
     "output_type": "execute_result"
    }
   ],
   "source": [
    "n2.a"
   ]
  },
  {
   "cell_type": "code",
   "execution_count": 12,
   "id": "5db85783-9be1-4655-97b6-db393c42aa36",
   "metadata": {
    "tags": []
   },
   "outputs": [
    {
     "data": {
      "text/plain": [
       "4"
      ]
     },
     "execution_count": 12,
     "metadata": {},
     "output_type": "execute_result"
    }
   ],
   "source": [
    "n1.a"
   ]
  },
  {
   "cell_type": "code",
   "execution_count": 13,
   "id": "b78ef5ad-6ba4-4e86-aa58-685433aab93c",
   "metadata": {
    "tags": []
   },
   "outputs": [],
   "source": [
    "Nice.a = 7"
   ]
  },
  {
   "cell_type": "code",
   "execution_count": 14,
   "id": "599d164d-7aa1-481a-a972-3ce1586540ce",
   "metadata": {
    "tags": []
   },
   "outputs": [
    {
     "data": {
      "text/plain": [
       "4"
      ]
     },
     "execution_count": 14,
     "metadata": {},
     "output_type": "execute_result"
    }
   ],
   "source": [
    "n1.a"
   ]
  },
  {
   "cell_type": "code",
   "execution_count": 15,
   "id": "3027804c-178a-441f-bc0c-8a5574ea4229",
   "metadata": {
    "tags": []
   },
   "outputs": [
    {
     "data": {
      "text/plain": [
       "7"
      ]
     },
     "execution_count": 15,
     "metadata": {},
     "output_type": "execute_result"
    }
   ],
   "source": [
    "n2.a"
   ]
  },
  {
   "cell_type": "code",
   "execution_count": 23,
   "id": "fd38fad0-21db-481e-85ed-d828130df9c0",
   "metadata": {
    "tags": []
   },
   "outputs": [],
   "source": [
    "def f1(*, a:int, b: str):\n",
    "    print(a, b)"
   ]
  },
  {
   "cell_type": "code",
   "execution_count": 24,
   "id": "1f2dd66c-9a69-4950-a4cf-b651c7f63290",
   "metadata": {
    "tags": []
   },
   "outputs": [
    {
     "ename": "TypeError",
     "evalue": "f1() takes 0 positional arguments but 2 were given",
     "output_type": "error",
     "traceback": [
      "\u001b[0;31m---------------------------------------------------------------------------\u001b[0m",
      "\u001b[0;31mTypeError\u001b[0m                                 Traceback (most recent call last)",
      "Cell \u001b[0;32mIn[24], line 1\u001b[0m\n\u001b[0;32m----> 1\u001b[0m \u001b[43mf1\u001b[49m\u001b[43m(\u001b[49m\u001b[38;5;241;43m1\u001b[39;49m\u001b[43m,\u001b[49m\u001b[43m \u001b[49m\u001b[38;5;124;43m\"\u001b[39;49m\u001b[38;5;124;43m2\u001b[39;49m\u001b[38;5;124;43m\"\u001b[39;49m\u001b[43m)\u001b[49m\n",
      "\u001b[0;31mTypeError\u001b[0m: f1() takes 0 positional arguments but 2 were given"
     ]
    }
   ],
   "source": [
    "f1(1, \"2\")"
   ]
  },
  {
   "cell_type": "code",
   "execution_count": 25,
   "id": "6cfe5cbd-dd2a-484d-bb9c-9e1e1fdbb46d",
   "metadata": {
    "tags": []
   },
   "outputs": [
    {
     "name": "stdout",
     "output_type": "stream",
     "text": [
      "1 2\n"
     ]
    }
   ],
   "source": [
    "f1(a=1, b=\"2\")"
   ]
  },
  {
   "cell_type": "code",
   "execution_count": null,
   "id": "3c7c6ca7-be6e-4925-a6cc-35fcd5132e22",
   "metadata": {},
   "outputs": [],
   "source": []
  }
 ],
 "metadata": {
  "kernelspec": {
   "display_name": "Python 3 (ipykernel)",
   "language": "python",
   "name": "python3"
  },
  "language_info": {
   "codemirror_mode": {
    "name": "ipython",
    "version": 3
   },
   "file_extension": ".py",
   "mimetype": "text/x-python",
   "name": "python",
   "nbconvert_exporter": "python",
   "pygments_lexer": "ipython3",
   "version": "3.8.10"
  }
 },
 "nbformat": 4,
 "nbformat_minor": 5
}

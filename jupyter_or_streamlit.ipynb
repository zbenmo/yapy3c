{
 "cells": [
  {
   "cell_type": "code",
   "execution_count": 1,
   "id": "af0794e4-1659-4c2b-bd72-b1c590fd7788",
   "metadata": {},
   "outputs": [],
   "source": [
    "%load_ext autoreload\n",
    "%autoreload 2"
   ]
  },
  {
   "cell_type": "code",
   "execution_count": 2,
   "id": "3351881a-b48a-42aa-b05a-f3edf711b05e",
   "metadata": {},
   "outputs": [],
   "source": [
    "from common import (\n",
    "    create_data,\n",
    "    plot_linear_trend,\n",
    "    plot_linear_trend2\n",
    ")"
   ]
  },
  {
   "cell_type": "code",
   "execution_count": 3,
   "id": "31ca094e-31f3-4a91-a5a8-ba7ab37b42f1",
   "metadata": {},
   "outputs": [],
   "source": [
    "import matplotlib\n",
    "import matplotlib.pyplot as plt\n",
    "\n",
    "matplotlib.use('TkAgg')"
   ]
  },
  {
   "cell_type": "code",
   "execution_count": 4,
   "id": "cf114f44-5294-4aff-b08d-383fc159763f",
   "metadata": {},
   "outputs": [],
   "source": [
    "x, y = create_data(num_points=600)"
   ]
  },
  {
   "cell_type": "code",
   "execution_count": 5,
   "id": "b34bdd7b-9204-4ea1-8413-072bf772a846",
   "metadata": {},
   "outputs": [
    {
     "name": "stdout",
     "output_type": "stream",
     "text": [
      "{'color': 'red'}\n"
     ]
    }
   ],
   "source": [
    "plt.figure()\n",
    "plot_linear_trend(x, y, oren='the best', color='red')\n",
    "plt.show()"
   ]
  },
  {
   "cell_type": "markdown",
   "id": "fe80151d-b6a6-42c0-8338-4fbc803e12d5",
   "metadata": {},
   "source": [
    "## Next we'll show it with Seaborn"
   ]
  },
  {
   "cell_type": "code",
   "execution_count": 15,
   "id": "393d6d47-75ba-4fa3-9c1c-164dd9bd96fc",
   "metadata": {},
   "outputs": [],
   "source": [
    "plot_linear_trend2(x, y)\n",
    "plt.show()"
   ]
  },
  {
   "cell_type": "code",
   "execution_count": null,
   "id": "9c472b1e-a6f9-412f-8444-a13ae77faf12",
   "metadata": {},
   "outputs": [],
   "source": []
  }
 ],
 "metadata": {
  "kernelspec": {
   "display_name": "Python 3 (ipykernel)",
   "language": "python",
   "name": "python3"
  },
  "language_info": {
   "codemirror_mode": {
    "name": "ipython",
    "version": 3
   },
   "file_extension": ".py",
   "mimetype": "text/x-python",
   "name": "python",
   "nbconvert_exporter": "python",
   "pygments_lexer": "ipython3",
   "version": "3.8.10"
  }
 },
 "nbformat": 4,
 "nbformat_minor": 5
}

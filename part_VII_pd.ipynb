{
 "cells": [
  {
   "cell_type": "code",
   "execution_count": 1,
   "id": "1925da21-f8b7-4b25-8c24-91a4d58251d9",
   "metadata": {
    "tags": []
   },
   "outputs": [],
   "source": [
    "import pandas as pd\n",
    "import numpy as np"
   ]
  },
  {
   "cell_type": "code",
   "execution_count": 2,
   "id": "0bbaf4d2-202e-471c-821a-498500a21a56",
   "metadata": {
    "tags": []
   },
   "outputs": [],
   "source": [
    "df = pd.DataFrame({\n",
    "    'name': ['Jan', 'Oren', 'Michael'],\n",
    "    'age': [30, 20, 40]\n",
    "})"
   ]
  },
  {
   "cell_type": "code",
   "execution_count": 65,
   "id": "49a0e1a1-29b7-4aef-98f1-ef4376336082",
   "metadata": {
    "tags": []
   },
   "outputs": [
    {
     "data": {
      "text/plain": [
       "(3, 2)"
      ]
     },
     "execution_count": 65,
     "metadata": {},
     "output_type": "execute_result"
    }
   ],
   "source": [
    "df.shape"
   ]
  },
  {
   "cell_type": "code",
   "execution_count": 67,
   "id": "a4c25457-9755-4305-98c3-41bc36b70df1",
   "metadata": {
    "tags": []
   },
   "outputs": [
    {
     "data": {
      "text/plain": [
       "'<table border=\"1\" class=\"dataframe\">  <thead>    <tr style=\"text-align: right;\">      <th></th>      <th>name</th>      <th>age</th>    </tr>  </thead>  <tbody>    <tr>      <th>0</th>      <td>Jan</td>      <td>30</td>    </tr>    <tr>      <th>1</th>      <td>Oren</td>      <td>20</td>    </tr>    <tr>      <th>2</th>      <td>Michael</td>      <td>40</td>    </tr>  </tbody></table>'"
      ]
     },
     "execution_count": 67,
     "metadata": {},
     "output_type": "execute_result"
    }
   ],
   "source": [
    "df.head().to_html().replace('\\n', '')"
   ]
  },
  {
   "cell_type": "code",
   "execution_count": 7,
   "id": "30b0c45f-a048-4321-807f-c83c5a2f7a47",
   "metadata": {
    "tags": []
   },
   "outputs": [
    {
     "data": {
      "text/plain": [
       "(Index(['name', 'age'], dtype='object'), RangeIndex(start=0, stop=3, step=1))"
      ]
     },
     "execution_count": 7,
     "metadata": {},
     "output_type": "execute_result"
    }
   ],
   "source": [
    "df.columns, df.index"
   ]
  },
  {
   "cell_type": "code",
   "execution_count": 8,
   "id": "14f9cb94-b068-471e-bb39-e17b732621a8",
   "metadata": {
    "tags": []
   },
   "outputs": [
    {
     "data": {
      "text/html": [
       "<div>\n",
       "<style scoped>\n",
       "    .dataframe tbody tr th:only-of-type {\n",
       "        vertical-align: middle;\n",
       "    }\n",
       "\n",
       "    .dataframe tbody tr th {\n",
       "        vertical-align: top;\n",
       "    }\n",
       "\n",
       "    .dataframe thead th {\n",
       "        text-align: right;\n",
       "    }\n",
       "</style>\n",
       "<table border=\"1\" class=\"dataframe\">\n",
       "  <thead>\n",
       "    <tr style=\"text-align: right;\">\n",
       "      <th></th>\n",
       "      <th>0</th>\n",
       "      <th>1</th>\n",
       "      <th>2</th>\n",
       "    </tr>\n",
       "  </thead>\n",
       "  <tbody>\n",
       "    <tr>\n",
       "      <th>name</th>\n",
       "      <td>Jan</td>\n",
       "      <td>Oren</td>\n",
       "      <td>Michael</td>\n",
       "    </tr>\n",
       "    <tr>\n",
       "      <th>age</th>\n",
       "      <td>30</td>\n",
       "      <td>20</td>\n",
       "      <td>40</td>\n",
       "    </tr>\n",
       "  </tbody>\n",
       "</table>\n",
       "</div>"
      ],
      "text/plain": [
       "        0     1        2\n",
       "name  Jan  Oren  Michael\n",
       "age    30    20       40"
      ]
     },
     "execution_count": 8,
     "metadata": {},
     "output_type": "execute_result"
    }
   ],
   "source": [
    "df.T"
   ]
  },
  {
   "cell_type": "code",
   "execution_count": 9,
   "id": "30d92caf-5fa9-4aba-84fd-58bd225a414b",
   "metadata": {
    "tags": []
   },
   "outputs": [
    {
     "data": {
      "text/plain": [
       "(RangeIndex(start=0, stop=3, step=1), Index(['name', 'age'], dtype='object'))"
      ]
     },
     "execution_count": 9,
     "metadata": {},
     "output_type": "execute_result"
    }
   ],
   "source": [
    "df.T.columns, df.T.index"
   ]
  },
  {
   "cell_type": "code",
   "execution_count": 10,
   "id": "e474505b-dea9-4dae-b89c-eab9d9ad1434",
   "metadata": {
    "tags": []
   },
   "outputs": [
    {
     "name": "stdout",
     "output_type": "stream",
     "text": [
      "<class 'pandas.core.frame.DataFrame'>\n",
      "RangeIndex: 3 entries, 0 to 2\n",
      "Data columns (total 2 columns):\n",
      " #   Column  Non-Null Count  Dtype \n",
      "---  ------  --------------  ----- \n",
      " 0   name    3 non-null      object\n",
      " 1   age     3 non-null      int64 \n",
      "dtypes: int64(1), object(1)\n",
      "memory usage: 176.0+ bytes\n"
     ]
    }
   ],
   "source": [
    "df.info()"
   ]
  },
  {
   "cell_type": "code",
   "execution_count": 11,
   "id": "01e4d93a-e3e2-4cb4-a1fc-13c53b0445db",
   "metadata": {
    "tags": []
   },
   "outputs": [],
   "source": [
    "df.name = df.name.astype(str)"
   ]
  },
  {
   "cell_type": "code",
   "execution_count": 12,
   "id": "be34dc44-2702-4c9e-92a3-cebecf8dabb2",
   "metadata": {
    "tags": []
   },
   "outputs": [
    {
     "name": "stdout",
     "output_type": "stream",
     "text": [
      "<class 'pandas.core.frame.DataFrame'>\n",
      "RangeIndex: 3 entries, 0 to 2\n",
      "Data columns (total 2 columns):\n",
      " #   Column  Non-Null Count  Dtype \n",
      "---  ------  --------------  ----- \n",
      " 0   name    3 non-null      object\n",
      " 1   age     3 non-null      int64 \n",
      "dtypes: int64(1), object(1)\n",
      "memory usage: 176.0+ bytes\n"
     ]
    }
   ],
   "source": [
    "df.info()"
   ]
  },
  {
   "cell_type": "code",
   "execution_count": 13,
   "id": "118c5fe6-b4c1-406c-86c1-bd92193d0ad5",
   "metadata": {
    "tags": []
   },
   "outputs": [
    {
     "data": {
      "text/plain": [
       "name    object\n",
       "age      int64\n",
       "dtype: object"
      ]
     },
     "execution_count": 13,
     "metadata": {},
     "output_type": "execute_result"
    }
   ],
   "source": [
    "df.dtypes"
   ]
  },
  {
   "cell_type": "code",
   "execution_count": 14,
   "id": "01cfde64-63ce-4eff-af1f-17a9b69028eb",
   "metadata": {
    "tags": []
   },
   "outputs": [
    {
     "data": {
      "text/plain": [
       "pandas.core.series.Series"
      ]
     },
     "execution_count": 14,
     "metadata": {},
     "output_type": "execute_result"
    }
   ],
   "source": [
    "type(df.name)"
   ]
  },
  {
   "cell_type": "code",
   "execution_count": 15,
   "id": "191ce447-1f7c-4805-94f7-3b6c970e5fcb",
   "metadata": {
    "tags": []
   },
   "outputs": [
    {
     "data": {
      "text/plain": [
       "dtype('O')"
      ]
     },
     "execution_count": 15,
     "metadata": {},
     "output_type": "execute_result"
    }
   ],
   "source": [
    "df.name.dtype"
   ]
  },
  {
   "cell_type": "code",
   "execution_count": 21,
   "id": "4508e53c-fd28-4709-916f-eb890a99b95f",
   "metadata": {
    "tags": []
   },
   "outputs": [
    {
     "data": {
      "text/plain": [
       "0        Jan\n",
       "1       Oren\n",
       "2    Michael\n",
       "Name: name, dtype: string"
      ]
     },
     "execution_count": 21,
     "metadata": {},
     "output_type": "execute_result"
    }
   ],
   "source": [
    "df.name.astype(\"string\")"
   ]
  },
  {
   "cell_type": "code",
   "execution_count": 19,
   "id": "6dd07e15-691e-4d7e-a6bc-32bd6702d229",
   "metadata": {
    "tags": []
   },
   "outputs": [],
   "source": [
    "df = df.astype({'name': \"string\"})"
   ]
  },
  {
   "cell_type": "code",
   "execution_count": 20,
   "id": "f39a9369-8bf1-4529-a123-79e9e5e73536",
   "metadata": {
    "tags": []
   },
   "outputs": [
    {
     "name": "stdout",
     "output_type": "stream",
     "text": [
      "<class 'pandas.core.frame.DataFrame'>\n",
      "RangeIndex: 3 entries, 0 to 2\n",
      "Data columns (total 2 columns):\n",
      " #   Column  Non-Null Count  Dtype \n",
      "---  ------  --------------  ----- \n",
      " 0   name    3 non-null      string\n",
      " 1   age     3 non-null      int64 \n",
      "dtypes: int64(1), string(1)\n",
      "memory usage: 176.0 bytes\n"
     ]
    }
   ],
   "source": [
    "df.info()"
   ]
  },
  {
   "cell_type": "code",
   "execution_count": 26,
   "id": "63b78964-0d30-47a4-b024-a6a75762f2d3",
   "metadata": {
    "tags": []
   },
   "outputs": [
    {
     "data": {
      "text/plain": [
       "Index    128\n",
       "name     185\n",
       "age       24\n",
       "dtype: int64"
      ]
     },
     "execution_count": 26,
     "metadata": {},
     "output_type": "execute_result"
    }
   ],
   "source": [
    "df.memory_usage(deep=True)"
   ]
  },
  {
   "cell_type": "code",
   "execution_count": 27,
   "id": "28064519-3353-4928-afce-05eb2ac349ee",
   "metadata": {
    "tags": []
   },
   "outputs": [
    {
     "ename": "ValueError",
     "evalue": "All arrays must be of the same length",
     "output_type": "error",
     "traceback": [
      "\u001b[0;31m---------------------------------------------------------------------------\u001b[0m",
      "\u001b[0;31mValueError\u001b[0m                                Traceback (most recent call last)",
      "Cell \u001b[0;32mIn[27], line 1\u001b[0m\n\u001b[0;32m----> 1\u001b[0m \u001b[43mpd\u001b[49m\u001b[38;5;241;43m.\u001b[39;49m\u001b[43mDataFrame\u001b[49m\u001b[43m(\u001b[49m\u001b[43m{\u001b[49m\n\u001b[1;32m      2\u001b[0m \u001b[43m    \u001b[49m\u001b[38;5;124;43m'\u001b[39;49m\u001b[38;5;124;43ma\u001b[39;49m\u001b[38;5;124;43m'\u001b[39;49m\u001b[43m:\u001b[49m\u001b[43m \u001b[49m\u001b[43m[\u001b[49m\u001b[38;5;241;43m1\u001b[39;49m\u001b[43m,\u001b[49m\u001b[43m \u001b[49m\u001b[38;5;241;43m2\u001b[39;49m\u001b[43m]\u001b[49m\u001b[43m,\u001b[49m\n\u001b[1;32m      3\u001b[0m \u001b[43m    \u001b[49m\u001b[38;5;124;43m'\u001b[39;49m\u001b[38;5;124;43mb\u001b[39;49m\u001b[38;5;124;43m'\u001b[39;49m\u001b[43m:\u001b[49m\u001b[43m \u001b[49m\u001b[43m[\u001b[49m\u001b[38;5;124;43m'\u001b[39;49m\u001b[38;5;124;43ma\u001b[39;49m\u001b[38;5;124;43m'\u001b[39;49m\u001b[43m]\u001b[49m\n\u001b[1;32m      4\u001b[0m \u001b[43m}\u001b[49m\u001b[43m)\u001b[49m\n",
      "File \u001b[0;32m~/projects/yapy3c/venv/lib/python3.8/site-packages/pandas/core/frame.py:664\u001b[0m, in \u001b[0;36mDataFrame.__init__\u001b[0;34m(self, data, index, columns, dtype, copy)\u001b[0m\n\u001b[1;32m    658\u001b[0m     mgr \u001b[38;5;241m=\u001b[39m \u001b[38;5;28mself\u001b[39m\u001b[38;5;241m.\u001b[39m_init_mgr(\n\u001b[1;32m    659\u001b[0m         data, axes\u001b[38;5;241m=\u001b[39m{\u001b[38;5;124m\"\u001b[39m\u001b[38;5;124mindex\u001b[39m\u001b[38;5;124m\"\u001b[39m: index, \u001b[38;5;124m\"\u001b[39m\u001b[38;5;124mcolumns\u001b[39m\u001b[38;5;124m\"\u001b[39m: columns}, dtype\u001b[38;5;241m=\u001b[39mdtype, copy\u001b[38;5;241m=\u001b[39mcopy\n\u001b[1;32m    660\u001b[0m     )\n\u001b[1;32m    662\u001b[0m \u001b[38;5;28;01melif\u001b[39;00m \u001b[38;5;28misinstance\u001b[39m(data, \u001b[38;5;28mdict\u001b[39m):\n\u001b[1;32m    663\u001b[0m     \u001b[38;5;66;03m# GH#38939 de facto copy defaults to False only in non-dict cases\u001b[39;00m\n\u001b[0;32m--> 664\u001b[0m     mgr \u001b[38;5;241m=\u001b[39m \u001b[43mdict_to_mgr\u001b[49m\u001b[43m(\u001b[49m\u001b[43mdata\u001b[49m\u001b[43m,\u001b[49m\u001b[43m \u001b[49m\u001b[43mindex\u001b[49m\u001b[43m,\u001b[49m\u001b[43m \u001b[49m\u001b[43mcolumns\u001b[49m\u001b[43m,\u001b[49m\u001b[43m \u001b[49m\u001b[43mdtype\u001b[49m\u001b[38;5;241;43m=\u001b[39;49m\u001b[43mdtype\u001b[49m\u001b[43m,\u001b[49m\u001b[43m \u001b[49m\u001b[43mcopy\u001b[49m\u001b[38;5;241;43m=\u001b[39;49m\u001b[43mcopy\u001b[49m\u001b[43m,\u001b[49m\u001b[43m \u001b[49m\u001b[43mtyp\u001b[49m\u001b[38;5;241;43m=\u001b[39;49m\u001b[43mmanager\u001b[49m\u001b[43m)\u001b[49m\n\u001b[1;32m    665\u001b[0m \u001b[38;5;28;01melif\u001b[39;00m \u001b[38;5;28misinstance\u001b[39m(data, ma\u001b[38;5;241m.\u001b[39mMaskedArray):\n\u001b[1;32m    666\u001b[0m     \u001b[38;5;28;01mimport\u001b[39;00m \u001b[38;5;21;01mnumpy\u001b[39;00m\u001b[38;5;21;01m.\u001b[39;00m\u001b[38;5;21;01mma\u001b[39;00m\u001b[38;5;21;01m.\u001b[39;00m\u001b[38;5;21;01mmrecords\u001b[39;00m \u001b[38;5;28;01mas\u001b[39;00m \u001b[38;5;21;01mmrecords\u001b[39;00m\n",
      "File \u001b[0;32m~/projects/yapy3c/venv/lib/python3.8/site-packages/pandas/core/internals/construction.py:493\u001b[0m, in \u001b[0;36mdict_to_mgr\u001b[0;34m(data, index, columns, dtype, typ, copy)\u001b[0m\n\u001b[1;32m    489\u001b[0m     \u001b[38;5;28;01melse\u001b[39;00m:\n\u001b[1;32m    490\u001b[0m         \u001b[38;5;66;03m# dtype check to exclude e.g. range objects, scalars\u001b[39;00m\n\u001b[1;32m    491\u001b[0m         arrays \u001b[38;5;241m=\u001b[39m [x\u001b[38;5;241m.\u001b[39mcopy() \u001b[38;5;28;01mif\u001b[39;00m \u001b[38;5;28mhasattr\u001b[39m(x, \u001b[38;5;124m\"\u001b[39m\u001b[38;5;124mdtype\u001b[39m\u001b[38;5;124m\"\u001b[39m) \u001b[38;5;28;01melse\u001b[39;00m x \u001b[38;5;28;01mfor\u001b[39;00m x \u001b[38;5;129;01min\u001b[39;00m arrays]\n\u001b[0;32m--> 493\u001b[0m \u001b[38;5;28;01mreturn\u001b[39;00m \u001b[43marrays_to_mgr\u001b[49m\u001b[43m(\u001b[49m\u001b[43marrays\u001b[49m\u001b[43m,\u001b[49m\u001b[43m \u001b[49m\u001b[43mcolumns\u001b[49m\u001b[43m,\u001b[49m\u001b[43m \u001b[49m\u001b[43mindex\u001b[49m\u001b[43m,\u001b[49m\u001b[43m \u001b[49m\u001b[43mdtype\u001b[49m\u001b[38;5;241;43m=\u001b[39;49m\u001b[43mdtype\u001b[49m\u001b[43m,\u001b[49m\u001b[43m \u001b[49m\u001b[43mtyp\u001b[49m\u001b[38;5;241;43m=\u001b[39;49m\u001b[43mtyp\u001b[49m\u001b[43m,\u001b[49m\u001b[43m \u001b[49m\u001b[43mconsolidate\u001b[49m\u001b[38;5;241;43m=\u001b[39;49m\u001b[43mcopy\u001b[49m\u001b[43m)\u001b[49m\n",
      "File \u001b[0;32m~/projects/yapy3c/venv/lib/python3.8/site-packages/pandas/core/internals/construction.py:118\u001b[0m, in \u001b[0;36marrays_to_mgr\u001b[0;34m(arrays, columns, index, dtype, verify_integrity, typ, consolidate)\u001b[0m\n\u001b[1;32m    115\u001b[0m \u001b[38;5;28;01mif\u001b[39;00m verify_integrity:\n\u001b[1;32m    116\u001b[0m     \u001b[38;5;66;03m# figure out the index, if necessary\u001b[39;00m\n\u001b[1;32m    117\u001b[0m     \u001b[38;5;28;01mif\u001b[39;00m index \u001b[38;5;129;01mis\u001b[39;00m \u001b[38;5;28;01mNone\u001b[39;00m:\n\u001b[0;32m--> 118\u001b[0m         index \u001b[38;5;241m=\u001b[39m \u001b[43m_extract_index\u001b[49m\u001b[43m(\u001b[49m\u001b[43marrays\u001b[49m\u001b[43m)\u001b[49m\n\u001b[1;32m    119\u001b[0m     \u001b[38;5;28;01melse\u001b[39;00m:\n\u001b[1;32m    120\u001b[0m         index \u001b[38;5;241m=\u001b[39m ensure_index(index)\n",
      "File \u001b[0;32m~/projects/yapy3c/venv/lib/python3.8/site-packages/pandas/core/internals/construction.py:666\u001b[0m, in \u001b[0;36m_extract_index\u001b[0;34m(data)\u001b[0m\n\u001b[1;32m    664\u001b[0m lengths \u001b[38;5;241m=\u001b[39m \u001b[38;5;28mlist\u001b[39m(\u001b[38;5;28mset\u001b[39m(raw_lengths))\n\u001b[1;32m    665\u001b[0m \u001b[38;5;28;01mif\u001b[39;00m \u001b[38;5;28mlen\u001b[39m(lengths) \u001b[38;5;241m>\u001b[39m \u001b[38;5;241m1\u001b[39m:\n\u001b[0;32m--> 666\u001b[0m     \u001b[38;5;28;01mraise\u001b[39;00m \u001b[38;5;167;01mValueError\u001b[39;00m(\u001b[38;5;124m\"\u001b[39m\u001b[38;5;124mAll arrays must be of the same length\u001b[39m\u001b[38;5;124m\"\u001b[39m)\n\u001b[1;32m    668\u001b[0m \u001b[38;5;28;01mif\u001b[39;00m have_dicts:\n\u001b[1;32m    669\u001b[0m     \u001b[38;5;28;01mraise\u001b[39;00m \u001b[38;5;167;01mValueError\u001b[39;00m(\n\u001b[1;32m    670\u001b[0m         \u001b[38;5;124m\"\u001b[39m\u001b[38;5;124mMixing dicts with non-Series may lead to ambiguous ordering.\u001b[39m\u001b[38;5;124m\"\u001b[39m\n\u001b[1;32m    671\u001b[0m     )\n",
      "\u001b[0;31mValueError\u001b[0m: All arrays must be of the same length"
     ]
    }
   ],
   "source": [
    "pd.DataFrame({\n",
    "    'a': [1, 2],\n",
    "    'b': ['a']\n",
    "})"
   ]
  },
  {
   "cell_type": "code",
   "execution_count": 41,
   "id": "dfb7bb6f-3125-4775-a2c5-146dcea863b2",
   "metadata": {
    "tags": []
   },
   "outputs": [],
   "source": [
    "def records():\n",
    "    for i in range(5):\n",
    "        yield (i + 1,  i + ord('a'), 90 - i, 3 ** i)"
   ]
  },
  {
   "cell_type": "code",
   "execution_count": 52,
   "id": "4079dfdf-7e06-4972-b467-896ba3b1b05c",
   "metadata": {
    "tags": []
   },
   "outputs": [],
   "source": [
    "from IPython.display import HTML"
   ]
  },
  {
   "cell_type": "code",
   "execution_count": 63,
   "id": "fb6d6f10-2206-4a45-a283-aa97f1434966",
   "metadata": {
    "tags": []
   },
   "outputs": [
    {
     "data": {
      "text/plain": [
       "'<table border=\"1\" class=\"dataframe\">  <thead>    <tr style=\"text-align: right;\">      <th></th>      <th>c1</th>      <th>c2</th>      <th>c3</th>      <th>c4</th>    </tr>  </thead>  <tbody>    <tr>      <th>0</th>      <td>1</td>      <td>97</td>      <td>90</td>      <td>1</td>    </tr>    <tr>      <th>1</th>      <td>2</td>      <td>98</td>      <td>89</td>      <td>3</td>    </tr>    <tr>      <th>2</th>      <td>3</td>      <td>99</td>      <td>88</td>      <td>9</td>    </tr>    <tr>      <th>3</th>      <td>4</td>      <td>100</td>      <td>87</td>      <td>27</td>    </tr>    <tr>      <th>4</th>      <td>5</td>      <td>101</td>      <td>86</td>      <td>81</td>    </tr>  </tbody></table>'"
      ]
     },
     "execution_count": 63,
     "metadata": {},
     "output_type": "execute_result"
    }
   ],
   "source": [
    "pd.DataFrame.from_records(records(), columns=['c1','c2','c3', 'c4']).to_html().replace('\\n', '')"
   ]
  },
  {
   "cell_type": "code",
   "execution_count": 43,
   "id": "62f66807-8e81-4f37-a875-59b67d3aa652",
   "metadata": {},
   "outputs": [
    {
     "data": {
      "text/plain": [
       "'<table border=\"1\" class=\"dataframe\">  <thead>    <tr style=\"text-align: right;\">      <th></th>      <th>name</th>      <th>age</th>    </tr>  </thead>  <tbody>    <tr>      <th>0</th>      <td>Jan</td>      <td>30</td>    </tr>    <tr>      <th>1</th>      <td>Oren</td>      <td>20</td>    </tr>    <tr>      <th>2</th>      <td>Michael</td>      <td>40</td>    </tr>  </tbody></table>'"
      ]
     },
     "execution_count": 43,
     "metadata": {},
     "output_type": "execute_result"
    }
   ],
   "source": [
    "df.to_html().replace(\"\\n\", \"\")"
   ]
  },
  {
   "cell_type": "code",
   "execution_count": 44,
   "id": "a6fec5df-f776-457d-8335-1d82032e5abc",
   "metadata": {
    "tags": []
   },
   "outputs": [],
   "source": [
    "df_head = df.head(2)"
   ]
  },
  {
   "cell_type": "code",
   "execution_count": 45,
   "id": "5357e284-fb36-423c-a64c-2fc089401146",
   "metadata": {
    "tags": []
   },
   "outputs": [
    {
     "data": {
      "text/plain": [
       "'<table border=\"1\" class=\"dataframe\">  <thead>    <tr style=\"text-align: right;\">      <th></th>      <th>name</th>      <th>age</th>    </tr>  </thead>  <tbody>    <tr>      <th>0</th>      <td>Jan</td>      <td>30</td>    </tr>    <tr>      <th>1</th>      <td>Oren</td>      <td>20</td>    </tr>  </tbody></table>'"
      ]
     },
     "execution_count": 45,
     "metadata": {},
     "output_type": "execute_result"
    }
   ],
   "source": [
    "df_head.to_html().replace(\"\\n\", \"\")"
   ]
  },
  {
   "cell_type": "code",
   "execution_count": 47,
   "id": "239933fc-3c09-4ca2-9d87-3e10dee8713c",
   "metadata": {
    "tags": []
   },
   "outputs": [],
   "source": [
    "df_head.loc[0, 'age'] = 31"
   ]
  },
  {
   "cell_type": "code",
   "execution_count": 51,
   "id": "1ad89e02-3f9d-4b5b-b6fa-0d51fcb9f2bd",
   "metadata": {
    "tags": []
   },
   "outputs": [
    {
     "data": {
      "text/plain": [
       "'<table border=\"1\" class=\"dataframe\">  <thead>    <tr style=\"text-align: right;\">      <th></th>      <th>name</th>      <th>age</th>    </tr>  </thead>  <tbody>    <tr>      <th>0</th>      <td>Jan</td>      <td>31</td>    </tr>    <tr>      <th>1</th>      <td>Oren</td>      <td>20</td>    </tr>  </tbody></table>'"
      ]
     },
     "execution_count": 51,
     "metadata": {},
     "output_type": "execute_result"
    }
   ],
   "source": [
    "return_html(df_head)"
   ]
  },
  {
   "cell_type": "code",
   "execution_count": 53,
   "id": "a050f0fd-af70-4e8d-9570-8138aa1d028d",
   "metadata": {
    "tags": []
   },
   "outputs": [
    {
     "data": {
      "text/plain": [
       "'<table border=\"1\" class=\"dataframe\">  <thead>    <tr style=\"text-align: right;\">      <th></th>      <th>name</th>      <th>age</th>    </tr>  </thead>  <tbody>    <tr>      <th>0</th>      <td>Jan</td>      <td>31</td>    </tr>    <tr>      <th>1</th>      <td>Oren</td>      <td>20</td>    </tr>    <tr>      <th>2</th>      <td>Michael</td>      <td>40</td>    </tr>  </tbody></table>'"
      ]
     },
     "execution_count": 53,
     "metadata": {},
     "output_type": "execute_result"
    }
   ],
   "source": [
    "return_html(df)"
   ]
  },
  {
   "cell_type": "code",
   "execution_count": 5,
   "id": "9dfbe569-2bf5-42fd-bbf0-1a7cf269293e",
   "metadata": {
    "tags": []
   },
   "outputs": [],
   "source": [
    "def return_html(df):\n",
    "    return df.to_html().replace(\"\\n\", \"\")"
   ]
  },
  {
   "cell_type": "code",
   "execution_count": 14,
   "id": "36d6dfd9-c757-4aad-b03f-6f8efc6bea66",
   "metadata": {
    "tags": []
   },
   "outputs": [],
   "source": [
    "df['hobby'] = 'Python'"
   ]
  },
  {
   "cell_type": "code",
   "execution_count": 15,
   "id": "91b1d460-4e1b-458f-aa80-01c79336df71",
   "metadata": {
    "tags": []
   },
   "outputs": [
    {
     "data": {
      "text/html": [
       "<div>\n",
       "<style scoped>\n",
       "    .dataframe tbody tr th:only-of-type {\n",
       "        vertical-align: middle;\n",
       "    }\n",
       "\n",
       "    .dataframe tbody tr th {\n",
       "        vertical-align: top;\n",
       "    }\n",
       "\n",
       "    .dataframe thead th {\n",
       "        text-align: right;\n",
       "    }\n",
       "</style>\n",
       "<table border=\"1\" class=\"dataframe\">\n",
       "  <thead>\n",
       "    <tr style=\"text-align: right;\">\n",
       "      <th></th>\n",
       "      <th>name</th>\n",
       "      <th>age</th>\n",
       "      <th>hobby</th>\n",
       "    </tr>\n",
       "  </thead>\n",
       "  <tbody>\n",
       "    <tr>\n",
       "      <th>0</th>\n",
       "      <td>Jan</td>\n",
       "      <td>31</td>\n",
       "      <td>Python</td>\n",
       "    </tr>\n",
       "    <tr>\n",
       "      <th>1</th>\n",
       "      <td>Oren</td>\n",
       "      <td>20</td>\n",
       "      <td>Python</td>\n",
       "    </tr>\n",
       "    <tr>\n",
       "      <th>2</th>\n",
       "      <td>Michael</td>\n",
       "      <td>40</td>\n",
       "      <td>Python</td>\n",
       "    </tr>\n",
       "  </tbody>\n",
       "</table>\n",
       "</div>"
      ],
      "text/plain": [
       "      name  age   hobby\n",
       "0      Jan   31  Python\n",
       "1     Oren   20  Python\n",
       "2  Michael   40  Python"
      ]
     },
     "execution_count": 15,
     "metadata": {},
     "output_type": "execute_result"
    }
   ],
   "source": [
    "df"
   ]
  },
  {
   "cell_type": "code",
   "execution_count": 16,
   "id": "4b3fd780-f34c-491f-8f7e-8b7a7f1ac9c3",
   "metadata": {
    "tags": []
   },
   "outputs": [
    {
     "data": {
      "text/plain": [
       "Index    128\n",
       "name     185\n",
       "age       24\n",
       "hobby    189\n",
       "dtype: int64"
      ]
     },
     "execution_count": 16,
     "metadata": {},
     "output_type": "execute_result"
    }
   ],
   "source": [
    "df.memory_usage(deep=True)"
   ]
  },
  {
   "cell_type": "code",
   "execution_count": 17,
   "id": "58c397a2-df90-42a2-b7a7-cfba0d47fb37",
   "metadata": {
    "tags": []
   },
   "outputs": [],
   "source": [
    "df.loc[1, 'hobby'] = 'Java'"
   ]
  },
  {
   "cell_type": "code",
   "execution_count": 18,
   "id": "323f2bb4-baf7-4cf1-8a7f-2a35cbaef0bf",
   "metadata": {
    "tags": []
   },
   "outputs": [
    {
     "data": {
      "text/html": [
       "<div>\n",
       "<style scoped>\n",
       "    .dataframe tbody tr th:only-of-type {\n",
       "        vertical-align: middle;\n",
       "    }\n",
       "\n",
       "    .dataframe tbody tr th {\n",
       "        vertical-align: top;\n",
       "    }\n",
       "\n",
       "    .dataframe thead th {\n",
       "        text-align: right;\n",
       "    }\n",
       "</style>\n",
       "<table border=\"1\" class=\"dataframe\">\n",
       "  <thead>\n",
       "    <tr style=\"text-align: right;\">\n",
       "      <th></th>\n",
       "      <th>name</th>\n",
       "      <th>age</th>\n",
       "      <th>hobby</th>\n",
       "    </tr>\n",
       "  </thead>\n",
       "  <tbody>\n",
       "    <tr>\n",
       "      <th>0</th>\n",
       "      <td>Jan</td>\n",
       "      <td>31</td>\n",
       "      <td>Python</td>\n",
       "    </tr>\n",
       "    <tr>\n",
       "      <th>1</th>\n",
       "      <td>Oren</td>\n",
       "      <td>20</td>\n",
       "      <td>Java</td>\n",
       "    </tr>\n",
       "    <tr>\n",
       "      <th>2</th>\n",
       "      <td>Michael</td>\n",
       "      <td>40</td>\n",
       "      <td>Python</td>\n",
       "    </tr>\n",
       "  </tbody>\n",
       "</table>\n",
       "</div>"
      ],
      "text/plain": [
       "      name  age   hobby\n",
       "0      Jan   31  Python\n",
       "1     Oren   20    Java\n",
       "2  Michael   40  Python"
      ]
     },
     "execution_count": 18,
     "metadata": {},
     "output_type": "execute_result"
    }
   ],
   "source": [
    "df"
   ]
  },
  {
   "cell_type": "code",
   "execution_count": 19,
   "id": "89e7a466-8cbf-4121-a841-7a722da52473",
   "metadata": {
    "tags": []
   },
   "outputs": [
    {
     "data": {
      "text/plain": [
       "Index    128\n",
       "name     185\n",
       "age       24\n",
       "hobby    187\n",
       "dtype: int64"
      ]
     },
     "execution_count": 19,
     "metadata": {},
     "output_type": "execute_result"
    }
   ],
   "source": [
    "df.memory_usage(deep=True)"
   ]
  },
  {
   "cell_type": "code",
   "execution_count": 23,
   "id": "0c5ebe47-f5bd-4a9c-8d8b-e9f9732e7255",
   "metadata": {
    "tags": []
   },
   "outputs": [
    {
     "data": {
      "text/plain": [
       "0    3\n",
       "1    4\n",
       "2    7\n",
       "Name: name, dtype: int64"
      ]
     },
     "execution_count": 23,
     "metadata": {},
     "output_type": "execute_result"
    }
   ],
   "source": [
    "df.name.str.len()"
   ]
  },
  {
   "cell_type": "code",
   "execution_count": 24,
   "id": "518c679a-1db2-4176-b61f-41f308dc85ed",
   "metadata": {
    "tags": []
   },
   "outputs": [
    {
     "data": {
      "text/plain": [
       "(2, 2)"
      ]
     },
     "execution_count": 24,
     "metadata": {},
     "output_type": "execute_result"
    }
   ],
   "source": [
    "df_head.shape"
   ]
  },
  {
   "cell_type": "code",
   "execution_count": 25,
   "id": "656a136f-b0ac-4a01-a9d9-ca760007c977",
   "metadata": {
    "tags": []
   },
   "outputs": [
    {
     "data": {
      "text/plain": [
       "(3, 3)"
      ]
     },
     "execution_count": 25,
     "metadata": {},
     "output_type": "execute_result"
    }
   ],
   "source": [
    "df.shape"
   ]
  },
  {
   "cell_type": "code",
   "execution_count": 26,
   "id": "0c54f4e3-d78a-4537-b680-88cb1dee9597",
   "metadata": {
    "tags": []
   },
   "outputs": [],
   "source": [
    "df_head.loc[0, 'age'] = 32"
   ]
  },
  {
   "cell_type": "code",
   "execution_count": 27,
   "id": "1404d2c5-cea7-45c9-86a5-d3f98a4e4da1",
   "metadata": {
    "tags": []
   },
   "outputs": [
    {
     "data": {
      "text/html": [
       "<div>\n",
       "<style scoped>\n",
       "    .dataframe tbody tr th:only-of-type {\n",
       "        vertical-align: middle;\n",
       "    }\n",
       "\n",
       "    .dataframe tbody tr th {\n",
       "        vertical-align: top;\n",
       "    }\n",
       "\n",
       "    .dataframe thead th {\n",
       "        text-align: right;\n",
       "    }\n",
       "</style>\n",
       "<table border=\"1\" class=\"dataframe\">\n",
       "  <thead>\n",
       "    <tr style=\"text-align: right;\">\n",
       "      <th></th>\n",
       "      <th>name</th>\n",
       "      <th>age</th>\n",
       "      <th>hobby</th>\n",
       "    </tr>\n",
       "  </thead>\n",
       "  <tbody>\n",
       "    <tr>\n",
       "      <th>0</th>\n",
       "      <td>Jan</td>\n",
       "      <td>32</td>\n",
       "      <td>Python</td>\n",
       "    </tr>\n",
       "    <tr>\n",
       "      <th>1</th>\n",
       "      <td>Oren</td>\n",
       "      <td>20</td>\n",
       "      <td>Java</td>\n",
       "    </tr>\n",
       "    <tr>\n",
       "      <th>2</th>\n",
       "      <td>Michael</td>\n",
       "      <td>40</td>\n",
       "      <td>Python</td>\n",
       "    </tr>\n",
       "  </tbody>\n",
       "</table>\n",
       "</div>"
      ],
      "text/plain": [
       "      name  age   hobby\n",
       "0      Jan   32  Python\n",
       "1     Oren   20    Java\n",
       "2  Michael   40  Python"
      ]
     },
     "execution_count": 27,
     "metadata": {},
     "output_type": "execute_result"
    }
   ],
   "source": [
    "df"
   ]
  },
  {
   "cell_type": "code",
   "execution_count": 28,
   "id": "4dc49d48-9ec9-471f-97bd-1bdcb020f885",
   "metadata": {
    "tags": []
   },
   "outputs": [
    {
     "data": {
      "text/plain": [
       "Index(['name', 'age'], dtype='object')"
      ]
     },
     "execution_count": 28,
     "metadata": {},
     "output_type": "execute_result"
    }
   ],
   "source": [
    "df_head.columns"
   ]
  },
  {
   "cell_type": "code",
   "execution_count": 38,
   "id": "d8d01a13-6519-4274-b4c5-01493b6a51aa",
   "metadata": {
    "tags": []
   },
   "outputs": [],
   "source": [
    "df_from_np_matrix = pd.DataFrame(np.random.randn(8, 5), columns=list(\"ABCDE\"))"
   ]
  },
  {
   "cell_type": "code",
   "execution_count": 39,
   "id": "bef230f7-e383-4296-ad3c-46d7aa19a8ed",
   "metadata": {
    "tags": []
   },
   "outputs": [
    {
     "data": {
      "text/plain": [
       "'<table border=\"1\" class=\"dataframe\">  <thead>    <tr style=\"text-align: right;\">      <th></th>      <th>A</th>      <th>B</th>      <th>C</th>      <th>D</th>      <th>E</th>    </tr>  </thead>  <tbody>    <tr>      <th>0</th>      <td>-0.796475</td>      <td>1.094937</td>      <td>0.085857</td>      <td>-0.422669</td>      <td>0.838842</td>    </tr>    <tr>      <th>1</th>      <td>0.193157</td>      <td>1.581320</td>      <td>-0.154880</td>      <td>-0.072739</td>      <td>0.124116</td>    </tr>    <tr>      <th>2</th>      <td>1.602135</td>      <td>0.443397</td>      <td>-1.886092</td>      <td>0.763741</td>      <td>-0.094495</td>    </tr>    <tr>      <th>3</th>      <td>-1.904237</td>      <td>-0.075916</td>      <td>-0.160738</td>      <td>0.189941</td>      <td>2.368079</td>    </tr>    <tr>      <th>4</th>      <td>-0.556937</td>      <td>0.989280</td>      <td>0.137683</td>      <td>1.488743</td>      <td>-0.647949</td>    </tr>    <tr>      <th>5</th>      <td>1.350182</td>      <td>-0.297231</td>      <td>0.854884</td>      <td>-0.344520</td>      <td>-0.129298</td>    </tr>    <tr>      <th>6</th>      <td>-1.392316</td>      <td>-2.541472</td>      <td>0.680830</td>      <td>1.210426</td>      <td>-1.091972</td>    </tr>    <tr>      <th>7</th>      <td>-0.525120</td>      <td>0.421930</td>      <td>1.668550</td>      <td>0.260011</td>      <td>1.383353</td>    </tr>  </tbody></table>'"
      ]
     },
     "execution_count": 39,
     "metadata": {},
     "output_type": "execute_result"
    }
   ],
   "source": [
    "df_from_np_matrix.to_html().replace(\"\\n\", \"\")"
   ]
  },
  {
   "cell_type": "code",
   "execution_count": 3,
   "id": "f8a7728f-3945-4a22-96ec-fc6b42171f7b",
   "metadata": {},
   "outputs": [
    {
     "data": {
      "text/plain": [
       "<pandas.core.groupby.generic.DataFrameGroupBy object at 0x7f6b4f4ba6a0>"
      ]
     },
     "execution_count": 3,
     "metadata": {},
     "output_type": "execute_result"
    }
   ],
   "source": [
    "df.groupby('name')"
   ]
  },
  {
   "cell_type": "code",
   "execution_count": 6,
   "id": "2eb6e19d-e0e2-46cd-9773-10a48288ddaf",
   "metadata": {
    "tags": []
   },
   "outputs": [
    {
     "data": {
      "text/plain": [
       "'<table border=\"1\" class=\"dataframe\">  <thead>    <tr style=\"text-align: right;\">      <th></th>      <th>animal</th>      <th>size</th>      <th>weight</th>      <th>adult</th>    </tr>  </thead>  <tbody>    <tr>      <th>0</th>      <td>cat</td>      <td>S</td>      <td>8</td>      <td>False</td>    </tr>    <tr>      <th>2</th>      <td>cat</td>      <td>M</td>      <td>11</td>      <td>False</td>    </tr>    <tr>      <th>5</th>      <td>cat</td>      <td>L</td>      <td>12</td>      <td>True</td>    </tr>    <tr>      <th>6</th>      <td>cat</td>      <td>L</td>      <td>12</td>      <td>True</td>    </tr>  </tbody></table>'"
      ]
     },
     "execution_count": 6,
     "metadata": {},
     "output_type": "execute_result"
    }
   ],
   "source": [
    "df = pd.DataFrame(\n",
    "    {\n",
    "        \"animal\": \"cat dog cat fish dog cat cat\".split(),\n",
    "        \"size\": list(\"SSMMMLL\"),\n",
    "        \"weight\": [8, 10, 11, 1, 20, 12, 12],\n",
    "        \"adult\": [False] * 5 + [True] * 2,\n",
    "    }\n",
    ")\n",
    "\n",
    "gb = df.groupby([\"animal\"])\n",
    "\n",
    "return_html(gb.get_group(\"cat\"))"
   ]
  },
  {
   "cell_type": "code",
   "execution_count": 2,
   "id": "2f3b8903-d7d3-4be4-8bc9-df69ce62c473",
   "metadata": {},
   "outputs": [
    {
     "data": {
      "text/html": [
       "<div>\n",
       "<style scoped>\n",
       "    .dataframe tbody tr th:only-of-type {\n",
       "        vertical-align: middle;\n",
       "    }\n",
       "\n",
       "    .dataframe tbody tr th {\n",
       "        vertical-align: top;\n",
       "    }\n",
       "\n",
       "    .dataframe thead th {\n",
       "        text-align: right;\n",
       "    }\n",
       "</style>\n",
       "<table border=\"1\" class=\"dataframe\">\n",
       "  <thead>\n",
       "    <tr style=\"text-align: right;\">\n",
       "      <th></th>\n",
       "      <th>B</th>\n",
       "    </tr>\n",
       "  </thead>\n",
       "  <tbody>\n",
       "    <tr>\n",
       "      <th>0</th>\n",
       "      <td>1</td>\n",
       "    </tr>\n",
       "    <tr>\n",
       "      <th>1</th>\n",
       "      <td>1</td>\n",
       "    </tr>\n",
       "    <tr>\n",
       "      <th>2</th>\n",
       "      <td>1</td>\n",
       "    </tr>\n",
       "    <tr>\n",
       "      <th>3</th>\n",
       "      <td>2</td>\n",
       "    </tr>\n",
       "  </tbody>\n",
       "</table>\n",
       "</div>"
      ],
      "text/plain": [
       "   B\n",
       "0  1\n",
       "1  1\n",
       "2  1\n",
       "3  2"
      ]
     },
     "execution_count": 2,
     "metadata": {},
     "output_type": "execute_result"
    }
   ],
   "source": [
    "df = pd.DataFrame({\"A\": [1, 1, 2, 2], \"B\": [1, -1, 1, 2]})\n",
    "\n",
    "gb = df.groupby(\"A\")\n",
    "\n",
    "def replace(g):\n",
    "    mask = g < 0\n",
    "    return g.where(~mask, g[~mask].mean())\n",
    "\n",
    "gb.transform(replace)"
   ]
  },
  {
   "cell_type": "code",
   "execution_count": 3,
   "id": "80ad91b8-f2c7-4a43-b0f3-24024b40624f",
   "metadata": {
    "tags": []
   },
   "outputs": [
    {
     "data": {
      "text/html": [
       "<div>\n",
       "<style scoped>\n",
       "    .dataframe tbody tr th:only-of-type {\n",
       "        vertical-align: middle;\n",
       "    }\n",
       "\n",
       "    .dataframe tbody tr th {\n",
       "        vertical-align: top;\n",
       "    }\n",
       "\n",
       "    .dataframe thead th {\n",
       "        text-align: right;\n",
       "    }\n",
       "</style>\n",
       "<table border=\"1\" class=\"dataframe\">\n",
       "  <thead>\n",
       "    <tr style=\"text-align: right;\">\n",
       "      <th></th>\n",
       "      <th>A</th>\n",
       "      <th>B</th>\n",
       "    </tr>\n",
       "  </thead>\n",
       "  <tbody>\n",
       "    <tr>\n",
       "      <th>0</th>\n",
       "      <td>1</td>\n",
       "      <td>1</td>\n",
       "    </tr>\n",
       "    <tr>\n",
       "      <th>1</th>\n",
       "      <td>1</td>\n",
       "      <td>-1</td>\n",
       "    </tr>\n",
       "    <tr>\n",
       "      <th>2</th>\n",
       "      <td>2</td>\n",
       "      <td>1</td>\n",
       "    </tr>\n",
       "    <tr>\n",
       "      <th>3</th>\n",
       "      <td>2</td>\n",
       "      <td>2</td>\n",
       "    </tr>\n",
       "  </tbody>\n",
       "</table>\n",
       "</div>"
      ],
      "text/plain": [
       "   A  B\n",
       "0  1  1\n",
       "1  1 -1\n",
       "2  2  1\n",
       "3  2  2"
      ]
     },
     "execution_count": 3,
     "metadata": {},
     "output_type": "execute_result"
    }
   ],
   "source": [
    "df"
   ]
  },
  {
   "cell_type": "code",
   "execution_count": 4,
   "id": "f95b20c6-92f1-486a-af38-87146bf59ffa",
   "metadata": {
    "tags": []
   },
   "outputs": [
    {
     "data": {
      "text/plain": [
       "\u001b[0;31mSignature:\u001b[0m\n",
       "\u001b[0mdf\u001b[0m\u001b[0;34m.\u001b[0m\u001b[0mwhere\u001b[0m\u001b[0;34m(\u001b[0m\u001b[0;34m\u001b[0m\n",
       "\u001b[0;34m\u001b[0m    \u001b[0mcond\u001b[0m\u001b[0;34m,\u001b[0m\u001b[0;34m\u001b[0m\n",
       "\u001b[0;34m\u001b[0m    \u001b[0mother\u001b[0m\u001b[0;34m=\u001b[0m\u001b[0;34m<\u001b[0m\u001b[0mno_default\u001b[0m\u001b[0;34m>\u001b[0m\u001b[0;34m,\u001b[0m\u001b[0;34m\u001b[0m\n",
       "\u001b[0;34m\u001b[0m    \u001b[0;34m*\u001b[0m\u001b[0;34m,\u001b[0m\u001b[0;34m\u001b[0m\n",
       "\u001b[0;34m\u001b[0m    \u001b[0minplace\u001b[0m\u001b[0;34m:\u001b[0m \u001b[0;34m'bool'\u001b[0m \u001b[0;34m=\u001b[0m \u001b[0;32mFalse\u001b[0m\u001b[0;34m,\u001b[0m\u001b[0;34m\u001b[0m\n",
       "\u001b[0;34m\u001b[0m    \u001b[0maxis\u001b[0m\u001b[0;34m:\u001b[0m \u001b[0;34m'Axis | None'\u001b[0m \u001b[0;34m=\u001b[0m \u001b[0;32mNone\u001b[0m\u001b[0;34m,\u001b[0m\u001b[0;34m\u001b[0m\n",
       "\u001b[0;34m\u001b[0m    \u001b[0mlevel\u001b[0m\u001b[0;34m:\u001b[0m \u001b[0;34m'Level'\u001b[0m \u001b[0;34m=\u001b[0m \u001b[0;32mNone\u001b[0m\u001b[0;34m,\u001b[0m\u001b[0;34m\u001b[0m\n",
       "\u001b[0;34m\u001b[0m    \u001b[0merrors\u001b[0m\u001b[0;34m:\u001b[0m \u001b[0;34m'IgnoreRaise | lib.NoDefault'\u001b[0m \u001b[0;34m=\u001b[0m \u001b[0;34m'raise'\u001b[0m\u001b[0;34m,\u001b[0m\u001b[0;34m\u001b[0m\n",
       "\u001b[0;34m\u001b[0m    \u001b[0mtry_cast\u001b[0m\u001b[0;34m:\u001b[0m \u001b[0;34m'bool | lib.NoDefault'\u001b[0m \u001b[0;34m=\u001b[0m \u001b[0;34m<\u001b[0m\u001b[0mno_default\u001b[0m\u001b[0;34m>\u001b[0m\u001b[0;34m,\u001b[0m\u001b[0;34m\u001b[0m\n",
       "\u001b[0;34m\u001b[0m\u001b[0;34m)\u001b[0m \u001b[0;34m->\u001b[0m \u001b[0;34m'DataFrame | None'\u001b[0m\u001b[0;34m\u001b[0m\u001b[0;34m\u001b[0m\u001b[0m\n",
       "\u001b[0;31mDocstring:\u001b[0m\n",
       "Replace values where the condition is False.\n",
       "\n",
       "Parameters\n",
       "----------\n",
       "cond : bool Series/DataFrame, array-like, or callable\n",
       "    Where `cond` is True, keep the original value. Where\n",
       "    False, replace with corresponding value from `other`.\n",
       "    If `cond` is callable, it is computed on the Series/DataFrame and\n",
       "    should return boolean Series/DataFrame or array. The callable must\n",
       "    not change input Series/DataFrame (though pandas doesn't check it).\n",
       "other : scalar, Series/DataFrame, or callable\n",
       "    Entries where `cond` is False are replaced with\n",
       "    corresponding value from `other`.\n",
       "    If other is callable, it is computed on the Series/DataFrame and\n",
       "    should return scalar or Series/DataFrame. The callable must not\n",
       "    change input Series/DataFrame (though pandas doesn't check it).\n",
       "inplace : bool, default False\n",
       "    Whether to perform the operation in place on the data.\n",
       "axis : int, default None\n",
       "    Alignment axis if needed. For `Series` this parameter is\n",
       "    unused and defaults to 0.\n",
       "level : int, default None\n",
       "    Alignment level if needed.\n",
       "errors : str, {'raise', 'ignore'}, default 'raise'\n",
       "    Note that currently this parameter won't affect\n",
       "    the results and will always coerce to a suitable dtype.\n",
       "\n",
       "    - 'raise' : allow exceptions to be raised.\n",
       "    - 'ignore' : suppress exceptions. On error return original object.\n",
       "\n",
       "    .. deprecated:: 1.5.0\n",
       "       This argument had no effect.\n",
       "\n",
       "try_cast : bool, default None\n",
       "    Try to cast the result back to the input type (if possible).\n",
       "\n",
       "    .. deprecated:: 1.3.0\n",
       "        Manually cast back if necessary.\n",
       "\n",
       "Returns\n",
       "-------\n",
       "Same type as caller or None if ``inplace=True``.\n",
       "\n",
       "See Also\n",
       "--------\n",
       ":func:`DataFrame.mask` : Return an object of same shape as\n",
       "    self.\n",
       "\n",
       "Notes\n",
       "-----\n",
       "The where method is an application of the if-then idiom. For each\n",
       "element in the calling DataFrame, if ``cond`` is ``True`` the\n",
       "element is used; otherwise the corresponding element from the DataFrame\n",
       "``other`` is used. If the axis of ``other`` does not align with axis of\n",
       "``cond`` Series/DataFrame, the misaligned index positions will be filled with\n",
       "False.\n",
       "\n",
       "The signature for :func:`DataFrame.where` differs from\n",
       ":func:`numpy.where`. Roughly ``df1.where(m, df2)`` is equivalent to\n",
       "``np.where(m, df1, df2)``.\n",
       "\n",
       "For further details and examples see the ``where`` documentation in\n",
       ":ref:`indexing <indexing.where_mask>`.\n",
       "\n",
       "The dtype of the object takes precedence. The fill value is casted to\n",
       "the object's dtype, if this can be done losslessly.\n",
       "\n",
       "Examples\n",
       "--------\n",
       ">>> s = pd.Series(range(5))\n",
       ">>> s.where(s > 0)\n",
       "0    NaN\n",
       "1    1.0\n",
       "2    2.0\n",
       "3    3.0\n",
       "4    4.0\n",
       "dtype: float64\n",
       ">>> s.mask(s > 0)\n",
       "0    0.0\n",
       "1    NaN\n",
       "2    NaN\n",
       "3    NaN\n",
       "4    NaN\n",
       "dtype: float64\n",
       "\n",
       ">>> s = pd.Series(range(5))\n",
       ">>> t = pd.Series([True, False])\n",
       ">>> s.where(t, 99)\n",
       "0     0\n",
       "1    99\n",
       "2    99\n",
       "3    99\n",
       "4    99\n",
       "dtype: int64\n",
       ">>> s.mask(t, 99)\n",
       "0    99\n",
       "1     1\n",
       "2    99\n",
       "3    99\n",
       "4    99\n",
       "dtype: int64\n",
       "\n",
       ">>> s.where(s > 1, 10)\n",
       "0    10\n",
       "1    10\n",
       "2    2\n",
       "3    3\n",
       "4    4\n",
       "dtype: int64\n",
       ">>> s.mask(s > 1, 10)\n",
       "0     0\n",
       "1     1\n",
       "2    10\n",
       "3    10\n",
       "4    10\n",
       "dtype: int64\n",
       "\n",
       ">>> df = pd.DataFrame(np.arange(10).reshape(-1, 2), columns=['A', 'B'])\n",
       ">>> df\n",
       "   A  B\n",
       "0  0  1\n",
       "1  2  3\n",
       "2  4  5\n",
       "3  6  7\n",
       "4  8  9\n",
       ">>> m = df % 3 == 0\n",
       ">>> df.where(m, -df)\n",
       "   A  B\n",
       "0  0 -1\n",
       "1 -2  3\n",
       "2 -4 -5\n",
       "3  6 -7\n",
       "4 -8  9\n",
       ">>> df.where(m, -df) == np.where(m, df, -df)\n",
       "      A     B\n",
       "0  True  True\n",
       "1  True  True\n",
       "2  True  True\n",
       "3  True  True\n",
       "4  True  True\n",
       ">>> df.where(m, -df) == df.mask(~m, -df)\n",
       "      A     B\n",
       "0  True  True\n",
       "1  True  True\n",
       "2  True  True\n",
       "3  True  True\n",
       "4  True  True\n",
       "\u001b[0;31mFile:\u001b[0m      ~/projects/yapy3c/venv/lib/python3.8/site-packages/pandas/core/frame.py\n",
       "\u001b[0;31mType:\u001b[0m      method"
      ]
     },
     "metadata": {},
     "output_type": "display_data"
    }
   ],
   "source": [
    "df.where?"
   ]
  },
  {
   "cell_type": "code",
   "execution_count": 5,
   "id": "0d68d1eb-60a1-453f-8ee2-d418f4bae429",
   "metadata": {
    "tags": []
   },
   "outputs": [],
   "source": [
    "s = pd.Series([1, 2, 8])"
   ]
  },
  {
   "cell_type": "code",
   "execution_count": 7,
   "id": "422642c3-6fcb-404d-91ba-83af6dbd6bd9",
   "metadata": {
    "tags": []
   },
   "outputs": [
    {
     "data": {
      "text/plain": [
       "[0    1\n",
       " dtype: int64,\n",
       " 0    1\n",
       " 1    2\n",
       " dtype: int64,\n",
       " 0    1\n",
       " 1    2\n",
       " 2    8\n",
       " dtype: int64]"
      ]
     },
     "execution_count": 7,
     "metadata": {},
     "output_type": "execute_result"
    }
   ],
   "source": [
    "list(s.expanding())"
   ]
  },
  {
   "cell_type": "code",
   "execution_count": 8,
   "id": "818c2138-b8b7-4d0c-bca4-befb30b1728a",
   "metadata": {
    "tags": []
   },
   "outputs": [
    {
     "data": {
      "text/html": [
       "<div>\n",
       "<style scoped>\n",
       "    .dataframe tbody tr th:only-of-type {\n",
       "        vertical-align: middle;\n",
       "    }\n",
       "\n",
       "    .dataframe tbody tr th {\n",
       "        vertical-align: top;\n",
       "    }\n",
       "\n",
       "    .dataframe thead th {\n",
       "        text-align: right;\n",
       "    }\n",
       "</style>\n",
       "<table border=\"1\" class=\"dataframe\">\n",
       "  <thead>\n",
       "    <tr style=\"text-align: right;\">\n",
       "      <th></th>\n",
       "      <th>A</th>\n",
       "      <th>B</th>\n",
       "    </tr>\n",
       "  </thead>\n",
       "  <tbody>\n",
       "    <tr>\n",
       "      <th>0</th>\n",
       "      <td>1</td>\n",
       "      <td>1</td>\n",
       "    </tr>\n",
       "    <tr>\n",
       "      <th>1</th>\n",
       "      <td>1</td>\n",
       "      <td>-1</td>\n",
       "    </tr>\n",
       "    <tr>\n",
       "      <th>2</th>\n",
       "      <td>2</td>\n",
       "      <td>1</td>\n",
       "    </tr>\n",
       "    <tr>\n",
       "      <th>3</th>\n",
       "      <td>2</td>\n",
       "      <td>2</td>\n",
       "    </tr>\n",
       "  </tbody>\n",
       "</table>\n",
       "</div>"
      ],
      "text/plain": [
       "   A  B\n",
       "0  1  1\n",
       "1  1 -1\n",
       "2  2  1\n",
       "3  2  2"
      ]
     },
     "execution_count": 8,
     "metadata": {},
     "output_type": "execute_result"
    }
   ],
   "source": [
    "df"
   ]
  },
  {
   "cell_type": "code",
   "execution_count": 9,
   "id": "ea7ca8cc-51c0-4eab-a5a0-916b5ad9b1f3",
   "metadata": {
    "tags": []
   },
   "outputs": [
    {
     "data": {
      "text/plain": [
       "0    NaN\n",
       "1    0.0\n",
       "2    1.0\n",
       "3    0.0\n",
       "Name: A, dtype: float64"
      ]
     },
     "execution_count": 9,
     "metadata": {},
     "output_type": "execute_result"
    }
   ],
   "source": [
    "df['A'].diff()"
   ]
  },
  {
   "cell_type": "code",
   "execution_count": null,
   "id": "2dbbb871-3a07-4f8c-b7a6-dbc08762cb3f",
   "metadata": {},
   "outputs": [],
   "source": []
  }
 ],
 "metadata": {
  "kernelspec": {
   "display_name": "Python 3 (ipykernel)",
   "language": "python",
   "name": "python3"
  },
  "language_info": {
   "codemirror_mode": {
    "name": "ipython",
    "version": 3
   },
   "file_extension": ".py",
   "mimetype": "text/x-python",
   "name": "python",
   "nbconvert_exporter": "python",
   "pygments_lexer": "ipython3",
   "version": "3.8.10"
  }
 },
 "nbformat": 4,
 "nbformat_minor": 5
}

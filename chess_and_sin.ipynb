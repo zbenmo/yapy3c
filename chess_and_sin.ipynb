{
 "cells": [
  {
   "cell_type": "code",
   "execution_count": 1,
   "id": "c0bcbd4c-479f-4a36-ac4c-2c88a23a155c",
   "metadata": {},
   "outputs": [],
   "source": [
    "import numpy as np\n",
    "\n",
    "import matplotlib.pyplot as plt\n",
    "\n",
    "import pandas as pd"
   ]
  },
  {
   "cell_type": "code",
   "execution_count": 2,
   "id": "c83f125d-607e-4652-8e2f-25544d6dff16",
   "metadata": {},
   "outputs": [],
   "source": [
    "a = b = 3"
   ]
  },
  {
   "cell_type": "code",
   "execution_count": 3,
   "id": "2ca54527-b74f-4552-9302-df57f11ecc3f",
   "metadata": {},
   "outputs": [
    {
     "data": {
      "text/plain": [
       "(3, 3)"
      ]
     },
     "execution_count": 3,
     "metadata": {},
     "output_type": "execute_result"
    }
   ],
   "source": [
    "a, b"
   ]
  },
  {
   "cell_type": "code",
   "execution_count": 4,
   "id": "12f0b344-9dc4-498f-976a-f39af9f76b35",
   "metadata": {},
   "outputs": [],
   "source": [
    "class C:\n",
    "    def __init__(self, par1):\n",
    "        print(par1)"
   ]
  },
  {
   "cell_type": "code",
   "execution_count": 5,
   "id": "d5abf012-2225-43e7-abe3-e1bf0cc3fdf2",
   "metadata": {},
   "outputs": [
    {
     "name": "stdout",
     "output_type": "stream",
     "text": [
      "3\n"
     ]
    }
   ],
   "source": [
    "ac = bc = C(3)"
   ]
  },
  {
   "cell_type": "code",
   "execution_count": 6,
   "id": "1bbd2a20-bc20-4c82-a943-09759673361a",
   "metadata": {},
   "outputs": [
    {
     "data": {
      "text/plain": [
       "<__main__.C at 0x7fab5a183ca0>"
      ]
     },
     "execution_count": 6,
     "metadata": {},
     "output_type": "execute_result"
    }
   ],
   "source": [
    "ac"
   ]
  },
  {
   "cell_type": "code",
   "execution_count": 7,
   "id": "f88938a2-dde5-40ed-aea0-bd9941b09516",
   "metadata": {},
   "outputs": [
    {
     "data": {
      "text/plain": [
       "<__main__.C at 0x7fab5a183ca0>"
      ]
     },
     "execution_count": 7,
     "metadata": {},
     "output_type": "execute_result"
    }
   ],
   "source": [
    "bc"
   ]
  },
  {
   "cell_type": "code",
   "execution_count": 8,
   "id": "5a39af00-9519-4b74-9cd6-bc265b8afea8",
   "metadata": {},
   "outputs": [],
   "source": [
    "ac = bc = 5"
   ]
  },
  {
   "cell_type": "code",
   "execution_count": 9,
   "id": "3c934ac9-5b34-4447-b5c8-ce45c322eccf",
   "metadata": {},
   "outputs": [
    {
     "data": {
      "text/plain": [
       "(5, 5)"
      ]
     },
     "execution_count": 9,
     "metadata": {},
     "output_type": "execute_result"
    }
   ],
   "source": [
    "ac, bc"
   ]
  },
  {
   "cell_type": "code",
   "execution_count": 10,
   "id": "e65b8bf6-7680-46df-a4b8-36860e39b131",
   "metadata": {},
   "outputs": [],
   "source": [
    "a = b = _  "
   ]
  },
  {
   "cell_type": "code",
   "execution_count": 11,
   "id": "a7691876-9264-4c58-a3bb-31de16d13c24",
   "metadata": {},
   "outputs": [],
   "source": [
    "xx, yy = np.meshgrid(range(10), range(10))"
   ]
  },
  {
   "cell_type": "code",
   "execution_count": 12,
   "id": "5795bd2e-1c2b-41c7-9629-2d78f5454dfe",
   "metadata": {},
   "outputs": [
    {
     "data": {
      "text/plain": [
       "array([[0, 1, 2, 3, 4, 5, 6, 7, 8, 9],\n",
       "       [0, 1, 2, 3, 4, 5, 6, 7, 8, 9],\n",
       "       [0, 1, 2, 3, 4, 5, 6, 7, 8, 9],\n",
       "       [0, 1, 2, 3, 4, 5, 6, 7, 8, 9],\n",
       "       [0, 1, 2, 3, 4, 5, 6, 7, 8, 9],\n",
       "       [0, 1, 2, 3, 4, 5, 6, 7, 8, 9],\n",
       "       [0, 1, 2, 3, 4, 5, 6, 7, 8, 9],\n",
       "       [0, 1, 2, 3, 4, 5, 6, 7, 8, 9],\n",
       "       [0, 1, 2, 3, 4, 5, 6, 7, 8, 9],\n",
       "       [0, 1, 2, 3, 4, 5, 6, 7, 8, 9]])"
      ]
     },
     "execution_count": 12,
     "metadata": {},
     "output_type": "execute_result"
    }
   ],
   "source": [
    "xx"
   ]
  },
  {
   "cell_type": "code",
   "execution_count": 13,
   "id": "5a89bdc2-1edf-48c9-aa76-1a82c443545b",
   "metadata": {},
   "outputs": [
    {
     "data": {
      "image/png": "[encoded data removed]",
      "text/plain": [
       "<Figure size 480x480 with 1 Axes>"
      ]
     },
     "metadata": {},
     "output_type": "display_data"
    }
   ],
   "source": [
    "plt.matshow((xx + yy) % 2);"
   ]
  },
  {
   "cell_type": "code",
   "execution_count": 14,
   "id": "cb6b7e34-88bc-4c9e-8336-3b9f58df21f7",
   "metadata": {},
   "outputs": [],
   "source": [
    "css_classes = np.array([\"no\", \"yes\"])"
   ]
  },
  {
   "cell_type": "code",
   "execution_count": 15,
   "id": "ce50638d-fe41-4554-8650-c19c7397363e",
   "metadata": {},
   "outputs": [
    {
     "data": {
      "text/plain": [
       "array([['no', 'yes', 'no', 'yes', 'no', 'yes', 'no', 'yes', 'no', 'yes'],\n",
       "       ['yes', 'no', 'yes', 'no', 'yes', 'no', 'yes', 'no', 'yes', 'no'],\n",
       "       ['no', 'yes', 'no', 'yes', 'no', 'yes', 'no', 'yes', 'no', 'yes'],\n",
       "       ['yes', 'no', 'yes', 'no', 'yes', 'no', 'yes', 'no', 'yes', 'no'],\n",
       "       ['no', 'yes', 'no', 'yes', 'no', 'yes', 'no', 'yes', 'no', 'yes'],\n",
       "       ['yes', 'no', 'yes', 'no', 'yes', 'no', 'yes', 'no', 'yes', 'no'],\n",
       "       ['no', 'yes', 'no', 'yes', 'no', 'yes', 'no', 'yes', 'no', 'yes'],\n",
       "       ['yes', 'no', 'yes', 'no', 'yes', 'no', 'yes', 'no', 'yes', 'no'],\n",
       "       ['no', 'yes', 'no', 'yes', 'no', 'yes', 'no', 'yes', 'no', 'yes'],\n",
       "       ['yes', 'no', 'yes', 'no', 'yes', 'no', 'yes', 'no', 'yes', 'no']],\n",
       "      dtype='<U3')"
      ]
     },
     "execution_count": 15,
     "metadata": {},
     "output_type": "execute_result"
    }
   ],
   "source": [
    "css_classes[(xx + yy) % 2]"
   ]
  },
  {
   "cell_type": "code",
   "execution_count": 16,
   "id": "2e3cdd84-f6e0-4675-8f38-67d8df99cd5d",
   "metadata": {},
   "outputs": [],
   "source": [
    "df = pd.DataFrame(np.random.rand(10, 10))"
   ]
  },
  {
   "cell_type": "code",
   "execution_count": 17,
   "id": "b978b6fe-4cfe-4f33-8cd0-29d726b2f3a1",
   "metadata": {},
   "outputs": [
    {
     "data": {
      "text/html": [
       "<style type=\"text/css\">\n",
       "</style>\n",
       "<table id=\"T_15607\">\n",
       "  <thead>\n",
       "    <tr>\n",
       "      <th class=\"blank level0\" >&nbsp;</th>\n",
       "      <th id=\"T_15607_level0_col0\" class=\"col_heading level0 col0\" >0</th>\n",
       "      <th id=\"T_15607_level0_col1\" class=\"col_heading level0 col1\" >1</th>\n",
       "      <th id=\"T_15607_level0_col2\" class=\"col_heading level0 col2\" >2</th>\n",
       "      <th id=\"T_15607_level0_col3\" class=\"col_heading level0 col3\" >3</th>\n",
       "      <th id=\"T_15607_level0_col4\" class=\"col_heading level0 col4\" >4</th>\n",
       "      <th id=\"T_15607_level0_col5\" class=\"col_heading level0 col5\" >5</th>\n",
       "      <th id=\"T_15607_level0_col6\" class=\"col_heading level0 col6\" >6</th>\n",
       "      <th id=\"T_15607_level0_col7\" class=\"col_heading level0 col7\" >7</th>\n",
       "      <th id=\"T_15607_level0_col8\" class=\"col_heading level0 col8\" >8</th>\n",
       "      <th id=\"T_15607_level0_col9\" class=\"col_heading level0 col9\" >9</th>\n",
       "    </tr>\n",
       "  </thead>\n",
       "  <tbody>\n",
       "    <tr>\n",
       "      <th id=\"T_15607_level0_row0\" class=\"row_heading level0 row0\" >0</th>\n",
       "      <td id=\"T_15607_row0_col0\" class=\"data row0 col0 no\" >0.556657</td>\n",
       "      <td id=\"T_15607_row0_col1\" class=\"data row0 col1 yes\" >0.263971</td>\n",
       "      <td id=\"T_15607_row0_col2\" class=\"data row0 col2 no\" >0.155436</td>\n",
       "      <td id=\"T_15607_row0_col3\" class=\"data row0 col3 yes\" >0.653125</td>\n",
       "      <td id=\"T_15607_row0_col4\" class=\"data row0 col4 no\" >0.473888</td>\n",
       "      <td id=\"T_15607_row0_col5\" class=\"data row0 col5 yes\" >0.286491</td>\n",
       "      <td id=\"T_15607_row0_col6\" class=\"data row0 col6 no\" >0.214727</td>\n",
       "      <td id=\"T_15607_row0_col7\" class=\"data row0 col7 yes\" >0.545456</td>\n",
       "      <td id=\"T_15607_row0_col8\" class=\"data row0 col8 no\" >0.991873</td>\n",
       "      <td id=\"T_15607_row0_col9\" class=\"data row0 col9 yes\" >0.588597</td>\n",
       "    </tr>\n",
       "    <tr>\n",
       "      <th id=\"T_15607_level0_row1\" class=\"row_heading level0 row1\" >1</th>\n",
       "      <td id=\"T_15607_row1_col0\" class=\"data row1 col0 yes\" >0.693105</td>\n",
       "      <td id=\"T_15607_row1_col1\" class=\"data row1 col1 no\" >0.728907</td>\n",
       "      <td id=\"T_15607_row1_col2\" class=\"data row1 col2 yes\" >0.015829</td>\n",
       "      <td id=\"T_15607_row1_col3\" class=\"data row1 col3 no\" >0.924337</td>\n",
       "      <td id=\"T_15607_row1_col4\" class=\"data row1 col4 yes\" >0.434707</td>\n",
       "      <td id=\"T_15607_row1_col5\" class=\"data row1 col5 no\" >0.059025</td>\n",
       "      <td id=\"T_15607_row1_col6\" class=\"data row1 col6 yes\" >0.544675</td>\n",
       "      <td id=\"T_15607_row1_col7\" class=\"data row1 col7 no\" >0.474568</td>\n",
       "      <td id=\"T_15607_row1_col8\" class=\"data row1 col8 yes\" >0.507449</td>\n",
       "      <td id=\"T_15607_row1_col9\" class=\"data row1 col9 no\" >0.807256</td>\n",
       "    </tr>\n",
       "    <tr>\n",
       "      <th id=\"T_15607_level0_row2\" class=\"row_heading level0 row2\" >2</th>\n",
       "      <td id=\"T_15607_row2_col0\" class=\"data row2 col0 no\" >0.680361</td>\n",
       "      <td id=\"T_15607_row2_col1\" class=\"data row2 col1 yes\" >0.476986</td>\n",
       "      <td id=\"T_15607_row2_col2\" class=\"data row2 col2 no\" >0.386772</td>\n",
       "      <td id=\"T_15607_row2_col3\" class=\"data row2 col3 yes\" >0.726846</td>\n",
       "      <td id=\"T_15607_row2_col4\" class=\"data row2 col4 no\" >0.559472</td>\n",
       "      <td id=\"T_15607_row2_col5\" class=\"data row2 col5 yes\" >0.774136</td>\n",
       "      <td id=\"T_15607_row2_col6\" class=\"data row2 col6 no\" >0.626528</td>\n",
       "      <td id=\"T_15607_row2_col7\" class=\"data row2 col7 yes\" >0.228766</td>\n",
       "      <td id=\"T_15607_row2_col8\" class=\"data row2 col8 no\" >0.814881</td>\n",
       "      <td id=\"T_15607_row2_col9\" class=\"data row2 col9 yes\" >0.654622</td>\n",
       "    </tr>\n",
       "    <tr>\n",
       "      <th id=\"T_15607_level0_row3\" class=\"row_heading level0 row3\" >3</th>\n",
       "      <td id=\"T_15607_row3_col0\" class=\"data row3 col0 yes\" >0.103242</td>\n",
       "      <td id=\"T_15607_row3_col1\" class=\"data row3 col1 no\" >0.919737</td>\n",
       "      <td id=\"T_15607_row3_col2\" class=\"data row3 col2 yes\" >0.854249</td>\n",
       "      <td id=\"T_15607_row3_col3\" class=\"data row3 col3 no\" >0.844474</td>\n",
       "      <td id=\"T_15607_row3_col4\" class=\"data row3 col4 yes\" >0.333223</td>\n",
       "      <td id=\"T_15607_row3_col5\" class=\"data row3 col5 no\" >0.754960</td>\n",
       "      <td id=\"T_15607_row3_col6\" class=\"data row3 col6 yes\" >0.454025</td>\n",
       "      <td id=\"T_15607_row3_col7\" class=\"data row3 col7 no\" >0.047357</td>\n",
       "      <td id=\"T_15607_row3_col8\" class=\"data row3 col8 yes\" >0.388763</td>\n",
       "      <td id=\"T_15607_row3_col9\" class=\"data row3 col9 no\" >0.307882</td>\n",
       "    </tr>\n",
       "    <tr>\n",
       "      <th id=\"T_15607_level0_row4\" class=\"row_heading level0 row4\" >4</th>\n",
       "      <td id=\"T_15607_row4_col0\" class=\"data row4 col0 no\" >0.637906</td>\n",
       "      <td id=\"T_15607_row4_col1\" class=\"data row4 col1 yes\" >0.533007</td>\n",
       "      <td id=\"T_15607_row4_col2\" class=\"data row4 col2 no\" >0.117851</td>\n",
       "      <td id=\"T_15607_row4_col3\" class=\"data row4 col3 yes\" >0.448018</td>\n",
       "      <td id=\"T_15607_row4_col4\" class=\"data row4 col4 no\" >0.824455</td>\n",
       "      <td id=\"T_15607_row4_col5\" class=\"data row4 col5 yes\" >0.260297</td>\n",
       "      <td id=\"T_15607_row4_col6\" class=\"data row4 col6 no\" >0.674145</td>\n",
       "      <td id=\"T_15607_row4_col7\" class=\"data row4 col7 yes\" >0.371789</td>\n",
       "      <td id=\"T_15607_row4_col8\" class=\"data row4 col8 no\" >0.741186</td>\n",
       "      <td id=\"T_15607_row4_col9\" class=\"data row4 col9 yes\" >0.257802</td>\n",
       "    </tr>\n",
       "    <tr>\n",
       "      <th id=\"T_15607_level0_row5\" class=\"row_heading level0 row5\" >5</th>\n",
       "      <td id=\"T_15607_row5_col0\" class=\"data row5 col0 yes\" >0.231996</td>\n",
       "      <td id=\"T_15607_row5_col1\" class=\"data row5 col1 no\" >0.599648</td>\n",
       "      <td id=\"T_15607_row5_col2\" class=\"data row5 col2 yes\" >0.300208</td>\n",
       "      <td id=\"T_15607_row5_col3\" class=\"data row5 col3 no\" >0.387413</td>\n",
       "      <td id=\"T_15607_row5_col4\" class=\"data row5 col4 yes\" >0.201050</td>\n",
       "      <td id=\"T_15607_row5_col5\" class=\"data row5 col5 no\" >0.557916</td>\n",
       "      <td id=\"T_15607_row5_col6\" class=\"data row5 col6 yes\" >0.531756</td>\n",
       "      <td id=\"T_15607_row5_col7\" class=\"data row5 col7 no\" >0.314692</td>\n",
       "      <td id=\"T_15607_row5_col8\" class=\"data row5 col8 yes\" >0.822429</td>\n",
       "      <td id=\"T_15607_row5_col9\" class=\"data row5 col9 no\" >0.935249</td>\n",
       "    </tr>\n",
       "    <tr>\n",
       "      <th id=\"T_15607_level0_row6\" class=\"row_heading level0 row6\" >6</th>\n",
       "      <td id=\"T_15607_row6_col0\" class=\"data row6 col0 no\" >0.077171</td>\n",
       "      <td id=\"T_15607_row6_col1\" class=\"data row6 col1 yes\" >0.119545</td>\n",
       "      <td id=\"T_15607_row6_col2\" class=\"data row6 col2 no\" >0.032109</td>\n",
       "      <td id=\"T_15607_row6_col3\" class=\"data row6 col3 yes\" >0.141339</td>\n",
       "      <td id=\"T_15607_row6_col4\" class=\"data row6 col4 no\" >0.773139</td>\n",
       "      <td id=\"T_15607_row6_col5\" class=\"data row6 col5 yes\" >0.876056</td>\n",
       "      <td id=\"T_15607_row6_col6\" class=\"data row6 col6 no\" >0.309639</td>\n",
       "      <td id=\"T_15607_row6_col7\" class=\"data row6 col7 yes\" >0.585495</td>\n",
       "      <td id=\"T_15607_row6_col8\" class=\"data row6 col8 no\" >0.641034</td>\n",
       "      <td id=\"T_15607_row6_col9\" class=\"data row6 col9 yes\" >0.945041</td>\n",
       "    </tr>\n",
       "    <tr>\n",
       "      <th id=\"T_15607_level0_row7\" class=\"row_heading level0 row7\" >7</th>\n",
       "      <td id=\"T_15607_row7_col0\" class=\"data row7 col0 yes\" >0.825566</td>\n",
       "      <td id=\"T_15607_row7_col1\" class=\"data row7 col1 no\" >0.224151</td>\n",
       "      <td id=\"T_15607_row7_col2\" class=\"data row7 col2 yes\" >0.921780</td>\n",
       "      <td id=\"T_15607_row7_col3\" class=\"data row7 col3 no\" >0.267311</td>\n",
       "      <td id=\"T_15607_row7_col4\" class=\"data row7 col4 yes\" >0.139932</td>\n",
       "      <td id=\"T_15607_row7_col5\" class=\"data row7 col5 no\" >0.562489</td>\n",
       "      <td id=\"T_15607_row7_col6\" class=\"data row7 col6 yes\" >0.106262</td>\n",
       "      <td id=\"T_15607_row7_col7\" class=\"data row7 col7 no\" >0.564119</td>\n",
       "      <td id=\"T_15607_row7_col8\" class=\"data row7 col8 yes\" >0.808728</td>\n",
       "      <td id=\"T_15607_row7_col9\" class=\"data row7 col9 no\" >0.418659</td>\n",
       "    </tr>\n",
       "    <tr>\n",
       "      <th id=\"T_15607_level0_row8\" class=\"row_heading level0 row8\" >8</th>\n",
       "      <td id=\"T_15607_row8_col0\" class=\"data row8 col0 no\" >0.480791</td>\n",
       "      <td id=\"T_15607_row8_col1\" class=\"data row8 col1 yes\" >0.154541</td>\n",
       "      <td id=\"T_15607_row8_col2\" class=\"data row8 col2 no\" >0.327878</td>\n",
       "      <td id=\"T_15607_row8_col3\" class=\"data row8 col3 yes\" >0.046705</td>\n",
       "      <td id=\"T_15607_row8_col4\" class=\"data row8 col4 no\" >0.124767</td>\n",
       "      <td id=\"T_15607_row8_col5\" class=\"data row8 col5 yes\" >0.685465</td>\n",
       "      <td id=\"T_15607_row8_col6\" class=\"data row8 col6 no\" >0.885067</td>\n",
       "      <td id=\"T_15607_row8_col7\" class=\"data row8 col7 yes\" >0.248969</td>\n",
       "      <td id=\"T_15607_row8_col8\" class=\"data row8 col8 no\" >0.332919</td>\n",
       "      <td id=\"T_15607_row8_col9\" class=\"data row8 col9 yes\" >0.398693</td>\n",
       "    </tr>\n",
       "    <tr>\n",
       "      <th id=\"T_15607_level0_row9\" class=\"row_heading level0 row9\" >9</th>\n",
       "      <td id=\"T_15607_row9_col0\" class=\"data row9 col0 yes\" >0.399462</td>\n",
       "      <td id=\"T_15607_row9_col1\" class=\"data row9 col1 no\" >0.196682</td>\n",
       "      <td id=\"T_15607_row9_col2\" class=\"data row9 col2 yes\" >0.044407</td>\n",
       "      <td id=\"T_15607_row9_col3\" class=\"data row9 col3 no\" >0.493184</td>\n",
       "      <td id=\"T_15607_row9_col4\" class=\"data row9 col4 yes\" >0.094089</td>\n",
       "      <td id=\"T_15607_row9_col5\" class=\"data row9 col5 no\" >0.059949</td>\n",
       "      <td id=\"T_15607_row9_col6\" class=\"data row9 col6 yes\" >0.255723</td>\n",
       "      <td id=\"T_15607_row9_col7\" class=\"data row9 col7 no\" >0.113168</td>\n",
       "      <td id=\"T_15607_row9_col8\" class=\"data row9 col8 yes\" >0.985286</td>\n",
       "      <td id=\"T_15607_row9_col9\" class=\"data row9 col9 no\" >0.084216</td>\n",
       "    </tr>\n",
       "  </tbody>\n",
       "</table>\n"
      ],
      "text/plain": [
       "<pandas.io.formats.style.Styler at 0x7fab59dc2f10>"
      ]
     },
     "execution_count": 17,
     "metadata": {},
     "output_type": "execute_result"
    }
   ],
   "source": [
    "df.style.set_td_classes(pd.DataFrame(css_classes[(xx + yy) % 2]))"
   ]
  },
  {
   "cell_type": "code",
   "execution_count": 18,
   "id": "a55550e9-fcd6-4847-abf0-11f97088cca1",
   "metadata": {},
   "outputs": [
    {
     "data": {
      "text/html": [
       "\n",
       "<style>\n",
       ".yes {\n",
       "    background: lightgreen;\n",
       "}\n",
       "\n",
       ".no {\n",
       "    background: pink;\n",
       "}\n",
       "</style>\n"
      ],
      "text/plain": [
       "<IPython.core.display.HTML object>"
      ]
     },
     "metadata": {},
     "output_type": "display_data"
    }
   ],
   "source": [
    "%%html\n",
    "\n",
    "<style>\n",
    ".yes {\n",
    "    background: lightgreen;\n",
    "}\n",
    "\n",
    ".no {\n",
    "    background: pink;\n",
    "}\n",
    "</style>"
   ]
  },
  {
   "cell_type": "code",
   "execution_count": 19,
   "id": "9e637c55-92ae-4ecb-a773-e81dc2e51ff5",
   "metadata": {},
   "outputs": [],
   "source": [
    "def sin_plot():\n",
    "    xx, yy = np.meshgrid(np.linspace(0, np.pi * 2, 100), np.linspace(0, np.pi * 2, 100))\n",
    "    plt.matshow(np.sin(xx) + np.cos(yy) * 3)"
   ]
  },
  {
   "cell_type": "code",
   "execution_count": 20,
   "id": "cacf7657-c045-4da5-8b05-1b3c55d94ddf",
   "metadata": {},
   "outputs": [
    {
     "data": {
      "image/png": "[encoded data removed]",
      "text/plain": [
       "<Figure size 480x480 with 1 Axes>"
      ]
     },
     "metadata": {},
     "output_type": "display_data"
    }
   ],
   "source": [
    "sin_plot()"
   ]
  },
  {
   "cell_type": "code",
   "execution_count": null,
   "id": "4779f5d8-e6f5-49a0-9e3f-dcda279f6c8c",
   "metadata": {},
   "outputs": [],
   "source": []
  }
 ],
 "metadata": {
  "kernelspec": {
   "display_name": "Python 3 (ipykernel)",
   "language": "python",
   "name": "python3"
  },
  "language_info": {
   "codemirror_mode": {
    "name": "ipython",
    "version": 3
   },
   "file_extension": ".py",
   "mimetype": "text/x-python",
   "name": "python",
   "nbconvert_exporter": "python",
   "pygments_lexer": "ipython3",
   "version": "3.8.10"
  }
 },
 "nbformat": 4,
 "nbformat_minor": 5
}

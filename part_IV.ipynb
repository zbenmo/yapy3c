{
 "cells": [
  {
   "cell_type": "code",
   "execution_count": 9,
   "id": "b7578ca3-79cb-4247-97f8-357df5aad78d",
   "metadata": {
    "tags": []
   },
   "outputs": [],
   "source": [
    "arr = [(1, 'a'), (7, 'b'), (3, 'c'), (4, 'd'), (2, 'e')]"
   ]
  },
  {
   "cell_type": "code",
   "execution_count": 10,
   "id": "a8e1774a-4e4b-4324-9e3a-96e0947dbe4c",
   "metadata": {
    "tags": []
   },
   "outputs": [
    {
     "data": {
      "text/plain": [
       "[(1, 'a'), (2, 'e'), (3, 'c'), (4, 'd'), (7, 'b')]"
      ]
     },
     "execution_count": 10,
     "metadata": {},
     "output_type": "execute_result"
    }
   ],
   "source": [
    "sorted(arr)"
   ]
  },
  {
   "cell_type": "code",
   "execution_count": 11,
   "id": "947fe387-059d-4b93-8308-1b2e481efc3e",
   "metadata": {
    "tags": []
   },
   "outputs": [],
   "source": [
    "def by_the_characted(t):\n",
    "    return t[1]"
   ]
  },
  {
   "cell_type": "code",
   "execution_count": 12,
   "id": "bea30cb0-8360-48d3-b039-93e689bf66a7",
   "metadata": {
    "tags": []
   },
   "outputs": [
    {
     "data": {
      "text/plain": [
       "[(1, 'a'), (7, 'b'), (3, 'c'), (4, 'd'), (2, 'e')]"
      ]
     },
     "execution_count": 12,
     "metadata": {},
     "output_type": "execute_result"
    }
   ],
   "source": [
    "sorted(arr, key=by_the_characted)"
   ]
  },
  {
   "cell_type": "code",
   "execution_count": 13,
   "id": "52541a76-34a8-4891-9fc6-72b8aba697e4",
   "metadata": {
    "tags": []
   },
   "outputs": [
    {
     "data": {
      "text/plain": [
       "\u001b[0;31mSignature:\u001b[0m \u001b[0msorted\u001b[0m\u001b[0;34m(\u001b[0m\u001b[0miterable\u001b[0m\u001b[0;34m,\u001b[0m \u001b[0;34m/\u001b[0m\u001b[0;34m,\u001b[0m \u001b[0;34m*\u001b[0m\u001b[0;34m,\u001b[0m \u001b[0mkey\u001b[0m\u001b[0;34m=\u001b[0m\u001b[0;32mNone\u001b[0m\u001b[0;34m,\u001b[0m \u001b[0mreverse\u001b[0m\u001b[0;34m=\u001b[0m\u001b[0;32mFalse\u001b[0m\u001b[0;34m)\u001b[0m\u001b[0;34m\u001b[0m\u001b[0;34m\u001b[0m\u001b[0m\n",
       "\u001b[0;31mDocstring:\u001b[0m\n",
       "Return a new list containing all items from the iterable in ascending order.\n",
       "\n",
       "A custom key function can be supplied to customize the sort order, and the\n",
       "reverse flag can be set to request the result in descending order.\n",
       "\u001b[0;31mType:\u001b[0m      builtin_function_or_method"
      ]
     },
     "metadata": {},
     "output_type": "display_data"
    }
   ],
   "source": [
    "sorted?"
   ]
  },
  {
   "cell_type": "code",
   "execution_count": 14,
   "id": "764f019f-a146-4889-b724-01a3e19347e2",
   "metadata": {
    "tags": []
   },
   "outputs": [
    {
     "data": {
      "text/plain": [
       "[(1, 'a'), (7, 'b'), (3, 'c'), (4, 'd'), (2, 'e')]"
      ]
     },
     "execution_count": 14,
     "metadata": {},
     "output_type": "execute_result"
    }
   ],
   "source": [
    "sorted(arr, key=lambda t: t[1])"
   ]
  },
  {
   "cell_type": "code",
   "execution_count": 15,
   "id": "f7a56793-8fba-40bb-894a-a4a09583d812",
   "metadata": {
    "tags": []
   },
   "outputs": [],
   "source": [
    "sentence = \"The cat sat on the mat.\""
   ]
  },
  {
   "cell_type": "code",
   "execution_count": 16,
   "id": "5ca8d416-55b7-4020-9d91-21105d70b5cb",
   "metadata": {
    "tags": []
   },
   "outputs": [
    {
     "data": {
      "text/plain": [
       "<map at 0x7fbb082cdb20>"
      ]
     },
     "execution_count": 16,
     "metadata": {},
     "output_type": "execute_result"
    }
   ],
   "source": [
    "map(str.upper, sentence.split())"
   ]
  },
  {
   "cell_type": "code",
   "execution_count": 17,
   "id": "2179ac41-14aa-4e36-a090-4380882611d7",
   "metadata": {
    "tags": []
   },
   "outputs": [
    {
     "data": {
      "text/plain": [
       "['THE', 'CAT', 'SAT', 'ON', 'THE', 'MAT.']"
      ]
     },
     "execution_count": 17,
     "metadata": {},
     "output_type": "execute_result"
    }
   ],
   "source": [
    "list(map(str.upper, sentence.split()))"
   ]
  },
  {
   "cell_type": "code",
   "execution_count": 19,
   "id": "195b8195-a371-4200-beaa-60d59ae3eb0b",
   "metadata": {
    "tags": []
   },
   "outputs": [
    {
     "data": {
      "text/plain": [
       "['De', 'kat', 'zat', 'op', 'de', 'mat.']"
      ]
     },
     "execution_count": 19,
     "metadata": {},
     "output_type": "execute_result"
    }
   ],
   "source": [
    "en_to_nl = {\n",
    "    'The': 'De',\n",
    "    'cat': 'kat',\n",
    "    'sat': 'zat',\n",
    "    'on': 'op',\n",
    "    'the': 'de',\n",
    "    'mat.': 'mat.',\n",
    "}\n",
    "\n",
    "list(map(en_to_nl.get, sentence.split()))"
   ]
  },
  {
   "cell_type": "code",
   "execution_count": 22,
   "id": "2e9ed86a-2abd-4bc7-97e0-deba10aac0d4",
   "metadata": {
    "tags": []
   },
   "outputs": [
    {
     "data": {
      "text/plain": [
       "['De', 'DOG', 'zat', 'op', 'de', 'mat.']"
      ]
     },
     "execution_count": 22,
     "metadata": {},
     "output_type": "execute_result"
    }
   ],
   "source": [
    "list(map(\n",
    "    lambda en_word: en_to_nl.get(en_word, en_word.upper()),\n",
    "    \"The dog sat on the mat.\".split()\n",
    "))"
   ]
  },
  {
   "cell_type": "code",
   "execution_count": 21,
   "id": "23c179ae-5848-4017-95dc-e6900bcb968d",
   "metadata": {
    "tags": []
   },
   "outputs": [
    {
     "ename": "NameError",
     "evalue": "name 'f1' is not defined",
     "output_type": "error",
     "traceback": [
      "\u001b[0;31m---------------------------------------------------------------------------\u001b[0m",
      "\u001b[0;31mNameError\u001b[0m                                 Traceback (most recent call last)",
      "Cell \u001b[0;32mIn[21], line 2\u001b[0m\n\u001b[1;32m      1\u001b[0m partial_result \u001b[38;5;241m=\u001b[39m (\n\u001b[0;32m----> 2\u001b[0m   \u001b[43mf1\u001b[49m(\u001b[38;5;241m3\u001b[39m) \u001b[38;5;241m+\u001b[39m\n\u001b[1;32m      3\u001b[0m   f2(\u001b[38;5;241m4\u001b[39m) \u001b[38;5;241m/\u001b[39m f3(\u001b[38;5;241m5\u001b[39m) \u001b[38;5;241m-\u001b[39m\n\u001b[1;32m      4\u001b[0m   (\u001b[38;5;241m2\u001b[39m \u001b[38;5;28;01mif\u001b[39;00m x \u001b[38;5;241m>\u001b[39m y \u001b[38;5;28;01melse\u001b[39;00m \u001b[38;5;241m4\u001b[39m)\n\u001b[1;32m      5\u001b[0m )\n",
      "\u001b[0;31mNameError\u001b[0m: name 'f1' is not defined"
     ]
    }
   ],
   "source": [
    "partial_result = (\n",
    "  f1(3) +\n",
    "  f2(4) / f3(5) -\n",
    "  (2 if x > y else 4)\n",
    ")"
   ]
  },
  {
   "cell_type": "code",
   "execution_count": 23,
   "id": "dd11cd3b-794b-48a4-989a-50c40f713ffe",
   "metadata": {
    "tags": []
   },
   "outputs": [
    {
     "data": {
      "text/plain": [
       "['De', 'DOG', 'zat', 'op', 'de', 'mat.']"
      ]
     },
     "execution_count": 23,
     "metadata": {},
     "output_type": "execute_result"
    }
   ],
   "source": [
    "[\n",
    "    en_to_nl.get(en_word, en_word.upper())\n",
    "    for en_word in \"The dog sat on the mat.\".split()\n",
    "]"
   ]
  },
  {
   "cell_type": "code",
   "execution_count": 24,
   "id": "7457b213-77ea-42cc-a248-745613c69519",
   "metadata": {
    "tags": []
   },
   "outputs": [],
   "source": [
    "l = [1, 2, 3]"
   ]
  },
  {
   "cell_type": "code",
   "execution_count": 31,
   "id": "b277e2ae-17db-47da-84e3-381184b07636",
   "metadata": {
    "tags": []
   },
   "outputs": [],
   "source": [
    "l_squared = (x ** 2 for x in l)"
   ]
  },
  {
   "cell_type": "code",
   "execution_count": 32,
   "id": "72800a58-82c6-48dc-904c-fdbebec06217",
   "metadata": {
    "tags": []
   },
   "outputs": [
    {
     "data": {
      "text/plain": [
       "generator"
      ]
     },
     "execution_count": 32,
     "metadata": {},
     "output_type": "execute_result"
    }
   ],
   "source": [
    "type(l_squared)"
   ]
  },
  {
   "cell_type": "code",
   "execution_count": 33,
   "id": "ad20d2cb-2cd9-45ab-90a4-8dd043c5a1c6",
   "metadata": {
    "tags": []
   },
   "outputs": [
    {
     "data": {
      "text/plain": [
       "[4, 9]"
      ]
     },
     "execution_count": 33,
     "metadata": {},
     "output_type": "execute_result"
    }
   ],
   "source": [
    "[x for x in l_squared if x > 2]"
   ]
  },
  {
   "cell_type": "code",
   "execution_count": 34,
   "id": "04f9375d-b866-4873-b2b4-174a8efbfa3b",
   "metadata": {
    "tags": []
   },
   "outputs": [
    {
     "data": {
      "text/plain": [
       "[]"
      ]
     },
     "execution_count": 34,
     "metadata": {},
     "output_type": "execute_result"
    }
   ],
   "source": [
    "[x for x in l_squared if x > 2]"
   ]
  },
  {
   "cell_type": "code",
   "execution_count": 35,
   "id": "1523d21b-66c3-4de2-a2f7-7de7094e33be",
   "metadata": {
    "tags": []
   },
   "outputs": [
    {
     "data": {
      "text/plain": [
       "[4, 9]"
      ]
     },
     "execution_count": 35,
     "metadata": {},
     "output_type": "execute_result"
    }
   ],
   "source": [
    "l = [1, 2, 3]\n",
    "l_squared = map(lambda x: x ** 2, l)\n",
    "list(filter(lambda x: x > 2, l_squared))"
   ]
  },
  {
   "cell_type": "code",
   "execution_count": 44,
   "id": "6d16caa7-478e-438d-a02a-9f476f669761",
   "metadata": {
    "tags": []
   },
   "outputs": [
    {
     "data": {
      "text/plain": [
       "<generator object my_gen at 0x7fbaf1426cf0>"
      ]
     },
     "execution_count": 44,
     "metadata": {},
     "output_type": "execute_result"
    }
   ],
   "source": [
    "def my_gen(l):\n",
    "    for e in l:\n",
    "        yield e + 1\n",
    "        \n",
    "g = my_gen([1, 2, 3]); g"
   ]
  },
  {
   "cell_type": "code",
   "execution_count": 45,
   "id": "d4d23e13-9a80-408a-a5b2-fef958784f96",
   "metadata": {
    "tags": []
   },
   "outputs": [
    {
     "data": {
      "text/plain": [
       "[2, 3, 4]"
      ]
     },
     "execution_count": 45,
     "metadata": {},
     "output_type": "execute_result"
    }
   ],
   "source": [
    "list(g)"
   ]
  },
  {
   "cell_type": "code",
   "execution_count": 46,
   "id": "a7cf4895-2adf-4e1d-ad64-af80763f9e4d",
   "metadata": {
    "tags": []
   },
   "outputs": [
    {
     "data": {
      "text/plain": [
       "[]"
      ]
     },
     "execution_count": 46,
     "metadata": {},
     "output_type": "execute_result"
    }
   ],
   "source": [
    "list(g)"
   ]
  },
  {
   "cell_type": "code",
   "execution_count": 47,
   "id": "988889a7-6fc0-4dd0-ba96-f4a93d87c138",
   "metadata": {
    "tags": []
   },
   "outputs": [
    {
     "data": {
      "text/plain": [
       "[2, 3, 4]"
      ]
     },
     "execution_count": 47,
     "metadata": {},
     "output_type": "execute_result"
    }
   ],
   "source": [
    "list(my_gen([1, 2, 3]))"
   ]
  },
  {
   "cell_type": "code",
   "execution_count": 49,
   "id": "ed86e65e-bd0f-4834-8348-6f949502d486",
   "metadata": {
    "tags": []
   },
   "outputs": [],
   "source": [
    "import random"
   ]
  },
  {
   "cell_type": "code",
   "execution_count": 48,
   "id": "7306a991-ac35-40b7-aa56-ce96e3d827b6",
   "metadata": {
    "tags": []
   },
   "outputs": [],
   "source": [
    "def random_generator():\n",
    "    while True:\n",
    "        yield random.random()"
   ]
  },
  {
   "cell_type": "code",
   "execution_count": 50,
   "id": "ef2d8a39-1c17-4966-b499-9c8e94587493",
   "metadata": {
    "tags": []
   },
   "outputs": [
    {
     "data": {
      "text/plain": [
       "0.5054818584348217"
      ]
     },
     "execution_count": 50,
     "metadata": {},
     "output_type": "execute_result"
    }
   ],
   "source": [
    "random.random()"
   ]
  },
  {
   "cell_type": "code",
   "execution_count": 51,
   "id": "2d0cdea7-3df5-411a-a59e-a301fecbfd70",
   "metadata": {
    "tags": []
   },
   "outputs": [
    {
     "name": "stdout",
     "output_type": "stream",
     "text": [
      "0 0.04245109121862101\n",
      "1 0.4875224375865369\n",
      "2 0.5398443861135133\n",
      "3 0.16015149066151046\n"
     ]
    }
   ],
   "source": [
    "for i, r in zip(range(4), random_generator()):\n",
    "    print(i, r)"
   ]
  },
  {
   "cell_type": "code",
   "execution_count": 52,
   "id": "69a7abbe-f3b6-4673-8a74-d04011dd85bc",
   "metadata": {
    "tags": []
   },
   "outputs": [
    {
     "name": "stdout",
     "output_type": "stream",
     "text": [
      "0 0\n",
      "1 1\n",
      "2 2\n"
     ]
    }
   ],
   "source": [
    "for i1, i2 in zip(range(4), range(3)):\n",
    "    print(i1, i2)"
   ]
  },
  {
   "cell_type": "code",
   "execution_count": 53,
   "id": "102f239e-bc50-43c6-8d41-fc0d4784a859",
   "metadata": {
    "tags": []
   },
   "outputs": [],
   "source": [
    "text = \"\"\"\n",
    "All the world's a stage,\n",
    "And all the men and women merely players;\n",
    "They have their exits and their entrances,\n",
    "And one man in his time plays many parts,\n",
    "His acts being seven ages.\n",
    " At first, the infant,\n",
    "Mewling and puking in the nurse's arms.\n",
    "\n",
    "Then the whining schoolboy, with his satchel\n",
    "And shining morning face, creeping like snail\n",
    "Unwillingly to school.\n",
    " And then the lover,\n",
    "Sighing like furnace, with a woeful ballad\n",
    "Made to his mistress' eyebrow.\n",
    " Then a soldier,\n",
    "Full of strange oaths and bearded like the pard,\n",
    "Jealous in honor, sudden and quick in quarrel,\n",
    "Seeking the bubble reputation\n",
    "Even in the cannon's mouth.\n",
    " And then the justice,\n",
    "In fair round belly with good capon lined,\n",
    "With eyes severe and beard of formal cut,\n",
    "Full of wise saws and modern instances;\n",
    "And so he plays his part.\n",
    " The sixth age shifts\n",
    "Into the lean and slippered pantaloon,\n",
    "With spectacles on nose and pouch on side;\n",
    "His youthful hose, well saved, a world too wide\n",
    "For his shrunk shank, and his big manly voice,\n",
    "Turning again toward childish treble, pipes\n",
    "And whistles in his sound.\n",
    " Last scene of all,\n",
    "That ends this strange eventful history,\n",
    "Is second childishness and mere oblivion,\n",
    "Sans teeth, sans eyes, sans taste, sans everything.\n",
    "\"\"\""
   ]
  },
  {
   "cell_type": "code",
   "execution_count": 54,
   "id": "09d5e170-f5a5-4cee-b23c-b37228f561e2",
   "metadata": {
    "tags": []
   },
   "outputs": [],
   "source": [
    "def paragprahs(text):\n",
    "    yield from text.split(\"\\n\\n\")"
   ]
  },
  {
   "cell_type": "code",
   "execution_count": 56,
   "id": "607fa241-99c3-4937-a53a-d4a965446d1d",
   "metadata": {
    "tags": []
   },
   "outputs": [
    {
     "name": "stdout",
     "output_type": "stream",
     "text": [
      "\n",
      "All the world's a stage,\n",
      "And all the men and women merely players;\n",
      "They have their exits and their entrances,\n",
      "And one man in his time plays many parts,\n",
      "His acts being seven ages.\n",
      " At first, the infant,\n",
      "Mewling and puking in the nurse's arms.\n",
      "--------------------\n",
      "Then the whining schoolboy, with his satchel\n",
      "And shining morning face, creeping like snail\n",
      "Unwillingly to school.\n",
      " And then the lover,\n",
      "Sighing like furnace, with a woeful ballad\n",
      "Made to his mistress' eyebrow.\n",
      " Then a soldier,\n",
      "Full of strange oaths and bearded like the pard,\n",
      "Jealous in honor, sudden and quick in quarrel,\n",
      "Seeking the bubble reputation\n",
      "Even in the cannon's mouth.\n",
      " And then the justice,\n",
      "In fair round belly with good capon lined,\n",
      "With eyes severe and beard of formal cut,\n",
      "Full of wise saws and modern instances;\n",
      "And so he plays his part.\n",
      " The sixth age shifts\n",
      "Into the lean and slippered pantaloon,\n",
      "With spectacles on nose and pouch on side;\n",
      "His youthful hose, well saved, a world too wide\n",
      "For his shrunk shank, and his big manly voice,\n",
      "Turning again toward childish treble, pipes\n",
      "And whistles in his sound.\n",
      " Last scene of all,\n",
      "That ends this strange eventful history,\n",
      "Is second childishness and mere oblivion,\n",
      "Sans teeth, sans eyes, sans taste, sans everything.\n",
      "\n",
      "--------------------\n"
     ]
    }
   ],
   "source": [
    "for paragraph in paragprahs(text):\n",
    "    print(paragraph)\n",
    "    print('-'* 20)"
   ]
  },
  {
   "cell_type": "code",
   "execution_count": 57,
   "id": "a4fa2594-fd76-4fec-af1c-11e7e229eb14",
   "metadata": {
    "tags": []
   },
   "outputs": [
    {
     "data": {
      "text/plain": [
       "[0, 1, 4]"
      ]
     },
     "execution_count": 57,
     "metadata": {},
     "output_type": "execute_result"
    }
   ],
   "source": [
    "list(x ** 2 for x in range(3))"
   ]
  },
  {
   "cell_type": "code",
   "execution_count": 2,
   "id": "3a916e87-f1fe-4b46-81be-8f57d8e5fba9",
   "metadata": {},
   "outputs": [
    {
     "data": {
      "text/plain": [
       "7"
      ]
     },
     "execution_count": 2,
     "metadata": {},
     "output_type": "execute_result"
    }
   ],
   "source": [
    "l = list(range(2, 20))\n",
    "item = next(x for x in l if x % 7 == 0); item "
   ]
  },
  {
   "cell_type": "code",
   "execution_count": null,
   "id": "d3164981-8eab-4493-8d2a-e662b58bcbac",
   "metadata": {},
   "outputs": [],
   "source": [
    "item"
   ]
  },
  {
   "cell_type": "code",
   "execution_count": 5,
   "id": "ec822e26-7463-430b-a9da-2bfc68df5937",
   "metadata": {
    "tags": []
   },
   "outputs": [
    {
     "data": {
      "text/plain": [
       "8"
      ]
     },
     "execution_count": 5,
     "metadata": {},
     "output_type": "execute_result"
    }
   ],
   "source": [
    "next((x for x in range(30) if x > 7), \"No such item\")"
   ]
  },
  {
   "cell_type": "code",
   "execution_count": 9,
   "id": "5e2e43f8-a695-4b7a-9d33-fe6ee867aa6e",
   "metadata": {
    "tags": []
   },
   "outputs": [
    {
     "data": {
      "text/plain": [
       "[0, 2, 4]"
      ]
     },
     "execution_count": 9,
     "metadata": {},
     "output_type": "execute_result"
    }
   ],
   "source": [
    "import operator\n",
    "\n",
    "list(map(operator.add, range(3), range(4)))"
   ]
  },
  {
   "cell_type": "code",
   "execution_count": 10,
   "id": "b1899aea-8758-41d7-8b9a-8e5b54effd7c",
   "metadata": {
    "tags": []
   },
   "outputs": [
    {
     "name": "stdout",
     "output_type": "stream",
     "text": [
      "0\n",
      "1\n"
     ]
    },
    {
     "ename": "StopIteration",
     "evalue": "",
     "output_type": "error",
     "traceback": [
      "\u001b[0;31m---------------------------------------------------------------------------\u001b[0m",
      "\u001b[0;31mStopIteration\u001b[0m                             Traceback (most recent call last)",
      "Cell \u001b[0;32mIn[10], line 4\u001b[0m\n\u001b[1;32m      2\u001b[0m \u001b[38;5;28mprint\u001b[39m(\u001b[38;5;28mnext\u001b[39m(my_g))\n\u001b[1;32m      3\u001b[0m \u001b[38;5;28mprint\u001b[39m(\u001b[38;5;28mnext\u001b[39m(my_g))\n\u001b[0;32m----> 4\u001b[0m \u001b[38;5;28mprint\u001b[39m(\u001b[38;5;28;43mnext\u001b[39;49m\u001b[43m(\u001b[49m\u001b[43mmy_g\u001b[49m\u001b[43m)\u001b[49m)\n",
      "\u001b[0;31mStopIteration\u001b[0m: "
     ]
    }
   ],
   "source": [
    "my_g = (x for x in range(2))\n",
    "print(next(my_g))\n",
    "print(next(my_g))\n",
    "print(next(my_g))"
   ]
  },
  {
   "cell_type": "code",
   "execution_count": null,
   "id": "75ea2982-357a-442b-a005-ee48d0e5769b",
   "metadata": {},
   "outputs": [],
   "source": []
  }
 ],
 "metadata": {
  "kernelspec": {
   "display_name": "Python 3 (ipykernel)",
   "language": "python",
   "name": "python3"
  },
  "language_info": {
   "codemirror_mode": {
    "name": "ipython",
    "version": 3
   },
   "file_extension": ".py",
   "mimetype": "text/x-python",
   "name": "python",
   "nbconvert_exporter": "python",
   "pygments_lexer": "ipython3",
   "version": "3.8.10"
  }
 },
 "nbformat": 4,
 "nbformat_minor": 5
}

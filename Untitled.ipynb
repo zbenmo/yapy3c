{
 "cells": [
  {
   "cell_type": "code",
   "execution_count": 1,
   "id": "c83f125d-607e-4652-8e2f-25544d6dff16",
   "metadata": {},
   "outputs": [],
   "source": [
    "a = b = 3"
   ]
  },
  {
   "cell_type": "code",
   "execution_count": 2,
   "id": "2ca54527-b74f-4552-9302-df57f11ecc3f",
   "metadata": {},
   "outputs": [
    {
     "data": {
      "text/plain": [
       "(3, 3)"
      ]
     },
     "execution_count": 2,
     "metadata": {},
     "output_type": "execute_result"
    }
   ],
   "source": [
    "a, b"
   ]
  },
  {
   "cell_type": "code",
   "execution_count": 3,
   "id": "12f0b344-9dc4-498f-976a-f39af9f76b35",
   "metadata": {},
   "outputs": [],
   "source": [
    "class C:\n",
    "    def __init__(self, par1):\n",
    "        print(par1)"
   ]
  },
  {
   "cell_type": "code",
   "execution_count": 4,
   "id": "d5abf012-2225-43e7-abe3-e1bf0cc3fdf2",
   "metadata": {},
   "outputs": [
    {
     "name": "stdout",
     "output_type": "stream",
     "text": [
      "3\n"
     ]
    }
   ],
   "source": [
    "ac = bc = C(3)"
   ]
  },
  {
   "cell_type": "code",
   "execution_count": 5,
   "id": "1bbd2a20-bc20-4c82-a943-09759673361a",
   "metadata": {},
   "outputs": [
    {
     "data": {
      "text/plain": [
       "<__main__.C at 0x7f7378763f10>"
      ]
     },
     "execution_count": 5,
     "metadata": {},
     "output_type": "execute_result"
    }
   ],
   "source": [
    "ac"
   ]
  },
  {
   "cell_type": "code",
   "execution_count": 6,
   "id": "f88938a2-dde5-40ed-aea0-bd9941b09516",
   "metadata": {},
   "outputs": [
    {
     "data": {
      "text/plain": [
       "<__main__.C at 0x7f7378763f10>"
      ]
     },
     "execution_count": 6,
     "metadata": {},
     "output_type": "execute_result"
    }
   ],
   "source": [
    "bc"
   ]
  },
  {
   "cell_type": "code",
   "execution_count": 7,
   "id": "5a39af00-9519-4b74-9cd6-bc265b8afea8",
   "metadata": {},
   "outputs": [],
   "source": [
    "ac = bc = 5"
   ]
  },
  {
   "cell_type": "code",
   "execution_count": 8,
   "id": "3c934ac9-5b34-4447-b5c8-ce45c322eccf",
   "metadata": {},
   "outputs": [
    {
     "data": {
      "text/plain": [
       "(5, 5)"
      ]
     },
     "execution_count": 8,
     "metadata": {},
     "output_type": "execute_result"
    }
   ],
   "source": [
    "ac, bc"
   ]
  },
  {
   "cell_type": "code",
   "execution_count": null,
   "id": "e65b8bf6-7680-46df-a4b8-36860e39b131",
   "metadata": {},
   "outputs": [],
   "source": [
    "a = b = _  "
   ]
  }
 ],
 "metadata": {
  "kernelspec": {
   "display_name": "Python 3 (ipykernel)",
   "language": "python",
   "name": "python3"
  },
  "language_info": {
   "codemirror_mode": {
    "name": "ipython",
    "version": 3
   },
   "file_extension": ".py",
   "mimetype": "text/x-python",
   "name": "python",
   "nbconvert_exporter": "python",
   "pygments_lexer": "ipython3",
   "version": "3.8.10"
  }
 },
 "nbformat": 4,
 "nbformat_minor": 5
}

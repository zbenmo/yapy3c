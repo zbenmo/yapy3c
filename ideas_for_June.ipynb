{
 "cells": [
  {
   "cell_type": "code",
   "execution_count": 2,
   "id": "30572ac9-d36d-4583-a85a-60040d450afa",
   "metadata": {
    "tags": []
   },
   "outputs": [],
   "source": [
    "from itertools import islice\n",
    "import numpy as np\n",
    "import pandas as pd"
   ]
  },
  {
   "cell_type": "code",
   "execution_count": 21,
   "id": "031235db-3e9a-40ae-b271-ecacfdc76b7b",
   "metadata": {
    "tags": []
   },
   "outputs": [],
   "source": [
    "df = pd.DataFrame(np.random.randn(100, 4), columns=list(\"ABCD\"))"
   ]
  },
  {
   "cell_type": "code",
   "execution_count": 22,
   "id": "684eb8e1-6cdf-4ade-8d3c-9f1264c2e07d",
   "metadata": {
    "tags": []
   },
   "outputs": [
    {
     "data": {
      "text/html": [
       "<div>\n",
       "<style scoped>\n",
       "    .dataframe tbody tr th:only-of-type {\n",
       "        vertical-align: middle;\n",
       "    }\n",
       "\n",
       "    .dataframe tbody tr th {\n",
       "        vertical-align: top;\n",
       "    }\n",
       "\n",
       "    .dataframe thead th {\n",
       "        text-align: right;\n",
       "    }\n",
       "</style>\n",
       "<table border=\"1\" class=\"dataframe\">\n",
       "  <thead>\n",
       "    <tr style=\"text-align: right;\">\n",
       "      <th></th>\n",
       "      <th>A</th>\n",
       "      <th>B</th>\n",
       "      <th>C</th>\n",
       "      <th>D</th>\n",
       "    </tr>\n",
       "  </thead>\n",
       "  <tbody>\n",
       "    <tr>\n",
       "      <th>0</th>\n",
       "      <td>0.885448</td>\n",
       "      <td>-0.074157</td>\n",
       "      <td>-0.489922</td>\n",
       "      <td>-1.757388</td>\n",
       "    </tr>\n",
       "    <tr>\n",
       "      <th>1</th>\n",
       "      <td>-1.291232</td>\n",
       "      <td>0.268375</td>\n",
       "      <td>-0.107068</td>\n",
       "      <td>0.528309</td>\n",
       "    </tr>\n",
       "    <tr>\n",
       "      <th>2</th>\n",
       "      <td>0.741767</td>\n",
       "      <td>-0.260990</td>\n",
       "      <td>0.616725</td>\n",
       "      <td>0.379563</td>\n",
       "    </tr>\n",
       "    <tr>\n",
       "      <th>3</th>\n",
       "      <td>0.094407</td>\n",
       "      <td>2.658701</td>\n",
       "      <td>0.870898</td>\n",
       "      <td>1.067476</td>\n",
       "    </tr>\n",
       "    <tr>\n",
       "      <th>4</th>\n",
       "      <td>-2.672398</td>\n",
       "      <td>0.342675</td>\n",
       "      <td>0.267685</td>\n",
       "      <td>-0.958567</td>\n",
       "    </tr>\n",
       "  </tbody>\n",
       "</table>\n",
       "</div>"
      ],
      "text/plain": [
       "          A         B         C         D\n",
       "0  0.885448 -0.074157 -0.489922 -1.757388\n",
       "1 -1.291232  0.268375 -0.107068  0.528309\n",
       "2  0.741767 -0.260990  0.616725  0.379563\n",
       "3  0.094407  2.658701  0.870898  1.067476\n",
       "4 -2.672398  0.342675  0.267685 -0.958567"
      ]
     },
     "execution_count": 22,
     "metadata": {},
     "output_type": "execute_result"
    }
   ],
   "source": [
    "df.head()"
   ]
  },
  {
   "cell_type": "code",
   "execution_count": 23,
   "id": "9ab64875-a7e1-41a6-b5ea-344e65b27f43",
   "metadata": {
    "tags": []
   },
   "outputs": [],
   "source": [
    "df['E'] = \"hello\""
   ]
  },
  {
   "cell_type": "code",
   "execution_count": 24,
   "id": "7a599178-488d-45fa-b3f5-2eaf3c672f02",
   "metadata": {
    "tags": []
   },
   "outputs": [
    {
     "data": {
      "text/html": [
       "<div>\n",
       "<style scoped>\n",
       "    .dataframe tbody tr th:only-of-type {\n",
       "        vertical-align: middle;\n",
       "    }\n",
       "\n",
       "    .dataframe tbody tr th {\n",
       "        vertical-align: top;\n",
       "    }\n",
       "\n",
       "    .dataframe thead th {\n",
       "        text-align: right;\n",
       "    }\n",
       "</style>\n",
       "<table border=\"1\" class=\"dataframe\">\n",
       "  <thead>\n",
       "    <tr style=\"text-align: right;\">\n",
       "      <th></th>\n",
       "      <th>A</th>\n",
       "      <th>B</th>\n",
       "      <th>C</th>\n",
       "      <th>D</th>\n",
       "      <th>E</th>\n",
       "    </tr>\n",
       "  </thead>\n",
       "  <tbody>\n",
       "    <tr>\n",
       "      <th>0</th>\n",
       "      <td>0.885448</td>\n",
       "      <td>-0.074157</td>\n",
       "      <td>-0.489922</td>\n",
       "      <td>-1.757388</td>\n",
       "      <td>hello</td>\n",
       "    </tr>\n",
       "    <tr>\n",
       "      <th>1</th>\n",
       "      <td>-1.291232</td>\n",
       "      <td>0.268375</td>\n",
       "      <td>-0.107068</td>\n",
       "      <td>0.528309</td>\n",
       "      <td>hello</td>\n",
       "    </tr>\n",
       "    <tr>\n",
       "      <th>2</th>\n",
       "      <td>0.741767</td>\n",
       "      <td>-0.260990</td>\n",
       "      <td>0.616725</td>\n",
       "      <td>0.379563</td>\n",
       "      <td>hello</td>\n",
       "    </tr>\n",
       "    <tr>\n",
       "      <th>3</th>\n",
       "      <td>0.094407</td>\n",
       "      <td>2.658701</td>\n",
       "      <td>0.870898</td>\n",
       "      <td>1.067476</td>\n",
       "      <td>hello</td>\n",
       "    </tr>\n",
       "    <tr>\n",
       "      <th>4</th>\n",
       "      <td>-2.672398</td>\n",
       "      <td>0.342675</td>\n",
       "      <td>0.267685</td>\n",
       "      <td>-0.958567</td>\n",
       "      <td>hello</td>\n",
       "    </tr>\n",
       "  </tbody>\n",
       "</table>\n",
       "</div>"
      ],
      "text/plain": [
       "          A         B         C         D      E\n",
       "0  0.885448 -0.074157 -0.489922 -1.757388  hello\n",
       "1 -1.291232  0.268375 -0.107068  0.528309  hello\n",
       "2  0.741767 -0.260990  0.616725  0.379563  hello\n",
       "3  0.094407  2.658701  0.870898  1.067476  hello\n",
       "4 -2.672398  0.342675  0.267685 -0.958567  hello"
      ]
     },
     "execution_count": 24,
     "metadata": {},
     "output_type": "execute_result"
    }
   ],
   "source": [
    "df.head()"
   ]
  },
  {
   "cell_type": "code",
   "execution_count": 25,
   "id": "e31a48cb-ed44-4758-af7b-9deb67a3be21",
   "metadata": {
    "tags": []
   },
   "outputs": [],
   "source": [
    "df.loc[2, 'B'] = None"
   ]
  },
  {
   "cell_type": "code",
   "execution_count": 26,
   "id": "6bc2756c-e582-4403-a5fa-63df8124d473",
   "metadata": {
    "tags": []
   },
   "outputs": [],
   "source": [
    "df.loc[4, 'E'] = \"hallo\""
   ]
  },
  {
   "cell_type": "code",
   "execution_count": 27,
   "id": "d343e941-8513-4f5c-901f-b2069913f843",
   "metadata": {
    "tags": []
   },
   "outputs": [
    {
     "data": {
      "text/html": [
       "<div>\n",
       "<style scoped>\n",
       "    .dataframe tbody tr th:only-of-type {\n",
       "        vertical-align: middle;\n",
       "    }\n",
       "\n",
       "    .dataframe tbody tr th {\n",
       "        vertical-align: top;\n",
       "    }\n",
       "\n",
       "    .dataframe thead th {\n",
       "        text-align: right;\n",
       "    }\n",
       "</style>\n",
       "<table border=\"1\" class=\"dataframe\">\n",
       "  <thead>\n",
       "    <tr style=\"text-align: right;\">\n",
       "      <th></th>\n",
       "      <th>A</th>\n",
       "      <th>B</th>\n",
       "      <th>C</th>\n",
       "      <th>D</th>\n",
       "      <th>E</th>\n",
       "    </tr>\n",
       "  </thead>\n",
       "  <tbody>\n",
       "    <tr>\n",
       "      <th>0</th>\n",
       "      <td>0.885448</td>\n",
       "      <td>-0.074157</td>\n",
       "      <td>-0.489922</td>\n",
       "      <td>-1.757388</td>\n",
       "      <td>hello</td>\n",
       "    </tr>\n",
       "    <tr>\n",
       "      <th>1</th>\n",
       "      <td>-1.291232</td>\n",
       "      <td>0.268375</td>\n",
       "      <td>-0.107068</td>\n",
       "      <td>0.528309</td>\n",
       "      <td>hello</td>\n",
       "    </tr>\n",
       "    <tr>\n",
       "      <th>2</th>\n",
       "      <td>0.741767</td>\n",
       "      <td>NaN</td>\n",
       "      <td>0.616725</td>\n",
       "      <td>0.379563</td>\n",
       "      <td>hello</td>\n",
       "    </tr>\n",
       "    <tr>\n",
       "      <th>3</th>\n",
       "      <td>0.094407</td>\n",
       "      <td>2.658701</td>\n",
       "      <td>0.870898</td>\n",
       "      <td>1.067476</td>\n",
       "      <td>hello</td>\n",
       "    </tr>\n",
       "    <tr>\n",
       "      <th>4</th>\n",
       "      <td>-2.672398</td>\n",
       "      <td>0.342675</td>\n",
       "      <td>0.267685</td>\n",
       "      <td>-0.958567</td>\n",
       "      <td>hallo</td>\n",
       "    </tr>\n",
       "    <tr>\n",
       "      <th>...</th>\n",
       "      <td>...</td>\n",
       "      <td>...</td>\n",
       "      <td>...</td>\n",
       "      <td>...</td>\n",
       "      <td>...</td>\n",
       "    </tr>\n",
       "    <tr>\n",
       "      <th>95</th>\n",
       "      <td>-0.002380</td>\n",
       "      <td>1.170744</td>\n",
       "      <td>-1.102124</td>\n",
       "      <td>0.790969</td>\n",
       "      <td>hello</td>\n",
       "    </tr>\n",
       "    <tr>\n",
       "      <th>96</th>\n",
       "      <td>0.665286</td>\n",
       "      <td>-0.680753</td>\n",
       "      <td>-0.235932</td>\n",
       "      <td>-1.305668</td>\n",
       "      <td>hello</td>\n",
       "    </tr>\n",
       "    <tr>\n",
       "      <th>97</th>\n",
       "      <td>2.430418</td>\n",
       "      <td>0.437817</td>\n",
       "      <td>-0.593548</td>\n",
       "      <td>-1.554693</td>\n",
       "      <td>hello</td>\n",
       "    </tr>\n",
       "    <tr>\n",
       "      <th>98</th>\n",
       "      <td>-0.220084</td>\n",
       "      <td>0.344971</td>\n",
       "      <td>0.342664</td>\n",
       "      <td>1.044124</td>\n",
       "      <td>hello</td>\n",
       "    </tr>\n",
       "    <tr>\n",
       "      <th>99</th>\n",
       "      <td>-0.955082</td>\n",
       "      <td>0.766549</td>\n",
       "      <td>-0.234506</td>\n",
       "      <td>0.348689</td>\n",
       "      <td>hello</td>\n",
       "    </tr>\n",
       "  </tbody>\n",
       "</table>\n",
       "<p>100 rows × 5 columns</p>\n",
       "</div>"
      ],
      "text/plain": [
       "           A         B         C         D      E\n",
       "0   0.885448 -0.074157 -0.489922 -1.757388  hello\n",
       "1  -1.291232  0.268375 -0.107068  0.528309  hello\n",
       "2   0.741767       NaN  0.616725  0.379563  hello\n",
       "3   0.094407  2.658701  0.870898  1.067476  hello\n",
       "4  -2.672398  0.342675  0.267685 -0.958567  hallo\n",
       "..       ...       ...       ...       ...    ...\n",
       "95 -0.002380  1.170744 -1.102124  0.790969  hello\n",
       "96  0.665286 -0.680753 -0.235932 -1.305668  hello\n",
       "97  2.430418  0.437817 -0.593548 -1.554693  hello\n",
       "98 -0.220084  0.344971  0.342664  1.044124  hello\n",
       "99 -0.955082  0.766549 -0.234506  0.348689  hello\n",
       "\n",
       "[100 rows x 5 columns]"
      ]
     },
     "execution_count": 27,
     "metadata": {},
     "output_type": "execute_result"
    }
   ],
   "source": [
    "df"
   ]
  },
  {
   "cell_type": "code",
   "execution_count": 28,
   "id": "789702b2-2cd6-487b-a489-870fe83e01c7",
   "metadata": {
    "tags": []
   },
   "outputs": [
    {
     "name": "stdout",
     "output_type": "stream",
     "text": [
      "0 -0.4899218286637715\n",
      "1 -0.10706814673179786\n",
      "2 0.6167249297432801\n",
      "3 0.8708983305113649\n",
      "4 0.26768450494045876\n",
      "5 -0.7606036726197365\n"
     ]
    }
   ],
   "source": [
    "for i, row in islice(df.iterrows(), 6):\n",
    "    print(i, row['C'])"
   ]
  },
  {
   "cell_type": "code",
   "execution_count": 37,
   "id": "595c71f0-a8e9-42ba-a157-76f5b2ca9acc",
   "metadata": {
    "tags": []
   },
   "outputs": [
    {
     "data": {
      "text/plain": [
       "0      0.885448363642227 hello\n",
       "1    -1.2912320870826257 hello\n",
       "2     0.7417667184642317 hello\n",
       "3    0.09440742874578466 hello\n",
       "4    -2.6723979941973273 hallo\n",
       "5     0.8136296528024023 hello\n",
       "6    -1.0798474868758279 hello\n",
       "7     -2.413680594054012 hello\n",
       "8    -0.8707366308715072 hello\n",
       "dtype: object"
      ]
     },
     "execution_count": 37,
     "metadata": {},
     "output_type": "execute_result"
    }
   ],
   "source": [
    "def handle_row(row):\n",
    "    return f'{row[\"A\"]} {row[\"E\"]}'\n",
    "    \n",
    "df.loc[:8, :].apply(handle_row, axis=1)"
   ]
  },
  {
   "cell_type": "code",
   "execution_count": 38,
   "id": "4b44ab83-1ef7-4a53-b7a8-ade562c8bc1d",
   "metadata": {
    "tags": []
   },
   "outputs": [],
   "source": [
    "import re"
   ]
  },
  {
   "cell_type": "code",
   "execution_count": 39,
   "id": "4a04e455-982a-48fd-b5dd-6853646e2ea6",
   "metadata": {
    "tags": []
   },
   "outputs": [],
   "source": [
    "exp = re.compile(r'hell(.*)') "
   ]
  },
  {
   "cell_type": "code",
   "execution_count": 43,
   "id": "f456256c-10ba-4d20-bbee-e3640c126fa4",
   "metadata": {
    "tags": []
   },
   "outputs": [
    {
     "data": {
      "text/plain": [
       "0     True\n",
       "1     True\n",
       "2     True\n",
       "3     True\n",
       "4    False\n",
       "5     True\n",
       "6     True\n",
       "7     True\n",
       "8     True\n",
       "Name: E, dtype: bool"
      ]
     },
     "execution_count": 43,
     "metadata": {},
     "output_type": "execute_result"
    }
   ],
   "source": [
    "df.loc[:8, 'E'].apply(lambda s: bool(re.match(exp, s)))"
   ]
  },
  {
   "cell_type": "code",
   "execution_count": 55,
   "id": "8ef87053-0c8e-4dd0-963c-e3c1edf90ac1",
   "metadata": {
    "tags": []
   },
   "outputs": [
    {
     "data": {
      "text/html": [
       "<style type=\"text/css\">\n",
       "#T_2609e_row4_col4 {\n",
       "  background: yellow;\n",
       "}\n",
       "</style>\n",
       "<table id=\"T_2609e\">\n",
       "  <thead>\n",
       "    <tr>\n",
       "      <th class=\"blank level0\" >&nbsp;</th>\n",
       "      <th id=\"T_2609e_level0_col0\" class=\"col_heading level0 col0\" >A</th>\n",
       "      <th id=\"T_2609e_level0_col1\" class=\"col_heading level0 col1\" >B</th>\n",
       "      <th id=\"T_2609e_level0_col2\" class=\"col_heading level0 col2\" >C</th>\n",
       "      <th id=\"T_2609e_level0_col3\" class=\"col_heading level0 col3\" >D</th>\n",
       "      <th id=\"T_2609e_level0_col4\" class=\"col_heading level0 col4\" >E</th>\n",
       "    </tr>\n",
       "  </thead>\n",
       "  <tbody>\n",
       "    <tr>\n",
       "      <th id=\"T_2609e_level0_row0\" class=\"row_heading level0 row0\" >0</th>\n",
       "      <td id=\"T_2609e_row0_col0\" class=\"data row0 col0\" >0.885448</td>\n",
       "      <td id=\"T_2609e_row0_col1\" class=\"data row0 col1\" >-0.074157</td>\n",
       "      <td id=\"T_2609e_row0_col2\" class=\"data row0 col2\" >-0.489922</td>\n",
       "      <td id=\"T_2609e_row0_col3\" class=\"data row0 col3\" >-1.757388</td>\n",
       "      <td id=\"T_2609e_row0_col4\" class=\"data row0 col4\" >hello</td>\n",
       "    </tr>\n",
       "    <tr>\n",
       "      <th id=\"T_2609e_level0_row1\" class=\"row_heading level0 row1\" >1</th>\n",
       "      <td id=\"T_2609e_row1_col0\" class=\"data row1 col0\" >-1.291232</td>\n",
       "      <td id=\"T_2609e_row1_col1\" class=\"data row1 col1\" >0.268375</td>\n",
       "      <td id=\"T_2609e_row1_col2\" class=\"data row1 col2\" >-0.107068</td>\n",
       "      <td id=\"T_2609e_row1_col3\" class=\"data row1 col3\" >0.528309</td>\n",
       "      <td id=\"T_2609e_row1_col4\" class=\"data row1 col4\" >hello</td>\n",
       "    </tr>\n",
       "    <tr>\n",
       "      <th id=\"T_2609e_level0_row2\" class=\"row_heading level0 row2\" >2</th>\n",
       "      <td id=\"T_2609e_row2_col0\" class=\"data row2 col0\" >0.741767</td>\n",
       "      <td id=\"T_2609e_row2_col1\" class=\"data row2 col1\" >nan</td>\n",
       "      <td id=\"T_2609e_row2_col2\" class=\"data row2 col2\" >0.616725</td>\n",
       "      <td id=\"T_2609e_row2_col3\" class=\"data row2 col3\" >0.379563</td>\n",
       "      <td id=\"T_2609e_row2_col4\" class=\"data row2 col4\" >hello</td>\n",
       "    </tr>\n",
       "    <tr>\n",
       "      <th id=\"T_2609e_level0_row3\" class=\"row_heading level0 row3\" >3</th>\n",
       "      <td id=\"T_2609e_row3_col0\" class=\"data row3 col0\" >0.094407</td>\n",
       "      <td id=\"T_2609e_row3_col1\" class=\"data row3 col1\" >2.658701</td>\n",
       "      <td id=\"T_2609e_row3_col2\" class=\"data row3 col2\" >0.870898</td>\n",
       "      <td id=\"T_2609e_row3_col3\" class=\"data row3 col3\" >1.067476</td>\n",
       "      <td id=\"T_2609e_row3_col4\" class=\"data row3 col4\" >hello</td>\n",
       "    </tr>\n",
       "    <tr>\n",
       "      <th id=\"T_2609e_level0_row4\" class=\"row_heading level0 row4\" >4</th>\n",
       "      <td id=\"T_2609e_row4_col0\" class=\"data row4 col0\" >-2.672398</td>\n",
       "      <td id=\"T_2609e_row4_col1\" class=\"data row4 col1\" >0.342675</td>\n",
       "      <td id=\"T_2609e_row4_col2\" class=\"data row4 col2\" >0.267685</td>\n",
       "      <td id=\"T_2609e_row4_col3\" class=\"data row4 col3\" >-0.958567</td>\n",
       "      <td id=\"T_2609e_row4_col4\" class=\"data row4 col4\" >hallo</td>\n",
       "    </tr>\n",
       "    <tr>\n",
       "      <th id=\"T_2609e_level0_row5\" class=\"row_heading level0 row5\" >5</th>\n",
       "      <td id=\"T_2609e_row5_col0\" class=\"data row5 col0\" >0.813630</td>\n",
       "      <td id=\"T_2609e_row5_col1\" class=\"data row5 col1\" >-0.820180</td>\n",
       "      <td id=\"T_2609e_row5_col2\" class=\"data row5 col2\" >-0.760604</td>\n",
       "      <td id=\"T_2609e_row5_col3\" class=\"data row5 col3\" >-0.709768</td>\n",
       "      <td id=\"T_2609e_row5_col4\" class=\"data row5 col4\" >hello</td>\n",
       "    </tr>\n",
       "    <tr>\n",
       "      <th id=\"T_2609e_level0_row6\" class=\"row_heading level0 row6\" >6</th>\n",
       "      <td id=\"T_2609e_row6_col0\" class=\"data row6 col0\" >-1.079847</td>\n",
       "      <td id=\"T_2609e_row6_col1\" class=\"data row6 col1\" >1.519078</td>\n",
       "      <td id=\"T_2609e_row6_col2\" class=\"data row6 col2\" >-0.074994</td>\n",
       "      <td id=\"T_2609e_row6_col3\" class=\"data row6 col3\" >0.158813</td>\n",
       "      <td id=\"T_2609e_row6_col4\" class=\"data row6 col4\" >hello</td>\n",
       "    </tr>\n",
       "    <tr>\n",
       "      <th id=\"T_2609e_level0_row7\" class=\"row_heading level0 row7\" >7</th>\n",
       "      <td id=\"T_2609e_row7_col0\" class=\"data row7 col0\" >-2.413681</td>\n",
       "      <td id=\"T_2609e_row7_col1\" class=\"data row7 col1\" >-0.624468</td>\n",
       "      <td id=\"T_2609e_row7_col2\" class=\"data row7 col2\" >-0.750851</td>\n",
       "      <td id=\"T_2609e_row7_col3\" class=\"data row7 col3\" >0.696133</td>\n",
       "      <td id=\"T_2609e_row7_col4\" class=\"data row7 col4\" >hello</td>\n",
       "    </tr>\n",
       "    <tr>\n",
       "      <th id=\"T_2609e_level0_row8\" class=\"row_heading level0 row8\" >8</th>\n",
       "      <td id=\"T_2609e_row8_col0\" class=\"data row8 col0\" >-0.870737</td>\n",
       "      <td id=\"T_2609e_row8_col1\" class=\"data row8 col1\" >1.747622</td>\n",
       "      <td id=\"T_2609e_row8_col2\" class=\"data row8 col2\" >1.446284</td>\n",
       "      <td id=\"T_2609e_row8_col3\" class=\"data row8 col3\" >0.202673</td>\n",
       "      <td id=\"T_2609e_row8_col4\" class=\"data row8 col4\" >hello</td>\n",
       "    </tr>\n",
       "  </tbody>\n",
       "</table>\n"
      ],
      "text/plain": [
       "<pandas.io.formats.style.Styler at 0x7f5897eabc70>"
      ]
     },
     "execution_count": 55,
     "metadata": {},
     "output_type": "execute_result"
    }
   ],
   "source": [
    "def highlight(ele):\n",
    "    if isinstance(ele, str):\n",
    "        return \"\" if exp.match(ele) else \"background: yellow;\"\n",
    "    else:\n",
    "        return \"\"\n",
    "\n",
    "df.loc[:8, :].style.applymap(highlight)"
   ]
  },
  {
   "cell_type": "code",
   "execution_count": 56,
   "id": "3fbd2e69-eb6a-4263-a1d7-60d664251642",
   "metadata": {
    "tags": []
   },
   "outputs": [
    {
     "data": {
      "text/plain": [
       "pandas.io.formats.style.Styler"
      ]
     },
     "execution_count": 56,
     "metadata": {},
     "output_type": "execute_result"
    }
   ],
   "source": [
    "type(df.style)"
   ]
  },
  {
   "cell_type": "code",
   "execution_count": 57,
   "id": "497b0e34-e2f6-44ee-9c0e-4cc40813e220",
   "metadata": {
    "tags": []
   },
   "outputs": [],
   "source": [
    "dict1 = {\n",
    "    'a': 3,\n",
    "    'b' :4\n",
    "}"
   ]
  },
  {
   "cell_type": "code",
   "execution_count": 58,
   "id": "426b3f00-e9ff-4fdc-a81c-5de752347eb8",
   "metadata": {
    "tags": []
   },
   "outputs": [],
   "source": [
    "dict2 = {\n",
    "    'b': 20,\n",
    "    'c': 'hello'\n",
    "}"
   ]
  },
  {
   "cell_type": "code",
   "execution_count": 59,
   "id": "0a07c1a0-6910-499c-86df-be5f20834584",
   "metadata": {
    "tags": []
   },
   "outputs": [],
   "source": [
    "dict1.update(dict2)"
   ]
  },
  {
   "cell_type": "code",
   "execution_count": 60,
   "id": "a1f94fc7-370c-407d-8505-7070e4127ccf",
   "metadata": {
    "tags": []
   },
   "outputs": [
    {
     "data": {
      "text/plain": [
       "{'a': 3, 'b': 20, 'c': 'hello'}"
      ]
     },
     "execution_count": 60,
     "metadata": {},
     "output_type": "execute_result"
    }
   ],
   "source": [
    "dict1"
   ]
  },
  {
   "cell_type": "code",
   "execution_count": null,
   "id": "cc0ff794-bbde-4aa4-9289-452436eda577",
   "metadata": {},
   "outputs": [],
   "source": []
  }
 ],
 "metadata": {
  "kernelspec": {
   "display_name": "Python 3 (ipykernel)",
   "language": "python",
   "name": "python3"
  },
  "language_info": {
   "codemirror_mode": {
    "name": "ipython",
    "version": 3
   },
   "file_extension": ".py",
   "mimetype": "text/x-python",
   "name": "python",
   "nbconvert_exporter": "python",
   "pygments_lexer": "ipython3",
   "version": "3.10.6"
  }
 },
 "nbformat": 4,
 "nbformat_minor": 5
}
